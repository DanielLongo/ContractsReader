{
 "cells": [
  {
   "cell_type": "code",
   "execution_count": 2,
   "metadata": {},
   "outputs": [],
   "source": [
    "# from utils import convert\n",
    "import string\n",
    "from nltk.tokenize import word_tokenize\n",
    "from nltk.stem import PorterStemmer\n",
    "from nltk.stem import WordNetLemmatizer\n",
    "from nltk.corpus import stopwords\n",
    "import sys"
   ]
  },
  {
   "cell_type": "code",
   "execution_count": 2,
   "metadata": {},
   "outputs": [
    {
     "ename": "FileNotFoundError",
     "evalue": "[Errno 2] No such file or directory: '135_ActelisNetworks_COI_01072005.pdf'",
     "output_type": "error",
     "traceback": [
      "\u001b[0;31m---------------------------------------------------------------------------\u001b[0m",
      "\u001b[0;31mFileNotFoundError\u001b[0m                         Traceback (most recent call last)",
      "\u001b[0;32m<ipython-input-2-a419b58eafd0>\u001b[0m in \u001b[0;36m<module>\u001b[0;34m\u001b[0m\n\u001b[0;32m----> 1\u001b[0;31m \u001b[0mtext\u001b[0m \u001b[0;34m=\u001b[0m \u001b[0mconvert\u001b[0m\u001b[0;34m(\u001b[0m\u001b[0;34m\"135_ActelisNetworks_COI_01072005.pdf\"\u001b[0m\u001b[0;34m,\u001b[0m \u001b[0mpages\u001b[0m\u001b[0;34m=\u001b[0m\u001b[0;34m[\u001b[0m\u001b[0;36m1\u001b[0m\u001b[0;34m]\u001b[0m\u001b[0;34m)\u001b[0m\u001b[0;34m\u001b[0m\u001b[0m\n\u001b[0m",
      "\u001b[0;32m~/Desktop/ContractsProject/utils.py\u001b[0m in \u001b[0;36mconvert\u001b[0;34m(fname, pages)\u001b[0m\n\u001b[1;32m     22\u001b[0m     \u001b[0minterpreter\u001b[0m \u001b[0;34m=\u001b[0m \u001b[0mPDFPageInterpreter\u001b[0m\u001b[0;34m(\u001b[0m\u001b[0mmanager\u001b[0m\u001b[0;34m,\u001b[0m \u001b[0mconverter\u001b[0m\u001b[0;34m)\u001b[0m\u001b[0;34m\u001b[0m\u001b[0m\n\u001b[1;32m     23\u001b[0m \u001b[0;34m\u001b[0m\u001b[0m\n\u001b[0;32m---> 24\u001b[0;31m     \u001b[0minfile\u001b[0m \u001b[0;34m=\u001b[0m \u001b[0mopen\u001b[0m\u001b[0;34m(\u001b[0m\u001b[0mfname\u001b[0m\u001b[0;34m,\u001b[0m \u001b[0;34m'rb'\u001b[0m\u001b[0;34m)\u001b[0m\u001b[0;34m\u001b[0m\u001b[0m\n\u001b[0m\u001b[1;32m     25\u001b[0m     \u001b[0;32mfor\u001b[0m \u001b[0mpage\u001b[0m \u001b[0;32min\u001b[0m \u001b[0mPDFPage\u001b[0m\u001b[0;34m.\u001b[0m\u001b[0mget_pages\u001b[0m\u001b[0;34m(\u001b[0m\u001b[0minfile\u001b[0m\u001b[0;34m,\u001b[0m \u001b[0mpagenums\u001b[0m\u001b[0;34m)\u001b[0m\u001b[0;34m:\u001b[0m\u001b[0;34m\u001b[0m\u001b[0m\n\u001b[1;32m     26\u001b[0m         \u001b[0minterpreter\u001b[0m\u001b[0;34m.\u001b[0m\u001b[0mprocess_page\u001b[0m\u001b[0;34m(\u001b[0m\u001b[0mpage\u001b[0m\u001b[0;34m)\u001b[0m\u001b[0;34m\u001b[0m\u001b[0m\n",
      "\u001b[0;31mFileNotFoundError\u001b[0m: [Errno 2] No such file or directory: '135_ActelisNetworks_COI_01072005.pdf'"
     ]
    }
   ],
   "source": [
    "text = convert(\"135_ActelisNetworks_COI_01072005.pdf\", pages=[1])"
   ]
  },
  {
   "cell_type": "code",
   "execution_count": 3,
   "metadata": {},
   "outputs": [
    {
     "ename": "NameError",
     "evalue": "name 'text' is not defined",
     "output_type": "error",
     "traceback": [
      "\u001b[0;31m---------------------------------------------------------------------------\u001b[0m",
      "\u001b[0;31mNameError\u001b[0m                                 Traceback (most recent call last)",
      "\u001b[0;32m<ipython-input-3-17e207b2a8a3>\u001b[0m in \u001b[0;36m<module>\u001b[0;34m\u001b[0m\n\u001b[0;32m----> 1\u001b[0;31m \u001b[0mprint\u001b[0m\u001b[0;34m(\u001b[0m\u001b[0mtext\u001b[0m\u001b[0;34m[\u001b[0m\u001b[0;34m:\u001b[0m\u001b[0;36m1000\u001b[0m\u001b[0;34m]\u001b[0m\u001b[0;34m)\u001b[0m\u001b[0;34m\u001b[0m\u001b[0m\n\u001b[0m",
      "\u001b[0;31mNameError\u001b[0m: name 'text' is not defined"
     ]
    }
   ],
   "source": [
    "print(text[:1000])"
   ]
  },
  {
   "cell_type": "markdown",
   "metadata": {},
   "source": [
    "### Preprocessing Steps"
   ]
  },
  {
   "cell_type": "markdown",
   "metadata": {},
   "source": [
    "https://medium.com/@datamonsters/text-preprocessing-in-python-steps-tools-and-examples-bf025f872908"
   ]
  },
  {
   "cell_type": "code",
   "execution_count": 4,
   "metadata": {},
   "outputs": [
    {
     "ename": "NameError",
     "evalue": "name 'text' is not defined",
     "output_type": "error",
     "traceback": [
      "\u001b[0;31m---------------------------------------------------------------------------\u001b[0m",
      "\u001b[0;31mNameError\u001b[0m                                 Traceback (most recent call last)",
      "\u001b[0;32m<ipython-input-4-36b4312055e0>\u001b[0m in \u001b[0;36m<module>\u001b[0;34m\u001b[0m\n\u001b[0;32m----> 1\u001b[0;31m \u001b[0mtext\u001b[0m \u001b[0;34m=\u001b[0m \u001b[0mtext\u001b[0m\u001b[0;34m.\u001b[0m\u001b[0mlower\u001b[0m\u001b[0;34m(\u001b[0m\u001b[0;34m)\u001b[0m\u001b[0;34m\u001b[0m\u001b[0m\n\u001b[0m",
      "\u001b[0;31mNameError\u001b[0m: name 'text' is not defined"
     ]
    }
   ],
   "source": [
    "text = text.lower()"
   ]
  },
  {
   "cell_type": "code",
   "execution_count": 81,
   "metadata": {
    "collapsed": true
   },
   "outputs": [],
   "source": [
    "text = text.replace(\"\\n\", \"\")\n",
    "text = text.replace(\". \", \" \")\n",
    "text = text.replace(\",\", \"\")"
   ]
  },
  {
   "cell_type": "code",
   "execution_count": 82,
   "metadata": {
    "scrolled": false
   },
   "outputs": [
    {
     "data": {
      "text/plain": [
       "'article fourthe company is authorized to issue two classes of shares designated respectively “common stock” and “preferred  stock”  the company is  authorized to  issue 43000000  shares of common stock with a par value of $0.01  per share  the company is authorized to issue 26007500 shares of preferred stock 800000 of which are designated series a preferred stock with a par value of $0.01 per share (“series a preferred”) 700000 of which are designated series b preferred stock with a par  value  of $0.01  per  share  (“series b preferred”)  1507500  of which  are  designated  series  c preferred stock with a par value of $0.01 per share (“series c preferred”) and 23000000 of which are designated series d preferred stock with a par value of $0.01  per share (“series d preferred”) for  the  purpose  of this  amended  and  restated  certificate  of incorporation  the  term  “preferred stock” shall mean series a preferred series b preferred series c preferred and series d preferred collectively.the relative  rights  preferences  privileges  and  restrictions  granted to or imposed upon  the common stock and the preferred stock and the holders thereof are as follows:section 1  dividends.the holders of record of common stock (the “common holders”) and the holders of record of preferred  stock  (the  “preferred  holders”)  shall  be  entitled  to  receive  dividends  out  of funds legally available therefor  when  as  and  if declared  by the board  of directors  of the  company (the “board”) provided that:1.1  preferential  dividends  the  holders  of  record  of  series  d  preferred  (the  “series  d holders**) shall be entitled to rece\\\\w€lfnon-cumulative^referential dividend of $0.08 per fiscal year per share of series d preferred (as adjusted tor any stock splits stock dividends recapitalizations or the  like with respect to the applicable series of preferred stock occurring after the date of the filing o f this  certificate)  the holders of record of series  c preferred  (the “series c  holders”)  shall be entitled to receive a non-cumulative preferential dividend of $0.27 per fiscal year per share of series c  preferred  (as  adjusted  for  any  stock  splits  stock  dividends  recapitalizations  or  the  like  with respect  to  the  applicable  series  of preferred  stock  occurring  after  the  date  of the  filing  of this certificate)  the holders of record of series b  preferred (the “series b holders”) shall be entitled to  rcceivc  a  non-cumulative  preferential  dividend  of $0.25  per  fiscal  year  per  share  of series b preferred (as adjusted for any stock splits stock dividends recapitalizations or the like with rcspect to the applicable series  of preferred stock occurring afler the dale of the filing  of this  certificate) the holders of record of series a preferred (the “series a holders”)  shall be entitled  to receive  a non-cumulative  preferential  dividend  of $0.07  per  fiscal  year  per  share  o f series a  preferred  (as adjusted  for  any  stock  splits  stock  dividends  recapitalizations  or  the  like  with  respect  to  the applicable series of preferred stock occurring after the date of the filing of this certificate).1.2 paid  ratably  such  preferential  dividends  shall  be  paid  ratably  in  proportion  to  the respective preference amounts  and  in preference and  prior  to  any dividends  paid  in  respect  to  the common stock  after such preferential dividends have been paid in full to such preferred holders for a given year  the preferred  stock shall participate pro-rata with the common stock with respect to the receipt of any additional dividends on an as if converted to common stock basis.2951802-2-\\x0c'"
      ]
     },
     "execution_count": 82,
     "metadata": {},
     "output_type": "execute_result"
    }
   ],
   "source": [
    "text"
   ]
  },
  {
   "cell_type": "code",
   "execution_count": 83,
   "metadata": {},
   "outputs": [
    {
     "data": {
      "text/plain": [
       "'article fourthe company is authorized to issue two classes of shares designated respectively “common stock” and “preferred  stock”  the company is  authorized to  issue 43000000  shares of common stock with a par value of $0.01  per share  the company is authorized to issue 26007500 shares of preferred stock 800000 of which are designated series a preferred stock with a par value of $0.01 per share (“series a preferred”) 700000 of which are designated series b preferred stock with a par  value  of $0.01  per  share  (“series b preferred”)  1507500  of which  are  designated  series  c preferred stock with a par value of $0.01 per share (“series c preferred”) and 23000000 of which are designated series d preferred stock with a par value of $0.01  per share (“series d preferred”) for  the  purpose  of this  amended  and  restated  certificate  of incorporation  the  term  “preferred stock” shall mean series a preferred series b preferred series c preferred and series d preferred collectively.the relative  rights  preferences  privileges  and  restrictions  granted to or imposed upon  the common stock and the preferred stock and the holders thereof are as follows:section 1  dividends.the holders of record of common stock (the “common holders”) and the holders of record of preferred  stock  (the  “preferred  holders”)  shall  be  entitled  to  receive  dividends  out  of funds legally available therefor  when  as  and  if declared  by the board  of directors  of the  company (the “board”) provided that:1.1  preferential  dividends  the  holders  of  record  of  series  d  preferred  (the  “series  d holders**) shall be entitled to rece\\\\w€lfnon-cumulative^referential dividend of $0.08 per fiscal year per share of series d preferred (as adjusted tor any stock splits stock dividends recapitalizations or the  like with respect to the applicable series of preferred stock occurring after the date of the filing o f this  certificate)  the holders of record of series  c preferred  (the “series c  holders”)  shall be entitled to receive a non-cumulative preferential dividend of $0.27 per fiscal year per share of series c  preferred  (as  adjusted  for  any  stock  splits  stock  dividends  recapitalizations  or  the  like  with respect  to  the  applicable  series  of preferred  stock  occurring  after  the  date  of the  filing  of this certificate)  the holders of record of series b  preferred (the “series b holders”) shall be entitled to  rcceivc  a  non-cumulative  preferential  dividend  of $0.25  per  fiscal  year  per  share  of series b preferred (as adjusted for any stock splits stock dividends recapitalizations or the like with rcspect to the applicable series  of preferred stock occurring afler the dale of the filing  of this  certificate) the holders of record of series a preferred (the “series a holders”)  shall be entitled  to receive  a non-cumulative  preferential  dividend  of $0.07  per  fiscal  year  per  share  o f series a  preferred  (as adjusted  for  any  stock  splits  stock  dividends  recapitalizations  or  the  like  with  respect  to  the applicable series of preferred stock occurring after the date of the filing of this certificate).1.2 paid  ratably  such  preferential  dividends  shall  be  paid  ratably  in  proportion  to  the respective preference amounts  and  in preference and  prior  to  any dividends  paid  in  respect  to  the common stock  after such preferential dividends have been paid in full to such preferred holders for a given year  the preferred  stock shall participate pro-rata with the common stock with respect to the receipt of any additional dividends on an as if converted to common stock basis.2951802-2-\\x0c'"
      ]
     },
     "execution_count": 83,
     "metadata": {},
     "output_type": "execute_result"
    }
   ],
   "source": [
    "text"
   ]
  },
  {
   "cell_type": "code",
   "execution_count": 84,
   "metadata": {
    "collapsed": true
   },
   "outputs": [],
   "source": [
    "#text = text.encode('ascii', errors='ignore').decode('utf-8')"
   ]
  },
  {
   "cell_type": "code",
   "execution_count": 85,
   "metadata": {
    "collapsed": true
   },
   "outputs": [],
   "source": [
    "chars_to_remove = string.punctuation.replace(\"$\",\"\").replace(\".\",\"\").replace(\",\",\"\") #keep the $ sign and ."
   ]
  },
  {
   "cell_type": "code",
   "execution_count": 86,
   "metadata": {},
   "outputs": [
    {
     "name": "stdout",
     "output_type": "stream",
     "text": [
      "!\"#%&'()*+-/:;<=>?@[\\]^_`{|}~\n"
     ]
    }
   ],
   "source": [
    "print(chars_to_remove)"
   ]
  },
  {
   "cell_type": "code",
   "execution_count": 87,
   "metadata": {
    "collapsed": true
   },
   "outputs": [],
   "source": [
    "remove_chars = str.maketrans(chars_to_remove, \" \" * len(chars_to_remove))\n",
    "text = text.translate(remove_chars)"
   ]
  },
  {
   "cell_type": "code",
   "execution_count": 88,
   "metadata": {},
   "outputs": [
    {
     "data": {
      "text/plain": [
       "'article fourthe company is authorized to issue two classes of shares designated respectively “common stock” and “preferred  stock”  the company is  authorized to  issue 43000000  shares of common stock with a par value of $0.01  per share  the company is authorized to issue 26007500 shares of preferred stock 800000 of which are designated series a preferred stock with a par value of $0.01 per share  “series a preferred”  700000 of which are designated series b preferred stock with a par  value  of $0.01  per  share   “series b preferred”   1507500  of which  are  designated  series  c preferred stock with a par value of $0.01 per share  “series c preferred”  and 23000000 of which are designated series d preferred stock with a par value of $0.01  per share  “series d preferred”  for  the  purpose  of this  amended  and  restated  certificate  of incorporation  the  term  “preferred stock” shall mean series a preferred series b preferred series c preferred and series d preferred collectively.the relative  rights  preferences  privileges  and  restrictions  granted to or imposed upon  the common stock and the preferred stock and the holders thereof are as follows section 1  dividends.the holders of record of common stock  the “common holders”  and the holders of record of preferred  stock   the  “preferred  holders”   shall  be  entitled  to  receive  dividends  out  of funds legally available therefor  when  as  and  if declared  by the board  of directors  of the  company  the “board”  provided that 1.1  preferential  dividends  the  holders  of  record  of  series  d  preferred   the  “series  d holders    shall be entitled to rece w€lfnon cumulative referential dividend of $0.08 per fiscal year per share of series d preferred  as adjusted tor any stock splits stock dividends recapitalizations or the  like with respect to the applicable series of preferred stock occurring after the date of the filing o f this  certificate   the holders of record of series  c preferred   the “series c  holders”   shall be entitled to receive a non cumulative preferential dividend of $0.27 per fiscal year per share of series c  preferred   as  adjusted  for  any  stock  splits  stock  dividends  recapitalizations  or  the  like  with respect  to  the  applicable  series  of preferred  stock  occurring  after  the  date  of the  filing  of this certificate   the holders of record of series b  preferred  the “series b holders”  shall be entitled to  rcceivc  a  non cumulative  preferential  dividend  of $0.25  per  fiscal  year  per  share  of series b preferred  as adjusted for any stock splits stock dividends recapitalizations or the like with rcspect to the applicable series  of preferred stock occurring afler the dale of the filing  of this  certificate  the holders of record of series a preferred  the “series a holders”   shall be entitled  to receive  a non cumulative  preferential  dividend  of $0.07  per  fiscal  year  per  share  o f series a  preferred   as adjusted  for  any  stock  splits  stock  dividends  recapitalizations  or  the  like  with  respect  to  the applicable series of preferred stock occurring after the date of the filing of this certificate .1.2 paid  ratably  such  preferential  dividends  shall  be  paid  ratably  in  proportion  to  the respective preference amounts  and  in preference and  prior  to  any dividends  paid  in  respect  to  the common stock  after such preferential dividends have been paid in full to such preferred holders for a given year  the preferred  stock shall participate pro rata with the common stock with respect to the receipt of any additional dividends on an as if converted to common stock basis.2951802 2 \\x0c'"
      ]
     },
     "execution_count": 88,
     "metadata": {},
     "output_type": "execute_result"
    }
   ],
   "source": [
    "text"
   ]
  },
  {
   "cell_type": "code",
   "execution_count": 89,
   "metadata": {
    "collapsed": true
   },
   "outputs": [],
   "source": [
    "text = text.strip()"
   ]
  },
  {
   "cell_type": "code",
   "execution_count": 90,
   "metadata": {
    "collapsed": true
   },
   "outputs": [],
   "source": [
    "stop_words = set(stopwords.words('english'))\n",
    "tokens = word_tokenize(text)\n",
    "tokens = [i for i in tokens if not i in stop_words]"
   ]
  },
  {
   "cell_type": "code",
   "execution_count": 91,
   "metadata": {
    "collapsed": true
   },
   "outputs": [],
   "source": [
    "ps = PorterStemmer()\n",
    "tokens = [ps.stem(word) for word in tokens]"
   ]
  },
  {
   "cell_type": "code",
   "execution_count": 92,
   "metadata": {
    "collapsed": true
   },
   "outputs": [],
   "source": [
    "lemmatizer = WordNetLemmatizer()\n",
    "tokens = [lemmatizer.lemmatize(word) for word in tokens]"
   ]
  },
  {
   "cell_type": "code",
   "execution_count": 93,
   "metadata": {
    "collapsed": true
   },
   "outputs": [],
   "source": [
    "tokens = tokens[:-1]"
   ]
  },
  {
   "cell_type": "code",
   "execution_count": 94,
   "metadata": {},
   "outputs": [
    {
     "name": "stdout",
     "output_type": "stream",
     "text": [
      "articl fourth compani author issu two class share design respect “ common stock ” “ prefer stock ” compani author issu 43000000 share common stock par valu $ 0.01 per share compani author issu 26007500 share prefer stock 800000 design seri prefer stock par valu $ 0.01 per share “ seri prefer ” 700000 design seri b prefer stock par valu $ 0.01 per share “ seri b prefer ” 1507500 design seri c prefer stock par valu $ 0.01 per share “ seri c prefer ” 23000000 design seri prefer stock par valu $ 0.01 per share “ seri prefer ” purpos amend restat certif incorpor term “ prefer stock ” shall mean seri prefer seri b prefer seri c prefer seri prefer collectively.th rel right prefer privileg restrict grant impos upon common stock prefer stock holder thereof follow section 1 dividends.th holder record common stock “ common holder ” holder record prefer stock “ prefer holder ” shall entitl receiv dividend fund legal avail therefor declar board director compani “ board ” provid 1.1 preferenti dividend holder record seri prefer “ seri holder shall entitl rece w€lfnon cumul referenti dividend $ 0.08 per fiscal year per share seri prefer adjust tor stock split stock dividend recapit like respect applic seri prefer stock occur date file f certif holder record seri c prefer “ seri c holder ” shall entitl receiv non cumul preferenti dividend $ 0.27 per fiscal year per share seri c prefer adjust stock split stock dividend recapit like respect applic seri prefer stock occur date file certif holder record seri b prefer “ seri b holder ” shall entitl rcceivc non cumul preferenti dividend $ 0.25 per fiscal year per share seri b prefer adjust stock split stock dividend recapit like rcspect applic seri prefer stock occur afler dale file certif holder record seri prefer “ seri holder ” shall entitl receiv non cumul preferenti dividend $ 0.07 per fiscal year per share f seri prefer adjust stock split stock dividend recapit like respect applic seri prefer stock occur date file certif .1.2 paid ratabl preferenti dividend shall paid ratabl proport respect prefer amount prefer prior dividend paid respect common stock preferenti dividend paid full prefer holder given year prefer stock shall particip pro rata common stock respect receipt addit dividend convert common stock basis.2951802 "
     ]
    }
   ],
   "source": [
    "for word in tokens:\n",
    "    sys.stdout.write(word + \" \")"
   ]
  },
  {
   "cell_type": "code",
   "execution_count": null,
   "metadata": {
    "collapsed": true
   },
   "outputs": [],
   "source": []
  },
  {
   "cell_type": "code",
   "execution_count": null,
   "metadata": {
    "collapsed": true
   },
   "outputs": [],
   "source": []
  },
  {
   "cell_type": "code",
   "execution_count": null,
   "metadata": {
    "collapsed": true
   },
   "outputs": [],
   "source": []
  }
 ],
 "metadata": {
  "kernelspec": {
   "display_name": "Python 3",
   "language": "python",
   "name": "python3"
  },
  "language_info": {
   "codemirror_mode": {
    "name": "ipython",
    "version": 3
   },
   "file_extension": ".py",
   "mimetype": "text/x-python",
   "name": "python",
   "nbconvert_exporter": "python",
   "pygments_lexer": "ipython3",
   "version": "3.6.3"
  }
 },
 "nbformat": 4,
 "nbformat_minor": 2
}
