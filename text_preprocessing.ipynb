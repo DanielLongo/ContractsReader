{
 "cells": [
  {
   "cell_type": "code",
   "execution_count": 77,
   "metadata": {},
   "outputs": [],
   "source": [
    "from utils import convert\n",
    "import string\n",
    "from nltk.tokenize import word_tokenize\n",
    "from nltk.stem import PorterStemmer\n",
    "from nltk.stem import WordNetLemmatizer\n",
    "from nltk.corpus import stopwords\n",
    "import sys"
   ]
  },
  {
   "cell_type": "code",
   "execution_count": 78,
   "metadata": {},
   "outputs": [],
   "source": [
    "text = convert(\"135_ActelisNetworks_COI_01072005.pdf\", pages=[1])"
   ]
  },
  {
   "cell_type": "code",
   "execution_count": 79,
   "metadata": {},
   "outputs": [
    {
     "name": "stdout",
     "output_type": "stream",
     "text": [
      "ARTICLE FOUR\n",
      "\n",
      "The Company is authorized to issue two classes of shares, designated respectively “Common \n",
      "Stock” and “Preferred  Stock”.  The Company is  authorized to  issue 43,000,000  shares of Common \n",
      "Stock with a par value of $0.01  per share.  The Company is authorized to issue 26,007,500 shares of \n",
      "Preferred Stock, 800,000 of which are designated Series A Preferred Stock with a par value of $0.01 \n",
      "per share (“Series A Preferred”), 700,000 of which are designated Series B Preferred Stock with a \n",
      "par  value  of $0.01  per  share  (“Series B Preferred”),  1,507,500  of which  are  designated  Series  C \n",
      "Preferred Stock with a par value of $0.01 per share (“Series C Preferred”) and 23,000,000 of which \n",
      "are designated Series D Preferred Stock with a par value of $0.01  per share (“Series D Preferred”). \n",
      "For  the  purpose  of this  Amended  and  Restated  Certificate  of Incorporation,  the  term  “Preferred \n",
      "Stock” shall mean Series A Preferred, Series B Preferred, Series C Preferred \n"
     ]
    }
   ],
   "source": [
    "print(text[:1000])"
   ]
  },
  {
   "cell_type": "markdown",
   "metadata": {},
   "source": [
    "### Preprocessing Steps"
   ]
  },
  {
   "cell_type": "markdown",
   "metadata": {},
   "source": [
    "https://medium.com/@datamonsters/text-preprocessing-in-python-steps-tools-and-examples-bf025f872908"
   ]
  },
  {
   "cell_type": "code",
   "execution_count": 80,
   "metadata": {},
   "outputs": [],
   "source": [
    "text = text.lower()"
   ]
  },
  {
   "cell_type": "code",
   "execution_count": 81,
   "metadata": {},
   "outputs": [],
   "source": [
    "text = text.replace(\"\\n\", \"\")\n",
    "text = text.replace(\". \", \" \")\n",
    "text = text.replace(\",\", \"\")"
   ]
  },
  {
   "cell_type": "code",
   "execution_count": 82,
   "metadata": {
    "scrolled": false
   },
   "outputs": [
    {
     "data": {
      "text/plain": [
       "'article fourthe company is authorized to issue two classes of shares designated respectively “common stock” and “preferred  stock”  the company is  authorized to  issue 43000000  shares of common stock with a par value of $0.01  per share  the company is authorized to issue 26007500 shares of preferred stock 800000 of which are designated series a preferred stock with a par value of $0.01 per share (“series a preferred”) 700000 of which are designated series b preferred stock with a par  value  of $0.01  per  share  (“series b preferred”)  1507500  of which  are  designated  series  c preferred stock with a par value of $0.01 per share (“series c preferred”) and 23000000 of which are designated series d preferred stock with a par value of $0.01  per share (“series d preferred”) for  the  purpose  of this  amended  and  restated  certificate  of incorporation  the  term  “preferred stock” shall mean series a preferred series b preferred series c preferred and series d preferred collectively.the relative  rights  preferences  privileges  and  restrictions  granted to or imposed upon  the common stock and the preferred stock and the holders thereof are as follows:section 1  dividends.the holders of record of common stock (the “common holders”) and the holders of record of preferred  stock  (the  “preferred  holders”)  shall  be  entitled  to  receive  dividends  out  of funds legally available therefor  when  as  and  if declared  by the board  of directors  of the  company (the “board”) provided that:1.1  preferential  dividends  the  holders  of  record  of  series  d  preferred  (the  “series  d holders**) shall be entitled to rece\\\\w€lfnon-cumulative^referential dividend of $0.08 per fiscal year per share of series d preferred (as adjusted tor any stock splits stock dividends recapitalizations or the  like with respect to the applicable series of preferred stock occurring after the date of the filing o f this  certificate)  the holders of record of series  c preferred  (the “series c  holders”)  shall be entitled to receive a non-cumulative preferential dividend of $0.27 per fiscal year per share of series c  preferred  (as  adjusted  for  any  stock  splits  stock  dividends  recapitalizations  or  the  like  with respect  to  the  applicable  series  of preferred  stock  occurring  after  the  date  of the  filing  of this certificate)  the holders of record of series b  preferred (the “series b holders”) shall be entitled to  rcceivc  a  non-cumulative  preferential  dividend  of $0.25  per  fiscal  year  per  share  of series b preferred (as adjusted for any stock splits stock dividends recapitalizations or the like with rcspect to the applicable series  of preferred stock occurring afler the dale of the filing  of this  certificate) the holders of record of series a preferred (the “series a holders”)  shall be entitled  to receive  a non-cumulative  preferential  dividend  of $0.07  per  fiscal  year  per  share  o f series a  preferred  (as adjusted  for  any  stock  splits  stock  dividends  recapitalizations  or  the  like  with  respect  to  the applicable series of preferred stock occurring after the date of the filing of this certificate).1.2 paid  ratably  such  preferential  dividends  shall  be  paid  ratably  in  proportion  to  the respective preference amounts  and  in preference and  prior  to  any dividends  paid  in  respect  to  the common stock  after such preferential dividends have been paid in full to such preferred holders for a given year  the preferred  stock shall participate pro-rata with the common stock with respect to the receipt of any additional dividends on an as if converted to common stock basis.2951802-2-\\x0c'"
      ]
     },
     "execution_count": 82,
     "metadata": {},
     "output_type": "execute_result"
    }
   ],
   "source": [
    "text"
   ]
  },
  {
   "cell_type": "code",
   "execution_count": 83,
   "metadata": {},
   "outputs": [
    {
     "data": {
      "text/plain": [
       "'article fourthe company is authorized to issue two classes of shares designated respectively “common stock” and “preferred  stock”  the company is  authorized to  issue 43000000  shares of common stock with a par value of $0.01  per share  the company is authorized to issue 26007500 shares of preferred stock 800000 of which are designated series a preferred stock with a par value of $0.01 per share (“series a preferred”) 700000 of which are designated series b preferred stock with a par  value  of $0.01  per  share  (“series b preferred”)  1507500  of which  are  designated  series  c preferred stock with a par value of $0.01 per share (“series c preferred”) and 23000000 of which are designated series d preferred stock with a par value of $0.01  per share (“series d preferred”) for  the  purpose  of this  amended  and  restated  certificate  of incorporation  the  term  “preferred stock” shall mean series a preferred series b preferred series c preferred and series d preferred collectively.the relative  rights  preferences  privileges  and  restrictions  granted to or imposed upon  the common stock and the preferred stock and the holders thereof are as follows:section 1  dividends.the holders of record of common stock (the “common holders”) and the holders of record of preferred  stock  (the  “preferred  holders”)  shall  be  entitled  to  receive  dividends  out  of funds legally available therefor  when  as  and  if declared  by the board  of directors  of the  company (the “board”) provided that:1.1  preferential  dividends  the  holders  of  record  of  series  d  preferred  (the  “series  d holders**) shall be entitled to rece\\\\w€lfnon-cumulative^referential dividend of $0.08 per fiscal year per share of series d preferred (as adjusted tor any stock splits stock dividends recapitalizations or the  like with respect to the applicable series of preferred stock occurring after the date of the filing o f this  certificate)  the holders of record of series  c preferred  (the “series c  holders”)  shall be entitled to receive a non-cumulative preferential dividend of $0.27 per fiscal year per share of series c  preferred  (as  adjusted  for  any  stock  splits  stock  dividends  recapitalizations  or  the  like  with respect  to  the  applicable  series  of preferred  stock  occurring  after  the  date  of the  filing  of this certificate)  the holders of record of series b  preferred (the “series b holders”) shall be entitled to  rcceivc  a  non-cumulative  preferential  dividend  of $0.25  per  fiscal  year  per  share  of series b preferred (as adjusted for any stock splits stock dividends recapitalizations or the like with rcspect to the applicable series  of preferred stock occurring afler the dale of the filing  of this  certificate) the holders of record of series a preferred (the “series a holders”)  shall be entitled  to receive  a non-cumulative  preferential  dividend  of $0.07  per  fiscal  year  per  share  o f series a  preferred  (as adjusted  for  any  stock  splits  stock  dividends  recapitalizations  or  the  like  with  respect  to  the applicable series of preferred stock occurring after the date of the filing of this certificate).1.2 paid  ratably  such  preferential  dividends  shall  be  paid  ratably  in  proportion  to  the respective preference amounts  and  in preference and  prior  to  any dividends  paid  in  respect  to  the common stock  after such preferential dividends have been paid in full to such preferred holders for a given year  the preferred  stock shall participate pro-rata with the common stock with respect to the receipt of any additional dividends on an as if converted to common stock basis.2951802-2-\\x0c'"
      ]
     },
     "execution_count": 83,
     "metadata": {},
     "output_type": "execute_result"
    }
   ],
   "source": [
    "text"
   ]
  },
  {
   "cell_type": "code",
   "execution_count": 84,
   "metadata": {},
   "outputs": [],
   "source": [
    "#text = text.encode('ascii', errors='ignore').decode('utf-8')"
   ]
  },
  {
   "cell_type": "code",
   "execution_count": 85,
   "metadata": {},
   "outputs": [],
   "source": [
    "chars_to_remove = string.punctuation.replace(\"$\",\"\").replace(\".\",\"\").replace(\",\",\"\") #keep the $ sign and ."
   ]
  },
  {
   "cell_type": "code",
   "execution_count": 86,
   "metadata": {},
   "outputs": [
    {
     "name": "stdout",
     "output_type": "stream",
     "text": [
      "!\"#%&'()*+-/:;<=>?@[\\]^_`{|}~\n"
     ]
    }
   ],
   "source": [
    "print(chars_to_remove)"
   ]
  },
  {
   "cell_type": "code",
   "execution_count": 87,
   "metadata": {},
   "outputs": [],
   "source": [
    "remove_chars = str.maketrans(chars_to_remove, \" \" * len(chars_to_remove))\n",
    "text = text.translate(remove_chars)"
   ]
  },
  {
   "cell_type": "code",
   "execution_count": 88,
   "metadata": {},
   "outputs": [
    {
     "data": {
      "text/plain": [
       "'article fourthe company is authorized to issue two classes of shares designated respectively “common stock” and “preferred  stock”  the company is  authorized to  issue 43000000  shares of common stock with a par value of $0.01  per share  the company is authorized to issue 26007500 shares of preferred stock 800000 of which are designated series a preferred stock with a par value of $0.01 per share  “series a preferred”  700000 of which are designated series b preferred stock with a par  value  of $0.01  per  share   “series b preferred”   1507500  of which  are  designated  series  c preferred stock with a par value of $0.01 per share  “series c preferred”  and 23000000 of which are designated series d preferred stock with a par value of $0.01  per share  “series d preferred”  for  the  purpose  of this  amended  and  restated  certificate  of incorporation  the  term  “preferred stock” shall mean series a preferred series b preferred series c preferred and series d preferred collectively.the relative  rights  preferences  privileges  and  restrictions  granted to or imposed upon  the common stock and the preferred stock and the holders thereof are as follows section 1  dividends.the holders of record of common stock  the “common holders”  and the holders of record of preferred  stock   the  “preferred  holders”   shall  be  entitled  to  receive  dividends  out  of funds legally available therefor  when  as  and  if declared  by the board  of directors  of the  company  the “board”  provided that 1.1  preferential  dividends  the  holders  of  record  of  series  d  preferred   the  “series  d holders    shall be entitled to rece w€lfnon cumulative referential dividend of $0.08 per fiscal year per share of series d preferred  as adjusted tor any stock splits stock dividends recapitalizations or the  like with respect to the applicable series of preferred stock occurring after the date of the filing o f this  certificate   the holders of record of series  c preferred   the “series c  holders”   shall be entitled to receive a non cumulative preferential dividend of $0.27 per fiscal year per share of series c  preferred   as  adjusted  for  any  stock  splits  stock  dividends  recapitalizations  or  the  like  with respect  to  the  applicable  series  of preferred  stock  occurring  after  the  date  of the  filing  of this certificate   the holders of record of series b  preferred  the “series b holders”  shall be entitled to  rcceivc  a  non cumulative  preferential  dividend  of $0.25  per  fiscal  year  per  share  of series b preferred  as adjusted for any stock splits stock dividends recapitalizations or the like with rcspect to the applicable series  of preferred stock occurring afler the dale of the filing  of this  certificate  the holders of record of series a preferred  the “series a holders”   shall be entitled  to receive  a non cumulative  preferential  dividend  of $0.07  per  fiscal  year  per  share  o f series a  preferred   as adjusted  for  any  stock  splits  stock  dividends  recapitalizations  or  the  like  with  respect  to  the applicable series of preferred stock occurring after the date of the filing of this certificate .1.2 paid  ratably  such  preferential  dividends  shall  be  paid  ratably  in  proportion  to  the respective preference amounts  and  in preference and  prior  to  any dividends  paid  in  respect  to  the common stock  after such preferential dividends have been paid in full to such preferred holders for a given year  the preferred  stock shall participate pro rata with the common stock with respect to the receipt of any additional dividends on an as if converted to common stock basis.2951802 2 \\x0c'"
      ]
     },
     "execution_count": 88,
     "metadata": {},
     "output_type": "execute_result"
    }
   ],
   "source": [
    "text"
   ]
  },
  {
   "cell_type": "code",
   "execution_count": 89,
   "metadata": {},
   "outputs": [],
   "source": [
    "text = text.strip()"
   ]
  },
  {
   "cell_type": "code",
   "execution_count": 90,
   "metadata": {},
   "outputs": [],
   "source": [
    "stop_words = set(stopwords.words('english'))\n",
    "tokens = word_tokenize(text)\n",
    "tokens = [i for i in tokens if not i in stop_words]"
   ]
  },
  {
   "cell_type": "code",
   "execution_count": 91,
   "metadata": {},
   "outputs": [],
   "source": [
    "ps = PorterStemmer()\n",
    "tokens = [ps.stem(word) for word in tokens]"
   ]
  },
  {
   "cell_type": "code",
   "execution_count": 92,
   "metadata": {},
   "outputs": [],
   "source": [
    "lemmatizer = WordNetLemmatizer()\n",
    "tokens = [lemmatizer.lemmatize(word) for word in tokens]"
   ]
  },
  {
   "cell_type": "code",
   "execution_count": 93,
   "metadata": {},
   "outputs": [],
   "source": [
    "tokens = tokens[:-1]"
   ]
  },
  {
   "cell_type": "code",
   "execution_count": 94,
   "metadata": {},
   "outputs": [
    {
     "name": "stdout",
     "output_type": "stream",
     "text": [
      "articl fourth compani author issu two class share design respect “ common stock ” “ prefer stock ” compani author issu 43000000 share common stock par valu $ 0.01 per share compani author issu 26007500 share prefer stock 800000 design seri prefer stock par valu $ 0.01 per share “ seri prefer ” 700000 design seri b prefer stock par valu $ 0.01 per share “ seri b prefer ” 1507500 design seri c prefer stock par valu $ 0.01 per share “ seri c prefer ” 23000000 design seri prefer stock par valu $ 0.01 per share “ seri prefer ” purpos amend restat certif incorpor term “ prefer stock ” shall mean seri prefer seri b prefer seri c prefer seri prefer collectively.th rel right prefer privileg restrict grant impos upon common stock prefer stock holder thereof follow section 1 dividends.th holder record common stock “ common holder ” holder record prefer stock “ prefer holder ” shall entitl receiv dividend fund legal avail therefor declar board director compani “ board ” provid 1.1 preferenti dividend holder record seri prefer “ seri holder shall entitl rece w€lfnon cumul referenti dividend $ 0.08 per fiscal year per share seri prefer adjust tor stock split stock dividend recapit like respect applic seri prefer stock occur date file f certif holder record seri c prefer “ seri c holder ” shall entitl receiv non cumul preferenti dividend $ 0.27 per fiscal year per share seri c prefer adjust stock split stock dividend recapit like respect applic seri prefer stock occur date file certif holder record seri b prefer “ seri b holder ” shall entitl rcceivc non cumul preferenti dividend $ 0.25 per fiscal year per share seri b prefer adjust stock split stock dividend recapit like rcspect applic seri prefer stock occur afler dale file certif holder record seri prefer “ seri holder ” shall entitl receiv non cumul preferenti dividend $ 0.07 per fiscal year per share f seri prefer adjust stock split stock dividend recapit like respect applic seri prefer stock occur date file certif .1.2 paid ratabl preferenti dividend shall paid ratabl proport respect prefer amount prefer prior dividend paid respect common stock preferenti dividend paid full prefer holder given year prefer stock shall particip pro rata common stock respect receipt addit dividend convert common stock basis.2951802 "
     ]
    }
   ],
   "source": [
    "for word in tokens:\n",
    "    sys.stdout.write(word + \" \")"
   ]
  },
  {
   "cell_type": "code",
   "execution_count": null,
   "metadata": {},
   "outputs": [],
   "source": []
  },
  {
   "cell_type": "code",
   "execution_count": null,
   "metadata": {},
   "outputs": [],
   "source": []
  },
  {
   "cell_type": "code",
   "execution_count": null,
   "metadata": {},
   "outputs": [],
   "source": []
  }
 ],
 "metadata": {
  "kernelspec": {
   "display_name": "contracts",
   "language": "python",
   "name": "contracts"
  },
  "language_info": {
   "codemirror_mode": {
    "name": "ipython",
    "version": 3
   },
   "file_extension": ".py",
   "mimetype": "text/x-python",
   "name": "python",
   "nbconvert_exporter": "python",
   "pygments_lexer": "ipython3",
   "version": "3.6.0"
  }
 },
 "nbformat": 4,
 "nbformat_minor": 2
}
