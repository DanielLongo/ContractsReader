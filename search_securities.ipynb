{
 "cells": [
  {
   "cell_type": "code",
   "execution_count": 44,
   "metadata": {
    "collapsed": true
   },
   "outputs": [],
   "source": [
    "import numpy as np\n",
    "import warnings\n",
    "import pandas as pd\n",
    "import os"
   ]
  },
  {
   "cell_type": "code",
   "execution_count": 45,
   "metadata": {
    "collapsed": true,
    "scrolled": true
   },
   "outputs": [],
   "source": [
    "from load_contracts import read_contract, preprocess_text\n",
    "from load_info import get_security_names, load_info_xlsx\n",
    "from manage_triggers import get_proccessed_triggers"
   ]
  },
  {
   "cell_type": "code",
   "execution_count": 46,
   "metadata": {},
   "outputs": [],
   "source": [
    "BEGINING_OF_IV_INTRO_TEXT = get_proccessed_triggers(\"Begining_IV\")\n",
    "END_OF_IV_INTRO_TEXT = get_proccessed_triggers(\"End_IV_intro\")"
   ]
  },
  {
   "cell_type": "code",
   "execution_count": 94,
   "metadata": {},
   "outputs": [],
   "source": [
    "filename = \"contracts/135_ActelisNetworks_COI_01072005.pdf\"\n",
    "text = read_contract(filename)\n",
    "text = text.split(\" \")\n",
    "text = list(filter(lambda a: a != '', text))"
   ]
  },
  {
   "cell_type": "markdown",
   "metadata": {},
   "source": [
    "### Utils"
   ]
  },
  {
   "cell_type": "code",
   "execution_count": 71,
   "metadata": {
    "collapsed": true
   },
   "outputs": [],
   "source": [
    "def find_loc(text, triggers, allow_contains=True):\n",
    "    for trigger in triggers:\n",
    "        curIndex = find_target(text, trigger, allow_contains=allow_contains)\n",
    "        if curIndex != []:\n",
    "            if len(curIndex) > 1:\n",
    "                pass\n",
    "#                 print(\"target occurs at multiple indicies\")\n",
    "            return curIndex\n",
    "#     print(\"No trigger found in text\")\n",
    "    return None"
   ]
  },
  {
   "cell_type": "code",
   "execution_count": 72,
   "metadata": {
    "collapsed": true
   },
   "outputs": [],
   "source": [
    "def get_filepath(target_filename):\n",
    "    dropbox_path = \"/Users/DanielLongo/Dropbox/VC RA Avinika Narayan/Contracts project/coi/Done OCR'd/\"\n",
    "    for root, dirs, files in os.walk(dropbox_path):\n",
    "        for dir in dirs:\n",
    "            for filename in os.listdir(dropbox_path + dir):\n",
    "                if filename == target_filename:\n",
    "                    return dropbox_path + dir + \"/\" + filename\n",
    "#     print(target_filename, \"not found\")"
   ]
  },
  {
   "cell_type": "code",
   "execution_count": 73,
   "metadata": {},
   "outputs": [
    {
     "data": {
      "text/plain": [
       "\"/Users/DanielLongo/Dropbox/VC RA Avinika Narayan/Contracts project/coi/Done OCR'd/955 Dreams/17445_955Dreams_COI_10112013.pdf\""
      ]
     },
     "execution_count": 73,
     "metadata": {},
     "output_type": "execute_result"
    }
   ],
   "source": [
    "get_filepath(\"17445_955Dreams_COI_10112013.pdf\")"
   ]
  },
  {
   "cell_type": "code",
   "execution_count": 74,
   "metadata": {
    "collapsed": true
   },
   "outputs": [],
   "source": [
    "def remove_periods(text): #doesn't remove decimal places\n",
    "    out = []\n",
    "    for word in text:\n",
    "        if is_num(word):\n",
    "            out += [word]\n",
    "            continue\n",
    "        out += word.split('.')\n",
    "    return out"
   ]
  },
  {
   "cell_type": "code",
   "execution_count": 75,
   "metadata": {
    "collapsed": true
   },
   "outputs": [],
   "source": [
    "# def get_closest "
   ]
  },
  {
   "cell_type": "code",
   "execution_count": 76,
   "metadata": {
    "collapsed": true
   },
   "outputs": [],
   "source": [
    "def is_num(x):\n",
    "    x = x.strip('$')\n",
    "    try:\n",
    "        float(x)\n",
    "    except ValueError:\n",
    "        return False\n",
    "    return True"
   ]
  },
  {
   "cell_type": "code",
   "execution_count": 77,
   "metadata": {
    "collapsed": true
   },
   "outputs": [],
   "source": [
    "def revert_secuirty_names(df):\n",
    "    df.loc[df[\"Security Name\"] == \"common stock\", \"Security Name\"] = \"common\"\n",
    "    return df"
   ]
  },
  {
   "cell_type": "code",
   "execution_count": 78,
   "metadata": {
    "collapsed": true
   },
   "outputs": [],
   "source": [
    "def get_closest_string(values, target, less, any=False):\n",
    "    if not any:\n",
    "        if less:\n",
    "            values = [x for x in values if x < target]\n",
    "        else:\n",
    "            values = [x for x in values if x > target]\n",
    "    try:\n",
    "        val = min(values, key=lambda x: abs(target - x))\n",
    "    except ValueError:\n",
    "        return -1\n",
    "    return val"
   ]
  },
  {
   "cell_type": "code",
   "execution_count": 79,
   "metadata": {
    "collapsed": true
   },
   "outputs": [],
   "source": [
    "def find_target(text, target, allow_contains=True):\n",
    "    target_loc = 0\n",
    "    indicies = []\n",
    "    start_index = 0\n",
    "    for i in range(len(text)):\n",
    "        word = text[i]\n",
    "#         print(\"target_loc\", target_loc)\n",
    "        if word == target[target_loc] or (allow_contains and word in target[target_loc]):\n",
    "            if target_loc == 0: #marks start of sequence\n",
    "                start_index = i\n",
    "            target_loc += 1\n",
    "            if target_loc == len(target):\n",
    "                indicies += [start_index]\n",
    "                target_loc = 0\n",
    "        elif word == target[0] or (allow_contains and word in target[0]):\n",
    "            target_loc = 1\n",
    "        else:\n",
    "            if target_loc > 0:\n",
    "                #reset just incase ababcd \n",
    "                i -= (target_loc - 1) \n",
    "            target_loc = 0\n",
    "    return indicies"
   ]
  },
  {
   "cell_type": "markdown",
   "metadata": {},
   "source": [
    "### Search Functions"
   ]
  },
  {
   "cell_type": "code",
   "execution_count": 119,
   "metadata": {
    "collapsed": true
   },
   "outputs": [],
   "source": [
    "def get_closest_num(values, target, less, min=-1, max=1e10000, any=False):\n",
    "    try:\n",
    "        index = int(target)\n",
    "    except ValueError:\n",
    "        indicies = find_target(values, target.split(\" \"))\n",
    "#         print(\"Indicies\", indicies)\n",
    "        if len(indicies) > 1:\n",
    "            warnings.warn(\"Indicies length greath than one\", RuntimeWarning)\n",
    "            for i in range(len(indicies)):\n",
    "                if less:\n",
    "                    cur_target = indicies[i]\n",
    "                else:\n",
    "                    cur_target = indicies[len(indicies) - 1 -i] #starts at end of doc\n",
    "                cur_val = get_closest_num(values, cur_target, less, min=min, max=max, any=any)\n",
    "                if (cur_val != None):\n",
    "                    return cur_val\n",
    "            warnings.warn(\"No number found\", RuntimeWarning)\n",
    "            print(\"No num found target:\", target, \"indicies:\", indicies)\n",
    "            return None\n",
    "#         assert(len(indicies) > 1), \"Invalid target\"\n",
    "        index = indicies[-1]\n",
    "    if any: #doesn't get closest\n",
    "        iters = range(0, len(values))\n",
    "    elif less:\n",
    "        iters = range(index -1, -1, -1) #0 is last\n",
    "    else:#less = false\n",
    "        iters = range(index, len(values))\n",
    "    for i in iters:\n",
    "        if (is_num(values[i])):\n",
    "            return float(values[i].strip(\"$\"))\n",
    "    print(\"No num\", target, \"index\", index)\n",
    "    return None\n",
    "    "
   ]
  },
  {
   "cell_type": "code",
   "execution_count": 120,
   "metadata": {
    "collapsed": true
   },
   "outputs": [],
   "source": [
    "def get_names(text):\n",
    "    unsplit_names = get_security_names()\n",
    "    names = [name.split(\" \") for name in unsplit_names]\n",
    "    indicies = []\n",
    "    types = []\n",
    "    for name in names:\n",
    "        if (len(name) == 1):\n",
    "            name += [\"stock\"]\n",
    "        cur_indicies = find_target(text, name)\n",
    "        if len(cur_indicies) > 0:\n",
    "            types += [\" \".join(name)]\n",
    "            indicies += [cur_indicies]\n",
    "    #remove extra \"prefered stock\"\n",
    "    has_extra_prefered = True\n",
    "    if \"prefer stock\" in types:\n",
    "        for type in types:\n",
    "            if type[-6:] == 'prefer':\n",
    "                has_extra_prefered = True\n",
    "                break\n",
    "        if (has_extra_prefered):\n",
    "            indicies.pop(types.index('prefer stock'))\n",
    "            types.remove('prefer stock')\n",
    "    return indicies, types"
   ]
  },
  {
   "cell_type": "code",
   "execution_count": 121,
   "metadata": {
    "collapsed": true
   },
   "outputs": [],
   "source": [
    "def get_num_of_shares(text, names):\n",
    "    out = []\n",
    "    for name in names:\n",
    "        out += [get_closest_num(text, name, less=True)]\n",
    "    return out\n",
    "        "
   ]
  },
  {
   "cell_type": "code",
   "execution_count": 122,
   "metadata": {
    "collapsed": true
   },
   "outputs": [],
   "source": [
    "def get_types(names):\n",
    "    types = []\n",
    "    for name in names:\n",
    "        if \"common\" in name:\n",
    "            types += [\"common\"]\n",
    "        elif \"prefer\" in name:\n",
    "            types += [\"prefered\"]\n",
    "        else:\n",
    "            print(\"name doesn't contain common or prefer:\", \"\".join(name))\n",
    "            types += [\"No type found\"]\n",
    "    return types"
   ]
  },
  {
   "cell_type": "code",
   "execution_count": 123,
   "metadata": {
    "collapsed": true
   },
   "outputs": [],
   "source": [
    "def generate_stats(IV_intro_text):\n",
    "    _, names = get_names(IV_intro_text)\n",
    "    types = get_types(names)\n",
    "    nums = get_num_of_shares(IV_intro_text, names)\n",
    "    d = {\"Security Name\":names, \"Security Type\":types, \"Number\":nums}\n",
    "    df = pd.DataFrame(d)\n",
    "    df = revert_secuirty_names(df)\n",
    "    return df"
   ]
  },
  {
   "cell_type": "code",
   "execution_count": 124,
   "metadata": {
    "collapsed": true
   },
   "outputs": [],
   "source": [
    "unsplit_names = get_security_names()"
   ]
  },
  {
   "cell_type": "code",
   "execution_count": 125,
   "metadata": {
    "collapsed": true
   },
   "outputs": [],
   "source": [
    "all_names = [name.split(\" \") for name in unsplit_names]"
   ]
  },
  {
   "cell_type": "code",
   "execution_count": 126,
   "metadata": {},
   "outputs": [],
   "source": [
    "indicies = []\n",
    "for name in all_names:\n",
    "    indicies += [find_target(text, name)]\n"
   ]
  },
  {
   "cell_type": "code",
   "execution_count": 127,
   "metadata": {},
   "outputs": [],
   "source": [
    "index_of_article_IV = find_target(text, [\"articl\", \"fourth\"])"
   ]
  },
  {
   "cell_type": "markdown",
   "metadata": {},
   "source": [
    "### Search Through IV Intro"
   ]
  },
  {
   "cell_type": "code",
   "execution_count": 128,
   "metadata": {},
   "outputs": [],
   "source": [
    "end_of_IV_intro = find_target(text, END_OF_IV_INTRO_TEXT)"
   ]
  },
  {
   "cell_type": "code",
   "execution_count": 129,
   "metadata": {},
   "outputs": [],
   "source": [
    "# assert(len(end_of_IV_intro) == 1)"
   ]
  },
  {
   "cell_type": "code",
   "execution_count": 130,
   "metadata": {},
   "outputs": [],
   "source": [
    "# end_of_IV_intro = end_of_IV_intro[0]"
   ]
  },
  {
   "cell_type": "code",
   "execution_count": 131,
   "metadata": {},
   "outputs": [],
   "source": [
    "# articl_forth_occur = find_target(text, [\"articl\", \"fourth\"])"
   ]
  },
  {
   "cell_type": "code",
   "execution_count": 132,
   "metadata": {},
   "outputs": [],
   "source": [
    "# begining_of_IV = get_closest_string(values = articl_forth_occur, target=end_of_IV_intro, less=True)"
   ]
  },
  {
   "cell_type": "code",
   "execution_count": 102,
   "metadata": {},
   "outputs": [],
   "source": [
    "# print(\"IV Intro starts\", begining_of_IV, \"IV Intro ends\", end_of_IV_intro)"
   ]
  },
  {
   "cell_type": "code",
   "execution_count": 101,
   "metadata": {},
   "outputs": [],
   "source": [
    "# \" \".join(text[begining_of_IV:end_of_IV_intro])"
   ]
  },
  {
   "cell_type": "code",
   "execution_count": 105,
   "metadata": {},
   "outputs": [
    {
     "name": "stdout",
     "output_type": "stream",
     "text": [
      "begining 212 end 372\n"
     ]
    }
   ],
   "source": [
    "# IV_intro_text = text[begining_of_IV:end_of_IV_intro]\n",
    "IV_intro_text = get_IV_intro_text(filename, BEGINING_OF_IV_INTRO_TEXT, END_OF_IV_INTRO_TEXT)"
   ]
  },
  {
   "cell_type": "code",
   "execution_count": 106,
   "metadata": {},
   "outputs": [],
   "source": [
    "indicies, names = get_names(IV_intro_text)"
   ]
  },
  {
   "cell_type": "code",
   "execution_count": 107,
   "metadata": {},
   "outputs": [],
   "source": [
    "types = get_types(names)"
   ]
  },
  {
   "cell_type": "code",
   "execution_count": 110,
   "metadata": {},
   "outputs": [
    {
     "name": "stderr",
     "output_type": "stream",
     "text": [
      "RuntimeWarning: Indicies length greath than one [ipykernel_launcher.py:7]\n"
     ]
    },
    {
     "data": {
      "text/plain": [
       "0.01"
      ]
     },
     "execution_count": 110,
     "metadata": {},
     "output_type": "execute_result"
    }
   ],
   "source": [
    "get_closest_num(IV_intro_text, names[0], False)"
   ]
  },
  {
   "cell_type": "code",
   "execution_count": 111,
   "metadata": {},
   "outputs": [
    {
     "name": "stderr",
     "output_type": "stream",
     "text": [
      "RuntimeWarning: Indicies length greath than one [ipykernel_launcher.py:7]\n"
     ]
    },
    {
     "data": {
      "text/plain": [
       "0.01"
      ]
     },
     "execution_count": 111,
     "metadata": {},
     "output_type": "execute_result"
    }
   ],
   "source": [
    "get_closest_num(IV_intro_text, names[0], False)"
   ]
  },
  {
   "cell_type": "code",
   "execution_count": 116,
   "metadata": {},
   "outputs": [
    {
     "data": {
      "text/plain": [
       "'fourth compani is author to issu two class of share design respect common stock and prefer stock the compani is author to issu 43000000 share of common stock with a par valu of $0.01 per share the compani is author to issu 26007500 share of prefer stock 800000 of which are design seri a prefer stock with a par valu of $0.01 per share seri a prefer 700000 of which are design seri b prefer stock with a par valu of $0.01 per share seri b prefer 1507500 of which are design seri c prefer stock with a par valu of $0.01 per share seri c prefer and 23000000 of which are design seri d prefer stock with a par valu of $0.01 per share seri d prefer for the purpos of thi amend and restat certif of incorpor the term prefer stock shall mean seri a prefer seri b prefer seri c prefer and seri d prefer collectively th'"
      ]
     },
     "execution_count": 116,
     "metadata": {},
     "output_type": "execute_result"
    }
   ],
   "source": [
    "\" \".join(IV_intro_text)"
   ]
  },
  {
   "cell_type": "code",
   "execution_count": 133,
   "metadata": {
    "scrolled": true
   },
   "outputs": [
    {
     "name": "stdout",
     "output_type": "stream",
     "text": [
      "Indicies [12, 26]\n",
      "No num 12 index 12\n",
      "Indicies [113, 125, 155]\n",
      "Indicies [52, 64, 145]\n",
      "Indicies [72, 84, 148]\n",
      "Indicies [92, 104, 151]\n",
      "Indicies [113, 125, 155]\n",
      "Indicies [114, 126, 156]\n",
      "Indicies [52, 64, 145]\n",
      "Indicies [113, 125, 155]\n",
      "Indicies [72, 84, 148]\n",
      "Indicies [52, 64, 145]\n",
      "Indicies [52, 64, 72, 84, 145, 148]\n",
      "Indicies [114, 126, 156]\n",
      "Indicies [52, 64, 145]\n",
      "Indicies [113]\n",
      "Indicies [52, 64, 145]\n",
      "Indicies [72, 84, 148]\n",
      "Indicies [92, 104, 151]\n",
      "Indicies [113, 125, 155]\n",
      "Indicies [52, 64, 145]\n",
      "Indicies [52, 64, 145]\n"
     ]
    },
    {
     "name": "stderr",
     "output_type": "stream",
     "text": [
      "RuntimeWarning: Indicies length greath than one [ipykernel_launcher.py:8]\n"
     ]
    }
   ],
   "source": [
    "nums = get_num_of_shares(IV_intro_text, names)"
   ]
  },
  {
   "cell_type": "code",
   "execution_count": 113,
   "metadata": {},
   "outputs": [
    {
     "name": "stdout",
     "output_type": "stream",
     "text": [
      "['common stock', 'seri seed prefer', 'seri a prefer', 'seri b prefer', 'seri c prefer', 'seri d prefer', 'founder prefer', 'seri aa prefer', 'seri dprefer', 'seri bb prefer', 'seri aaa prefer', 'seri ab prefer', 'undesign prefer', 'seri 2a prefer', 'seri seed prefer stock', 'seri a1 prefer', 'seri b1 prefer', 'seri c1 prefer', 'seri d1 prefer', 'seri a2 prefer', 'seri a3 prefer']\n",
      "['common', 'prefered', 'prefered', 'prefered', 'prefered', 'prefered', 'prefered', 'prefered', 'prefered', 'prefered', 'prefered', 'prefered', 'prefered', 'prefered', 'prefered', 'prefered', 'prefered', 'prefered', 'prefered', 'prefered', 'prefered']\n"
     ]
    },
    {
     "ename": "NameError",
     "evalue": "name 'nums' is not defined",
     "output_type": "error",
     "traceback": [
      "\u001b[0;31m---------------------------------------------------------------------------\u001b[0m",
      "\u001b[0;31mNameError\u001b[0m                                 Traceback (most recent call last)",
      "\u001b[0;32m<ipython-input-113-1dae22bca95a>\u001b[0m in \u001b[0;36m<module>\u001b[0;34m\u001b[0m\n\u001b[1;32m      1\u001b[0m \u001b[0mprint\u001b[0m\u001b[0;34m(\u001b[0m\u001b[0mnames\u001b[0m\u001b[0;34m)\u001b[0m\u001b[0;34m\u001b[0m\u001b[0m\n\u001b[1;32m      2\u001b[0m \u001b[0mprint\u001b[0m\u001b[0;34m(\u001b[0m\u001b[0mtypes\u001b[0m\u001b[0;34m)\u001b[0m\u001b[0;34m\u001b[0m\u001b[0m\n\u001b[0;32m----> 3\u001b[0;31m \u001b[0mprint\u001b[0m\u001b[0;34m(\u001b[0m\u001b[0mnums\u001b[0m\u001b[0;34m)\u001b[0m\u001b[0;34m\u001b[0m\u001b[0m\n\u001b[0m",
      "\u001b[0;31mNameError\u001b[0m: name 'nums' is not defined"
     ]
    }
   ],
   "source": [
    "print(names)\n",
    "print(types)\n",
    "print(nums)"
   ]
  },
  {
   "cell_type": "code",
   "execution_count": 134,
   "metadata": {},
   "outputs": [
    {
     "name": "stdout",
     "output_type": "stream",
     "text": [
      "Indicies [12, 26]\n",
      "No num 12 index 12\n",
      "Indicies [113, 125, 155]\n",
      "Indicies [52, 64, 145]\n",
      "Indicies [72, 84, 148]\n",
      "Indicies [92, 104, 151]\n",
      "Indicies [113, 125, 155]\n",
      "Indicies [114, 126, 156]\n",
      "Indicies [52, 64, 145]\n",
      "Indicies [113, 125, 155]\n",
      "Indicies [72, 84, 148]\n",
      "Indicies [52, 64, 145]\n",
      "Indicies [52, 64, 72, 84, 145, 148]\n",
      "Indicies [114, 126, 156]\n",
      "Indicies [52, 64, 145]\n",
      "Indicies [113]\n",
      "Indicies [52, 64, 145]\n",
      "Indicies [72, 84, 148]\n",
      "Indicies [92, 104, 151]\n",
      "Indicies [113, 125, 155]\n",
      "Indicies [52, 64, 145]\n",
      "Indicies [52, 64, 145]\n"
     ]
    },
    {
     "name": "stderr",
     "output_type": "stream",
     "text": [
      "RuntimeWarning: Indicies length greath than one [ipykernel_launcher.py:8]\n"
     ]
    },
    {
     "data": {
      "text/html": [
       "<div>\n",
       "<style scoped>\n",
       "    .dataframe tbody tr th:only-of-type {\n",
       "        vertical-align: middle;\n",
       "    }\n",
       "\n",
       "    .dataframe tbody tr th {\n",
       "        vertical-align: top;\n",
       "    }\n",
       "\n",
       "    .dataframe thead th {\n",
       "        text-align: right;\n",
       "    }\n",
       "</style>\n",
       "<table border=\"1\" class=\"dataframe\">\n",
       "  <thead>\n",
       "    <tr style=\"text-align: right;\">\n",
       "      <th></th>\n",
       "      <th>Security Name</th>\n",
       "      <th>Security Type</th>\n",
       "      <th>Number</th>\n",
       "    </tr>\n",
       "  </thead>\n",
       "  <tbody>\n",
       "    <tr>\n",
       "      <th>0</th>\n",
       "      <td>common</td>\n",
       "      <td>common</td>\n",
       "      <td>43000000.0</td>\n",
       "    </tr>\n",
       "    <tr>\n",
       "      <th>1</th>\n",
       "      <td>seri seed prefer</td>\n",
       "      <td>prefered</td>\n",
       "      <td>23000000.0</td>\n",
       "    </tr>\n",
       "    <tr>\n",
       "      <th>2</th>\n",
       "      <td>seri a prefer</td>\n",
       "      <td>prefered</td>\n",
       "      <td>800000.0</td>\n",
       "    </tr>\n",
       "    <tr>\n",
       "      <th>3</th>\n",
       "      <td>seri b prefer</td>\n",
       "      <td>prefered</td>\n",
       "      <td>700000.0</td>\n",
       "    </tr>\n",
       "    <tr>\n",
       "      <th>4</th>\n",
       "      <td>seri c prefer</td>\n",
       "      <td>prefered</td>\n",
       "      <td>1507500.0</td>\n",
       "    </tr>\n",
       "    <tr>\n",
       "      <th>5</th>\n",
       "      <td>seri d prefer</td>\n",
       "      <td>prefered</td>\n",
       "      <td>23000000.0</td>\n",
       "    </tr>\n",
       "    <tr>\n",
       "      <th>6</th>\n",
       "      <td>founder prefer</td>\n",
       "      <td>prefered</td>\n",
       "      <td>23000000.0</td>\n",
       "    </tr>\n",
       "    <tr>\n",
       "      <th>7</th>\n",
       "      <td>seri aa prefer</td>\n",
       "      <td>prefered</td>\n",
       "      <td>800000.0</td>\n",
       "    </tr>\n",
       "    <tr>\n",
       "      <th>8</th>\n",
       "      <td>seri dprefer</td>\n",
       "      <td>prefered</td>\n",
       "      <td>23000000.0</td>\n",
       "    </tr>\n",
       "    <tr>\n",
       "      <th>9</th>\n",
       "      <td>seri bb prefer</td>\n",
       "      <td>prefered</td>\n",
       "      <td>700000.0</td>\n",
       "    </tr>\n",
       "    <tr>\n",
       "      <th>10</th>\n",
       "      <td>seri aaa prefer</td>\n",
       "      <td>prefered</td>\n",
       "      <td>800000.0</td>\n",
       "    </tr>\n",
       "    <tr>\n",
       "      <th>11</th>\n",
       "      <td>seri ab prefer</td>\n",
       "      <td>prefered</td>\n",
       "      <td>800000.0</td>\n",
       "    </tr>\n",
       "    <tr>\n",
       "      <th>12</th>\n",
       "      <td>undesign prefer</td>\n",
       "      <td>prefered</td>\n",
       "      <td>23000000.0</td>\n",
       "    </tr>\n",
       "    <tr>\n",
       "      <th>13</th>\n",
       "      <td>seri 2a prefer</td>\n",
       "      <td>prefered</td>\n",
       "      <td>800000.0</td>\n",
       "    </tr>\n",
       "    <tr>\n",
       "      <th>14</th>\n",
       "      <td>seri seed prefer stock</td>\n",
       "      <td>prefered</td>\n",
       "      <td>23000000.0</td>\n",
       "    </tr>\n",
       "    <tr>\n",
       "      <th>15</th>\n",
       "      <td>seri a1 prefer</td>\n",
       "      <td>prefered</td>\n",
       "      <td>800000.0</td>\n",
       "    </tr>\n",
       "    <tr>\n",
       "      <th>16</th>\n",
       "      <td>seri b1 prefer</td>\n",
       "      <td>prefered</td>\n",
       "      <td>700000.0</td>\n",
       "    </tr>\n",
       "    <tr>\n",
       "      <th>17</th>\n",
       "      <td>seri c1 prefer</td>\n",
       "      <td>prefered</td>\n",
       "      <td>1507500.0</td>\n",
       "    </tr>\n",
       "    <tr>\n",
       "      <th>18</th>\n",
       "      <td>seri d1 prefer</td>\n",
       "      <td>prefered</td>\n",
       "      <td>23000000.0</td>\n",
       "    </tr>\n",
       "    <tr>\n",
       "      <th>19</th>\n",
       "      <td>seri a2 prefer</td>\n",
       "      <td>prefered</td>\n",
       "      <td>800000.0</td>\n",
       "    </tr>\n",
       "    <tr>\n",
       "      <th>20</th>\n",
       "      <td>seri a3 prefer</td>\n",
       "      <td>prefered</td>\n",
       "      <td>800000.0</td>\n",
       "    </tr>\n",
       "  </tbody>\n",
       "</table>\n",
       "</div>"
      ],
      "text/plain": [
       "             Security Name Security Type      Number\n",
       "0                   common        common  43000000.0\n",
       "1         seri seed prefer      prefered  23000000.0\n",
       "2            seri a prefer      prefered    800000.0\n",
       "3            seri b prefer      prefered    700000.0\n",
       "4            seri c prefer      prefered   1507500.0\n",
       "5            seri d prefer      prefered  23000000.0\n",
       "6           founder prefer      prefered  23000000.0\n",
       "7           seri aa prefer      prefered    800000.0\n",
       "8             seri dprefer      prefered  23000000.0\n",
       "9           seri bb prefer      prefered    700000.0\n",
       "10         seri aaa prefer      prefered    800000.0\n",
       "11          seri ab prefer      prefered    800000.0\n",
       "12         undesign prefer      prefered  23000000.0\n",
       "13          seri 2a prefer      prefered    800000.0\n",
       "14  seri seed prefer stock      prefered  23000000.0\n",
       "15          seri a1 prefer      prefered    800000.0\n",
       "16          seri b1 prefer      prefered    700000.0\n",
       "17          seri c1 prefer      prefered   1507500.0\n",
       "18          seri d1 prefer      prefered  23000000.0\n",
       "19          seri a2 prefer      prefered    800000.0\n",
       "20          seri a3 prefer      prefered    800000.0"
      ]
     },
     "execution_count": 134,
     "metadata": {},
     "output_type": "execute_result"
    }
   ],
   "source": [
    "generate_stats(IV_intro_text)"
   ]
  },
  {
   "cell_type": "markdown",
   "metadata": {},
   "source": [
    "### Evalutate Search Methods"
   ]
  },
  {
   "cell_type": "code",
   "execution_count": 41,
   "metadata": {
    "collapsed": true
   },
   "outputs": [],
   "source": [
    "def get_IV_intro_text(filename, begining_intro_triggers, end_intro_triggers):\n",
    "    text = read_contract(filename)\n",
    "    text = text.split(\" \")\n",
    "#     print(\"text\", text)\n",
    "#     text = text.split(\" \")\n",
    "#     text = remove_periods(text)\n",
    "        \n",
    "    if filename in Failures:\n",
    "        return \"Failure expected\"\n",
    "    try:\n",
    "        begining_of_IV_intro = find_loc(text, begining_intro_triggers, allow_contains=False)\n",
    "        end_of_IV_intro = find_loc(text, end_intro_triggers)[0]\n",
    "#         print(\"end IV sample\", \" \".join(text[end_of_IV_intro: end_of_IV_intro + 50])\n",
    "#         end_of_IV_intro = end_of_IV_intro[0]\n",
    "#         end_of_IV_intro = \n",
    "    except TypeError:\n",
    "        print(\"failed\", filename)\n",
    "        print(text)\n",
    "        return None\n",
    "    assert(begining_of_IV_intro != None), \"Invalid info file \" + \" \".join(text) + filename\n",
    "        \n",
    "#     assert(end_of_IV_intro != None), \"END Sequence not found\"\n",
    "#     articl_forth_occur = find_target(text, [\"articl\", \"fourth\"])\n",
    "#     assert(articl_forth_occur != None), \"Article fourth Sequence not found\"\n",
    "    begining_of_IV = get_closest_string(values = begining_of_IV_intro, target=end_of_IV_intro, less=True)\n",
    "    if begining_of_IV == -1:\n",
    "        print(\"no begining found\")\n",
    "        begining_of_IV = end_of_IV_intro - 100\n",
    "    print(\"begining\", begining_of_IV, \"end\", end_of_IV_intro)\n",
    "    IV_intro_text = text[begining_of_IV:end_of_IV_intro]\n",
    "    return IV_intro_text"
   ]
  },
  {
   "cell_type": "code",
   "execution_count": 42,
   "metadata": {
    "collapsed": true
   },
   "outputs": [],
   "source": [
    "def test_methods(filename, n=-1, start_index=0):\n",
    "    iters = 0\n",
    "    y = load_info_xlsx(\"rs1 database AN.xlsx\", np_array=False)\n",
    "    prev_filename = \"\"\n",
    "    s, f = 0, 0\n",
    "    for filename in y[\"File Name\"]:\n",
    "        if (start_index > 0):\n",
    "            start_index -= 1\n",
    "            continue\n",
    "        if filename == prev_filename:\n",
    "            continue\n",
    "        prev_filename = filename\n",
    "        iters += 1\n",
    "        if iters == n:\n",
    "            break\n",
    "#         print(filename)\n",
    "        filepath = get_filepath(filename)\n",
    "        if filepath == None:\n",
    "            continue\n",
    "            \n",
    "        #Test load intro text   \n",
    "        Intro_IV_text = get_IV_intro_text(filepath, BEGINING_OF_IV_INTRO_TEXT, END_OF_IV_INTRO_TEXT)\n",
    "        if (Intro_IV_text != None):\n",
    "            s += 1\n",
    "        else:\n",
    "            return\n",
    "            f += 1\n",
    "        print(\" \".join(Intro_IV_text))\n",
    "        #Test load stats\n",
    "#         stats = generate_stats(Intro_IV_text)\n",
    "#         print(stats)\n",
    "            \n",
    "    print(\"SUCCESS\", s)\n",
    "    print(\"FAILURE\", f)\n",
    "        \n",
    "#     text = get_IV_intro_text(filename)\n",
    "#     stats = generate_stats(text)\n",
    "    \n",
    "    "
   ]
  },
  {
   "cell_type": "code",
   "execution_count": 43,
   "metadata": {
    "scrolled": true
   },
   "outputs": [
    {
     "name": "stdout",
     "output_type": "stream",
     "text": [
      "no begining found\n",
      "begining 489 end 589\n",
      "gener corpor law articl iv author shares th total number of share of all class o f stock which the corpor shall have author to issu is a twelv million 12000000 share of common stock $0.0001 par valu per share common stock and b two million eight hundr thousand 2800000 share o f prefer stock $0.0001 par valu per share prefer stock a of the effect date of thi restat certif of incorpor thi restat certif all two million eight hundr thousand 2800000 share o f the author prefer stock of the corpor are herebi design seri seed prefer stock\n",
      "no begining found\n",
      "begining 519 end 619\n",
      "author to issu is a 15000000 share of common stock $0.0001 par valu per share common stock and b 7021906 share of prefer stock $0.0001 par valu per share prefer stock a of the effect date of thi third restat certif of incorpor thi restat certif 2717681 share of the author prefer stock of the corpor are herebi design seri seed prefer stock 1 414225 share of the author prefer stock of the corpor are herebi design seri seed 1 prefer stock and 3890000 share of the author prefer stock of the corpor are herebi design seri a prefer stock\n",
      "begining 212 end 372\n",
      "fourth compani is author to issu two class of share design respect common stock and prefer stock the compani is author to issu 43000000 share of common stock with a par valu of $0.01 per share the compani is author to issu 26007500 share of prefer stock 800000 of which are design seri a prefer stock with a par valu of $0.01 per share seri a prefer 700000 of which are design seri b prefer stock with a par valu of $0.01 per share seri b prefer 1507500 of which are design seri c prefer stock with a par valu of $0.01 per share seri c prefer and 23000000 of which are design seri d prefer stock with a par valu of $0.01 per share seri d prefer for the purpos of thi amend and restat certif of incorpor the term prefer stock shall mean seri a prefer seri b prefer seri c prefer and seri d prefer collectively th\n",
      "begining 300 end 489\n",
      "fourth compani is author to issu two class of share design respect common stock and prefer stock the compani is author to issu 63000000 share o f common stock with a par valu of $0.01 per share the compani is author to issu 42048836 share of prefer stock 800000 o f which are design seri a prefer stock with a par valu of $0.01 per share seri a prefer 700000 of which are design seri b prefer stock with a par valu of $0.01 per share seri b prefer 1507500 o f which are design seri c prefer stock with a par valu of $0.01 per share seri c prefer 23665000 of which are design seri d prefer stock with a par valu of $0.01 per share seri d prefer and 15376336 o f which are design seri e prefer stock with a par valu o f $0.01 per share seri e prefer for the purpos of thi amend and restat certif o f incorpor the term prefer stock shall mean seri a prefer seri b prefer seri c prefer seri d prefer and seri e prefer collectively th\n",
      "begining 350 end 534\n",
      "fourth compani is author to issu two class of share design respect common stock and prefer stock the compani is author to issu 66000000 share of common stock with a par valu o f $0.01 per share the compani is author to issu 43586470 share of prefer stock 800000 of which are design seri a prefer stock with a par valu of $0.01 per share seri a prefer 700000 of which are design seri b prefer stock with a par valu of $0.01 per share seri b prefer 1507500 of which are design seri c prefer stock with a par valu of $0.01 per share seri c prefer 23665000 of which are design seri d prefer stock with a par valu of $0.01 per share seri d prefer and 16913970 of which are design seri e prefer stock with a par valu of $0.01 per share seri e prefer for the purpos of thi amend and restat certif of incorpor the term prefer stock shall mean seri a prefer seri b prefer seri c prefer seri d prefer and seri e prefer collectively th\n",
      "begining 22 end 665\n",
      "iv is io n o r c o rp o ra tio n s d e liv e r e d 0 1 3 6 pm 0 4 3 0 2 0 0 8 file 01 24 pm 0 4 3 0 2 0 0 8 srv 080487611 2965392 filea m en d ed and r e st a t e d c e r t if ic a t e o f in c o r p o r a t io n o f a c t e l is n e t w o r k s in c a d elaw are c o rp o ratio ntuvia bariev herebi certifi that 1 2 2 3 he is the duli elect presid and c hief execut offic o f a cteli networksinc  a delawar corporation th com pani wa origin incorpor on novem ber 12 1998 a a c telnetwork inc th follow ing am end and restat certif o f incorpor ha been dulyapprov by the requir vote o f the stockhold in accord with the am end and restat certif o f incorpor and the provis o f section 242 and 245 o f the d elawar gener corpor law th am end and restat certif o f incorpor o f thi corpor file withth secretari o f state o f the state o f delawar on decemb 28 2006 is herebi amend and restat to read a follow a r t ic l e on eth name o f the corpor is act network inc the c om pani  a r t ic l e t w oth purpos o f the com pani is to engag in ani law act or activ for which a corpor m ay be organ under the gener corpor law o f delaware a r t ic l e t h r e eth address o f the c om pani regist offic in the state o f delawar is corpor trust center 1209 orang street in the citi o f w ilmington counti o f new castl the nam e o f it regist agent at such address is the corpor trust company a r t ic l e fo u ract seri f certif o f lncorporalion palib2 4218724 4  doc\f",
      " the com pani is author to issu two class o f share design respect com m on stock and prefer stock the compani is author to issu 80000000 share o f com m on stock w ith a par valu o f so 01 per share the compani is author to issu 54086470 share o f prefer stock 800000 o f which are design seri a prefer stock with a par valu o f $0.01 per share seri a p re fe rre d 700000 o f which are design seri b prefer stock with a par valu o f $0.01 per share seri b p refer 1507500 o f which are design seri c prefer stock with a par valu o f $0.01 per share seri c p re fe rre d 23665000 o f w hich are design seri d prefer stock with a par valu o f $0.01 per share seri d p re fe rre d 16913970 o f which are design seri e prefer stock with a par valu o f $0.01 per share seri e p re fe rre d and 10500000 o f which are design seri f prefer stock w ith a par valu o f $0.01 per share seri f p refer for the purpos o f thi am end and restat c ertif o f incorpor the term p refer stock shall mean seri a prefer seri b prefer seri c prefer seri d prefer seri e prefer and seri f prefer collectively th\n",
      "no begining found\n",
      "begining -81 end 19\n",
      "\n",
      "no begining found\n",
      "begining 163 end 263\n",
      "practic of a profess permit to be incorpor by the california corpor code a r t ic l e iiia the corpor is author to issu two class of stock to be design respect common stock and prefer stock  the total number of share which the corpor is author to issu is 2318413 share 10000 share shall be common stock 2308413 share shall be prefer stock 1689189 of which are design a seri a prefer stock 450685 of which are design a seri b prefer stock and 168539 of which are design a seri c prefer stock b the\n",
      "F a i l u r e   e x p e c t e d\n",
      "no begining found\n",
      "begining 4639 end 4739\n",
      "date of such dividend distribut split or subdivis if no record date is fix the convers price of the prefer stock shall be appropri decreas so that the number of share of common stock issuabl on convers of each share of such seri shall be increas in proport to such increas of the aggreg of share of common stock outstand and thosegdsvf h 9\f",
      " issuabl with respect to such common stock equival with the number of share issuabl with respect to common stock equival determin from time to time in the manner provid for deem issuanc in subsect 4 d\n",
      "no begining found\n",
      "begining 5536 end 5636\n",
      "or the date of such dividend distribut split or subdivis if no record date is fix the convers price of the prefer stock shall be appropri decreas so that the number of share of common stock issuabl on convers of each share of such seri shall be increas in proport to such increas of the aggreg of share of common stock outstand and those issuabl with respect to such common stock equival with the number of share issuabl with respect to common stock equival determin from time to time in the manner provid for deem issuanc in subsect 4 d\n"
     ]
    },
    {
     "name": "stdout",
     "output_type": "stream",
     "text": [
      "begining 621 end 3072\n",
      "iv shall not advers affect ani contract or other right to indemnif of ani agent of the corpor that exist at or prior to the time of such amend repeal or modification articl v1 author of share thi corpor is author to issu two 2 class of share design common stock and prefer stock respect both of which shall have no par valu the total number of share of common stock author to be issu is170000000 share the total number of share of prefer stock author to be issu is 116655843 share 35892856 of which are design seri a prefer stock 43262987 of which are design seri b prefer stock and 37500000 of which are design seri c prefer stock 1\f",
      " varticl vith follow is a statement of the right prefer privileg and restrict grant to and impos on each class of capit stock of the corpor unless otherwis indic refer to section or subsect in thi articl refer to section and subsect of thi articl vi a common stock1 gener the vote dividend and liquid right of the holder o f common stock are subject to and qualifi by the right power and prefer of the holder of prefer stock set forth herein and a may be design by resolut of the board o f director of the corpor with respect to ani seri of prefer stock a author herein 2 vote the holder of the common stock are entitl to one 1 vote for each share of common stock held at all meet of sharehold and written action in lieu of meet pursuant to section 708 of the california corpor code everi sharehold entitl to vote at an elect for director may cumul such sharehold vote and give one 1 candid a number of vote equal to the number of director to be elect multipli by the number of vote to which such sharehold share are otherwis entitl or distribut the sharehold vote on the same principl among a mani candid a such sharehold desir no sharehold howev shall be entitl to so cumul such sharehold vote unless i the name of such candid or candid have been place in nomin prior to the vote and ii the sharehold ha given notic at the meet prior to the vote of such sharehold intent to cumul such sharehold vote if ani sharehold ha given proper notic to cumul vote all sharehold may cumul their vote for ani candid who have been properli place in nomin under cumul vote the candid receiv the highest number of vote up to the number of director to be elect are elected b prefer stockpref stock may be issu from time to time in one 1 or more seri each of such seri to consist of such number of share and to have such term right power and prefer and the qualif and limit with respect thereto a state or express herein 1 dividends  a seri c prefer stock the corpor shall not declar pay or set asid ani dividend on share of ani other class or seri of capit stock of the corpor other than dividend on share of common stock payabl in share of common stock in ani year unless the holder of seri c prefer stock then outstand shall first receiv in such year a dividend on each outstand share of seri c prefer stock in an amount at least equal to $0056 per share in each instanc subject to appropri adjust in the event o f ani stock dividend stock split combin or other similar recapit affect such share the board of director of the corpor is under no oblig to declar dividend no right shall accru to the holder of seri c prefer stock if dividend are not declar and ani dividend declar shall not be cumulative 2\f",
      " b seri b prefer stock subject to the prior dividend right o f the seri c prefer stock set forth herein in ani year the holder of seri b prefer stock then outstand shall be entitl to receiv a dividend when a and if declar by the board of director of the corpor on each outstand share of seri b prefer stock in an amount at least equal to $0.02957 per share in each instanc subject to appropri adjust in the event of ani stock dividend stock split combin or other similar recapit affect such share the board of director of the corpor is under no oblig to declar dividend no right shall accru to the holder of seri b prefer stock if dividend are not declar and ani dividend declar shall not be cumulative  c seri a prefer stock subject to the prior dividend right o f the seri c prefer stock and the seri b prefer stock set forth herein in ani year the holder of seri a prefer stock then outstand shall be entitl to receiv a dividend when a and if declar by the board of director of the corpor on each outstand share o f seri a prefer stock in an amount at least equal to $0.02688 per share in each instanc subject to appropri adjust in the event of ani stock dividend stock split combin or other similar recapit affect such share the board of director of the corpor is under no oblig to declar dividend no right shall accru to the holder o f seri a prefer stock if dividend are not declar and ani dividend declar shall not be cumulative  d particip right the corpor shall not declar pay or set asid ani dividend on share of ani class or seri of capit stock of the corpor other than dividend on share of common stock payabl in share of common stock and other than dividend specifi in the preced sentenc unless the holder of prefer stock then outstand shall first receiv or simultan receiv in addit to ani dividend payabl pursuant to the forego provis of thi section b l a dividend on each outstand share of prefer stock in an amount at least equal to that dividend per share of prefer stock a would equal the product of a the dividend payabl on each share of such class or seri determin if applic a if all such share of such class or seri had been convert into common stock and b the number of share of common stock issuabl upon convers of a share of prefer stock in each case calcul on the record date for determin of holder entitl to receiv such dividend provid howev that no such adjust shall be made for the purpos of section b 4 below regard the calcul of the convers rate of the prefer stock 2 liquid dissolut or wind up certain merger consolid andasset sales  a preferenti payment to holder of seri c prefer stock in the event of ani voluntari or involuntari liquid dissolut or wind up or deem liquid event a defin herein of the corpor the holder of share of seri c prefer stock then outstand shall be entitl to be paid out of the asset avail for distribut to it sharehold befor ani payment shall be made to the holder of seri b prefer stock seri a prefer stock or common stock by reason of their ownership thereof an amount equal to $0.70 per share such amount a adjust from time to time in the event o f ani stock dividend stock split combin or other similar recapit affect such share being3\f",
      " hereinaft refer to a the seri c origin issu price plu ani dividend declar but unpaid thereon if upon ani such liquid dissolut or wind up of the corpor the remain asset avail for distribut to it sharehold shall be insuffici to pay the holder of share of seri c prefer stock the full amount to which they shall be entitl the holder of share of seri c prefer stock shall share ratabl in ani distribut of the remain asset avail for distribut in proport to the respect amount which would otherwis be payabl in respect of the share held by them upon such distribut if all amount payabl on or with respect to such share were paid in full  b preferenti payment to holder of seri b prefer stock in the event of ani voluntari or involuntari liquid dissolut or wind up or deem liquid event a defin herein of the corpor after payment of all preferenti amount requir to be paid to the holder of seri c prefer stock a provid abov the holder o f share of seri b prefer stock then outstand shall be entitl to be paid out of the asset avail for distribut to it sharehold befor ani payment shall be made to the holder o f seri a prefer stock or common stock by reason of their ownership thereof an amount equal to $0.3696 per share such amount a adjust from time to time in the event of ani stock dividend stock split combin or other similar recapit affect such share be hereinaft refer to a the seri b origin issu price plu ani dividend declar but unpaid thereon if upon ani such liquid dissolut or wind up of the corpor the remain asset avail for distribut to it sharehold shall be insuffici to pay the holder of share of seri b prefer stock the full amount to which they shall be entitl the holder of share of seri b prefer stock shall share ratabl in ani distribut of the remain asset avail for distribut in proport to the respect amount which would otherwis be payabl in respect of the share held by them upon such distribut if all amount payabl on or with respect to such share were paid in full  c preferenti payment to holder of seri a prefer stock in the event of ani voluntari or involuntari liquid dissolut or wind up or deem liquid event of the corpor after payment of all preferenti amount requir to be paid to the holder of seri c prefer stock and seri b prefer stock a provid abov the holder of share of seri a prefer stock then outstand shall be entitl to be paid out of the asset avail for distribut to it sharehold befor ani payment shall be made to the holder of common stock by reason of their ownership thereof an amount equal to $0.3360 per share such amount a adjust from time to time in the event of ani stock dividend stock split combin or other similar recapit affect such share be hereinaft refer to a the seri a origin issu price plu ani dividend declar but unpaid thereon if upon ani such liquid dissolut or wind up of the corpor the remain asset avail for distribut to it sharehold shall be insuffici to pay the holder o f share of seri a prefer stock the full amount to which they shall be entitl the holder o f share of seri a prefer stock shall share ratabl in ani distribut of the remain asset avail for distribut in proport to the respect amount which would otherwis be payabl in respect of the share held by them upon such distribut if all amount payabl on or with respect to such share were paid in full distribut of remain asset after the payment of all preferenti amount requir to be paid to the holder of share of prefer stock a provid abov the d 4\f",
      " remain asset avail for distribut to the corpor sharehold shall be distribut among the holder of the share of prefer stock and common stock pro rata base on the number of share of common stock held by each such holder treat for thi purpos all such secur a if they had been convert to common stock pursuant to the term of the articl of incorpor in effect immedi prior to such dissolut liquid or wind up of the corpor provid howev i that if the aggreg amount which the holder of seri c prefer stock are entitl to receiv under subsect b 2 a and thi subsect b 2 d shall exceed $2.10 per share subject to appropri adjust in the event of a stock split stock dividend combin reclassif or similar event affect the seri c prefer stock the seri c maximum particip amount each holder of seri c prefer stock shall be entitl to receiv upon such dissolut liquid or wind up of the corpor the greater of i the seri c maximum particip amount and ii the amount such holder would have receiv if such holder had convert hi her or it share of seri c prefer stock into common stock immedi prior to such dissolut liquid or wind up of the corpor the greater of which is hereinaft refer to a the seri c liquid amount ii that if the aggreg amount which the holder of seri b prefer stock are entitl to receiv under subsect b 2 b and thi subsect b 2 d shall exceed $1.1088 per share subject to appropri adjust in the event of a stock split stock dividend combin reclassif or similar event affect the seri b prefer stock the seri b maximum particip amount each holder of seri b prefer stock shall be entitl to receiv upon such dissolut liquid or wind up of the corpor the greater of i the seri b maximum particip amount and ii the amount such holder would have receiv if such holder had convert hi her or it share of seri b prefer stock into common stock immedi prior to such dissolut liquid or wind up of the corpor the greater of which is hereinaft refer to a the seri b liquid amount and iii that if the aggreg amount which the holder of seri a prefer stock are entitl to receiv under subsect b 2 c and thi subsect b 2 d shall exceed $1008 per share subject to appropri adjust in the event of a stock split stock dividend combin reclassif or similar event affect the seri a prefer stock the seri a maximum particip amount each holder of seri a prefer stock shall be entitl to receiv upon such dissolut liquid or wind up of the corpor the greater of i the seri a maximum particip amount and ii the amount such holder would have receiv if such holder had convert hi her or it share of seri a prefer stock into common stock immedi prior to such dissolut liquid or wind up of the corpor the greater of which is hereinaft refer to a the seri a liquid amount\n"
     ]
    },
    {
     "name": "stdout",
     "output_type": "stream",
     "text": [
      "begining 14648 end 15687\n",
      "fourth the seri a prefer stock until all share of seri a prefer stock subject to redempt have been redeem and shall redeem the remain share to have been redeem a soon a practic after the corpor ha fund legal avail therefor thi corpor shall not redeem ani other share of capit stock of the corpor other than secur repurchas from former employe offic director consult or other person who perform servic for the corpor or ani subsidiari in connect with the cessat of such employ or servic at the lower of fair market vaiue or the origin purchas price thereof prior to the redempt of all share of prefer stock pursuant to thi subsect b 6 v except for exclud share a defin below unless otherwis determin by the prior vote or written consent of the holder o f at least a major of the prefer slock on an a convert to common stock basi the redempt price for seri d prefer stock shall mean the greater of a the seri d origin issu price plu all declar but unpaid dividend on a share of seri d prefer stock on the redempt date and b the fair market valu of one share of seri d prefer stock on the redempt date a determin in good faith by the board of director of the corpor calcul by take into account the corpor discount cash flow and the valu of corpor compar to the corpor and a approv by the vote or written consent of the holder of at least a major of the then outstand share o f seri d prefer stock the redempt pricc for seri c prefer stock shall mean the greater of a the seri c origin issu price plu all declar but unpaid dividend on a share of seri c prefer stock on the redempt date and b the fair market valu o f one share o f seri c prefer stock on the redempt date a determin in good faith by the board of director of the corpor calcul by take into account the corpor discount cash flow and the valu o f corpor compar to the corpor and a approv by the vote or written consent of the holder of at least a major of the then outstand share of seri c prefer stock the redempt price for seri b prefer stock shall mean the greater of a the seri b origin issu price plu all25\f",
      " declar but unpaid dividend on a share of seri b prefer stock on the redempt date and b the fair market valu of one share of seri b prefer stock on the redempt date a determin in good faith by the board of director of the corpor and a approv by the vote or written consent of the holder o f at least a major o f the then outstand share of seri b prefer stock the redempt price for seri a prefer stock shall mean the greater of a the seri a origin issu price plu all declar but unpaid dividend on a share o f seri a prefer stock on the redempt date and b the fair market valu o f one share of seri a prefer stock on the redempt date a determin in good faith by the board of director of the corpor and a approv by the vote or written consent o f the holder of at least a major o f the then outstand share of seri a prefer stock  b redempt notic written notic of the mandatori redempt the redempt notic shall be mail postag prepaid to each holder of record o f prefer stock at it post offic address last shown on the record o f the corpor or given by electron commun in complianc with the provis of the california corpor code not le than twenti 20 but no more than sixti 60 day prior to the redempt date the redempt notic shall state holder that the corpor shall redeem on the redempt date i the number of share of each seri of prefer stock held by the ii the redempt date and the expect redempt price termin a determin in accord with subsect b 4fav and iii the date upon which the holder right to convert such share that the holder is to surrend to the corpor in the manner and at the place design hi her or it certif or certif repres the share of prefer stock to be redeemed  iv c surrend of certif payment on or befor the redempt date each holder o f share of prefer stock to be redeem on the redempt date unless such holder ha exercis hi her or it right to convert such share a provid in section b 4 hereof shall surrend the certif or certif repres such share to the corpor in the manner and at the place design in the redempt notic and thereupon the applic redempt price for such share shall be payabl to the order o f the person whose name appear on such certif or certif a the owner thereof and each surrend certif shall be cancel and retir in the event le than all of the share of prefer stock repres by a certif are redeem a new certif repres the unredeem share of prefer stock shall promptli be issu to such holder  d right subsequ to redempt if the redempt notic shall have been duli given and if on the redempt date the redempt price payabl upon redempt of the share of prefer stock to be redeem on such redempt date is paid or tender for payment or deposit with an independ payment agent so a to be avail therefor then notwithstand that the certif evidenc ani of the share of prefer stock so call for redempt shall not have been surrend dividend with respect to such share o f preferred26\f",
      " stock shall ceas to accru after such redempt date and all right with respect to such share shall forthwith after the redempt date termin except onli the right of the holder to receiv the applic redempt price without interest upon surrend of their certif or certif therefor\n",
      "begining 316 end 7754\n",
      "fourth the total number of share of all class of stock which the corpor shall have author to issu is i 610000000 share of common stock $.001 par valu per share common stock and ii 394919462 share of prefer stock s 001 par valu per share prefer stock of which 57967003 shall be design a seri a convert prefer stock seri a prefer stock and 336952459 shall be design seri b convert prefer stock seri b prefer stock  the follow is a statement of the design and the power privileg and right and the qualif limit or restrict thereof in respect of each class of capit stock of the corporation u 1 doc 5639303v4\f",
      " a common stock 1 gener the vote dividend and liquid right of the holder of the common stock are subject to and qualifi by the right of the holder of the prefer stock of ani seri a may be design by the board of director upon ani issuanc of the prefer stock of ani series 2 vote the holder of the common stock are entitl to one vote for each share held at all meet of stockhold and written action in lieu of meet there shall be no cumul voting except a otherwis provid in the corpor certif of incorpor the number of author share of common stock may be increas or decreas but not below the number of share thereof then outstand by the affirm vote of the holder of a major of the stock of the corpor entitl to vote irrespect of the provis of section 242 b 2 of the gener corpor law of the state of delaware 3 dividend dividend may be declar and paid on the common stock from fund law avail therefor a and when determin by the board of director and subject to ani preferenti dividend right of ani then outstand prefer stock 4 liquid upon the dissolut or liquid of the corpor whether voluntari or involuntari holder of common stock will be entitl to receiv all asset of the corpor avail for distribut to it stockhold subject to ani preferenti right of ani then outstand prefer stock b prefer stock pref stock may be issu from time to time in one or more seri each of such seri to consist of such number of share and to have such term right power and prefer and the qualif and limit with respect thereto a state or express herein c seri a convert prefer stock and seri b convert prefer stock i dividends  a the corpor shall not declar pay or set asid ani dividend other than dividend payabl in share of common stock on share of common stock unless the holder of the seri a prefer stock and seri b prefer stock then outstand shall first receiv or simultan receiv a dividend on each outstand share of seri a prefer stock and seri b prefer stock equal to the product of i the per share dividend to be declar paid or set asid for the common stock multipli by ii the number of share of common stock into which such share of seri a prefer stock or seri b prefer stock a the case may be is then convertible us1doc 5639303v4 2 \f",
      " b in addit to the dividend requir to be paid to the holder of seri a prefer stock and seri b prefer stock pursuant to subsect 1 a the holder of share of seri a prefer stock and seri b prefer stock shall be entitl to receiv out of fund legal avail therefor dividend at the rate of eight percent 8 per annum of the seri a origin purchas price a defin in section 2 b below or seri b origin purchas price a defin in section 2 a below respect payabl when and a declar by the oard of director of the corpor such dividend shall accru daili and shall be cumul from i with respect to scri b prefer stock the date of issuanc of each share of seri b prefer stock and ii with respect to seri a prefer stock the seri b origin issu date a defin below in each case whether or not declar all dividend accru with respect to share of seri a prefer a of the date hereof are herebi cancelled 2 liquid dissolut or wind up certain merger consolid and asset sales  a payment to holder of seri b prefer stock in the event of ani voluntari or involuntari liquid dissolut or wind up of the corpor the holder of share of seri b prefer stock  shall be paid out of the asset of the corpor avail for distribut to it stockhold befor ny payment shall be made to the holder of seri a prefer stock or common stocktsrani other class or seri of stock rank on liquidation janfon the seri b prefer stock by reason of their ownership thereof an amount equal to s 08013 per share subject to appropri adjust in the event of ani stock dividend stock splitjjcelnbin or other similar recapit affect such share the seri b origin purchas price of seri b prefer stock plu ani dividend accru or declar but unpaid thereon if upon ani such liquid dissolut or wind up of the corpor the remain asset of the corpor avail for distribut to it stockhold shall be insuffici to pay the holder of share of seri b prefer stock the full amount to which they shall be entitl the holder of share of seri b prefer stock shall share ratabl in ani distribut of the remain asset and fund of the corpor in proport to the respect amount which would otherwis be payabl in respect of such share held by them upon such distribut if all amount payabl on or with respect to such share were paid in full  b payment to holder of seri a prefer stock in the event of ani voluntari or involuntari liquid dissolut or wind up of the corpor after payment of the preferenti amount requir to be paid to the holder of seri b prefer stock pursuant to section 2 a abov the holder of share of seri a prefer stock then outstand shall be entitl to be paid out of the asset of the corpor avail for distribut to it stockhold befor ani payment shall be made to the holder of common stock or ani other class or seri of stock rank on liquid junior to the seri a prefer stock such common stock and other stock be collect refer to a junior stock by reason of their ownership thereofj an amount equal to the greater of i $ 5clpershar subject to appropri adjust in the event of ani stock dividend stock split combin or other similar recapit affect such share the seri a origin purchas price plu ani dividend accru or declar but unpaid thereon or ii such amount per share a would have been payabl had each share of seri a prefer stock been convert into common stock pursuant to section 4 immedi prior to such liquid dissolut or wind up theus1doc 5639303 4 3 \f",
      " amount payabl pursuant to thi sentenc is hereinaft refer to a the seri a liquid amount if upon ani such liquid dissolut or wind up of the corpor the remain asset of the corpor avail for distribut to it stockhold shall be insuffici to pay the holder of share of seri a prefer stock and ani class or seri of stock rank on liquid on a pariti with the seri a prefer stock the full amount to which they shall be entitl under thi subsect 2 b the holder of share of seri a prefer stock and ani class or seri of stock rank on liquid on a pariti with the seri a prefer stock shall share ratabl in ani distribut of the remain asset and fund of the corpor in proport to the respect amount which would otherwis be payabl in respect of the share held by them upon such distribut if all amount payabl on or with respect to such share were paid in full  c distribut of remain asset in the event of ani voluntari or involuntari liquid dissolut or wind up of the corpor after the payment of all preferenti amount requir to be paid to the holder of share of seri b prefer stock and seri a prefer stock the remain asset of the corpor avail for distribut to it stockhold shall be distribut among the holder of the share of seri b prefer stock and common stock pro rata base on the number of share held by each such holder treat for thi purpos all such secur a if they had been convert to common stock pursuant to the term of thi restat certif of incorpor immedi prior to such dissolut liquid or wind up of the corpor provid howev that if the aggreg amount which the holder oserikb prefer stock are entitl to receiv under subsect 2 a and 2 c shall exce f$0 40065 per share subject to appropri adjust in the event of a stock split stock dividend combin reclassif or similar event affect the seri b prefer stock the maximum particip amount each holder of seri b prefer stock shall be entitl to receiv upon such dissolut liquid or wind up of the corpor the greater of i the maximum particip amount and ii the amount such holder would have receiv if such holder had convert hi her or it share of seri b prefer stock into common stock immedi prior to such dissolut liquid or wind up of the corpor the aggreg amount which a holder of a share of seri b prefer stock is entitl to receiv under subsect 2 a and 2 c is hereinaft refer to a the seri b liquid amount  d deem liquid events corpor for purpos of thi section 2 a deem liquid event i the follow event shall be deem to be a liquid of the a a merger or consolid in which i ii the corpor is a constitu parti os subsidiari of the corpor is a constitu parti and the corpor issu share of it capit stock pursuant to such merger or consolidationus1doc 56j9j0jv4 4 \f",
      " except ani such merger or consolid involv the corpor or a subsidiari in which the holder of capit stock of the corpor immedi prior to such merger or consolid continu to hold immedi follow such merger or consolid in substanti the same proport at least 51 by vote power and econom interest of the capit stock of 1 the surviv or result corpor or 2 if the surviv or result corpor is a wholli own subsidiari of anoth corpor immedi follow such merger or consolid the parent corpor of such surviv or result corpor orof relat transact by the corpor of all or substanti all the asset of the corpor except where such sale is to a wholli own subsidiari of the corpor   b the sale or the disposit in a singl transact or seri ii the corpor shall not effect ani transact constitut a deem liquid event pursuant to subsect 2 d i a abov unless a the agreement or plan of merger or consolid provid that the consider payabl to the stockhold of the corpor shall be alloc among the holder of capit stock of the corpor in accord with subsect 2 a through 2 c abov or b the holder of i a major of the then outstand share of seri a prefer stock and ii at least the applic b prefer percentag a defin herein of the then outstand share of seri b prefer stock specif consent in write to the alloc of such consider in a manner differ from that provid in subsect 2 a through 2 c abov applic b prefer percentag shall mean 66 2 3 except if not all of the holder of seri b prefer stock that are parti to that certain seri b convert prefer stock purchas agreement date a of may 10 2006 stock purchas agreement by and among the corpor and the purchas name therein purchas particip in a subsequ close a defin in the stock purchas agreement then 75 provid howev that if all purchas particip in a subsequ close then 66 2 3   iii in the event of a deem liquid event pursuant to subsect 2 d ixb abov if the corpor doe not effect a dissolut of the corpor under the delawar gener corpor law within 60 day after such deem liquid event then a the corpor shall deliv a written notic to each holder of prefer stock no later than the 60th day after the deem liquid event advis such holder of their right and the requir to be met to secur such right pursuant to the term of the follow claus b to requir the redempt of such share of seri a prefer stock and seri b prefer stock and b if the holder of i at least a major of the then outstand share of seri a prefer stock or ii at least one i minu the applic b prefer percentag of the then outstand share of seri b prefer stock so request in a written instrument deliv to the corpor not later than 75 day after such deem liquid event the corpor shall use the consider receiv by the corpor for such deem liquid event net of ani liabil associ with the asset sold a determin in good faith by the board of director of the corpor to the extent legal avail therefor the net proce to redeem on the 90th day after such deem liquid event the liquid redempt date all outstand share of seri a prefer stock at a price per share equal to the seri a liquid amount and all outstand share of seri b prefer stock at a price per share equal to the seri b liquid amount in the event of a redempt pursuant to theus1doc 5539303v4 5 \f",
      " preced sentenc if the net proce are not suffici to redeem all outstand share of seri a prefer stock and seri b prefer stock pursuant to thi section 2 d iii the corpor shall first redeem each holder share of seri b prefer stock and second each holder share of seri a prefer stock the provis of subsect 6 b through 6 e below shall appli with such necessari chang in the detail thereof a are necessit by the context to the redempt of the seri a prefer stock and seri b prefer stock pursuant to thi subsect 2 d iii prior to the distribut or redempt provid for in thi subscction 2 d iii the corpor shall not expend or dissip the consider receiv for such deem liquid event except to discharg expens incur in the ordinari cours of business  iv the amount deem paid or distribut to the holder of capit stock of the corpor upon ani such merger consolid sale or redempt shall be the cash or the valu of the properti right or secur paid or distribut to such holder by the corpor or the acquir person firm or other entiti the valu of such properti right or secur shall be determin in good faith by the board of director of the corporation 3 voting  a on ani matter present to the stockhold of the corpor for their action or consider at ani meet of stockhold of the corpor or by written action of stockhold in lieu of meet each holder of outstand share of seri a prefer stock and seri b prefer stock shall be entitl to the number of vote equal to the number of whole share of common stock into which the share of seri a prefer stock and seri b prefer stock held by such holder are convert a of the record date for determin stockhold entitl to vote on such matter except a provid by law or by the provis of thi restat certif of incorpor holder of seri a prefer stock and seri b prefer stock shall vote togeth with the holder of common stock and with the holder of ani other seri of prefer stock the term of which so provid a a singl class  b the holder of record of the share of seri a prefer stock exclus and a a separ class shall be entitl to elect three member of the board of director of the corpor at ani meet held for the purpos of elect director the presenc in person or by proxi of the holder of a major of the share of seri a prefer stock then outstand shall constitut a quorum of the seri a prefer stock for the purpos of elect director by holder of the seri a prefer stock a vacanc in ani directorship fill by the holder of seri a prefer stock shall be fill onli by vote or written consent in lieu of a meet of the holder of the seri a prefer stock pursuant to thi subsect 3 b the right of the holder of the seri a prefer stock under thi subsect 3 b shall termin on the first date on which there are issu and outstand le than 2000000 share of seri a prefer stock subject to appropri adjust in the event of ani dividend stock split combin or other similar recapit affect such share the holder of record of the share of seri b prefer stock exclus and a a separ class shall be entitl to elect one member of the board of director of the corpor at ani meet held for the purpos of elect director the presenc in person or by proxi of the holder of a major of the share of seri b prefer stock then outstand shall constitut a quorum of the seri bu docs5m93q3v4 6 \f",
      " 1 iv liquid dissolv or effect a recapit or reorgan includ without limit ani reorgan into a limit liabil compani a partnership or ani other non corpor entiti v appli or set asid ani of it asset to the redempt retir purchas or acquisit directli or indirectli includ through a subsidiari or otherwis of ani share of it capit stock other than i redempt of prefer stock in accord with the term of thi restat certif of incorpor ii repurchas of common stock at no more than cost upon termin of employ or servic if made pursuant to a contractu right held by the corpor or iii pursuant to a certain amend and restat right of first refus and co sale agreement a amend from time to time by and among the corpor and certain holder of capit stock of the corpor vi creat issu or author the creation or issuanc of ani addit class or seri of share of stock or author the increas of ani exist class or seri of stock or creat issu or author ani oblig or secur convert into share of ani class or seri of stock in each case where the same would rank in ani way on a pariti with or senior to the seri b prefer stock a to liquid redempt or the right to receiv distribut or dividend whether ani such creation issuanc author or increas shall be by mean of amend to the restat certif of incorpor or by merger consolid or otherwis the restat certif or the by law of the corpor vii alter amend modifi repeal waiv or termin ani provis of prefer stock or seri b prefer stock viii alter or chang the right prefer or privileg of the seri a o f the board of director of the corpor or ix increas or decreas from seven director the number of member x stock or prefer stock increas or decreas the author number of share of common 4 option conversion th holder of prefer stock shall have convers right a follow the convers right a right to convert  i each share of seri a prefer stock shall be convert at the option of the holder thereof at ani time and from time to time and without the payment of addit consider by the holder thereof into such number of fulli paid and nonassess share of common stock a is determin by divid $0.50 subject to appropri adjust for stock split stock dividend combin and other similar recapit affect such share by the seri a convers price a defin below in effect at the time of convers the seri a convers price is current so 172856 such seri a convers price andusldocs39303v4 8 \f",
      " the rate at which share of seri a prefer stock may be convert into share of common stock shall be subject to adjust a provid below  ii each share of seri b prefer stock shall be convert at the option of the holder thereof at ani time and from time to time and without the payment of addit consider by the holder thereof into such number of fulli paid and nonassess share of common stock a is determin by divid the seri b origin purchas price by the seri b convers price a defin below in effect at the time of convers the seri b convers price shall initi be equal to the seri b origin purchas price such initi seri b convers price and the rate at which share of seri b prefer stock may be convert into share of common stock shall be subject to adjust a provid below  iii in the event of a notic of redempt of ani share of seri a prefeit stock or seri b prefer stock pursuant to section 6 hereof the convers right of the share design for redempt shall termin at the close of busi on the last full day preced the date fix for redempt unless the redempt price is not paid on such redempt date in which case the convers right for such share shall continu until such price is paid in full in the event of a liquid dissolut or wind up of the corpor the convers right shall termin at the close of busi on the last full day preced the date fix for the payment of ani such amount distribut on such event to the holder of seri a prefer stock or seri b prefer stock a the case may be in the event of such a redempt or liquid dissolut or wind up the corpor shall provid to each holder of share of seri a prefer stock or seri b prefer stock a the case may be notic of such redempt or liquid dissolut or wind up which notic shall i be sent at least 15 day prior to the termin of the convers right and ii state the amount per share of seri a prefer stock or seri b prefer stock a the case mayb that will be paid or distribut on such redempt or liquid dissolut or wind up a the case may be  b fraction share no fraction share of common stock shall be issu upon convers of the seri a prefer stock or seri b prefer stock in lieu of ani fraction share to which the holder would otherwis be entitl the corpor shall pay cash equal to such fraction multipli by the then effect seri a convers price or seri b convers price a the case may be  b mechan of conversion  i in order for a holder of prefer stock to convert share of prefer stock into share of common stock such holder shall surrend the certif or certif for such share of prefer stock at the offic of the transfer agent for the prefer stock or at the princip offic of the corpor if the corpor serv a it own transfer agent togeth with written notic that such holder elect to convert all or ani number of the share of the prefer stock repres by such certif or certif such notic shall state such holder name or the name of the nomine in which such holder wish the certif or certif for share of common stock to be issu if requir by the corpor certif surrend for convers shall be endors or accompani by ausl doc 5639303v4 9 \f",
      " written instrument or instrument of transfer in form satisfactori to the corpor duli execut by the regist holder or hi or it attorney duli author in write the date of receipt of such certif and notic by the transfer agent or by the corpor if the corpor serv a it own transfer agent shall be the convers date convers date and the share of common stock issuabl upon convers of the share repres by such certif shall be deem to be outstand of record a of such date the corpor shall a soon a practic after the convers date issu and deliv at such offic to such holder of prefer stock or to hi or it nomine a certif or certif for the number of share of common stock to which such holder shall be entitl togeth with cash in lieu of ani fraction of a share  ii the corpor shall at all time when the prefer stock shall be outstand reserv and keep avail out of it author but unissu stock for the purpos of effect the convers of the prefer stock such number of it duli author share of common stock a shall from time to time be suffici to effect the convers of all outstand prefer stock befor take ani action which would caus an adjust reduc the seri a convers price or seri b convers price below the then par valu of the share of common stock issuabl upon convers of the applic seri of prefer stock the corpor will take ani corpor action which may in the opinion of it counsel be necessari in order that the corpor may validli and legal issu fulli paid and nonassess share of common stock at such adjust seri a convers price or seri b convers price a the case may be  iii upon ani such convers no adjust to the seri a convers price or seri b convers price a the case may be shall be made for ani accru but unpaid or declar but unpaid dividend on the seri a prefer stock or seri b prefer stock a the case may be surrend for convers or on the common stock deliv upon conversion  iv all share of prefer stock which shall have been surrend for convers a herein provid shall no longer be deem to be outstand and all right with respect to such share includ the right if ani to receiv notic and to vote shall immedi ceas and termin on the convers date except onli the right of the holder thereof to receiv share of common stock in exchang therefor and payment of ani dividend declar but unpaid thereon ani share of prefer stock so convert shall be retir and cancel and shall not be reissu and the corpor without the need for stockhold action may from time to time take such appropri action a may be necessari to reduc the author number of share of such seri of prefer stock accordingly  v the corpor shall pay ani and all issu and other similar tax that may be payabl in respect of ani issuanc or deliveri of share of common stock upon convers of share of prefer stock pursuant to thi section 4 the corpor shall not howev be requir to pay ani tax which may be payabl in respect of ani transfer involv in the issuanc and deliveri of share of common stock in a name other than that in which the share of prefer stock so convert were regist and no such issuanc or deliveri shall be made unless and until the person or entiti request such issuanc ha paid to the corporationus1doc 5639303v4 1 0 \f",
      " the amount of ani such tax or ha establish to the satisfact of the corpor that such tax ha been paid  c adjust to convers price for dilut issues definit shall appli i special definit for purpos of thi section 4 the follow option shall mean right option or warrant to subscrib for purchas or otherwis acquir common stock or convert securities  a which the first share of seri b prefer stock wa issued  b seri b origin issu date shall mean the date on indebted share or other secur directli or indirectli convert into or exchang for common stock but exclud options  c convert secur shall mean ani evid of share of common stock issu or pursuant to subsect 4 dxiii below deem to be issu by the corpor after the seri b origin issu date other than d addit share of common stock shall mean all i ii iii iv share of common stock issu or issuabl upon convers or exchang of ani convert secur or exercis of ani option outstand on the seri b origin issu date share of common stock issu or issuabl a a dividend or distribut on seri a or seri b prefer stock share of common stock issu or issuabl by reason of a dividend stock split split up or other distribut on share of common stock that is cover by subsect 4 e or 4 f below 9841785 or such higher number a may be approv by the board of director of the corpor includ a major of the prefer director a defin below share of common stock or option with respect thereto subject to appropri adjust for stock split stock dividend combin and other similar recapit affect such share issu or issuabl to employe or director of or consult to the corpor or ani of it subsidiari pursuant to a plan agreement or arrangementusi doc 5639303v4 1 1 \f",
      " v approv by the board of director of the corpor and by a major of the prefer director share of common stock or option with respect thereto issu or issuabl in connect with present or futur strateg partnership technolog licens or borrow line of credit lea or similar financ arrang approv by the board of director of the corpor and by a major of the prefer director provid that such transact is not substanti for equiti financ purpos vi vii share of common stock issu sole in consider for the acquisit whether by merger or otherwis by the corpor or ani of it subsidiari of all or substanti all of the stock or asset of ani other entiti by the board of director of the corpor and by a major of the prefer director share of seri b prefer stock issuabl upon convers of certain convert promissori note outstand on the seri b origin issu date repres an aggreg of $7900000 in princip at a per share price equal to the seri b origin purchas price and viii up to 336952452 share of seri b prefer stock subject to appropri adjust for stock split stock dividend combin and other similar recapit affect such share issuabl pursuant to the stock purchas agreement  e prefer director shall mean the four 4 director design a such pursuant to a certain amend and restat stockhold vote agreement among the corpor a amend from time to time and certain holder of capit stock of the corporation  ii no adjust of convers price no adjust in the seri a convers price shall be made a the result of the issuanc of addit share of common stock if a the consider per share determin pursuant to subsect 4 c v for such addit share of common stock issu or deem to be issu by the corpor is equal to or greater than the seri b convers price in effect immedi prior to the issuanc or deem issuanc of such addit share of common stock or b prior to such issuanc orus1doc 5639 03v4 1 2 \f",
      " deem issuanc the corpor receiv written notic from the holder of a major of the then outstand share of seri a prefer stock agre that no such adjust shall be made a the result of the issuanc or deem issuanc of addit share of common stock no adjust in the seri b convers price shall be made a the result of the issuanc of addit share of common stock if a the consider per share determin pursuant to subsect 4 c v for such addit share of common stock issu or deem to be issu by the corpor is equal to or greater than the applic seri b convers price in effect immedi prior to the issuanc or deem issuanc of such addit share of common stock or b prior to such issuanc or deem issuanc the corpor receiv written notic from the holder of at least the applic b prefer percentag of the then outstand share of seri b prefer stock agre that no such adjust shall be made a the result of the issuanc or deem issuanc of addit share of common stock stock  iii issu of secur deem issu of addit share of common a if the corpor at ani time or from time to time after the seri b origin issu date shall issu ani option or convert secur exclud option or convert secur which upon exercis convers or exchang thereof would entitl the holder thereof to receiv share of common stock which are specif except from the definit of addit share of common stock by subsect 4 c i d abov or shall fix a record date for the determin of holder of ani class of secur entitl to receiv ani such option or convert secur then the maximum number of share of common stock a set forth in the instrument relat thereto without regard to ani provis contain therein for a subsequ adjust of such number issuabl upon the exercis of such option or in the case of convert secur and option therefor the convers or exchang of such convert secur shall be deem to be addit share of common stock issu a of the time of such issu or in case such a record date shall have been fix a of the close of busi on such record date  b if the term of ani option or convert secur the issuanc of which result in an adjust to the seri a convers price or seri b convers price pursuant to the term of subsect 4 c iv below are revis either automat pursuant to the provis contain therein or a a result of an amend to such term to provid for either 1 ani increas or decreas in the number of share of common stock issuabl upon the exercis convers or exchang of ani such option or convert secur or 2 ani increas or decreas in the consider payabl to the corpor upon such exercis convers or exchang then effect upon such increas or decreas becom effect the seri a convers price or the seri b convers price a the case may be comput upon the origin issu of such option or convert secur or upon the occurr of a record date with respect thereto shall be readjust to such seri a convers price or seri b convers price a would have obtain had such revis term been in effect upon the origin date of issuanc of such option or convert secur notwithstand the forego no adjust pursuant to thi claus b shall have the effect of increas the seri a convers price or seri b convers price to an amount which exce the lower of i such convers price on the origin adjust date or ii such convers price that would haveusl doc 56j9303v4 1 3 \f",
      " result from ani issuanc of addit share of common stock between the origin adjust date and such readjust date  c if the term of ani option or convert secur exclud option or convert secur which upon exercis convers or exchang thereof would entitl the holder thereof to receiv share of common stock which are specif except from the definit of addit share of common stock by subsect 4 c i d abov the issuanc of which did not result in an adjust to the seri a convers price or did not result in an adjust to the seri b convers price pursuant to the term of subsect 4 c iv below either becaus the consider per share determin pursuant to subsect 4 c v hereof of the addit share of common stock subject thereto wa equal to or greater than the seri b convers price then in effect or becaus such option or convert secur wa issu befor the seri b origin issu date are revis after the seri b origin issu date either automat pursuant to the provis contain therein or a a result of an amend to such term to provid for either 1 ani increas or decreas in the number of share of common stock issuabl upon the exercis convers or exchang of ani such option or convert secur or 2 ani increas or decreas in the consider payabl to the corpor upon such exercis convers or exchang then such option or convert secur a so amend and the addit share of common stock subject thereto determin in the manner provid in subsect 4 c iii a abov shall be deem to have been issu effect upon such increas or decreas becom effective  d upon the expir or termin of ani unexercis option or unconvert or unexchang convert secur which result either upon it origin issuanc or upon a revis of it term in an adjust to the seri a convers price or seri b convers price pursuant to the term of subsect 4 c iv below the seri a convers price and or seri b convers price a the case may be shall be readjust to such seri a convers price or seri b convers price a the case may be a would have obtain had such option or convert secur never been issued  e no adjust in the seri a convers price or seri b convers price shall be made upon the issu of share of common stock or convert secur upon the exercis of option or the issu of share of common stock upon the convers or exchang of convert securities  iv share of common stock adjust of convers price upon issuanc of addit a in the event the corpor shall at ani time after the seri b origin issu date issu addit share of common stock includ addit share of common stock deem to be issu pursuant to subsect 4 c iii but exclud addit share of common stock issuedin a qualifi public offer a defin in section 5 a without consider or for a consider per share le than the seri b conversionpric in effect immedi prior to such issu then the seri b convers price shall be reduc concurr with such issu to a price calcul to the nearest cent determin by multipli such seri b convers price by a fraction a the numer ofu i doc 5639303v4 1 4 \f",
      " which shall be 1 the number of share of common stock outstand immedi prior to such issu plu 2 the number of share of common stock which the aggreg consider receiv or to be receiv by the corpor for the total number of addit share of common stock so issu would purchas at such seri b convers price and b the denomin of which shall be the number of share of common stock outstand immedi prior to such issu plu the number of such addit share of common stock so issu provid that i for the purpos of thi subsect 4 c iv all share of common stock issuabl upon convers or exchang of convert secur and exercis of option outstand immedi prior to such issu shall be deem to be outstand and ii the number of share of common stock deem issuabl upon convers or exchang of such outstand convert secur shall be determin without give effect to ani adjust to the convers or exchang price or convers or exchang rate of such convert secur result from the issuanc of addit share of common stock that is the subject of thi calculation  b in the event the corpor shall at ani time on or after the seri b origin issu date issu addit share of common stock includ addit share of common stock deem to be issu pursuant to subsect 4 c iii but exclud addit share of common stock issu in a qualifi public offer a defin in section 5 a without consider or for a consider per share le than the applic seri b convers price in effect immedi prior to such issu then forthwith upon such issu or sale the seri a convers price in effect immedi prior to such issu or sale shall be reduc concurr with such issu to the price determin by divid a the seri b convers price in effect immedi follow such issu or sale by b the scri b convers price that wa in effect immedi prior to such issu or sale and multipli the quotient by the seri a convers price immedi prior to such issu or sale  v determin of consider for purpos of thissubsect 4 c the consider receiv by the corpor for the issu of ani addit share of common stock shall be comput a follow a cash and properti such consider shall i ii insofar a it consist of cash be comput at the aggreg amount of cash receiv by the corpor exclud amount paid or payabl for accru interest insofar a it consist of properti other than cash be comput at the fair market valu thereof at the time of such issu a determin in good faith by the board of director of the corpor and iii in the event addit share of common stock are issu togeth with other share or secur or other asset of the corpor for considerationus1doc 5639303v 1 5 \f",
      " which cover both be the proport of such consider so receiv comput a provid in claus i and ii abov a determin in good faith by the board of director of the corporation  b option and convert secur the consider per share receiv by the corpor for addit share of common stock deem to have been issu pursuant to subsect 4 cxiii relat to option and convert secur shall be determin by divid i the total amount if ani receiv or receiv by the corpor a consider for the issu of such option or convert secur plu the minimum aggreg amount of addit consider a set forth in the instrument relat thereto without regard to ani provis contain therein for a subsequ adjust of such consider payabl to the corpor upon the exercis of such option or the convers or exchang of such convert secur or in the case of option for convert secur the exercis of such option for convert secur and the convers or exchang of such convert secur by ii the maximum number of share of common stock a set forth in the instrument relat thereto without regard to ani provis contain therein for a subsequ adjust of such number issuabl upon the exercis of such option or the convers or exchang of such convert securities  vi multipl close date in the event the corpor shall issu on more than one date addit share of common stock that are compris of share of the same seri or class of prefer stock and that would result in an adjust to the seri a convers price or seri b convers price pursuant to the term of subsect 4 c iv abov and such issuanc date occur within a period of no more than 120 day then upon the final such issuanc the seri a convers price or seri b convers price a the case may be shall be readjust to give effect to all such issuanc a if they occur on the date of the first such issuanc and without give effect to ani adjust a a result of such prior issuanc within such period\n"
     ]
    },
    {
     "name": "stdout",
     "output_type": "stream",
     "text": [
      "begining 628 end 3199\n",
      "iv ani other repurchas or redempt of capit stock of the corpor approv by the holder of the common stock and prefer stock of the corpor vote a separ classes  e dividend rate shall mean an annual rate of $0.0714 per share for the seri a prefer stock subject to adjust from time to time for recapit a set forth elsewher herein and an annual rate of $0.0535 per share for the seri a 2 prefer stock subject to adjust from time to time for recapit a set forth elsewher herein   f liquid prefer shall mean $0892 per share for the seri a prefer stock subject to adjust from time to time for recapit a set forth elsewher herein and shall mean $0669 per share for the seri a 2 prefer stock subject to adjust from time to time for recapit a set forth elsewher herein   g option shall mean right option or warrant to subscrib for purchas or otherwis acquir common stock or convert securities  h origin issu price shall mean $0892 per share for the seri a prefer stock subject to adjust from time to time for recapit a set forth elsewher herein and shall mean $0669 per share for the seri a 2 prefer stock subject to adjust from time to time for recapit a set forth elsewher herein i a 2 prefer stock pref stock shall mean the seri a prefer stock and the seri j recapit shall mean ani stock dividend stock splitcombin of share reorgan recapit reclassif or other similar event 2 dividends  a prefer stock in ani calendar year the holder of outstand share of prefer stock shall be entitl to receiv dividend when a and if declar by the board of director out of ani asset at the time legal avail therefor at the dividend rate specifi for such share of prefer stock payabl in prefer and prioriti to ani declar or payment of ani distribut on common stock of the corpor in such calendar year no distribut shall be made with respect to the common stock unless dividend on die prefer stock have been declar in accord with the prefer state herein and all declar dividend on the prefer stock have been paid or set asid for payment to the prefer stock holder the right to receiv dividend on share of prefer stock shall not be cumul and no right to dividend shall accru to holder of prefer stock by reason of the fact that dividend on said share are not declar or paid payment of ani dividend to the holder of prefer stock shall be on a pro rata pari passu basi in proport to the dividend rate for each seri of prefer stock 951059 v3 hn 3 \f",
      " b addit dividend after the payment or set asid for payment of the dividend describ in section 2 a ani addit dividend set asid or paid in ani fiscal year shall be set asid or paid among the holder of the prefer stock and common stock then outstand in proport to the greatest whole number of share of common stock which would be held by each such holder if all share of prefer stock were convert at the then effect convers rate a defin in section 4   c non cash distribut whenev a distribut provid for in thi section 2 shall be payabl in properti other than cash the valu of such distribut shall be deem to be the fair market valu of such properti a determin in good faith by the board of directors  d waiver of dividend ani dividend prefer of ani seri of prefer stock may be waiv in whole or in part by the consent or vote of the holder of the major of the outstand share of such series 3 liquid rights  a liquid prefer in the event of ani liquid dissolut or wind up of the corpor either voluntari or involuntari the holder of the prefer stock shall be entitl to receiv prior and in prefer to ani distribut of ani of the asset of the corpor to the holder of the common stock by reason of their ownership of such stock an amount per share for each share of prefer stock held by them equal to the sum of i the liquid prefer specifi for such share of prefer stock and ii all declar but unpaid dividend if ani on such share of prefer stock or such lesser amount a may be approv by the holder of the major of the outstand share of prefer stock if upon the liquid dissolut or wind up of the corpor the asset of the corpor legal avail for distribut to the holder of the prefer stock are insuffici to permit the payment to such holder of the full amount specifi in thi section 3 a then the entir asset of the corpor legal avail for distribut shall be distribut with equal prioriti and pro rata among the holder of the prefer stock in proport to the full amount they would otherwis be entitl to receiv pursuant to thi section 3 a b remain asset after the payment to the holder of prefer stock of the full preferenti amount specifi abov the entir remain asset of the corpor legal avail for distribut by the corpor shall be distribut with equal prioriti and pro rata among the holder of the prefer stock and common stock in proport to the number of share of common stock held by them with the share of prefer stock be treat for thi purpos a if they had been convert to share of common stock at the then applic convers rate notwithstand the forego but subject to section 3 c the aggreg distribut made pursuant to one or more subsect of thi section 3 with respect to ani share of prefer stock shall not exceed an amount equal to three time the applic liquid prefer for that share of prefer stock plu ani declar but unpaid dividends  c share not treat a both prefer stock and common stock in anv distribut share of prefer stock shall not be entitl to be convert into share of common stock in order to particip in ani distribut or seri of relat distribut as951059 v3 hn 4 \f",
      " share of common stock without first forego particip in the distribut or seri of relat distribut a share of prefer stock notwithstand ani other provis set forth in thi section 3 for purpos of determin the amount each holder of share of prefer stock is entitl to receiv in connect with a liquid dissolut or wind up of the corpor each such holder of share of prefer stock shall be deem to have convert regardless of whether such holder actual convert such holder share of prefer stock into share of common stock at such time a such holder would receiv a a result of an actual convers in the aggreg an amount greater than the amount that would be distribut to such holder if such holder did not convert such share of prefer stock into share of common stock  d reorgan for purpos of thi section 3 a liquid dissolut or wind up of the corpor shall be deem to be occas by or to includ i the acquisit of the corpor by anoth entiti by mean of ani transact or seri of relat transact to which the corpor is parti includ without limit ani stock acquisit reorgan merger tender offer busi combin or consolid but exclud ani sale of stock for capit rais purpos other than a transact or seri of relat transact in which the holder of the vote secur of the corpor outstand immedi prior to such transact or seri of relat transact retain immedi after such transact or seri of relat transact a a result of share in the corpor held by such holder prior to such transact at least a major of the total vote power repres by the outstand vote secur of the corpor or such other surviv or result entiti or if the corpor or such other surviv or result entiti is a wholli own subsidiari immedi follow such acquisit it parent but includ ani such transact or seri of relat transact in which ani share of prefer stock are convert into ani other properti or secur ii a sale lea exclus licens exchang or other disposit of all or substanti all of the asset of the corpor and it subsidiari taken a a whole by mean of ani transact or seri of relat transact except where such sale lea licens exchang or other disposit is to a wholli own subsidiari of the corpor or iii ani liquid dissolut or wind up of the corpor whether voluntari or involuntari ani of the forego a sale transact the treatment of ani transact or seri of relat transact a a sale transact pursuant to claus i or ii of the preced sentenc may be waiv by the consent or vote of a major of the outstand prefer stock  e valuat of non cash consider if ani asset of the corpor distribut to stockhold in connect with ani liquid dissolut or wind up of the corpor are other than cash then the valu of such asset shall be their fair market valu a determin in good faith by the board of director except that ani publicli trade secur to be distribut to stockhold in a liquid dissolut or wind up of the corpor shall be valu a follow i if the secur are then trade on a nation secur exchang then the valu of the secur shall be deem to be the averag of the close price of the secur on such exchang over the ten 10 trade day period end five 5 trade day prior to the distribut 951059 v3 hn 5 \f",
      " ii if the secur are activ trade over the counter then the valu of the secur shall be deem to be the averag of the close bid price of the secur over the ten 10 trade day period end five 5 trade day prior to the distribution in the event of a merger or other acquisit of the corpor by anoth entiti the distribut date shall be deem to be the date such transact closes for the purpos of thi subsect 3 e trade day shall mean ani day which the exchang or system on which the secur to be distribut are trade is open and close price or close bid price shall be deem to be i for secur trade primarili on the new york stock exchang the american stock exchang or a nasdaq market the last report trade price or sale price a the case may be at 4 00 p m  new york time on that day and ii for secur list or trade on other exchang market and system the market price a of the end of the regular hour trade period that is gener accept a such for such exchang market or system if after die date hereof the benchmark time gener accept in the secur industri for determin the market price of a stock a of a given trade day shall chang from those set forth abov the fair market valu shall be determin a of such other gener accept benchmark times notwithstand ani other provis set forth in thi section 3 unless the holder of a major of the outstand share of prefer stock shall determin otherwis in the event that ani consider payabl to the corpor or it stockhold in connect with ani liquid dissolut or wind up of the corpor is conting upon the occurr of ani event or the passag of time includ without limit ani defer purchas price payment instal payment payment made in respect of ani promissori note issu in such transact payment from escrow purchas price adjust payment or payment in respect of earnout or holdback such consider shall not be deem receiv by the corpor or it stockhold or avail for distribut to such stockhold unless and until such consider is indefeas receiv by the corpor or it stockhold in accord with the term of such liquid dissolut or wind up of the corpor or the term of ani transact that constitut a liquid dissolut or wind up of the corpor under thi section 3 .4 follow convers the holder of the prefer stock shall have convers right a a right to convert each share of prefer stock shall be convert at the option of the holder thereof at ani time after the date of issuanc of such share at the offic of the corpor or ani transfer agent for the prefer stock into that number of fulli paid nonassess share of common stock determin by divid the origin issu price for the relev seri by the convers price for such seri the number of share of common stock into which each share of prefer stock of a seri may be convert is herein refer to a the convers rate for each such series  upon ani decreas or increas in the convers price for ani seri of prefer stock a describ in thi section 4 the convers rate for such seri shall be appropri increas or decreased 951059 v3 hn 6 \f",
      " b automat conversion  i each share of prefer stock held by an investor a defin in the seri a 2 prefer stock purchas agreement date on or about the date hereof among the corpor and those person and entiti set forth on exhibit a thereto the seri a 2 spa who purchas at least 3000000 share of seri a prefer stock a adjust for recapit in the initi close a defin in the seri a 2 spa and who fail to purchas at least such investor second close pro rata a defin in the seri a 2 spa in the second close a defin in the seri a 2 spa shall automat be convert prior to the second close into fulli paid non ass share of common stock at the then effect convers rate for such share  ii each share of prefer stock held by an investor who purchas at least 3000000 share of seri a 2 prefer stock a adjust for recapit in the initi close and who fail to purchas at least such investor third close pro rata a defin in the seri a 2 spa in the third close a defin in the seri a 2 spa shall automat be convert prior to the third close into fulli paid non ass share of common stock at the then effect convers rate for such share  iii each share of prefer stock shall automat be convert into fulli paid non ass share of common stock at the then effect convers rate for such share immedi prior to the close of a firm commit underwritten initi public offer pursuant to an effect registr statement file under the secur act of 1933 a amend the secur act cover the offer and sale of the corpor common stock provid that the offer price per share is not le than $2007 a adjust for recapit and the aggreg gross proce to the corpor are not le than $35000000 a qualifi ipo\n"
     ]
    },
    {
     "name": "stdout",
     "output_type": "stream",
     "text": [
      "no begining found\n",
      "begining 4273 end 4373\n",
      "be chang to the seri a convers price that would have been in effect at the time of such expir or termin had such option or convert secur never beat issu and the share of common stock issuabl thereund shall no longer be deem to be common stock outstand the number of share of addit share of common stock deem issu and the consider deem paid therefor pursuant to subsect d  3k x i shall be appropri adjust to reflect ani chang termin or expir of the type describ in subsect d  3 b or d  3xc\n",
      "begining 486 end 771\n",
      "iv id e n d r ig h t s  a holder of seri b prefer and seri b l prefer pari passuwith each other and in prefer to the holder of seri a prefer and common stock shall be entitl to receiv when a and if declar by the board of director the board but onli out of fund that are legal avail therefor cash dividend at the rate of eight percent 8 of the origin issu price a defin below of the seri b prefer and seri b l prefer respect per annum on each outstand share of seri b prefer and seri b l prefer respect such dividend shall be payabl onli when a and if declar by the board and shall be non cumulative  b after payment of ani dividend pursuant to section l a abovehold of seri a prefer in prefer to the holder of common stock shall be entitl to receiv when a and if declar by the board but onli out of fund that are legal avail therefor cash dividend at the rate of eight percent 8 of the origin issu price of the seri a prefer per annum on each outstand share of seri a prefer such dividend shall be payabl onli when a and if declar by the board and shall be non cumulative  c the origin issu price of i the seri a prefer shall be$1 00 ii the seri b prefer shall be $1.20 and iii the seri b l prefer shall be $1.38 per share each a adjust for ani stock dividend combin split recapit and the like with respect to such share after the file date a defin below\n",
      "no begining found\n",
      "begining 2185 end 2285\n",
      "common stock basi to the amount paid or set asid for each share of common stock class c common stock or ani other stock of the corpor on pariti with or junior to the prefer stock  v in the event that the corpor shall have declar but not paid dividend outstand immedi prior to and in the event of a convers of ani share of prefer stock a provid in section 4.4 d hereof the corpor shall pay out of fund legal avail therefor to such holder the full amount of ani such dividend pursuant to section 4.4 d\n",
      "begining 621 end 873\n",
      "fourth a common stock 1 general  all prefer vote power rel particip optionalor other special right and privileg and qualif limit or restrict of the common stock are expressli made subject and subordin to those that may be fix with respect to ani share of the prefer stock 2 vote the holder of common stock are entitl to one vote for eachshar held 3 dividend dividend may be declar and paid on common stock from fund law avail therefor if a and when determin by the board of director of the corpor the board in their sole discret subject to provis of law ani provis of thi amend and restat certif of incorpor a amend from time to time and subject to the rel right and prefer of ani share of prefer stock author and issu hereunder 4 liquid upon the liquid dissolut shut down cessat of busi or other wind up of the affair the corpor whether voluntari or involuntari or the occurr of a liquid event a defin herein holder of common stock will be entitl to receiv pro rata all asset of the corpor avail for distribut to it stockhold subject howev to the liquid right specifi herein of the holder of prefer stock author and issu hereunder b seri a preferred 2\f",
      " the design and the power prefer and right of and the qualif limit and restrict of the seri a prefer are a follow 1 liquid rights  a treatment at liquid dissolut or wind up\n",
      "no begining found\n",
      "begining -93 end 7\n",
      "\n",
      "no begining found\n",
      "begining -86 end 14\n",
      "\n",
      "begining 5460 end 7318\n",
      "fourth \f",
      " addit share of common stock shall mean all share of common stock issu or pursuant to subsect 4 4 3 below deem to be issu by the corpor after the seri a origin issu date other than exempt securities  a convert secur shall mean ani evid of indebted share or other secur directli or indirectli convert into or exchang for common stock but exclud options  b the follow share of common stock and 2 share of common stock deem issu pursuant to the follow option and convert secur exempt secur shall mean 1 c i ii iii iv v share of common stock option orconvert secur issu a a dividend or distribut on prefer stock share of common stock option orconvert secur issu by reason of a dividend stock split split up or other distribut on share of common stock that is cover by subsect 4.5 4.6 4.7 or 4j share of common stock or option issu to employe or director of or consult or advisor to the corpor or ani of it subsidiari pursuant to a plan agreement or arrang approv by the board of director of the corpor share of common stock or convertiblesecur actual issu upon the exercis of option or share of common stock actual the convers or exchang of convert secur in each case provid such issuanc is pursuant to the term of such option or convert secur issu upon lessor issu or other share of common stock option orto bank convert secur equip financi institut or to real properti lessor pursuant to a debt financ equip lea or real properti lea transact approv by the board of director of the corpor \f",
      " vi vii share of common stock option orconvert secur issu to supplier or third parti servic provid in connect with the provis of good or servic pursuant to transact approv by the board of director of the corpor of common stock option orshar convert secur issu pursuant to the acquisit of anoth corpor by the corpor by merger purchas of substanti all of the asset or other reorgan or joint ventur agreement provid that such issuanc are approv by the board of director of the corpor orto a viii share sponsor of common stock option orconvert secur issu in connect with research collabor technolog licens develop oem market or other similar agreement or strateg partnership approv by the board of director of the corporation subscrib for purchas or otherwis acquir common stock or convert securities  d option shall mean right option or warrant to on which the first share of seri a prefer stock wa issued  e seri a origin issu date shall mean the date 4 4 2 no adjust of convers price no adjust in the convers price shall be made a the result of the issuanc or deem issuanc of addit share of common stock if the corpor receiv written notic from the holder of at least a major of the then outstand share of prefer stock agre that no such adjust shall be made a the result of the issuanc or deem issuanc of such addit share of common stock 4 4 3 deem issu of addit share of common stock  a if the corpor at ani time or from time to time after the seri a origin issu date shall issu ani option or convert secur exclud option or convert secur which are themselv exempt secur or shall fix a record date for the determin of holder of ani class of secur entitl to receiv ani such option or convert secur then the maximum number of share of common stock a set forth in the instrument relat thereto assum the satisfact of ani condit to exercis convert or exchang but without regard to ani provis contained\f",
      " therein for a subsequ adjust of such number issuabl upon the exercis of such option or in the case of convert secur and option therefor the convers or exchang of such convert secur shall be deem to be addit share of common stock issu a of the time of such issu or in case such a record date shall have been fix a of the close of busi on such record date  b if the term of ani option or convert secur the issuanc of which result in an adjust to the convers price pursuant to the term of subsect 4 4 4 are revis a a result of an amend to such term or ani other adjust pursuant to the provis of such option or convert secur but exclud automat adjust to such term pursuant to anti dilut or similar provis of such option or convert secur to provid for either 1 ani increas or decreas in the number of share of common stock issuabl upon the exercis convers and or exchang of ani such option or convert secur or 2 ani increas or decreas in the consider payabl to the corpor upon such exercis convers and or exchang then effect upon such increas or decreas becom effect the convers price comput upon the origin issu of such option or convert secur or upon the occurr of a record date with respect thereto shall be readjust to such convers price a would have obtain had such revis term been in effect upon the origin date of issuanc of such option or convert secur notwithstand the forego no readjust pursuant to thi claus b shall have the effect of increas the convers price to an amount which exce the lower of i the convers price in effect immedi prior to the origin adjust made a a result of the issuanc of such option or convert secur or ii the convers price that would have result from ani issuanc of addit share of common stock other than deem issuanc of addit share of common stock a a result of the issuanc of such option or convert secur between the origin adjust date and such readjust date  c if the term of ani option or convert secur exclud option or convert secur which are themselv exempt secur the issuanc of which did not result in an adjust to the convers price pursuant to the term of subsect 4 4 4 either becaus the consider per share determin pursuant to subsect 4 4 5 of the addit share of common stock subject thereto wa equal to or greater than the convers price then in effect or becaus such option or convert secur wa issu befor the seri a origin issu date are revis after the seri a origin issu date a a result of an amend to such term or ani other adjust pursuant to the provis of such option or convert secur but exclud automat adjust to such term pursuant to anti dilut or similar provis of such option or convert secur to provid for either 1 ani increas in the number of share of common stock issuabl upon the exercis convers or exchang of ani such option or convert secur or 2 ani decreas in the consider payabl to the corpor upon such exercis convers or exchang then such option or convert secur a so amend or adjust and the addit share of common stock subject thereto determin in the manner provid in subsect 4 4 3 a shall be deem to have been issu effect upon such increas or decreas becom effective termin of ani unexercis option or unconvert or unexchang convert secur or portion thereof which result either upon it origin issuanc or upon a revis of it term in an adjustmentth expir or upon d \f",
      " to the convers price pursuant to the term of subsect 4 4 4 the convers price shall be readjust to such convers price a would have obtain had such option or convert secur or portion thereof never been issued  e if the number of share of common stock issuabl upon the exercis convers and or exchang of ani option or convert secur or the consider payabl to the corpor upon such exercis convers and or exchang is calcul at the time such option or convert secur is issu or amend but is subject to adjust base upon subsequ event ani adjust to the convers price provid for in thi subsect 443 shall be effect at the time of such issuanc or amend base on such number of share or amount of consider without regard to ani provis for subsequ adjust and ani subsequ adjust shall be treat a provid in claus fb and c of thi subsect 4 4 3 if the number of share of common stock issuabl upon the exercis convers and or exchang of ani option or convert secur or the consider payabl to the corpor upon such exercis convers and or exchang cannot be calcul at all at the time such option or convert secur is issu or amend ani adjust to the convers price that would result under the term of thi subsect 4 4 3 at the time of such issuanc or amend shall instead be effect at the time such number of share and or amount of consider is first calcul even if subject to subsequ adjust assum for purpos of calcul such adjust to the convers price that such issuanc or amend took place at the time such calcul can first be made 4 4 4 adjust of convers price upon addit share of common stock in the event the corpor shall at ani time after the seri a origin issu date issu addit share of common stock includ addit share of common stock deem to be issu pursuant to subsect 4 4 3 without consider or for a consider per share le than the applic convers price in effect immedi prior to such issu then the convers price shall be reduc concurr with such issu to a price calcul to the nearest one hundredth of a cent determin in accord with the follow formula cp2 cpi a b a c  for purpos of the forego formula the follow definit shall appli immedi after such issu of addit share of common stock a cp2 shall mean the convers price in effect immedi prior to such issu of addit share of common stock b cpi shall mean the convers price in effect c a shall mean the number of share of common stock outstand immedi prior to such issu of addit share of common stock treat for thi purpos a outstand all share of common stock issuabl upon exercis of option outstand immedi prior to such issu or upon convers or exchang of convert secur includ the prefer stock outstand assum exercis of ani outstand option therefor immedi prior to such issu \f",
      " b shall mean the number of share of common stock that would have been issu if such addit share of common stock had been issu at a price per share equal to cpi determin by divid the aggreg consider receiv by the corpor in respect of such issu by cpi and d share of common stock issu in such transaction\n"
     ]
    },
    {
     "name": "stdout",
     "output_type": "stream",
     "text": [
      "no begining found\n",
      "begining -86 end 14\n",
      "\n",
      "begining 5558 end 7388\n",
      "fourth addit share of common stock shall mean all share of common stock issu or pursuant to subsect 4 4 3 below deem to be issu by the corpor after the seri b origin issu date other than exempt securities  a convert secur shall mean ani evid of indebted share or other secur directli or indirectli convert into or exchang for common stock but exclud options  b the follow share of common stock and 2 share of common stock deem issu pursuant to the follow option and convert secur exempt secur shall mean 1 c share of common stock option or convert secur issu a a dividend or distribut on prefer stock share of common stock option or convert secur issu by reason of a dividend stock split split up or other distribut on share of common stock that is cover by subsect 4.5 4.6 4.7 or 4.8 share of common stock or option issu to employe or director of or consult or advisor to the corpor or ani of it subsidiari pursuant to a plan agreement or arrang approv by the board of director of the corpor share of common stock or convert secur actual issu upon the exercis of option or share of common stock actual the convers or exchang of convert secur in each case provid such issuanc is pursuant to the term of such option or convert secur issu upon share of common stock option or to bank convert secur financi equip institut or to real properti lessorsissu or other lessor i ii iii iv v 11 \f",
      " vi vii pursuant to a debt financ equip lea or real properti lea transact approv by the board of director of the corpor share of common stock option orconvert secur issu to supplier or third parti servic provid in connect with the provis of good or servic pursuant to transact approv by the board of director of the corpor share of common stock option orconvert secur issu pursuant to the acquisit of anoth corpor by the corpor by merger of substanti all of the asset or other reorgan or joint ventur agreement provid that such issuanc are approv by the board of director of the corpor orpurchas to a viii share sponsor of common stock option orconvert secur issu in connect with research collabor technolog licens develop oem market or other similar agreement or strateg partnership approv by the board of director of the corporation subscrib for purchas or otherwis acquir common stock or convert securities  d option shall mean right option or warrant to on which the first share of seri b prefer stock wa issued  e seri b origin issu date shall mean the date 4 4 2 no adjust of convers price no adjust in the applic convers price for the seri a prefer stock or the seri a l prefer stock shall be made a the result of the issuanc or deem issuanc of addit share of common stock if the corpor receiv written notic from the holder of at least a major of the then outstand share of seri a prefer stock and seri a l prefer stock vote togeth a a singl class and on an a convert to common stock basi agre that no such adjust shall be made with respect to such seri a prefer stock and seri a l prefer a the result of the issuanc or deem issuanc of such addit share of common stock no adjust in the applic convers price for the seri b prefer stock shall be made a the result of the issuanc or deem issuanc of addit share of common stock if the corpor receiv written notic from the holder of at least a major of the then outstand 12 \f",
      " share of seri b prefer stock agre that no such adjust shall be made a the result of the issuanc or deem issuanc of such addit share of common stock 4 4 3 deem issu of addit share of common stock  a if the corpor at ani time or from time to time after the seri b origin issu date shall issu ani option or convert secur exclud option or convert secur which are themselv exempt secur or shall fix a record date for the determin of holder of ani class of secur entitl to receiv ani such option or convert secur then the maximum number of share of common stock a set forth in the instrument relat thereto assum the satisfact of ani condit to exercis convert or exchang but without regard to ani provis contain therein for a subsequ adjust of such number issuabl upon the exercis of such option or in the case of convert secur and option therefor the convers or exchang of such convert secur shall be deem to be addit share of common stock issu a of the time of such issu or in case such a record date shall have been fix a of the close of busi on such record date  b if the term of ani option or convert secur the issuanc of which result in an adjust to the applic convers price pursuant to the term of subsect 4 4 4 are revis a a result of an amend to such term or ani other adjust pursuant to the provis of such option or convert secur but exclud automat adjust to such term pursuant to anti dilut or similar provis of such option or convert secur to provid for either 1 ani increas or decreas in the number of share of common stock issuabl upon the exercis convers and or exchang of ani such option or convert secur or 2 ani increas or decreas in the consider payabl to the corpor upon such exercis convers and or exchang then effect upon such increas or decreas becom effect the applic convers price comput upon the origin issu of such option or convert secur or upon the occurr of a record date with respect thereto shall be readjust to such convers price a would have obtain had such revis term been in effect upon the origin date of issuanc of such option or convert secur notwithstand the forego no readjust pursuant to thi claus fb shall have the effect of increas the applic convers price to an amount which exce the lower of i the convers price in effect immedi prior to the origin adjust made a a result of the issuanc of such option or convert secur or ii the applic convers price that would have result from ani issuanc of addit share of common stock other than deem issuanc of addit share of common stock a a result of the issuanc of such option or convert secur between the origin adjust date and such readjust date  c if the term of ani option or convert secur exclud option or convert secur which are themselv exempt secur the issuanc of which did not result in an adjust to the applic convers price pursuant to the term of subsect 4 4 4 either becaus the consider per share determin pursuant to subsect 4 4 5 of the addit share of common stock subject thereto wa equal to or greater than the applic convers price then in effect or becaus such option or convert secur wa issu befor the seri b origin issu date are revis after the 13 \f",
      " seri b origin issu date a a result of an amend to such term or ani other adjust pursuant to the provis of such option or convert secur but exclud automat adjust to such term pursuant to anti dilut or similar provis of such option or convert secur to provid for either 1 ani increas in the number of share of common stock issuabl upon the exercis convers or exchang of ani such option or convert secur or 2 ani decreas in the consider payabl to the corpor upon such exercis convers or exchang then such option or convert secur a so amend or adjust and the addit share of common stock subject thereto determin in the manner provid in subsect 4 4 3 a shall be deem to have been issu effect upon such increas or decreas becom effective  d termin of ani unexercis option or unconvert or unexchang convert secur or portion thereof which result either upon it origin issuanc or upon a revis of it term in an adjust to the applic convers price pursuant to the term of subsect 4 4 4 the applic convers price shall be readjust to such applic convers price a would have obtain had such option or convert secur or portion thereof never been issued th expir or upon e if the number of share of common stock issuabl upon the exercis convers and or exchang of ani option or convert secur or the consider payabl to the corpor upon such exercis convers and or exchang is calcul at the time such option or convert secur is issu or amend but is subject to adjust base upon subsequ event ani adjust to the applic convers price provid for in thi subsect 4 4 3 shall be effect at the time of such issuanc or amend base on such number of share or amount of consider without regard to ani provis for subsequ adjust and ani subsequ adjust shall be treat a provid in claus b and c of thi subsect 4 4 3 if the number of share of common stock issuabl upon the exercis convers and or exchang of ani option or convert secur or the consider payabl to the corpor upon such exercis convers and or exchang cannot be calcul at all at the time such option or convert secur is issu or amend ani adjust to the applic convers price that would result under the term of thi subsect 4 4 3 at the time of such issuanc or amend shall instead be effect at the time such number of share and or amount of consider is first calcul even if subject to subsequ adjust assum for purpos of calcul such adjust to the applic convers price that such issuanc or amend took place at the time such calcul can first be made 4 4 4 adjust of the applic convers price upon issuanc of addit share of common stock in the event the corpor shall at ani time after the seri b origin issu date issu addit share of common stock includ addit share of common stock deem to be issu pursuant to subsect 4 4 3 without consider or for a consider per share le than the applic convers price in effect immedi prior to such issu then the applic convers price shall be reduc concurr with such issu to a price calcul to the nearest one hundredth of a cent determin in accord with the follow formula cp2 cpi a b a\n"
     ]
    },
    {
     "name": "stdout",
     "output_type": "stream",
     "text": [
      "begining 5912 end 8004\n",
      "fourth addit share of common stock shall mean all share of common stock issu or pursuant to subsect 4 4 3 below deem to be issu by the corpor after the seri c origin issu date other than exempt securities  a convert secur shall mean ani evid of indebted share or other secur directli or indirectli convert into or exchang for common stock but exclud options  b the follow share of common stock and 2 share of common stock deem issu pursuant to the follow option and convert secur exempt secur shall mean 1 c 11 \f",
      " share of common orconvert secur issu a a dividend or distribut on prefer stock stock option stock option share of common orconvert secur issu by reason of a dividend stock split split up or other distribut on share of common stock that is cover by subsect 4.5 4 6 4 7 or 48 share of common stock or option issu to employe or director of or consult or advisor to the corpor or ani of it subsidiari pursuant to a plan agreement or arrang approv by the board of director of the corpor share of common stock or convert secur actual issu upon the exercis of option or share of common stock actual issu upon the convers or exchang of convert secur in each case provid such issuanc is pursuant to the term of such option or convert secur lessor stock option issu or other orshar of common to bank convert secur financi equip lessor institut or to real properti pursuant to a debt financ equip lea or real properti lea transact approv by the board of director of the corpor stock option share of common orconvert secur issu to supplier or third parti servic provid in connect with the provis of good or servic pursuant to transact approv by the board of director of the corpor stock option share of common orconvert secur issu pursuant to the acquisit of anoth corpor by the corpor by merger purchas of substanti all of the asset or other i ii iii iv v vi vii 12 \f",
      " to reorgan or joint ventur agreement provid that such issuanc are approv by the board of director of the corpor os viii sponsor share of common stock option or convert secur issu in connect with research collabor technolog licens develop oem market or other similar agreement or strateg partnership approv by the board of director of the corporationsubscrib for purchas or otherwis acquir common stock or convert secur d option shall mean right option or warrant to on which the first share of seri c prefer stock wa issu e seri c origin issu date shall mean the date 4 4 2 no adjust of convers price no adjust in the applic convers price for the seri a prefer stock or the seri a l prefer stock shall be made a the result of the issuanc or deem issuanc of addit share of common stock if the corpor receiv written notic from the holder of at least a major of the then outstand share of seri a prefer stock and seri a l prefer stock vote togeth a a singl class and on an a convert to common stock basi agre that no such adjust shall be made with respect to such seri a prefer stock and seri a l prefer a the result of the issuanc or deem issuanc of such addit share of common stock no adjust in the applic convers price for the seri b prefer stock shall be made a the result of the issuanc or deem issuanc of addit share of common stock if the corpor receiv written notic from the holder of at least a major of the then outstand share of seri b prefer stock agre that no such adjust shall be made a the result of the issuanc or deem issuanc of such addit share of common stock no adjust in the applic convers price for the seri c prefer stock shall be made a the result of the issuanc or deem issuanc of addit share of common stock if the corpor receiv written notic from the holder of at least a major of the then outstand share of seri c prefer stock agre that no such adjust shall be made a the result of the issuanc or deem issuanc of such addit share of common stock 4 4 3 deem issu of addit share of common stock  a if the corpor at ani time or from time to time after the seri c origin issu date shall issu ani option or convert secur exclud option or convert secur which are themselv exempt secur or shall fix a record date for the determin of holder of ani class of secur entitl to receiv ani such option or convert secur then the maximum number of share of common stock a set forth in the instrument relat thereto assum the satisfact of ani condit to exercis convert or exchang but without regard to ani provis contain 13 \f",
      " therein for a subsequ adjust of such number issuabl upon the exercis of such option or in the case of convert secur and option therefor the convers or exchang of such convert secur shall be deem to be addit share of common stock issu a of the time of such issu or in case such a record date shall have been fix a of the close of busi on such record date  b if the term of ani option or convert secur the issuanc of which result in an adjust to the applic convers price pursuant to the term of subsect 4 4 4 are revis a a result of an amend to such term or ani other adjust pursuant to the provis of such option or convert secur but exclud automat adjust to such term pursuant to anti dilut or similar provis of such option or convert secur to provid for either 1 ani increas or decreas in the number of share of common stock issuabl upon the exercis convers and or exchang of ani such option or convert secur or 2 ani increas or decreas in the consider payabl to the corpor upon such exercis convers and or exchang then effect upon such increas or decreas becom effect the applic convers price comput upon the origin issu of such option or convert secur or upon the occurr of a record date with respect thereto shall be readjust to such convers price a would have obtain had such revis term been in effect upon the origin date of issuanc of such option or convert secur notwithstand the forego no readjust pursuant to thi claus b shall have the effect of increas the applic convers price to an amount which exce the lower of i the convers price in effect immedi prior to the origin adjust made a a result of the issuanc of such option or convert secur or ii the applic convers price that would have result from ani issuanc of addit share of common stock other than deem issuanc of addit share of common stock a a result of the issuanc of such option or convert secur between the origin adjust date and such readjust date  c if the term of ani option or convert secur exclud option or convert secur which are themselv exempt secur the issuanc of which did not result in an adjust to the applic convers price pursuant to the term of subsect 4 4 4 either becaus the consider per share determin pursuant to subsect 4 4 5 of the addit share of common stock subject thereto wa equal to or greater than the applic convers price then in effect or becaus such option or convert secur wa issu befor the seri c origin issu date are revis after the seri c origin issu date a a result of an amend to such term or ani other adjust pursuant to the provis of such option or convert secur but exclud automat adjust to such term pursuant to anti dilut or similar provis of such option or convert secur to provid for either 1 ani increas in the number of share of common stock issuabl upon the exercis convers or exchang of ani such option or convert secur or 2 ani decreas in the consider payabl to the corpor upon such exercis convers or exchang then such option or convert secur a so amend or adjust and the addit share of common stock subject thereto determin in the manner provid in subsect 4 4 3 a shall be deem to have been issu effect upon such increas or decreas becom effective  14 \f",
      " d termin of ani unexercis option or unconvert or unexchang convert secur or portion thereof which result either upon it origin issuanc or upon a revis of it term in an adjust to the applic convers price pursuant to the term of subsect 4 4 4 the applic convers price shall be readjust to such applic convers price a would have obtain had such option or convert secur or portion thereof never been issuedth expir or upon e if the number of share of common stock issuabl upon the exercis convers and or exchang of ani option or convert secur or the consider payabl to the corpor upon such exercis convers and or exchang is calcul at the time such option or convert secur is issu or amend but is subject to adjust base upon subsequ event ani adjust to the applic convers price provid for in thi subsect 4 4 3 shall be effect at the time of such issuanc or amend base on such number of share or amount of consider without regard to ani provis for subsequ adjust and ani subsequ adjust shall be treat a provid in claus b and c of thi subsect 4 4 3 if the number of share of common stock issuabl upon the exercis convers and or exchang of ani option or convert secur or the consider payabl to the corpor upon such exercis convers and or exchang cannot be calcul at all at the time such option or convert secur is issu or amend ani adjust to the applic convers price that would result under the term of thi subsect 4 4 3 at the time of such issuanc or amend shall instead be effect at the time such number of share and or amount of consider is first calcul even if subject to subsequ adjust assum for purpos of calcul such adjust to the applic convers price that such issuanc or amend took place at the time such calcul can first be made 4 4 4 adjust of the applic convers price upon issuanc of addit share of common stock in the event the corpor shall at ani time after the seri c origin issu date issu addit share of common stock includ addit share of common stock deem to be issu pursuant to subsect 443 without consider or for a consider per share le than the applic convers price in effect immedi prior to such issu then the applic convers price shall be reduc concurr with such issu to a price calcul to the nearest one hundredth of a cent determin in accord with the follow formula for purpos of the forego formula the follow definit shall appli cp2 cpi a b a c  in effect immedi after such issu of addit share of common stock a cp2 shall mean the applic convers price in effect immedi prior to such issu of addit share of common stock b cpi shall mean the applic convers price a shall mean the number of share of common stock outstand immedi prior to such issu of addit share of common stock c 15 \f",
      " treat for thi purpos a outstand all share of common stock issuabl upon exercis of option outstand immedi prior to such issu or upon convers or exchang of convert secur includ the prefer stock outstand assum exercis of ani outstand option therefor immedi prior to such issu b shall mean the number of share of common stock that would have been issu if such addit share of common stock had been issu at a price per share equal to cpi determin by divid the aggreg consider receiv by the corpor in respect of such issu by cpi and d share of common stock issu in such transaction\n"
     ]
    },
    {
     "name": "stdout",
     "output_type": "stream",
     "text": [
      "no begining found\n",
      "begining -60 end 40\n",
      "\n",
      "begining 5912 end 8004\n",
      "fourth addit share of common stock shall mean all share of common stock issu or pursuant to subsect 4 4 3 below deem to be issu by the corpor after the seri c origin issu date other than exempt securities  a convert secur shall mean ani evid of indebted share or other secur directli or indirectli convert into or exchang for common stock but exclud options  b the follow share of common stock and 2 share of common stock deem issu pursuant to the follow option and convert secur exempt secur shall mean 1 c 11 \f",
      " share of common orconvert secur issu a a dividend or distribut on prefer stock stock option stock option share of common orconvert secur issu by reason of a dividend stock split split up or other distribut on share of common stock that is cover by subsect 4.5 4 6 4 7 or 48 share of common stock or option issu to employe or director of or consult or advisor to the corpor or ani of it subsidiari pursuant to a plan agreement or arrang approv by the board of director of the corpor share of common stock or convert secur actual issu upon the exercis of option or share of common stock actual issu upon the convers or exchang of convert secur in each case provid such issuanc is pursuant to the term of such option or convert secur lessor stock option issu or other orshar of common to bank convert secur financi equip lessor institut or to real properti pursuant to a debt financ equip lea or real properti lea transact approv by the board of director of the corpor stock option share of common orconvert secur issu to supplier or third parti servic provid in connect with the provis of good or servic pursuant to transact approv by the board of director of the corpor stock option share of common orconvert secur issu pursuant to the acquisit of anoth corpor by the corpor by merger purchas of substanti all of the asset or other i ii iii iv v vi vii 12 \f",
      " to reorgan or joint ventur agreement provid that such issuanc are approv by the board of director of the corpor os viii sponsor share of common stock option or convert secur issu in connect with research collabor technolog licens develop oem market or other similar agreement or strateg partnership approv by the board of director of the corporationsubscrib for purchas or otherwis acquir common stock or convert secur d option shall mean right option or warrant to on which the first share of seri c prefer stock wa issu e seri c origin issu date shall mean the date 4 4 2 no adjust of convers price no adjust in the applic convers price for the seri a prefer stock or the seri a l prefer stock shall be made a the result of the issuanc or deem issuanc of addit share of common stock if the corpor receiv written notic from the holder of at least a major of the then outstand share of seri a prefer stock and seri a l prefer stock vote togeth a a singl class and on an a convert to common stock basi agre that no such adjust shall be made with respect to such seri a prefer stock and seri a l prefer a the result of the issuanc or deem issuanc of such addit share of common stock no adjust in the applic convers price for the seri b prefer stock shall be made a the result of the issuanc or deem issuanc of addit share of common stock if the corpor receiv written notic from the holder of at least a major of the then outstand share of seri b prefer stock agre that no such adjust shall be made a the result of the issuanc or deem issuanc of such addit share of common stock no adjust in the applic convers price for the seri c prefer stock shall be made a the result of the issuanc or deem issuanc of addit share of common stock if the corpor receiv written notic from the holder of at least a major of the then outstand share of seri c prefer stock agre that no such adjust shall be made a the result of the issuanc or deem issuanc of such addit share of common stock 4 4 3 deem issu of addit share of common stock  a if the corpor at ani time or from time to time after the seri c origin issu date shall issu ani option or convert secur exclud option or convert secur which are themselv exempt secur or shall fix a record date for the determin of holder of ani class of secur entitl to receiv ani such option or convert secur then the maximum number of share of common stock a set forth in the instrument relat thereto assum the satisfact of ani condit to exercis convert or exchang but without regard to ani provis contain 13 \f",
      " therein for a subsequ adjust of such number issuabl upon the exercis of such option or in the case of convert secur and option therefor the convers or exchang of such convert secur shall be deem to be addit share of common stock issu a of the time of such issu or in case such a record date shall have been fix a of the close of busi on such record date  b if the term of ani option or convert secur the issuanc of which result in an adjust to the applic convers price pursuant to the term of subsect 4 4 4 are revis a a result of an amend to such term or ani other adjust pursuant to the provis of such option or convert secur but exclud automat adjust to such term pursuant to anti dilut or similar provis of such option or convert secur to provid for either 1 ani increas or decreas in the number of share of common stock issuabl upon the exercis convers and or exchang of ani such option or convert secur or 2 ani increas or decreas in the consider payabl to the corpor upon such exercis convers and or exchang then effect upon such increas or decreas becom effect the applic convers price comput upon the origin issu of such option or convert secur or upon the occurr of a record date with respect thereto shall be readjust to such convers price a would have obtain had such revis term been in effect upon the origin date of issuanc of such option or convert secur notwithstand the forego no readjust pursuant to thi claus b shall have the effect of increas the applic convers price to an amount which exce the lower of i the convers price in effect immedi prior to the origin adjust made a a result of the issuanc of such option or convert secur or ii the applic convers price that would have result from ani issuanc of addit share of common stock other than deem issuanc of addit share of common stock a a result of the issuanc of such option or convert secur between the origin adjust date and such readjust date  c if the term of ani option or convert secur exclud option or convert secur which are themselv exempt secur the issuanc of which did not result in an adjust to the applic convers price pursuant to the term of subsect 4 4 4 either becaus the consider per share determin pursuant to subsect 4 4 5 of the addit share of common stock subject thereto wa equal to or greater than the applic convers price then in effect or becaus such option or convert secur wa issu befor the seri c origin issu date are revis after the seri c origin issu date a a result of an amend to such term or ani other adjust pursuant to the provis of such option or convert secur but exclud automat adjust to such term pursuant to anti dilut or similar provis of such option or convert secur to provid for either 1 ani increas in the number of share of common stock issuabl upon the exercis convers or exchang of ani such option or convert secur or 2 ani decreas in the consider payabl to the corpor upon such exercis convers or exchang then such option or convert secur a so amend or adjust and the addit share of common stock subject thereto determin in the manner provid in subsect 4 4 3 a shall be deem to have been issu effect upon such increas or decreas becom effective  14 \f",
      " d termin of ani unexercis option or unconvert or unexchang convert secur or portion thereof which result either upon it origin issuanc or upon a revis of it term in an adjust to the applic convers price pursuant to the term of subsect 4 4 4 the applic convers price shall be readjust to such applic convers price a would have obtain had such option or convert secur or portion thereof never been issuedth expir or upon e if the number of share of common stock issuabl upon the exercis convers and or exchang of ani option or convert secur or the consider payabl to the corpor upon such exercis convers and or exchang is calcul at the time such option or convert secur is issu or amend but is subject to adjust base upon subsequ event ani adjust to the applic convers price provid for in thi subsect 4 4 3 shall be effect at the time of such issuanc or amend base on such number of share or amount of consider without regard to ani provis for subsequ adjust and ani subsequ adjust shall be treat a provid in claus b and c of thi subsect 4 4 3 if the number of share of common stock issuabl upon the exercis convers and or exchang of ani option or convert secur or the consider payabl to the corpor upon such exercis convers and or exchang cannot be calcul at all at the time such option or convert secur is issu or amend ani adjust to the applic convers price that would result under the term of thi subsect 4 4 3 at the time of such issuanc or amend shall instead be effect at the time such number of share and or amount of consider is first calcul even if subject to subsequ adjust assum for purpos of calcul such adjust to the applic convers price that such issuanc or amend took place at the time such calcul can first be made 4 4 4 adjust of the applic convers price upon issuanc of addit share of common stock in the event the corpor shall at ani time after the seri c origin issu date issu addit share of common stock includ addit share of common stock deem to be issu pursuant to subsect 443 without consider or for a consider per share le than the applic convers price in effect immedi prior to such issu then the applic convers price shall be reduc concurr with such issu to a price calcul to the nearest one hundredth of a cent determin in accord with the follow formula for purpos of the forego formula the follow definit shall appli cp2 cpi a b a c  in effect immedi after such issu of addit share of common stock a cp2 shall mean the applic convers price in effect immedi prior to such issu of addit share of common stock b cpi shall mean the applic convers price a shall mean the number of share of common stock outstand immedi prior to such issu of addit share of common stock c 15 \f",
      " treat for thi purpos a outstand all share of common stock issuabl upon exercis of option outstand immedi prior to such issu or upon convers or exchang of convert secur includ the prefer stock outstand assum exercis of ani outstand option therefor immedi prior to such issu b shall mean the number of share of common stock that would have been issu if such addit share of common stock had been issu at a price per share equal to cpi determin by divid the aggreg consider receiv by the corpor in respect of such issu by cpi and d share of common stock issu in such transaction\n"
     ]
    },
    {
     "name": "stdout",
     "output_type": "stream",
     "text": [
      "no begining found\n",
      "begining -60 end 40\n",
      "\n",
      "begining 5912 end 8004\n",
      "fourth addit share of common stock shall mean all share of common stock issu or pursuant to subsect 4 4 3 below deem to be issu by the corpor after the seri c origin issu date other than exempt securities  a convert secur shall mean ani evid of indebted share or other secur directli or indirectli convert into or exchang for common stock but exclud options  b the follow share of common stock and 2 share of common stock deem issu pursuant to the follow option and convert secur exempt secur shall mean 1 c 11 \f",
      " share of common orconvert secur issu a a dividend or distribut on prefer stock stock option stock option share of common orconvert secur issu by reason of a dividend stock split split up or other distribut on share of common stock that is cover by subsect 4.5 4 6 4 7 or 48 share of common stock or option issu to employe or director of or consult or advisor to the corpor or ani of it subsidiari pursuant to a plan agreement or arrang approv by the board of director of the corpor share of common stock or convert secur actual issu upon the exercis of option or share of common stock actual issu upon the convers or exchang of convert secur in each case provid such issuanc is pursuant to the term of such option or convert secur lessor stock option issu or other orshar of common to bank convert secur financi equip lessor institut or to real properti pursuant to a debt financ equip lea or real properti lea transact approv by the board of director of the corpor stock option share of common orconvert secur issu to supplier or third parti servic provid in connect with the provis of good or servic pursuant to transact approv by the board of director of the corpor stock option share of common orconvert secur issu pursuant to the acquisit of anoth corpor by the corpor by merger purchas of substanti all of the asset or other i ii iii iv v vi vii 12 \f",
      " to reorgan or joint ventur agreement provid that such issuanc are approv by the board of director of the corpor os viii sponsor share of common stock option or convert secur issu in connect with research collabor technolog licens develop oem market or other similar agreement or strateg partnership approv by the board of director of the corporationsubscrib for purchas or otherwis acquir common stock or convert secur d option shall mean right option or warrant to on which the first share of seri c prefer stock wa issu e seri c origin issu date shall mean the date 4 4 2 no adjust of convers price no adjust in the applic convers price for the seri a prefer stock or the seri a l prefer stock shall be made a the result of the issuanc or deem issuanc of addit share of common stock if the corpor receiv written notic from the holder of at least a major of the then outstand share of seri a prefer stock and seri a l prefer stock vote togeth a a singl class and on an a convert to common stock basi agre that no such adjust shall be made with respect to such seri a prefer stock and seri a l prefer a the result of the issuanc or deem issuanc of such addit share of common stock no adjust in the applic convers price for the seri b prefer stock shall be made a the result of the issuanc or deem issuanc of addit share of common stock if the corpor receiv written notic from the holder of at least a major of the then outstand share of seri b prefer stock agre that no such adjust shall be made a the result of the issuanc or deem issuanc of such addit share of common stock no adjust in the applic convers price for the seri c prefer stock shall be made a the result of the issuanc or deem issuanc of addit share of common stock if the corpor receiv written notic from the holder of at least a major of the then outstand share of seri c prefer stock agre that no such adjust shall be made a the result of the issuanc or deem issuanc of such addit share of common stock 4 4 3 deem issu of addit share of common stock  a if the corpor at ani time or from time to time after the seri c origin issu date shall issu ani option or convert secur exclud option or convert secur which are themselv exempt secur or shall fix a record date for the determin of holder of ani class of secur entitl to receiv ani such option or convert secur then the maximum number of share of common stock a set forth in the instrument relat thereto assum the satisfact of ani condit to exercis convert or exchang but without regard to ani provis contain 13 \f",
      " therein for a subsequ adjust of such number issuabl upon the exercis of such option or in the case of convert secur and option therefor the convers or exchang of such convert secur shall be deem to be addit share of common stock issu a of the time of such issu or in case such a record date shall have been fix a of the close of busi on such record date  b if the term of ani option or convert secur the issuanc of which result in an adjust to the applic convers price pursuant to the term of subsect 4 4 4 are revis a a result of an amend to such term or ani other adjust pursuant to the provis of such option or convert secur but exclud automat adjust to such term pursuant to anti dilut or similar provis of such option or convert secur to provid for either 1 ani increas or decreas in the number of share of common stock issuabl upon the exercis convers and or exchang of ani such option or convert secur or 2 ani increas or decreas in the consider payabl to the corpor upon such exercis convers and or exchang then effect upon such increas or decreas becom effect the applic convers price comput upon the origin issu of such option or convert secur or upon the occurr of a record date with respect thereto shall be readjust to such convers price a would have obtain had such revis term been in effect upon the origin date of issuanc of such option or convert secur notwithstand the forego no readjust pursuant to thi claus b shall have the effect of increas the applic convers price to an amount which exce the lower of i the convers price in effect immedi prior to the origin adjust made a a result of the issuanc of such option or convert secur or ii the applic convers price that would have result from ani issuanc of addit share of common stock other than deem issuanc of addit share of common stock a a result of the issuanc of such option or convert secur between the origin adjust date and such readjust date  c if the term of ani option or convert secur exclud option or convert secur which are themselv exempt secur the issuanc of which did not result in an adjust to the applic convers price pursuant to the term of subsect 4 4 4 either becaus the consider per share determin pursuant to subsect 4 4 5 of the addit share of common stock subject thereto wa equal to or greater than the applic convers price then in effect or becaus such option or convert secur wa issu befor the seri c origin issu date are revis after the seri c origin issu date a a result of an amend to such term or ani other adjust pursuant to the provis of such option or convert secur but exclud automat adjust to such term pursuant to anti dilut or similar provis of such option or convert secur to provid for either 1 ani increas in the number of share of common stock issuabl upon the exercis convers or exchang of ani such option or convert secur or 2 ani decreas in the consider payabl to the corpor upon such exercis convers or exchang then such option or convert secur a so amend or adjust and the addit share of common stock subject thereto determin in the manner provid in subsect 4 4 3 a shall be deem to have been issu effect upon such increas or decreas becom effective  14 \f",
      " d termin of ani unexercis option or unconvert or unexchang convert secur or portion thereof which result either upon it origin issuanc or upon a revis of it term in an adjust to the applic convers price pursuant to the term of subsect 4 4 4 the applic convers price shall be readjust to such applic convers price a would have obtain had such option or convert secur or portion thereof never been issuedth expir or upon e if the number of share of common stock issuabl upon the exercis convers and or exchang of ani option or convert secur or the consider payabl to the corpor upon such exercis convers and or exchang is calcul at the time such option or convert secur is issu or amend but is subject to adjust base upon subsequ event ani adjust to the applic convers price provid for in thi subsect 4 4 3 shall be effect at the time of such issuanc or amend base on such number of share or amount of consider without regard to ani provis for subsequ adjust and ani subsequ adjust shall be treat a provid in claus b and c of thi subsect 4 4 3 if the number of share of common stock issuabl upon the exercis convers and or exchang of ani option or convert secur or the consider payabl to the corpor upon such exercis convers and or exchang cannot be calcul at all at the time such option or convert secur is issu or amend ani adjust to the applic convers price that would result under the term of thi subsect 4 4 3 at the time of such issuanc or amend shall instead be effect at the time such number of share and or amount of consider is first calcul even if subject to subsequ adjust assum for purpos of calcul such adjust to the applic convers price that such issuanc or amend took place at the time such calcul can first be made 4 4 4 adjust of the applic convers price upon issuanc of addit share of common stock in the event the corpor shall at ani time after the seri c origin issu date issu addit share of common stock includ addit share of common stock deem to be issu pursuant to subsect 443 without consider or for a consider per share le than the applic convers price in effect immedi prior to such issu then the applic convers price shall be reduc concurr with such issu to a price calcul to the nearest one hundredth of a cent determin in accord with the follow formula for purpos of the forego formula the follow definit shall appli cp2 cpi a b a c  in effect immedi after such issu of addit share of common stock a cp2 shall mean the applic convers price in effect immedi prior to such issu of addit share of common stock b cpi shall mean the applic convers price a shall mean the number of share of common stock outstand immedi prior to such issu of addit share of common stock c 15 \f",
      " treat for thi purpos a outstand all share of common stock issuabl upon exercis of option outstand immedi prior to such issu or upon convers or exchang of convert secur includ the prefer stock outstand assum exercis of ani outstand option therefor immedi prior to such issu b shall mean the number of share of common stock that would have been issu if such addit share of common stock had been issu at a price per share equal to cpi determin by divid the aggreg consider receiv by the corpor in respect of such issu by cpi and d share of common stock issu in such transaction\n"
     ]
    },
    {
     "name": "stdout",
     "output_type": "stream",
     "text": [
      "no begining found\n",
      "begining -60 end 40\n",
      "\n",
      "begining 5912 end 8004\n",
      "fourth addit share of common stock shall mean all share of common stock issu or pursuant to subsect 4 4 3 below deem to be issu by the corpor after the seri c origin issu date other than exempt securities  a convert secur shall mean ani evid of indebted share or other secur directli or indirectli convert into or exchang for common stock but exclud options  b the follow share of common stock and 2 share of common stock deem issu pursuant to the follow option and convert secur exempt secur shall mean 1 c 11 \f",
      " share of common orconvert secur issu a a dividend or distribut on prefer stock stock option stock option share of common orconvert secur issu by reason of a dividend stock split split up or other distribut on share of common stock that is cover by subsect 4.5 4 6 4 7 or 48 share of common stock or option issu to employe or director of or consult or advisor to the corpor or ani of it subsidiari pursuant to a plan agreement or arrang approv by the board of director of the corpor share of common stock or convert secur actual issu upon the exercis of option or share of common stock actual issu upon the convers or exchang of convert secur in each case provid such issuanc is pursuant to the term of such option or convert secur lessor stock option issu or other orshar of common to bank convert secur financi equip lessor institut or to real properti pursuant to a debt financ equip lea or real properti lea transact approv by the board of director of the corpor stock option share of common orconvert secur issu to supplier or third parti servic provid in connect with the provis of good or servic pursuant to transact approv by the board of director of the corpor stock option share of common orconvert secur issu pursuant to the acquisit of anoth corpor by the corpor by merger purchas of substanti all of the asset or other i ii iii iv v vi vii 12 \f",
      " to reorgan or joint ventur agreement provid that such issuanc are approv by the board of director of the corpor os viii sponsor share of common stock option or convert secur issu in connect with research collabor technolog licens develop oem market or other similar agreement or strateg partnership approv by the board of director of the corporationsubscrib for purchas or otherwis acquir common stock or convert secur d option shall mean right option or warrant to on which the first share of seri c prefer stock wa issu e seri c origin issu date shall mean the date 4 4 2 no adjust of convers price no adjust in the applic convers price for the seri a prefer stock or the seri a l prefer stock shall be made a the result of the issuanc or deem issuanc of addit share of common stock if the corpor receiv written notic from the holder of at least a major of the then outstand share of seri a prefer stock and seri a l prefer stock vote togeth a a singl class and on an a convert to common stock basi agre that no such adjust shall be made with respect to such seri a prefer stock and seri a l prefer a the result of the issuanc or deem issuanc of such addit share of common stock no adjust in the applic convers price for the seri b prefer stock shall be made a the result of the issuanc or deem issuanc of addit share of common stock if the corpor receiv written notic from the holder of at least a major of the then outstand share of seri b prefer stock agre that no such adjust shall be made a the result of the issuanc or deem issuanc of such addit share of common stock no adjust in the applic convers price for the seri c prefer stock shall be made a the result of the issuanc or deem issuanc of addit share of common stock if the corpor receiv written notic from the holder of at least a major of the then outstand share of seri c prefer stock agre that no such adjust shall be made a the result of the issuanc or deem issuanc of such addit share of common stock 4 4 3 deem issu of addit share of common stock  a if the corpor at ani time or from time to time after the seri c origin issu date shall issu ani option or convert secur exclud option or convert secur which are themselv exempt secur or shall fix a record date for the determin of holder of ani class of secur entitl to receiv ani such option or convert secur then the maximum number of share of common stock a set forth in the instrument relat thereto assum the satisfact of ani condit to exercis convert or exchang but without regard to ani provis contain 13 \f",
      " therein for a subsequ adjust of such number issuabl upon the exercis of such option or in the case of convert secur and option therefor the convers or exchang of such convert secur shall be deem to be addit share of common stock issu a of the time of such issu or in case such a record date shall have been fix a of the close of busi on such record date  b if the term of ani option or convert secur the issuanc of which result in an adjust to the applic convers price pursuant to the term of subsect 4 4 4 are revis a a result of an amend to such term or ani other adjust pursuant to the provis of such option or convert secur but exclud automat adjust to such term pursuant to anti dilut or similar provis of such option or convert secur to provid for either 1 ani increas or decreas in the number of share of common stock issuabl upon the exercis convers and or exchang of ani such option or convert secur or 2 ani increas or decreas in the consider payabl to the corpor upon such exercis convers and or exchang then effect upon such increas or decreas becom effect the applic convers price comput upon the origin issu of such option or convert secur or upon the occurr of a record date with respect thereto shall be readjust to such convers price a would have obtain had such revis term been in effect upon the origin date of issuanc of such option or convert secur notwithstand the forego no readjust pursuant to thi claus b shall have the effect of increas the applic convers price to an amount which exce the lower of i the convers price in effect immedi prior to the origin adjust made a a result of the issuanc of such option or convert secur or ii the applic convers price that would have result from ani issuanc of addit share of common stock other than deem issuanc of addit share of common stock a a result of the issuanc of such option or convert secur between the origin adjust date and such readjust date  c if the term of ani option or convert secur exclud option or convert secur which are themselv exempt secur the issuanc of which did not result in an adjust to the applic convers price pursuant to the term of subsect 4 4 4 either becaus the consider per share determin pursuant to subsect 4 4 5 of the addit share of common stock subject thereto wa equal to or greater than the applic convers price then in effect or becaus such option or convert secur wa issu befor the seri c origin issu date are revis after the seri c origin issu date a a result of an amend to such term or ani other adjust pursuant to the provis of such option or convert secur but exclud automat adjust to such term pursuant to anti dilut or similar provis of such option or convert secur to provid for either 1 ani increas in the number of share of common stock issuabl upon the exercis convers or exchang of ani such option or convert secur or 2 ani decreas in the consider payabl to the corpor upon such exercis convers or exchang then such option or convert secur a so amend or adjust and the addit share of common stock subject thereto determin in the manner provid in subsect 4 4 3 a shall be deem to have been issu effect upon such increas or decreas becom effective  14 \f",
      " d termin of ani unexercis option or unconvert or unexchang convert secur or portion thereof which result either upon it origin issuanc or upon a revis of it term in an adjust to the applic convers price pursuant to the term of subsect 4 4 4 the applic convers price shall be readjust to such applic convers price a would have obtain had such option or convert secur or portion thereof never been issuedth expir or upon e if the number of share of common stock issuabl upon the exercis convers and or exchang of ani option or convert secur or the consider payabl to the corpor upon such exercis convers and or exchang is calcul at the time such option or convert secur is issu or amend but is subject to adjust base upon subsequ event ani adjust to the applic convers price provid for in thi subsect 4 4 3 shall be effect at the time of such issuanc or amend base on such number of share or amount of consider without regard to ani provis for subsequ adjust and ani subsequ adjust shall be treat a provid in claus b and c of thi subsect 4 4 3 if the number of share of common stock issuabl upon the exercis convers and or exchang of ani option or convert secur or the consider payabl to the corpor upon such exercis convers and or exchang cannot be calcul at all at the time such option or convert secur is issu or amend ani adjust to the applic convers price that would result under the term of thi subsect 4 4 3 at the time of such issuanc or amend shall instead be effect at the time such number of share and or amount of consider is first calcul even if subject to subsequ adjust assum for purpos of calcul such adjust to the applic convers price that such issuanc or amend took place at the time such calcul can first be made 4 4 4 adjust of the applic convers price upon issuanc of addit share of common stock in the event the corpor shall at ani time after the seri c origin issu date issu addit share of common stock includ addit share of common stock deem to be issu pursuant to subsect 443 without consider or for a consider per share le than the applic convers price in effect immedi prior to such issu then the applic convers price shall be reduc concurr with such issu to a price calcul to the nearest one hundredth of a cent determin in accord with the follow formula for purpos of the forego formula the follow definit shall appli cp2 cpi a b a c  in effect immedi after such issu of addit share of common stock a cp2 shall mean the applic convers price in effect immedi prior to such issu of addit share of common stock b cpi shall mean the applic convers price a shall mean the number of share of common stock outstand immedi prior to such issu of addit share of common stock c 15 \f",
      " treat for thi purpos a outstand all share of common stock issuabl upon exercis of option outstand immedi prior to such issu or upon convers or exchang of convert secur includ the prefer stock outstand assum exercis of ani outstand option therefor immedi prior to such issu b shall mean the number of share of common stock that would have been issu if such addit share of common stock had been issu at a price per share equal to cpi determin by divid the aggreg consider receiv by the corpor in respect of such issu by cpi and d share of common stock issu in such transaction\n"
     ]
    },
    {
     "name": "stdout",
     "output_type": "stream",
     "text": [
      "no begining found\n",
      "begining -60 end 40\n",
      "\n",
      "begining 5912 end 8004\n",
      "fourth addit share of common stock shall mean all share of common stock issu or pursuant to subsect 4 4 3 below deem to be issu by the corpor after the seri c origin issu date other than exempt securities  a convert secur shall mean ani evid of indebted share or other secur directli or indirectli convert into or exchang for common stock but exclud options  b the follow share of common stock and 2 share of common stock deem issu pursuant to the follow option and convert secur exempt secur shall mean 1 c 11 \f",
      " share of common orconvert secur issu a a dividend or distribut on prefer stock stock option stock option share of common orconvert secur issu by reason of a dividend stock split split up or other distribut on share of common stock that is cover by subsect 4.5 4 6 4 7 or 48 share of common stock or option issu to employe or director of or consult or advisor to the corpor or ani of it subsidiari pursuant to a plan agreement or arrang approv by the board of director of the corpor share of common stock or convert secur actual issu upon the exercis of option or share of common stock actual issu upon the convers or exchang of convert secur in each case provid such issuanc is pursuant to the term of such option or convert secur lessor stock option issu or other orshar of common to bank convert secur financi equip lessor institut or to real properti pursuant to a debt financ equip lea or real properti lea transact approv by the board of director of the corpor stock option share of common orconvert secur issu to supplier or third parti servic provid in connect with the provis of good or servic pursuant to transact approv by the board of director of the corpor stock option share of common orconvert secur issu pursuant to the acquisit of anoth corpor by the corpor by merger purchas of substanti all of the asset or other i ii iii iv v vi vii 12 \f",
      " to reorgan or joint ventur agreement provid that such issuanc are approv by the board of director of the corpor os viii sponsor share of common stock option or convert secur issu in connect with research collabor technolog licens develop oem market or other similar agreement or strateg partnership approv by the board of director of the corporationsubscrib for purchas or otherwis acquir common stock or convert secur d option shall mean right option or warrant to on which the first share of seri c prefer stock wa issu e seri c origin issu date shall mean the date 4 4 2 no adjust of convers price no adjust in the applic convers price for the seri a prefer stock or the seri a l prefer stock shall be made a the result of the issuanc or deem issuanc of addit share of common stock if the corpor receiv written notic from the holder of at least a major of the then outstand share of seri a prefer stock and seri a l prefer stock vote togeth a a singl class and on an a convert to common stock basi agre that no such adjust shall be made with respect to such seri a prefer stock and seri a l prefer a the result of the issuanc or deem issuanc of such addit share of common stock no adjust in the applic convers price for the seri b prefer stock shall be made a the result of the issuanc or deem issuanc of addit share of common stock if the corpor receiv written notic from the holder of at least a major of the then outstand share of seri b prefer stock agre that no such adjust shall be made a the result of the issuanc or deem issuanc of such addit share of common stock no adjust in the applic convers price for the seri c prefer stock shall be made a the result of the issuanc or deem issuanc of addit share of common stock if the corpor receiv written notic from the holder of at least a major of the then outstand share of seri c prefer stock agre that no such adjust shall be made a the result of the issuanc or deem issuanc of such addit share of common stock 4 4 3 deem issu of addit share of common stock  a if the corpor at ani time or from time to time after the seri c origin issu date shall issu ani option or convert secur exclud option or convert secur which are themselv exempt secur or shall fix a record date for the determin of holder of ani class of secur entitl to receiv ani such option or convert secur then the maximum number of share of common stock a set forth in the instrument relat thereto assum the satisfact of ani condit to exercis convert or exchang but without regard to ani provis contain 13 \f",
      " therein for a subsequ adjust of such number issuabl upon the exercis of such option or in the case of convert secur and option therefor the convers or exchang of such convert secur shall be deem to be addit share of common stock issu a of the time of such issu or in case such a record date shall have been fix a of the close of busi on such record date  b if the term of ani option or convert secur the issuanc of which result in an adjust to the applic convers price pursuant to the term of subsect 4 4 4 are revis a a result of an amend to such term or ani other adjust pursuant to the provis of such option or convert secur but exclud automat adjust to such term pursuant to anti dilut or similar provis of such option or convert secur to provid for either 1 ani increas or decreas in the number of share of common stock issuabl upon the exercis convers and or exchang of ani such option or convert secur or 2 ani increas or decreas in the consider payabl to the corpor upon such exercis convers and or exchang then effect upon such increas or decreas becom effect the applic convers price comput upon the origin issu of such option or convert secur or upon the occurr of a record date with respect thereto shall be readjust to such convers price a would have obtain had such revis term been in effect upon the origin date of issuanc of such option or convert secur notwithstand the forego no readjust pursuant to thi claus b shall have the effect of increas the applic convers price to an amount which exce the lower of i the convers price in effect immedi prior to the origin adjust made a a result of the issuanc of such option or convert secur or ii the applic convers price that would have result from ani issuanc of addit share of common stock other than deem issuanc of addit share of common stock a a result of the issuanc of such option or convert secur between the origin adjust date and such readjust date  c if the term of ani option or convert secur exclud option or convert secur which are themselv exempt secur the issuanc of which did not result in an adjust to the applic convers price pursuant to the term of subsect 4 4 4 either becaus the consider per share determin pursuant to subsect 4 4 5 of the addit share of common stock subject thereto wa equal to or greater than the applic convers price then in effect or becaus such option or convert secur wa issu befor the seri c origin issu date are revis after the seri c origin issu date a a result of an amend to such term or ani other adjust pursuant to the provis of such option or convert secur but exclud automat adjust to such term pursuant to anti dilut or similar provis of such option or convert secur to provid for either 1 ani increas in the number of share of common stock issuabl upon the exercis convers or exchang of ani such option or convert secur or 2 ani decreas in the consider payabl to the corpor upon such exercis convers or exchang then such option or convert secur a so amend or adjust and the addit share of common stock subject thereto determin in the manner provid in subsect 4 4 3 a shall be deem to have been issu effect upon such increas or decreas becom effective  14 \f",
      " d termin of ani unexercis option or unconvert or unexchang convert secur or portion thereof which result either upon it origin issuanc or upon a revis of it term in an adjust to the applic convers price pursuant to the term of subsect 4 4 4 the applic convers price shall be readjust to such applic convers price a would have obtain had such option or convert secur or portion thereof never been issuedth expir or upon e if the number of share of common stock issuabl upon the exercis convers and or exchang of ani option or convert secur or the consider payabl to the corpor upon such exercis convers and or exchang is calcul at the time such option or convert secur is issu or amend but is subject to adjust base upon subsequ event ani adjust to the applic convers price provid for in thi subsect 4 4 3 shall be effect at the time of such issuanc or amend base on such number of share or amount of consider without regard to ani provis for subsequ adjust and ani subsequ adjust shall be treat a provid in claus b and c of thi subsect 4 4 3 if the number of share of common stock issuabl upon the exercis convers and or exchang of ani option or convert secur or the consider payabl to the corpor upon such exercis convers and or exchang cannot be calcul at all at the time such option or convert secur is issu or amend ani adjust to the applic convers price that would result under the term of thi subsect 4 4 3 at the time of such issuanc or amend shall instead be effect at the time such number of share and or amount of consider is first calcul even if subject to subsequ adjust assum for purpos of calcul such adjust to the applic convers price that such issuanc or amend took place at the time such calcul can first be made 4 4 4 adjust of the applic convers price upon issuanc of addit share of common stock in the event the corpor shall at ani time after the seri c origin issu date issu addit share of common stock includ addit share of common stock deem to be issu pursuant to subsect 443 without consider or for a consider per share le than the applic convers price in effect immedi prior to such issu then the applic convers price shall be reduc concurr with such issu to a price calcul to the nearest one hundredth of a cent determin in accord with the follow formula for purpos of the forego formula the follow definit shall appli cp2 cpi a b a c  in effect immedi after such issu of addit share of common stock a cp2 shall mean the applic convers price in effect immedi prior to such issu of addit share of common stock b cpi shall mean the applic convers price a shall mean the number of share of common stock outstand immedi prior to such issu of addit share of common stock c 15 \f",
      " treat for thi purpos a outstand all share of common stock issuabl upon exercis of option outstand immedi prior to such issu or upon convers or exchang of convert secur includ the prefer stock outstand assum exercis of ani outstand option therefor immedi prior to such issu b shall mean the number of share of common stock that would have been issu if such addit share of common stock had been issu at a price per share equal to cpi determin by divid the aggreg consider receiv by the corpor in respect of such issu by cpi and d share of common stock issu in such transaction\n"
     ]
    },
    {
     "name": "stdout",
     "output_type": "stream",
     "text": [
      "begining 20 end 78\n",
      "iv is io n o f c o rp o ra tio n s d e liv e r e d 0 5 5 6 pm 0 7 0 3 2 0 1 3 file 0 5 38 pm 0 7 0 3 2 0 1 3 srv 130848560 5283608 filecertif of incorpor ofarvina inc a delawar corporationi\n",
      "no begining found\n",
      "begining 869 end 969\n",
      "of the gener corpor law of california to the extent otherwis applic shall not appli with respect to distribut a hereinaft defin made by the compani in connect with the repurchas of share of common stock issu to or held by employe consult offic or director at a price not greater than the amount paid by such person for such share upon termin of their employ or servic pursuant to agreement provid for the right of said repurchas or upon exercis of a right of first refus which agreement were author by the board of director for purpos of thi\n",
      "no begining found\n",
      "begining 969 end 1069\n",
      "and 1 b whether or not declar ani addit dividend declar shall be distribut among all holder of common stock and prefer stock in proport to the number of share of common stock held by each such holder or with respect to a holder of prefer stock the number of share of common stock into which the holder prefer stock is convert no dividend shall be declar or paid on the common stock unless and until the holder of prefer stock shall have receiv all unpaid dividend to which they are entitl under thi section 1 whether or not declar\n",
      "begining 22 end 1136\n",
      "iv is io n o f c o rp o ra tio n s d e liv e r e d 1 2 0 2 pm 0 7 2 8 2 0 0 6 file 12 01 pm 0 7 2 8 2 0 0 6 sjrv 060712240 3743830 fileamend and r esta te f g er tific a te o f in corpo ra tionbio sto ra g e tech n o lo g i inc v f pursuant to section 242 and 245 of the gener corpor law of the state of delawar the undersign biostorag technolog inc  have file it origin certif of incorpor with the secretari of state of the state of delawar on decemb 19 2003 and have file a certif o f amend with the secretari of state of the state of delawar on septemb 28 2004 doe herebi amend and restat it certif of incorpor thi restat certif a follow a rticl 1 name  the name of thi corpor is biostorag technolog inc the corpor  a rticl 2 nam e o f r eg ister ed agent address of reg isteredoffice th address of the regist offic of the corpor in the state of delawar is 1209 orang street counti of new castl wilmington de 19801 the name of it regist agent at such address is the corpor trust company a rticl 3 busi purpo se th natur of the busi or purpos to be conduct or promot is to engag in ani law act or activ for which corpor may be organ tinder the gener corpor law a rticl 4 capit sto cksection 4.1 a uthor share the total number of share of capit stock author to be issu by the corpor is 6000000 share divid into 4000000 share of common stock par valu $0.0001 per share the common stock and 2000000 share of prefer stock par valu s0 0001 per share the prefer stock  45787243 8\f",
      " section 4.2 classes a common stock1 2 common stock are subject to and qualifi by the right o f the holder of the prefer stock gener the vote dividend and liquid right of the holder o f thevot the holder of the common stock are entitl to one vote for each share held and shall be entitl to vote subject to ani vote right provid to holder of then outstand prefer stock upon such matter and in such manner a may be provid by law at all meet of stockhold and written action in lieu of meet provid howev that the number of author share of common stock may be increas or decreas but not below the number of share thereof then outstand by the affirm vote of the holder of a major of the stock of the corpor entitl to vote irrespect of the provis of section 242 b 2 of the gener corpor law of delaware 3 dividend dividend may be declar and paid on the common stockfrom fund law avail therefor a and when determin by the board of director subject to ani requisit approv by or ani preferenti dividend right of ani of the then outstand prefer stock or ani seri thereof 4 liquid upon the dissolut or liquid of the corpor whether voluntari or involuntari holder of common stock will be entitl to receiv all asset of the corpor avail for distribut to it stockhold subject to ani preferenti right of ani then outstand prefer stock or ani seri thereof b prefer stock th design power prefer and rel particip option or other special right and the qualif limit or restrict thereof of the share of prefer stock shall be a follow 1 design and am ount ttte share of such seri shall be design seri a convert prefer stock the seri a prefer stock and the number of share constitut such seri shall be 2000000.2 divid en ds  a the holder of seri a prefer stock shall be entitl to receiv whenami a declaredbi the board o f director of the corpor the board of director out of 4he netproffi of the corpor dividend per share equal to eight percent 8 per annum of the state valu a herein defin of such seri a prefer stock befor ani dividend shall be declar set apart for or paid upon the common stock or ani other stock rank with respect to dividend or on liquid junior to the seri a prefer stock such stock be refer to hereinaft collect a juniorstock 1 in ani year all dividend declar upon the seri a prefer stock shaltb e declar pro rata per share for purpos hereof the term state valu shall meaas5jz0 pershar subject to appropri adjust in the event of ani stock dividend stock split stock distribut or combin with respect to the seri a preferred45787243 82\f",
      " stock provid howev that there shall be no adjust to the state valu in respect o f ani dividend paid in addit share of seri a prefer slock pursuant to thi section 2 dividend shall be payabl in addit share of seri a prefer stock or in cash at the option of the holder of record o f at least 55 o f the outstand share of seri a prefer stock continu to accru whether or not declar and whether or norm ani fisoal year thgre shall be net profit or surplu avail for the payment of dividend in such fiscal year so that if in ani fiscal year or year dividend in whole or in part are not paid upon the seri a prefer stock unpaid dividend shall accumul a against the holder of the junior stock  c in the event dividend on the seri a prefer stock are paid in addit share of seri a prefer stock the number of share of seri a prefer stock to be issu in payment o f the dividend with respect to each outstand share of seri a prefer stock shall be determin by divid the amount of the dividend per share that would have been payabl had such dividend been paid in cash by the state valu to the extent that ani such dividend would result in the issuanc of a fraction share of seri a prefer stock which shall be determin with respect to the aggreg number of share of seri a prefer stock held of record by each holder then the amount of such fraction multipli by the state valu shall be paid in cash unless there are no legal avail fund with which to make such cash payment in which event such cash payment shall be made a soon a possibl\n",
      "no begining found\n",
      "begining 7961 end 8061\n",
      "be appropri decreas so that the number of share of common stock issuabl on convers of each share of such founder prefer stock shall be increas in proport to such increas of the aggreg number of share of common stock outstand and those issuabl with respect to such common stock equival with the number of share issuabl with respect to common stock equival determin from time to time in the manner provid for deem issuanc in section 4 d ii of thi articl iv c  provis shall appli for purpos of thi section 4 d of thi articl iv\n",
      "no begining found\n",
      "begining -87 end 13\n",
      "\n"
     ]
    },
    {
     "ename": "KeyboardInterrupt",
     "evalue": "",
     "output_type": "error",
     "traceback": [
      "\u001b[0;31m---------------------------------------------------------------------------\u001b[0m",
      "\u001b[0;31mKeyboardInterrupt\u001b[0m                         Traceback (most recent call last)",
      "\u001b[0;32m<ipython-input-43-078f19949b93>\u001b[0m in \u001b[0;36m<module>\u001b[0;34m\u001b[0m\n\u001b[0;32m----> 1\u001b[0;31m \u001b[0mtest_methods\u001b[0m\u001b[0;34m(\u001b[0m\u001b[0mfilename\u001b[0m\u001b[0;34m,\u001b[0m \u001b[0mn\u001b[0m\u001b[0;34m=\u001b[0m\u001b[0;34m-\u001b[0m\u001b[0;36m1\u001b[0m\u001b[0;34m,\u001b[0m \u001b[0mstart_index\u001b[0m\u001b[0;34m=\u001b[0m\u001b[0;36m0\u001b[0m\u001b[0;34m)\u001b[0m\u001b[0;34m\u001b[0m\u001b[0m\n\u001b[0m",
      "\u001b[0;32m<ipython-input-42-6fa884a43a5a>\u001b[0m in \u001b[0;36mtest_methods\u001b[0;34m(filename, n, start_index)\u001b[0m\n\u001b[1;32m     20\u001b[0m \u001b[0;34m\u001b[0m\u001b[0m\n\u001b[1;32m     21\u001b[0m         \u001b[0;31m#Test load intro text\u001b[0m\u001b[0;34m\u001b[0m\u001b[0;34m\u001b[0m\u001b[0m\n\u001b[0;32m---> 22\u001b[0;31m         \u001b[0mIntro_IV_text\u001b[0m \u001b[0;34m=\u001b[0m \u001b[0mget_IV_intro_text\u001b[0m\u001b[0;34m(\u001b[0m\u001b[0mfilepath\u001b[0m\u001b[0;34m,\u001b[0m \u001b[0mBEGINING_OF_IV_INTRO_TEXT\u001b[0m\u001b[0;34m,\u001b[0m \u001b[0mEND_OF_IV_INTRO_TEXT\u001b[0m\u001b[0;34m)\u001b[0m\u001b[0;34m\u001b[0m\u001b[0m\n\u001b[0m\u001b[1;32m     23\u001b[0m         \u001b[0;32mif\u001b[0m \u001b[0;34m(\u001b[0m\u001b[0mIntro_IV_text\u001b[0m \u001b[0;34m!=\u001b[0m \u001b[0;32mNone\u001b[0m\u001b[0;34m)\u001b[0m\u001b[0;34m:\u001b[0m\u001b[0;34m\u001b[0m\u001b[0m\n\u001b[1;32m     24\u001b[0m             \u001b[0ms\u001b[0m \u001b[0;34m+=\u001b[0m \u001b[0;36m1\u001b[0m\u001b[0;34m\u001b[0m\u001b[0m\n",
      "\u001b[0;32m<ipython-input-41-596078a69a88>\u001b[0m in \u001b[0;36mget_IV_intro_text\u001b[0;34m(filename, begining_intro_triggers, end_intro_triggers)\u001b[0m\n\u001b[1;32m      1\u001b[0m \u001b[0;32mdef\u001b[0m \u001b[0mget_IV_intro_text\u001b[0m\u001b[0;34m(\u001b[0m\u001b[0mfilename\u001b[0m\u001b[0;34m,\u001b[0m \u001b[0mbegining_intro_triggers\u001b[0m\u001b[0;34m,\u001b[0m \u001b[0mend_intro_triggers\u001b[0m\u001b[0;34m)\u001b[0m\u001b[0;34m:\u001b[0m\u001b[0;34m\u001b[0m\u001b[0m\n\u001b[0;32m----> 2\u001b[0;31m     \u001b[0mtext\u001b[0m \u001b[0;34m=\u001b[0m \u001b[0mread_contract\u001b[0m\u001b[0;34m(\u001b[0m\u001b[0mfilename\u001b[0m\u001b[0;34m)\u001b[0m\u001b[0;34m\u001b[0m\u001b[0m\n\u001b[0m\u001b[1;32m      3\u001b[0m     \u001b[0mtext\u001b[0m \u001b[0;34m=\u001b[0m \u001b[0mtext\u001b[0m\u001b[0;34m.\u001b[0m\u001b[0msplit\u001b[0m\u001b[0;34m(\u001b[0m\u001b[0;34m\" \"\u001b[0m\u001b[0;34m)\u001b[0m\u001b[0;34m\u001b[0m\u001b[0m\n\u001b[1;32m      4\u001b[0m \u001b[0;31m#     print(\"text\", text)\u001b[0m\u001b[0;34m\u001b[0m\u001b[0;34m\u001b[0m\u001b[0m\n\u001b[1;32m      5\u001b[0m \u001b[0;31m#     text = text.split(\" \")\u001b[0m\u001b[0;34m\u001b[0m\u001b[0;34m\u001b[0m\u001b[0m\n",
      "\u001b[0;32m~/Desktop/ContractsProject/load_contracts.py\u001b[0m in \u001b[0;36mread_contract\u001b[0;34m(filename)\u001b[0m\n\u001b[1;32m     58\u001b[0m     \u001b[0mfinal_string\u001b[0m \u001b[0;34m=\u001b[0m \u001b[0;34m\"\"\u001b[0m\u001b[0;34m\u001b[0m\u001b[0m\n\u001b[1;32m     59\u001b[0m     \u001b[0;32mfor\u001b[0m \u001b[0mi\u001b[0m \u001b[0;32min\u001b[0m \u001b[0mrange\u001b[0m\u001b[0;34m(\u001b[0m\u001b[0mnum_pages\u001b[0m\u001b[0;34m)\u001b[0m\u001b[0;34m:\u001b[0m\u001b[0;34m\u001b[0m\u001b[0m\n\u001b[0;32m---> 60\u001b[0;31m         \u001b[0mtext\u001b[0m \u001b[0;34m=\u001b[0m \u001b[0mconvert\u001b[0m\u001b[0;34m(\u001b[0m\u001b[0mfilename\u001b[0m\u001b[0;34m,\u001b[0m \u001b[0mpages\u001b[0m\u001b[0;34m=\u001b[0m\u001b[0;34m[\u001b[0m\u001b[0mi\u001b[0m\u001b[0;34m]\u001b[0m\u001b[0;34m)\u001b[0m\u001b[0;34m\u001b[0m\u001b[0m\n\u001b[0m\u001b[1;32m     61\u001b[0m         \u001b[0mstring\u001b[0m \u001b[0;34m=\u001b[0m \u001b[0mpreprocess_text\u001b[0m\u001b[0;34m(\u001b[0m\u001b[0mtext\u001b[0m\u001b[0;34m)\u001b[0m\u001b[0;34m\u001b[0m\u001b[0m\n\u001b[1;32m     62\u001b[0m         \u001b[0mfinal_string\u001b[0m \u001b[0;34m+=\u001b[0m \u001b[0mstring\u001b[0m \u001b[0;34m+\u001b[0m \u001b[0;34m\" \"\u001b[0m\u001b[0;34m\u001b[0m\u001b[0m\n",
      "\u001b[0;32m~/Desktop/ContractsProject/utils.py\u001b[0m in \u001b[0;36mconvert\u001b[0;34m(fname, pages)\u001b[0m\n\u001b[1;32m     35\u001b[0m     \u001b[0minfile\u001b[0m \u001b[0;34m=\u001b[0m \u001b[0mopen\u001b[0m\u001b[0;34m(\u001b[0m\u001b[0mfname\u001b[0m\u001b[0;34m,\u001b[0m \u001b[0;34m'rb'\u001b[0m\u001b[0;34m)\u001b[0m\u001b[0;34m\u001b[0m\u001b[0m\n\u001b[1;32m     36\u001b[0m     \u001b[0;32mfor\u001b[0m \u001b[0mpage\u001b[0m \u001b[0;32min\u001b[0m \u001b[0mPDFPage\u001b[0m\u001b[0;34m.\u001b[0m\u001b[0mget_pages\u001b[0m\u001b[0;34m(\u001b[0m\u001b[0minfile\u001b[0m\u001b[0;34m,\u001b[0m \u001b[0mpagenums\u001b[0m\u001b[0;34m)\u001b[0m\u001b[0;34m:\u001b[0m\u001b[0;34m\u001b[0m\u001b[0m\n\u001b[0;32m---> 37\u001b[0;31m         \u001b[0minterpreter\u001b[0m\u001b[0;34m.\u001b[0m\u001b[0mprocess_page\u001b[0m\u001b[0;34m(\u001b[0m\u001b[0mpage\u001b[0m\u001b[0;34m)\u001b[0m\u001b[0;34m\u001b[0m\u001b[0m\n\u001b[0m\u001b[1;32m     38\u001b[0m     \u001b[0minfile\u001b[0m\u001b[0;34m.\u001b[0m\u001b[0mclose\u001b[0m\u001b[0;34m(\u001b[0m\u001b[0;34m)\u001b[0m\u001b[0;34m\u001b[0m\u001b[0m\n\u001b[1;32m     39\u001b[0m     \u001b[0mconverter\u001b[0m\u001b[0;34m.\u001b[0m\u001b[0mclose\u001b[0m\u001b[0;34m(\u001b[0m\u001b[0;34m)\u001b[0m\u001b[0;34m\u001b[0m\u001b[0m\n",
      "\u001b[0;32m~/anaconda3/envs/contracts/lib/python3.6/site-packages/pdfminer/pdfinterp.py\u001b[0m in \u001b[0;36mprocess_page\u001b[0;34m(self, page)\u001b[0m\n\u001b[1;32m    851\u001b[0m         \u001b[0mself\u001b[0m\u001b[0;34m.\u001b[0m\u001b[0mdevice\u001b[0m\u001b[0;34m.\u001b[0m\u001b[0mbegin_page\u001b[0m\u001b[0;34m(\u001b[0m\u001b[0mpage\u001b[0m\u001b[0;34m,\u001b[0m \u001b[0mctm\u001b[0m\u001b[0;34m)\u001b[0m\u001b[0;34m\u001b[0m\u001b[0m\n\u001b[1;32m    852\u001b[0m         \u001b[0mself\u001b[0m\u001b[0;34m.\u001b[0m\u001b[0mrender_contents\u001b[0m\u001b[0;34m(\u001b[0m\u001b[0mpage\u001b[0m\u001b[0;34m.\u001b[0m\u001b[0mresources\u001b[0m\u001b[0;34m,\u001b[0m \u001b[0mpage\u001b[0m\u001b[0;34m.\u001b[0m\u001b[0mcontents\u001b[0m\u001b[0;34m,\u001b[0m \u001b[0mctm\u001b[0m\u001b[0;34m=\u001b[0m\u001b[0mctm\u001b[0m\u001b[0;34m)\u001b[0m\u001b[0;34m\u001b[0m\u001b[0m\n\u001b[0;32m--> 853\u001b[0;31m         \u001b[0mself\u001b[0m\u001b[0;34m.\u001b[0m\u001b[0mdevice\u001b[0m\u001b[0;34m.\u001b[0m\u001b[0mend_page\u001b[0m\u001b[0;34m(\u001b[0m\u001b[0mpage\u001b[0m\u001b[0;34m)\u001b[0m\u001b[0;34m\u001b[0m\u001b[0m\n\u001b[0m\u001b[1;32m    854\u001b[0m         \u001b[0;32mreturn\u001b[0m\u001b[0;34m\u001b[0m\u001b[0m\n\u001b[1;32m    855\u001b[0m \u001b[0;34m\u001b[0m\u001b[0m\n",
      "\u001b[0;32m~/anaconda3/envs/contracts/lib/python3.6/site-packages/pdfminer/converter.py\u001b[0m in \u001b[0;36mend_page\u001b[0;34m(self, page)\u001b[0m\n\u001b[1;32m     52\u001b[0m         \u001b[0;32massert\u001b[0m \u001b[0misinstance\u001b[0m\u001b[0;34m(\u001b[0m\u001b[0mself\u001b[0m\u001b[0;34m.\u001b[0m\u001b[0mcur_item\u001b[0m\u001b[0;34m,\u001b[0m \u001b[0mLTPage\u001b[0m\u001b[0;34m)\u001b[0m\u001b[0;34m,\u001b[0m \u001b[0mstr\u001b[0m\u001b[0;34m(\u001b[0m\u001b[0mtype\u001b[0m\u001b[0;34m(\u001b[0m\u001b[0mself\u001b[0m\u001b[0;34m.\u001b[0m\u001b[0mcur_item\u001b[0m\u001b[0;34m)\u001b[0m\u001b[0;34m)\u001b[0m\u001b[0;34m\u001b[0m\u001b[0m\n\u001b[1;32m     53\u001b[0m         \u001b[0;32mif\u001b[0m \u001b[0mself\u001b[0m\u001b[0;34m.\u001b[0m\u001b[0mlaparams\u001b[0m \u001b[0;32mis\u001b[0m \u001b[0;32mnot\u001b[0m \u001b[0;32mNone\u001b[0m\u001b[0;34m:\u001b[0m\u001b[0;34m\u001b[0m\u001b[0m\n\u001b[0;32m---> 54\u001b[0;31m             \u001b[0mself\u001b[0m\u001b[0;34m.\u001b[0m\u001b[0mcur_item\u001b[0m\u001b[0;34m.\u001b[0m\u001b[0manalyze\u001b[0m\u001b[0;34m(\u001b[0m\u001b[0mself\u001b[0m\u001b[0;34m.\u001b[0m\u001b[0mlaparams\u001b[0m\u001b[0;34m)\u001b[0m\u001b[0;34m\u001b[0m\u001b[0m\n\u001b[0m\u001b[1;32m     55\u001b[0m         \u001b[0mself\u001b[0m\u001b[0;34m.\u001b[0m\u001b[0mpageno\u001b[0m \u001b[0;34m+=\u001b[0m \u001b[0;36m1\u001b[0m\u001b[0;34m\u001b[0m\u001b[0m\n\u001b[1;32m     56\u001b[0m         \u001b[0mself\u001b[0m\u001b[0;34m.\u001b[0m\u001b[0mreceive_layout\u001b[0m\u001b[0;34m(\u001b[0m\u001b[0mself\u001b[0m\u001b[0;34m.\u001b[0m\u001b[0mcur_item\u001b[0m\u001b[0;34m)\u001b[0m\u001b[0;34m\u001b[0m\u001b[0m\n",
      "\u001b[0;32m~/anaconda3/envs/contracts/lib/python3.6/site-packages/pdfminer/layout.py\u001b[0m in \u001b[0;36manalyze\u001b[0;34m(self, laparams)\u001b[0m\n\u001b[1;32m    685\u001b[0m         \u001b[0mtextboxes\u001b[0m \u001b[0;34m=\u001b[0m \u001b[0mlist\u001b[0m\u001b[0;34m(\u001b[0m\u001b[0mself\u001b[0m\u001b[0;34m.\u001b[0m\u001b[0mgroup_textlines\u001b[0m\u001b[0;34m(\u001b[0m\u001b[0mlaparams\u001b[0m\u001b[0;34m,\u001b[0m \u001b[0mtextlines\u001b[0m\u001b[0;34m)\u001b[0m\u001b[0;34m)\u001b[0m\u001b[0;34m\u001b[0m\u001b[0m\n\u001b[1;32m    686\u001b[0m         \u001b[0;32mif\u001b[0m \u001b[0;34m-\u001b[0m\u001b[0;36m1\u001b[0m \u001b[0;34m<=\u001b[0m \u001b[0mlaparams\u001b[0m\u001b[0;34m.\u001b[0m\u001b[0mboxes_flow\u001b[0m \u001b[0;32mand\u001b[0m \u001b[0mlaparams\u001b[0m\u001b[0;34m.\u001b[0m\u001b[0mboxes_flow\u001b[0m \u001b[0;34m<=\u001b[0m \u001b[0;34m+\u001b[0m\u001b[0;36m1\u001b[0m \u001b[0;32mand\u001b[0m \u001b[0mtextboxes\u001b[0m\u001b[0;34m:\u001b[0m\u001b[0;34m\u001b[0m\u001b[0m\n\u001b[0;32m--> 687\u001b[0;31m             \u001b[0mself\u001b[0m\u001b[0;34m.\u001b[0m\u001b[0mgroups\u001b[0m \u001b[0;34m=\u001b[0m \u001b[0mself\u001b[0m\u001b[0;34m.\u001b[0m\u001b[0mgroup_textboxes\u001b[0m\u001b[0;34m(\u001b[0m\u001b[0mlaparams\u001b[0m\u001b[0;34m,\u001b[0m \u001b[0mtextboxes\u001b[0m\u001b[0;34m)\u001b[0m\u001b[0;34m\u001b[0m\u001b[0m\n\u001b[0m\u001b[1;32m    688\u001b[0m             \u001b[0massigner\u001b[0m \u001b[0;34m=\u001b[0m \u001b[0mIndexAssigner\u001b[0m\u001b[0;34m(\u001b[0m\u001b[0;34m)\u001b[0m\u001b[0;34m\u001b[0m\u001b[0m\n\u001b[1;32m    689\u001b[0m             \u001b[0;32mfor\u001b[0m \u001b[0mgroup\u001b[0m \u001b[0;32min\u001b[0m \u001b[0mself\u001b[0m\u001b[0;34m.\u001b[0m\u001b[0mgroups\u001b[0m\u001b[0;34m:\u001b[0m\u001b[0;34m\u001b[0m\u001b[0m\n",
      "\u001b[0;32m~/anaconda3/envs/contracts/lib/python3.6/site-packages/pdfminer/layout.py\u001b[0m in \u001b[0;36mgroup_textboxes\u001b[0;34m(self, laparams, boxes)\u001b[0m\n\u001b[1;32m    650\u001b[0m         \u001b[0;32mwhile\u001b[0m \u001b[0mdists\u001b[0m\u001b[0;34m:\u001b[0m\u001b[0;34m\u001b[0m\u001b[0m\n\u001b[1;32m    651\u001b[0m             \u001b[0;34m(\u001b[0m\u001b[0mc\u001b[0m\u001b[0;34m,\u001b[0m \u001b[0md\u001b[0m\u001b[0;34m,\u001b[0m \u001b[0mobj1\u001b[0m\u001b[0;34m,\u001b[0m \u001b[0mobj2\u001b[0m\u001b[0;34m)\u001b[0m \u001b[0;34m=\u001b[0m \u001b[0mdists\u001b[0m\u001b[0;34m.\u001b[0m\u001b[0mpop\u001b[0m\u001b[0;34m(\u001b[0m\u001b[0;36m0\u001b[0m\u001b[0;34m)\u001b[0m\u001b[0;34m\u001b[0m\u001b[0m\n\u001b[0;32m--> 652\u001b[0;31m             \u001b[0;32mif\u001b[0m \u001b[0mc\u001b[0m \u001b[0;34m==\u001b[0m \u001b[0;36m0\u001b[0m \u001b[0;32mand\u001b[0m \u001b[0misany\u001b[0m\u001b[0;34m(\u001b[0m\u001b[0mobj1\u001b[0m\u001b[0;34m,\u001b[0m \u001b[0mobj2\u001b[0m\u001b[0;34m)\u001b[0m\u001b[0;34m:\u001b[0m\u001b[0;34m\u001b[0m\u001b[0m\n\u001b[0m\u001b[1;32m    653\u001b[0m                 \u001b[0mdists\u001b[0m\u001b[0;34m.\u001b[0m\u001b[0madd\u001b[0m\u001b[0;34m(\u001b[0m\u001b[0;34m(\u001b[0m\u001b[0;36m1\u001b[0m\u001b[0;34m,\u001b[0m \u001b[0md\u001b[0m\u001b[0;34m,\u001b[0m \u001b[0mobj1\u001b[0m\u001b[0;34m,\u001b[0m \u001b[0mobj2\u001b[0m\u001b[0;34m)\u001b[0m\u001b[0;34m)\u001b[0m\u001b[0;34m\u001b[0m\u001b[0m\n\u001b[1;32m    654\u001b[0m                 \u001b[0;32mcontinue\u001b[0m\u001b[0;34m\u001b[0m\u001b[0m\n",
      "\u001b[0;32m~/anaconda3/envs/contracts/lib/python3.6/site-packages/pdfminer/layout.py\u001b[0m in \u001b[0;36misany\u001b[0;34m(obj1, obj2)\u001b[0m\n\u001b[1;32m    633\u001b[0m             \u001b[0mx1\u001b[0m \u001b[0;34m=\u001b[0m \u001b[0mmax\u001b[0m\u001b[0;34m(\u001b[0m\u001b[0mobj1\u001b[0m\u001b[0;34m.\u001b[0m\u001b[0mx1\u001b[0m\u001b[0;34m,\u001b[0m \u001b[0mobj2\u001b[0m\u001b[0;34m.\u001b[0m\u001b[0mx1\u001b[0m\u001b[0;34m)\u001b[0m\u001b[0;34m\u001b[0m\u001b[0m\n\u001b[1;32m    634\u001b[0m             \u001b[0my1\u001b[0m \u001b[0;34m=\u001b[0m \u001b[0mmax\u001b[0m\u001b[0;34m(\u001b[0m\u001b[0mobj1\u001b[0m\u001b[0;34m.\u001b[0m\u001b[0my1\u001b[0m\u001b[0;34m,\u001b[0m \u001b[0mobj2\u001b[0m\u001b[0;34m.\u001b[0m\u001b[0my1\u001b[0m\u001b[0;34m)\u001b[0m\u001b[0;34m\u001b[0m\u001b[0m\n\u001b[0;32m--> 635\u001b[0;31m             \u001b[0mobjs\u001b[0m \u001b[0;34m=\u001b[0m \u001b[0mset\u001b[0m\u001b[0;34m(\u001b[0m\u001b[0mplane\u001b[0m\u001b[0;34m.\u001b[0m\u001b[0mfind\u001b[0m\u001b[0;34m(\u001b[0m\u001b[0;34m(\u001b[0m\u001b[0mx0\u001b[0m\u001b[0;34m,\u001b[0m \u001b[0my0\u001b[0m\u001b[0;34m,\u001b[0m \u001b[0mx1\u001b[0m\u001b[0;34m,\u001b[0m \u001b[0my1\u001b[0m\u001b[0;34m)\u001b[0m\u001b[0;34m)\u001b[0m\u001b[0;34m)\u001b[0m\u001b[0;34m\u001b[0m\u001b[0m\n\u001b[0m\u001b[1;32m    636\u001b[0m             \u001b[0;32mreturn\u001b[0m \u001b[0mobjs\u001b[0m\u001b[0;34m.\u001b[0m\u001b[0mdifference\u001b[0m\u001b[0;34m(\u001b[0m\u001b[0;34m(\u001b[0m\u001b[0mobj1\u001b[0m\u001b[0;34m,\u001b[0m \u001b[0mobj2\u001b[0m\u001b[0;34m)\u001b[0m\u001b[0;34m)\u001b[0m\u001b[0;34m\u001b[0m\u001b[0m\n\u001b[1;32m    637\u001b[0m \u001b[0;34m\u001b[0m\u001b[0m\n",
      "\u001b[0;31mKeyboardInterrupt\u001b[0m: "
     ]
    }
   ],
   "source": [
    "test_methods(filename, n=-1, start_index=0)"
   ]
  },
  {
   "cell_type": "code",
   "execution_count": 84,
   "metadata": {},
   "outputs": [
    {
     "name": "stdout",
     "output_type": "stream",
     "text": [
      "[['fourth'], ['iv'], ['corpor', 'is', 'author', 'to', 'issu'], ['the', 'total', 'number', 'of', 'share', 'of', 'all', 'class', 'of', 'stock']]\n",
      "[['the', 'follow', 'is', 'a', 'statement', 'of', 'the', 'design', 'and', 'the', 'right', 'power', 'and', 'prefer'], ['follow', 'is', 'a', 'statement', 'of', 'the', 'design', 'and', 'the', 'right', 'power', 'and', 'prefer'], ['rel', 'right', 'prefer', 'privileg', 'and', 'restrict', 'grant'], ['section', '1', 'dividen'], ['the', 'undersign', 'incorpor'], ['power', 'prefer', 'right', 'restrict', 'and', 'other', 'matter'], ['dividend'], ['amend', 'to', 'restat', 'certif', 'of', 'incorpor', 'ha', 'been', 'duli', 'adopt'], ['fith'], ['the', 'name', 'and', 'mail', 'address', 'of', 'the', 'sole']]\n"
     ]
    }
   ],
   "source": [
    "BEGINING_OF_IV_INTRO_TEXT = get_proccessed_triggers(\"Begining_IV\")\n",
    "END_OF_IV_INTRO_TEXT = get_proccessed_triggers(\"End_IV_intro\")\n",
    "print(BEGINING_OF_IV_INTRO_TEXT)\n",
    "print(END_OF_IV_INTRO_TEXT)"
   ]
  },
  {
   "cell_type": "code",
   "execution_count": 1,
   "metadata": {
    "collapsed": true
   },
   "outputs": [],
   "source": [
    "Failures = [\n",
    "    \"/Users/DanielLongo/Dropbox/VC RA Avinika Narayan/Contracts project/coi/Done OCR'd/ActiveSemi International/148_ActiveSemi_COI_11082010.pdf\",\n",
    "]\n"
   ]
  },
  {
   "cell_type": "code",
   "execution_count": null,
   "metadata": {
    "collapsed": true
   },
   "outputs": [],
   "source": []
  }
 ],
 "metadata": {
  "kernelspec": {
   "display_name": "contracts",
   "language": "python",
   "name": "contracts"
  },
  "language_info": {
   "codemirror_mode": {
    "name": "ipython",
    "version": 3
   },
   "file_extension": ".py",
   "mimetype": "text/x-python",
   "name": "python",
   "nbconvert_exporter": "python",
   "pygments_lexer": "ipython3",
   "version": "3.6.0"
  }
 },
 "nbformat": 4,
 "nbformat_minor": 2
}
