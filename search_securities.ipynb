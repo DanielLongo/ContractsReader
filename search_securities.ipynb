{
 "cells": [
  {
   "cell_type": "code",
   "execution_count": 64,
   "metadata": {
    "collapsed": true
   },
   "outputs": [],
   "source": [
    "import numpy as np\n",
    "import warnings"
   ]
  },
  {
   "cell_type": "code",
   "execution_count": 16,
   "metadata": {
    "collapsed": true,
    "scrolled": true
   },
   "outputs": [],
   "source": [
    "from load_contracts import read_contract, preprocess_text\n",
    "from load_info import get_security_names"
   ]
  },
  {
   "cell_type": "code",
   "execution_count": 17,
   "metadata": {
    "collapsed": true
   },
   "outputs": [],
   "source": [
    "filename = \"contracts/135_ActelisNetworks_COI_01072005.pdf\""
   ]
  },
  {
   "cell_type": "code",
   "execution_count": 18,
   "metadata": {
    "collapsed": true
   },
   "outputs": [],
   "source": [
    "END_OF_IV_INTRO_TEXT = ['rel','right','prefer','privileg','and','restrict','grant','to','or','impos','upon','the','common','stock','and','the','prefer','stock','and','the','holder']"
   ]
  },
  {
   "cell_type": "code",
   "execution_count": 19,
   "metadata": {
    "collapsed": true
   },
   "outputs": [],
   "source": [
    "text = read_contract(filename)\n",
    "text = text.split(\" \")\n",
    "text = list(filter(lambda a: a != '', text))"
   ]
  },
  {
   "cell_type": "code",
   "execution_count": 20,
   "metadata": {
    "collapsed": true
   },
   "outputs": [],
   "source": [
    "def get_closest_string(values, target, less, any=False):\n",
    "    if (any):\n",
    "        val = min(values, key=lambda x: abs(target - x))\n",
    "    elif (less):\n",
    "        val = min(values, key=lambda x: target - x)\n",
    "    else:\n",
    "        val = min(values, key=lambda x: x - target)\n",
    "    return val"
   ]
  },
  {
   "cell_type": "code",
   "execution_count": 84,
   "metadata": {
    "collapsed": true
   },
   "outputs": [],
   "source": [
    "def get_closest_num(values, target, less, min=-1, max=1e10000, any=False):\n",
    "    try:\n",
    "        index = int(target)\n",
    "    except ValueError:\n",
    "        indicies = find_target(values, target.split(\" \"))\n",
    "        if len(indicies) > 1:\n",
    "            warnings.warn(\"Indicies length greath than one\", RuntimeWarning)\n",
    "            print(\"Indicies\", indicies)\n",
    "        assert(len(indicies) > 1), \"Invalid target\"\n",
    "        index = indicies[-1]\n",
    "    print(index, type(index))"
   ]
  },
  {
   "cell_type": "code",
   "execution_count": 21,
   "metadata": {
    "collapsed": true
   },
   "outputs": [],
   "source": [
    "def find_target(text, target):\n",
    "    target_loc = 0\n",
    "    indicies = []\n",
    "    start_index = 0\n",
    "    for i in range(len(text)):\n",
    "        word = text[i]\n",
    "#         print(\"target_loc\", target_loc)\n",
    "        if word == target[target_loc]:\n",
    "            if target_loc == 0: #marks start of sequence\n",
    "                start_index = i\n",
    "            target_loc += 1\n",
    "            if target_loc == len(target):\n",
    "                indicies += [start_index]\n",
    "                target_loc = 0\n",
    "        elif word == target[0]:\n",
    "            target_loc = 1\n",
    "        else:\n",
    "            if target_loc > 0:\n",
    "                #reset just incase ababcd \n",
    "                i -= (target_loc - 1) \n",
    "            target_loc = 0\n",
    "    return indicies"
   ]
  },
  {
   "cell_type": "code",
   "execution_count": 22,
   "metadata": {
    "collapsed": true,
    "scrolled": false
   },
   "outputs": [],
   "source": [
    "x = find_target(text, [\"common\"])"
   ]
  },
  {
   "cell_type": "code",
   "execution_count": 23,
   "metadata": {
    "collapsed": true
   },
   "outputs": [],
   "source": [
    "def get_names(text):\n",
    "    unsplit_names = get_security_names()\n",
    "    names = [name.split(\" \") for name in unsplit_names]\n",
    "    indicies = []\n",
    "    types = []\n",
    "    for name in names:\n",
    "        if (len(name) == 1):\n",
    "            name += [\"stock\"]\n",
    "        cur_indicies = find_target(text, name)\n",
    "        if len(cur_indicies) > 0:\n",
    "            types += [\" \".join(name)]\n",
    "            indicies += [cur_indicies]\n",
    "    #remove extra \"prefered stock\"\n",
    "    has_extra_prefered = True\n",
    "    if \"prefer stock\" in types:\n",
    "        for type in types:\n",
    "            if type[-6:] == 'prefer':\n",
    "                has_extra_prefered = True\n",
    "                break\n",
    "        if (has_extra_prefered):\n",
    "            indicies.pop(types.index('prefer stock'))\n",
    "            types.remove('prefer stock')\n",
    "    return indicies, types"
   ]
  },
  {
   "cell_type": "code",
   "execution_count": 24,
   "metadata": {},
   "outputs": [],
   "source": [
    "unsplit_names = get_security_names()"
   ]
  },
  {
   "cell_type": "code",
   "execution_count": 51,
   "metadata": {
    "collapsed": true
   },
   "outputs": [],
   "source": [
    "all_names = [name.split(\" \") for name in unsplit_names]"
   ]
  },
  {
   "cell_type": "code",
   "execution_count": 26,
   "metadata": {
    "collapsed": true
   },
   "outputs": [],
   "source": [
    "indicies = []\n",
    "for name in names:\n",
    "    indicies += [find_target(text, name)]\n"
   ]
  },
  {
   "cell_type": "code",
   "execution_count": 27,
   "metadata": {
    "collapsed": true
   },
   "outputs": [],
   "source": [
    "index_of_article_IV = find_target(text, [\"articl\", \"fourth\"])"
   ]
  },
  {
   "cell_type": "code",
   "execution_count": null,
   "metadata": {},
   "outputs": [],
   "source": [
    "text[index_of_article_IV[0]: index_of_article_IV[0] + 2]"
   ]
  },
  {
   "cell_type": "code",
   "execution_count": 53,
   "metadata": {
    "collapsed": true
   },
   "outputs": [],
   "source": [
    "def get_types(names):\n",
    "    types = []\n",
    "    for name in names:\n",
    "        if \"common\" in name:\n",
    "            types += [\"common\"]\n",
    "        elif \"prefer\" in name:\n",
    "            types += [\"prefered\"]\n",
    "        else:\n",
    "            print(\"name doesn't contain common or prefer:\", \"\".join(name))\n",
    "            types += [\"No type found\"]\n",
    "    return types"
   ]
  },
  {
   "cell_type": "markdown",
   "metadata": {},
   "source": [
    "### Search Through IV Intro"
   ]
  },
  {
   "cell_type": "code",
   "execution_count": 28,
   "metadata": {
    "collapsed": true
   },
   "outputs": [],
   "source": [
    "end_of_IV_intro = find_target(text, END_OF_IV_INTRO_TEXT)"
   ]
  },
  {
   "cell_type": "code",
   "execution_count": 29,
   "metadata": {
    "collapsed": true
   },
   "outputs": [],
   "source": [
    "assert(len(end_of_IV_intro) == 1)"
   ]
  },
  {
   "cell_type": "code",
   "execution_count": 30,
   "metadata": {
    "collapsed": true
   },
   "outputs": [],
   "source": [
    "end_of_IV_intro = end_of_IV_intro[0]"
   ]
  },
  {
   "cell_type": "code",
   "execution_count": 31,
   "metadata": {
    "collapsed": true
   },
   "outputs": [],
   "source": [
    "articl_forth_occur = find_target(text, [\"articl\", \"fourth\"])"
   ]
  },
  {
   "cell_type": "code",
   "execution_count": 32,
   "metadata": {
    "collapsed": true
   },
   "outputs": [],
   "source": [
    "begining_of_IV = get_closest_string(values = articl_forth_occur, target=end_of_IV_intro, less=True)"
   ]
  },
  {
   "cell_type": "code",
   "execution_count": 33,
   "metadata": {},
   "outputs": [
    {
     "name": "stdout",
     "output_type": "stream",
     "text": [
      "IV Intro starts 203 IV Intro ends 363\n"
     ]
    }
   ],
   "source": [
    "print(\"IV Intro starts\", begining_of_IV, \"IV Intro ends\", end_of_IV_intro)"
   ]
  },
  {
   "cell_type": "code",
   "execution_count": 34,
   "metadata": {},
   "outputs": [
    {
     "data": {
      "text/plain": [
       "'articl fourth compani is author to issu two class of share design respect common stock and prefer stock the compani is author to issu 43000000 share of common stock with a par valu of $0.01 per share the compani is author to issu 26007500 share of prefer stock 800000 of which are design seri a prefer stock with a par valu of $0.01 per share seri a prefer 700000 of which are design seri b prefer stock with a par valu of $0.01 per share seri b prefer 1507500 of which are design seri c prefer stock with a par valu of $0.01 per share seri c prefer and 23000000 of which are design seri d prefer stock with a par valu of $0.01 per share seri d prefer for the purpos of thi amend and restat certif of incorpor the term prefer stock shall mean seri a prefer seri b prefer seri c prefer and seri d prefer collectively.th'"
      ]
     },
     "execution_count": 34,
     "metadata": {},
     "output_type": "execute_result"
    }
   ],
   "source": [
    "\" \".join(text[begining_of_IV:end_of_IV_intro])"
   ]
  },
  {
   "cell_type": "code",
   "execution_count": 68,
   "metadata": {
    "collapsed": true
   },
   "outputs": [],
   "source": [
    "IV_intro_text = text[begining_of_IV:end_of_IV_intro]"
   ]
  },
  {
   "cell_type": "code",
   "execution_count": 69,
   "metadata": {},
   "outputs": [],
   "source": [
    "indicies, names = get_names(IV_intro_text)"
   ]
  },
  {
   "cell_type": "code",
   "execution_count": 60,
   "metadata": {},
   "outputs": [],
   "source": [
    "types = get_types(names)"
   ]
  },
  {
   "cell_type": "code",
   "execution_count": null,
   "metadata": {
    "collapsed": true
   },
   "outputs": [],
   "source": [
    "get_closest_num(values, , False)"
   ]
  },
  {
   "cell_type": "code",
   "execution_count": 61,
   "metadata": {},
   "outputs": [
    {
     "name": "stdout",
     "output_type": "stream",
     "text": [
      "['common', 'prefered', 'prefered', 'prefered', 'prefered']\n"
     ]
    }
   ],
   "source": [
    "print(types)"
   ]
  },
  {
   "cell_type": "code",
   "execution_count": 62,
   "metadata": {},
   "outputs": [
    {
     "name": "stdout",
     "output_type": "stream",
     "text": [
      "['common stock', 'seri a prefer', 'seri b prefer', 'seri c prefer', 'seri d prefer']\n"
     ]
    }
   ],
   "source": [
    "print(names)"
   ]
  },
  {
   "cell_type": "code",
   "execution_count": 83,
   "metadata": {},
   "outputs": [
    {
     "name": "stdout",
     "output_type": "stream",
     "text": [
      "Indicies [216, 230, 375, 395, 730, 758, 775, 923, 961, 1000, 1421, 1555, 1738, 1956, 1981, 2062, 2143, 2223, 2386, 2441, 2485, 2623, 2673, 2713, 2781, 2856, 2917, 2939, 3080, 3085, 3148, 3153, 3188, 3419, 3430, 3450, 3493, 3508, 3577, 3589, 3752, 3871, 3985, 4073, 4083, 4154, 4273, 4285, 4310, 4320, 4390, 4411, 4426, 4448, 4454, 4470, 4474, 4482, 4543, 4578, 4598, 4633, 4753, 4781, 4810, 4906, 5035, 5204, 5384, 5406, 5440, 5483, 5758, 5765, 5782, 5802, 5817, 5865, 5959, 6001, 6012, 6048, 6254, 6304, 6333, 6519, 6542, 6565, 7094, 7325, 7364, 7427, 7583, 7692]\n",
      "7692 <class 'int'>\n"
     ]
    },
    {
     "name": "stderr",
     "output_type": "stream",
     "text": [
      "RuntimeWarning: Indicies length greath than one [ipykernel_launcher.py:7]\n"
     ]
    }
   ],
   "source": [
    "get_closest_num(IV_intro_text, names[0], False)"
   ]
  },
  {
   "cell_type": "code",
   "execution_count": 81,
   "metadata": {},
   "outputs": [
    {
     "data": {
      "text/plain": [
       "160"
      ]
     },
     "execution_count": 81,
     "metadata": {},
     "output_type": "execute_result"
    }
   ],
   "source": [
    "len(IV_intro_text)"
   ]
  },
  {
   "cell_type": "code",
   "execution_count": null,
   "metadata": {
    "collapsed": true
   },
   "outputs": [],
   "source": []
  }
 ],
 "metadata": {
  "kernelspec": {
   "display_name": "Python 3",
   "language": "python",
   "name": "python3"
  },
  "language_info": {
   "codemirror_mode": {
    "name": "ipython",
    "version": 3
   },
   "file_extension": ".py",
   "mimetype": "text/x-python",
   "name": "python",
   "nbconvert_exporter": "python",
   "pygments_lexer": "ipython3",
   "version": "3.6.3"
  }
 },
 "nbformat": 4,
 "nbformat_minor": 2
}
