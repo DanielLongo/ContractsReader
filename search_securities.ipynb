{
 "cells": [
  {
   "cell_type": "code",
   "execution_count": 1,
   "metadata": {},
   "outputs": [],
   "source": [
    "from load_contracts import read_contract"
   ]
  },
  {
   "cell_type": "code",
   "execution_count": 2,
   "metadata": {},
   "outputs": [],
   "source": [
    "filename = \"contracts/135_ActelisNetworks_COI_01072005.pdf\""
   ]
  },
  {
   "cell_type": "code",
   "execution_count": 3,
   "metadata": {},
   "outputs": [],
   "source": [
    "text = read_contract(filename)"
   ]
  },
  {
   "cell_type": "code",
   "execution_count": 4,
   "metadata": {},
   "outputs": [],
   "source": [
    "text = text.split(\" \")"
   ]
  },
  {
   "cell_type": "code",
   "execution_count": 87,
   "metadata": {},
   "outputs": [],
   "source": [
    "def find_target(text, target):\n",
    "    indicies = []\n",
    "    removed = 0\n",
    "    while True:\n",
    "        try:\n",
    "            for i, word in list(enumerate(target)):\n",
    "                curr_index = text.index(word)\n",
    "                if i == 0: #marks first index\n",
    "                    start_index = curr_index\n",
    "                    continue\n",
    "                if curr_index != (start_index + i): #skips words between \n",
    "                    print(\"invalid sequence\", start_index)\n",
    "                    removed += start_index\n",
    "                    text = text[start_index + 1:]\n",
    "                    break\n",
    "                if i == len(target) - 1: #final element\n",
    "                    if curr_index == (len(target) + start_index - 1):\n",
    "                        print(\"valid sequence\", start_index + removed)\n",
    "                        indicies += [start_index + removed]\n",
    "                    removed += start_index\n",
    "                    text = text[start_index + 1:]\n",
    "        except ValueError:\n",
    "            return indicies\n",
    "        \n",
    "            \n",
    "        \n",
    "#             start_index \n",
    "#             try:\n",
    "#                 cur_index = text.index(word)\n",
    "#             except ValueError:\n",
    "#                 return index"
   ]
  },
  {
   "cell_type": "code",
   "execution_count": 88,
   "metadata": {
    "scrolled": false
   },
   "outputs": [
    {
     "name": "stdout",
     "output_type": "stream",
     "text": [
      "invalid sequence 146\n",
      "valid sequence 240\n",
      "invalid sequence 10516\n"
     ]
    },
    {
     "data": {
      "text/plain": [
       "[240]"
      ]
     },
     "execution_count": 88,
     "metadata": {},
     "output_type": "execute_result"
    }
   ],
   "source": [
    "find_target(text, [\"articl\", \"fourth\"])"
   ]
  },
  {
   "cell_type": "code",
   "execution_count": 89,
   "metadata": {},
   "outputs": [
    {
     "data": {
      "text/plain": [
       "['amend',\n",
       " 'and',\n",
       " 'restat',\n",
       " 'certif',\n",
       " 'of',\n",
       " 'incorpor',\n",
       " 'and',\n",
       " 'the',\n",
       " 'provis',\n",
       " '']"
      ]
     },
     "execution_count": 89,
     "metadata": {},
     "output_type": "execute_result"
    }
   ],
   "source": [
    "text[94 - 5:94 + 5]"
   ]
  },
  {
   "cell_type": "code",
   "execution_count": null,
   "metadata": {},
   "outputs": [],
   "source": []
  }
 ],
 "metadata": {
  "kernelspec": {
   "display_name": "contracts",
   "language": "python",
   "name": "contracts"
  },
  "language_info": {
   "codemirror_mode": {
    "name": "ipython",
    "version": 3
   },
   "file_extension": ".py",
   "mimetype": "text/x-python",
   "name": "python",
   "nbconvert_exporter": "python",
   "pygments_lexer": "ipython3",
   "version": "3.6.0"
  }
 },
 "nbformat": 4,
 "nbformat_minor": 2
}
