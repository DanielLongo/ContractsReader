{
 "cells": [
  {
   "cell_type": "code",
   "execution_count": 1,
   "metadata": {
    "collapsed": true
   },
   "outputs": [],
   "source": [
    "import numpy as np\n",
    "import warnings\n",
    "import pandas as pd"
   ]
  },
  {
   "cell_type": "code",
   "execution_count": 2,
   "metadata": {
    "collapsed": true,
    "scrolled": true
   },
   "outputs": [],
   "source": [
    "from load_contracts import read_contract, preprocess_text\n",
    "from load_info import get_security_names, load_info_xlsx"
   ]
  },
  {
   "cell_type": "code",
   "execution_count": 3,
   "metadata": {
    "collapsed": true
   },
   "outputs": [],
   "source": [
    "filename = \"contracts/135_ActelisNetworks_COI_01072005.pdf\""
   ]
  },
  {
   "cell_type": "code",
   "execution_count": 49,
   "metadata": {
    "collapsed": true
   },
   "outputs": [],
   "source": [
    "# END_OF_IV_INTRO_TEXT = ['rel','right','prefer','privileg','and','restrict','grant','to','or','impos','upon','the','common','stock','and','the','prefer','stock','and','the','holder']\n",
    "END_OF_IV_INTRO_TEXT = ['vote']"
   ]
  },
  {
   "cell_type": "code",
   "execution_count": 5,
   "metadata": {
    "collapsed": true
   },
   "outputs": [],
   "source": [
    "text = read_contract(filename)\n",
    "text = text.split(\" \")\n",
    "text = list(filter(lambda a: a != '', text))"
   ]
  },
  {
   "cell_type": "markdown",
   "metadata": {},
   "source": [
    "### Utils"
   ]
  },
  {
   "cell_type": "code",
   "execution_count": 6,
   "metadata": {
    "collapsed": true
   },
   "outputs": [],
   "source": [
    "def is_num(x):\n",
    "    try:\n",
    "        int(x)\n",
    "    except ValueError:\n",
    "        return False\n",
    "    return True"
   ]
  },
  {
   "cell_type": "code",
   "execution_count": 7,
   "metadata": {
    "collapsed": true
   },
   "outputs": [],
   "source": [
    "def revert_secuirty_names(df):\n",
    "    df.loc[df[\"Security Name\"] == \"common stock\", \"Security Name\"] = \"common\"\n",
    "    return df"
   ]
  },
  {
   "cell_type": "code",
   "execution_count": 8,
   "metadata": {
    "collapsed": true
   },
   "outputs": [],
   "source": [
    "def get_closest_string(values, target, less, any=False):\n",
    "    if (any):\n",
    "        val = min(values, key=lambda x: abs(target - x))\n",
    "    elif (less):\n",
    "        val = min(values, key=lambda x: target - x)\n",
    "    else:\n",
    "        val = min(values, key=lambda x: x - target)\n",
    "    return val"
   ]
  },
  {
   "cell_type": "code",
   "execution_count": 9,
   "metadata": {
    "collapsed": true
   },
   "outputs": [],
   "source": [
    "def find_target(text, target):\n",
    "    target_loc = 0\n",
    "    indicies = []\n",
    "    start_index = 0\n",
    "    for i in range(len(text)):\n",
    "        word = text[i]\n",
    "#         print(\"target_loc\", target_loc)\n",
    "        if word == target[target_loc]:\n",
    "            if target_loc == 0: #marks start of sequence\n",
    "                start_index = i\n",
    "            target_loc += 1\n",
    "            if target_loc == len(target):\n",
    "                indicies += [start_index]\n",
    "                target_loc = 0\n",
    "        elif word == target[0]:\n",
    "            target_loc = 1\n",
    "        else:\n",
    "            if target_loc > 0:\n",
    "                #reset just incase ababcd \n",
    "                i -= (target_loc - 1) \n",
    "            target_loc = 0\n",
    "    return indicies"
   ]
  },
  {
   "cell_type": "markdown",
   "metadata": {},
   "source": [
    "### Search Functions"
   ]
  },
  {
   "cell_type": "code",
   "execution_count": 10,
   "metadata": {},
   "outputs": [],
   "source": [
    "def get_closest_num(values, target, less, min=-1, max=1e10000, any=False):\n",
    "    try:\n",
    "        index = int(target)\n",
    "    except ValueError:\n",
    "        indicies = find_target(values, target.split(\" \"))\n",
    "        if len(indicies) > 1:\n",
    "            warnings.warn(\"Indicies length greath than one\", RuntimeWarning)\n",
    "            for i in range(len(indicies)):\n",
    "                if less:\n",
    "                    cur_target = indicies[i]\n",
    "                else:\n",
    "                    cur_target = indicies[len(indicies) - 1 -i] #starts at end of doc\n",
    "                cur_val = get_closest_num(values, cur_target, less, min=min, max=max, any=any)\n",
    "                if (cur_val != None):\n",
    "                    return cur_val\n",
    "            warnings.warn(\"No number found\", RuntimeWarning)\n",
    "            print(\"No num found target:\", target, \"indicies:\", indicies)\n",
    "            return None\n",
    "        assert(len(indicies) > 1), \"Invalid target\"\n",
    "        index = indicies[-1]\n",
    "    if any: #doesn't get closest\n",
    "        iters = range(0, len(values))\n",
    "    elif less:\n",
    "        iters = range(index -1, -1, -1) #0 is last\n",
    "    else:#less = false\n",
    "        iters = range(index, len(values))\n",
    "    for i in iters:\n",
    "        if (is_num(values[i])):\n",
    "            return int(values[i])\n",
    "    print(\"No num\", target, \"index\", index)\n",
    "    return None\n",
    "    "
   ]
  },
  {
   "cell_type": "code",
   "execution_count": 11,
   "metadata": {
    "collapsed": true
   },
   "outputs": [],
   "source": [
    "def get_names(text):\n",
    "    unsplit_names = get_security_names()\n",
    "    names = [name.split(\" \") for name in unsplit_names]\n",
    "    indicies = []\n",
    "    types = []\n",
    "    for name in names:\n",
    "        if (len(name) == 1):\n",
    "            name += [\"stock\"]\n",
    "        cur_indicies = find_target(text, name)\n",
    "        if len(cur_indicies) > 0:\n",
    "            types += [\" \".join(name)]\n",
    "            indicies += [cur_indicies]\n",
    "    #remove extra \"prefered stock\"\n",
    "    has_extra_prefered = True\n",
    "    if \"prefer stock\" in types:\n",
    "        for type in types:\n",
    "            if type[-6:] == 'prefer':\n",
    "                has_extra_prefered = True\n",
    "                break\n",
    "        if (has_extra_prefered):\n",
    "            indicies.pop(types.index('prefer stock'))\n",
    "            types.remove('prefer stock')\n",
    "    return indicies, types"
   ]
  },
  {
   "cell_type": "code",
   "execution_count": 12,
   "metadata": {
    "collapsed": true
   },
   "outputs": [],
   "source": [
    "def get_num_of_shares(text, names):\n",
    "    out = []\n",
    "    for name in names:\n",
    "        out += [get_closest_num(text, name, less=True)]\n",
    "    return out\n",
    "        "
   ]
  },
  {
   "cell_type": "code",
   "execution_count": 13,
   "metadata": {
    "collapsed": true
   },
   "outputs": [],
   "source": [
    "def get_types(names):\n",
    "    types = []\n",
    "    for name in names:\n",
    "        if \"common\" in name:\n",
    "            types += [\"common\"]\n",
    "        elif \"prefer\" in name:\n",
    "            types += [\"prefered\"]\n",
    "        else:\n",
    "            print(\"name doesn't contain common or prefer:\", \"\".join(name))\n",
    "            types += [\"No type found\"]\n",
    "    return types"
   ]
  },
  {
   "cell_type": "code",
   "execution_count": 14,
   "metadata": {
    "collapsed": true
   },
   "outputs": [],
   "source": [
    "def generate_stats(IV_intro_text):\n",
    "    _, names = get_names(IV_intro_text)\n",
    "    types = get_types(names)\n",
    "    nums = get_num_of_shares(IV_intro_text, names)\n",
    "    d = {\"Security Name\":names, \"Security Type\":types, \"Number\":nums}\n",
    "    df = pd.DataFrame(d)\n",
    "    df = revert_secuirty_names(df)\n",
    "    return df"
   ]
  },
  {
   "cell_type": "code",
   "execution_count": 15,
   "metadata": {
    "collapsed": true
   },
   "outputs": [],
   "source": [
    "unsplit_names = get_security_names()"
   ]
  },
  {
   "cell_type": "code",
   "execution_count": 16,
   "metadata": {
    "collapsed": true
   },
   "outputs": [],
   "source": [
    "all_names = [name.split(\" \") for name in unsplit_names]"
   ]
  },
  {
   "cell_type": "code",
   "execution_count": 18,
   "metadata": {},
   "outputs": [],
   "source": [
    "indicies = []\n",
    "for name in all_names:\n",
    "    indicies += [find_target(text, name)]\n"
   ]
  },
  {
   "cell_type": "code",
   "execution_count": 149,
   "metadata": {
    "collapsed": true
   },
   "outputs": [],
   "source": [
    "index_of_article_IV = find_target(text, [\"articl\", \"fourth\"])"
   ]
  },
  {
   "cell_type": "code",
   "execution_count": 150,
   "metadata": {},
   "outputs": [
    {
     "data": {
      "text/plain": [
       "['articl', 'fourth']"
      ]
     },
     "execution_count": 150,
     "metadata": {},
     "output_type": "execute_result"
    }
   ],
   "source": [
    "text[index_of_article_IV[0]: index_of_article_IV[0] + 2]"
   ]
  },
  {
   "cell_type": "markdown",
   "metadata": {},
   "source": [
    "### Search Through IV Intro"
   ]
  },
  {
   "cell_type": "code",
   "execution_count": 19,
   "metadata": {
    "collapsed": true
   },
   "outputs": [],
   "source": [
    "end_of_IV_intro = find_target(text, END_OF_IV_INTRO_TEXT)"
   ]
  },
  {
   "cell_type": "code",
   "execution_count": 20,
   "metadata": {
    "collapsed": true
   },
   "outputs": [],
   "source": [
    "assert(len(end_of_IV_intro) == 1)"
   ]
  },
  {
   "cell_type": "code",
   "execution_count": 21,
   "metadata": {
    "collapsed": true
   },
   "outputs": [],
   "source": [
    "end_of_IV_intro = end_of_IV_intro[0]"
   ]
  },
  {
   "cell_type": "code",
   "execution_count": 22,
   "metadata": {
    "collapsed": true
   },
   "outputs": [],
   "source": [
    "articl_forth_occur = find_target(text, [\"articl\", \"fourth\"])"
   ]
  },
  {
   "cell_type": "code",
   "execution_count": 23,
   "metadata": {
    "collapsed": true
   },
   "outputs": [],
   "source": [
    "begining_of_IV = get_closest_string(values = articl_forth_occur, target=end_of_IV_intro, less=True)"
   ]
  },
  {
   "cell_type": "code",
   "execution_count": 24,
   "metadata": {},
   "outputs": [
    {
     "name": "stdout",
     "output_type": "stream",
     "text": [
      "IV Intro starts 203 IV Intro ends 363\n"
     ]
    }
   ],
   "source": [
    "print(\"IV Intro starts\", begining_of_IV, \"IV Intro ends\", end_of_IV_intro)"
   ]
  },
  {
   "cell_type": "code",
   "execution_count": 25,
   "metadata": {},
   "outputs": [
    {
     "data": {
      "text/plain": [
       "'articl fourth compani is author to issu two class of share design respect common stock and prefer stock the compani is author to issu 43000000 share of common stock with a par valu of $0.01 per share the compani is author to issu 26007500 share of prefer stock 800000 of which are design seri a prefer stock with a par valu of $0.01 per share seri a prefer 700000 of which are design seri b prefer stock with a par valu of $0.01 per share seri b prefer 1507500 of which are design seri c prefer stock with a par valu of $0.01 per share seri c prefer and 23000000 of which are design seri d prefer stock with a par valu of $0.01 per share seri d prefer for the purpos of thi amend and restat certif of incorpor the term prefer stock shall mean seri a prefer seri b prefer seri c prefer and seri d prefer collectively.th'"
      ]
     },
     "execution_count": 25,
     "metadata": {},
     "output_type": "execute_result"
    }
   ],
   "source": [
    "\" \".join(text[begining_of_IV:end_of_IV_intro])"
   ]
  },
  {
   "cell_type": "code",
   "execution_count": 26,
   "metadata": {
    "collapsed": true
   },
   "outputs": [],
   "source": [
    "IV_intro_text = text[begining_of_IV:end_of_IV_intro]"
   ]
  },
  {
   "cell_type": "code",
   "execution_count": 27,
   "metadata": {
    "collapsed": true
   },
   "outputs": [],
   "source": [
    "indicies, names = get_names(IV_intro_text)"
   ]
  },
  {
   "cell_type": "code",
   "execution_count": 28,
   "metadata": {
    "collapsed": true
   },
   "outputs": [],
   "source": [
    "types = get_types(names)"
   ]
  },
  {
   "cell_type": "code",
   "execution_count": 29,
   "metadata": {},
   "outputs": [
    {
     "name": "stderr",
     "output_type": "stream",
     "text": [
      "RuntimeWarning: Indicies length greath than one [ipykernel_launcher.py:7]\n"
     ]
    },
    {
     "data": {
      "text/plain": [
       "26007500"
      ]
     },
     "execution_count": 29,
     "metadata": {},
     "output_type": "execute_result"
    }
   ],
   "source": [
    "get_closest_num(IV_intro_text, names[0], False)"
   ]
  },
  {
   "cell_type": "code",
   "execution_count": 30,
   "metadata": {},
   "outputs": [
    {
     "name": "stderr",
     "output_type": "stream",
     "text": [
      "RuntimeWarning: Indicies length greath than one [ipykernel_launcher.py:7]\n"
     ]
    },
    {
     "data": {
      "text/plain": [
       "26007500"
      ]
     },
     "execution_count": 30,
     "metadata": {},
     "output_type": "execute_result"
    }
   ],
   "source": [
    "get_closest_num(IV_intro_text, names[0], False)"
   ]
  },
  {
   "cell_type": "code",
   "execution_count": 31,
   "metadata": {
    "scrolled": true
   },
   "outputs": [
    {
     "name": "stdout",
     "output_type": "stream",
     "text": [
      "No num 13 index 13\n"
     ]
    },
    {
     "name": "stderr",
     "output_type": "stream",
     "text": [
      "RuntimeWarning: Indicies length greath than one [ipykernel_launcher.py:7]\n"
     ]
    }
   ],
   "source": [
    "nums = get_num_of_shares(IV_intro_text, names)"
   ]
  },
  {
   "cell_type": "code",
   "execution_count": 32,
   "metadata": {},
   "outputs": [
    {
     "name": "stdout",
     "output_type": "stream",
     "text": [
      "['common stock', 'seri a prefer', 'seri b prefer', 'seri c prefer', 'seri d prefer']\n",
      "['common', 'prefered', 'prefered', 'prefered', 'prefered']\n",
      "[43000000, 800000, 700000, 1507500, 23000000]\n"
     ]
    }
   ],
   "source": [
    "print(names)\n",
    "print(types)\n",
    "print(nums)"
   ]
  },
  {
   "cell_type": "code",
   "execution_count": 33,
   "metadata": {},
   "outputs": [
    {
     "name": "stdout",
     "output_type": "stream",
     "text": [
      "No num 13 index 13\n"
     ]
    },
    {
     "name": "stderr",
     "output_type": "stream",
     "text": [
      "RuntimeWarning: Indicies length greath than one [ipykernel_launcher.py:7]\n"
     ]
    },
    {
     "data": {
      "text/html": [
       "<div>\n",
       "<style scoped>\n",
       "    .dataframe tbody tr th:only-of-type {\n",
       "        vertical-align: middle;\n",
       "    }\n",
       "\n",
       "    .dataframe tbody tr th {\n",
       "        vertical-align: top;\n",
       "    }\n",
       "\n",
       "    .dataframe thead th {\n",
       "        text-align: right;\n",
       "    }\n",
       "</style>\n",
       "<table border=\"1\" class=\"dataframe\">\n",
       "  <thead>\n",
       "    <tr style=\"text-align: right;\">\n",
       "      <th></th>\n",
       "      <th>Security Name</th>\n",
       "      <th>Security Type</th>\n",
       "      <th>Number</th>\n",
       "    </tr>\n",
       "  </thead>\n",
       "  <tbody>\n",
       "    <tr>\n",
       "      <th>0</th>\n",
       "      <td>common</td>\n",
       "      <td>common</td>\n",
       "      <td>43000000</td>\n",
       "    </tr>\n",
       "    <tr>\n",
       "      <th>1</th>\n",
       "      <td>seri a prefer</td>\n",
       "      <td>prefered</td>\n",
       "      <td>800000</td>\n",
       "    </tr>\n",
       "    <tr>\n",
       "      <th>2</th>\n",
       "      <td>seri b prefer</td>\n",
       "      <td>prefered</td>\n",
       "      <td>700000</td>\n",
       "    </tr>\n",
       "    <tr>\n",
       "      <th>3</th>\n",
       "      <td>seri c prefer</td>\n",
       "      <td>prefered</td>\n",
       "      <td>1507500</td>\n",
       "    </tr>\n",
       "    <tr>\n",
       "      <th>4</th>\n",
       "      <td>seri d prefer</td>\n",
       "      <td>prefered</td>\n",
       "      <td>23000000</td>\n",
       "    </tr>\n",
       "  </tbody>\n",
       "</table>\n",
       "</div>"
      ],
      "text/plain": [
       "   Security Name Security Type    Number\n",
       "0         common        common  43000000\n",
       "1  seri a prefer      prefered    800000\n",
       "2  seri b prefer      prefered    700000\n",
       "3  seri c prefer      prefered   1507500\n",
       "4  seri d prefer      prefered  23000000"
      ]
     },
     "execution_count": 33,
     "metadata": {},
     "output_type": "execute_result"
    }
   ],
   "source": [
    "generate_stats(IV_intro_text)"
   ]
  },
  {
   "cell_type": "markdown",
   "metadata": {},
   "source": [
    "### Evalutate Search Methods"
   ]
  },
  {
   "cell_type": "code",
   "execution_count": 53,
   "metadata": {
    "collapsed": true
   },
   "outputs": [],
   "source": [
    "def get_IV_intro_text(filename):\n",
    "    text = read_contract(filename)\n",
    "    text = text.split(\" \")\n",
    "    text = list(filter(lambda a: a != '', text))\n",
    "    print(\" \".join(text))\n",
    "    end_of_IV_intro = find_target(text, END_OF_IV_INTRO_TEXT)\n",
    "    assert(end_of_IV_intro), \"END Sequence not found\"\n",
    "    end_of_IV_intro = end_of_IV_intro[0]\n",
    "    articl_forth_occur = find_target(text, [\"articl\", \"fourth\"])\n",
    "    assert(articl_forth_occur), \"Article fourth Sequence not found\"\n",
    "    begining_of_IV = get_closest_string(values = articl_forth_occur, target=end_of_IV_intro, less=True)\n",
    "    IV_intro_text = text[begining_of_IV:end_of_IV_intro]\n",
    "    return IV_intro_text"
   ]
  },
  {
   "cell_type": "code",
   "execution_count": 44,
   "metadata": {
    "collapsed": true
   },
   "outputs": [],
   "source": [
    "def test_methods(filename, n=-1):\n",
    "    iters = 0\n",
    "    y = load_info_xlsx(\"rs1 database AN.xlsx\", np_array=False)\n",
    "    for filename in y[\"File Name\"]:\n",
    "        iters += 1\n",
    "        if iters == n:\n",
    "            break\n",
    "        print(filename)\n",
    "        Intro_IV_text = get_IV_intro_text(\"./contracts/\" + filename)\n",
    "        \n",
    "#     text = get_IV_intro_text(filename)\n",
    "#     stats = generate_stats(text)\n",
    "    \n",
    "    "
   ]
  },
  {
   "cell_type": "code",
   "execution_count": 54,
   "metadata": {},
   "outputs": [
    {
     "name": "stdout",
     "output_type": "stream",
     "text": [
      "17445_955DREAMS_COI_01232012.pdf\n",
      "955 dream inc s t a t s o f d elaw are s e c r e ta r y o f s ta te d e liv e r e d 1 2 1 0 pm 0 1 2 3 2 0 1 2 d iv is io n o f c o rp o ra tio n s file 1 2 0 3 pm 0 1 2 3 2 0 1 2 120073329 4886034 filerest certif of incorpor pursuant to section 242 and 245 of the gener corpor law of the state of delawar 955 dream inc. a corpor organ and exist under and by virtu of the provis of the gener corpor law of the state of delawar the gener corpor law doe herebi certifi a follows.1 the name of thi corpor is 955 dream inc thi corpor wa origin incorpor pursuant to the gener corpor law on octob 26 2010 under the name 955 dream inc.2 the board of director of thi corpor duli adopt resolut propos to amend and restat the certif of incorpor of thi corpor declar said amend and restat to be advis and in the best interest of thi corpor and it stockhold and author the appropri offic of thi corpor to solicit the consent of the stockhold therefor which resolut set forth the propos amend and restat is a follows.resolv that the certif of incorpor of thi corpor be amend andrest in it entireti to read a set forth on exhibit a attach hereto and incorporatedherein by thi reference.exhibit a refer to in the resolut abov is attach hereto a exhibit a and is herebi incorpor herein by thi reference.3 thi restat certif of incorpor wa approv by the holder of the requisit number of share of thi corpor in accord with section 228 of the gener corpor law.4 thi restat certif of incorpor which restat and integr and further amend the provis of thi corpor certif of incorpor ha been duli adopt in accord with section 242 and 245 of the gener corpor law.in wit whereof thi restat certif of incorpor ha been execut by a duli author offic of thi corpor on thi 20th day of januari 2012.bi s kiran bellubbikiran bellubbi president28352 000 lo doc 2578489.2\f",
      " exhibit a 955 dream inc.rest certif of incorporationarticl i name.th name of thi corpor is 955 dream inc the corpor .articl ii regist office.th address of the regist offic of the corpor in the state of delawar is 3500 south dupont highway in the citi of dover counti of kent delawar 19901 the name of it regist agent at such address is incorpor servic ltd.articl iii purpose.th natur of the busi or purpos to be conduct or promot is to engag in ani law act or activ for which corpor may be organ under the gener corpor law.articl iv author shares.th total number of share of all class o f stock which the corpor shall have author to issu is a twelv million 12000000 share of common stock $0.0001 par valu per share common stock and b two million eight hundr thousand 2800000 share o f prefer stock $0.0001 par valu per share prefer stock a of the effect date of thi restat certif of incorpor thi restat certif all two million eight hundr thousand 2800000 share o f the author prefer stock of the corpor are herebi design seri seed prefer stock .the follow is a statement of the design and the right power and prefer and the qualif limit or restrict thereof in respect of each class o f capit stock of the corporation.a common stock1 gener the vote dividend and liquid right of the holder of the common stock are subject to and qualifi by the right power and prefer of the holder of the prefer stock set forth herein.2 vote the holder of the common stock are entitl to one vote for each share of common stock held at all meet of stockhold and written action in lieu of meet unless requir by law there shall be no cumul vote the number of author share of common stock may be increas or decreas but not below the number of share thereof then outstand by in addit to ani vote of the holder of one or more seri of prefer stock 1 28352 000 lo doc 25 78489.2\f",
      " that may be requir by the term of the restat certif the affirm vote of the holder of share of capit stock of the corpor repres a major of the vote repres by all outstand share of capit stock of the corpor entitl to vote irrespect of the provis of section 242 b 2 of the gener corpor law and without a separ class vote of the holder of the common stock.b prefer stockth follow right power and prefer and restrict qualif and limit shall appli to the prefer stock unless otherwis indic refer to section in thi part b of thi articl iv refer to section of thi part b.1 dividends.1.1 dividend all dividend shall be declar pro rata on the common stock and the prefer stock on a pari passu basi accord to the number o f share of common stock held by such holder for thi purpos each holder of share of prefer stock is to be treat a hold the greatest whole number of share of common stock then issuabl upon convers of all share of prefer stock held by such holder pursuant to section 4 and 5.1.2 non cash dividend whenev a dividend provid for in thi section 1 shall be payabl in properti other than cash the valu of such dividend shall be deem to be the fair market valu of such properti a determin in good faith by the board of director of the corpor the board .2 liquid dissolut or wind up certain merger consolid and asset sales.2.1 payment to holder of prefer stock in the event of ani voluntari orinvoluntari liquid dissolut or wind up of the corpor or ani deem liquid event a defin below befor ani payment shall be made to the holder of common stock by reason of their ownership thereof the holder of share o f each seri of prefer stock then outstand shall be entitl to be paid out of the fund and asset avail for distribut to it stockhold an amount per share equal to the greater o f a the origin issu price a defin below for such seri o f prefer stock plu ani dividend declar but unpaid thereon or b such amount per share a would have been payabl had all share of such seri of prefer stock been convert into common stock pursuant to section 4 and 5 immedi prior to such liquid dissolut wind up or deem liquid event the origin issu price for the seri seed prefer stock shall mean si.58100 per share subject to appropri adjust in the event of ani stock dividend stock split combin or other similar recapit with respect to the seri seed prefer stock if upon ani such liquid dissolut wind up or deem liquid event of the corpor the fund and asset avail for distribut to the stockhold of the corpor shall be insuffici to pay the holder of share of prefer stock the full amount to which they are entitl under thi section 2.1 the holder of share of prefer stock shall share ratabl in ani distribut of the fund and asset avail for distribut in proport to the respect amount that would otherwis be payabl in respect of the share of prefer stock held by them upon such distribut if all amount payabl on or with respect to such share were paid in full. 2 28352 00010 doc 2578489.2\f",
      " 2.2 payment to holder of common stock in the event of ani voluntari or involuntari liquid dissolut wind up or deem liquid event of the corpor after the payment of all preferenti amount requir to be paid to the holder of share of prefer stock a provid in section 2.1 the remain fund and asset avail for distribut to the stockhold of the corpor shall be distribut among the holder of share of common stock pro rata base on the number of share of common stock held by each such holder.2.3 deem liquid events.2.3.1 definit each of the follow event shall be consid a deem liquid e vent unless the holder of at least a major of the outstand share of prefer stock vote togeth a a singl class on an a convert basi elect otherwis by written notic sent to the corpor at least five day prior to the effect date of ani such event a a merger or consolid each a combin in which i the corpor is a constitu parti or ii a subsidiari of the corpor is a constitu parti and the corpor issu share of it capit stock pursuant to such combin except ani such combin involv the corpor or a subsidiari in which the share o f capit stock of the corpor outstand immedi prior to such combin continu to repres or are convert into or exchang for equiti secur that repres immedi follow such combin at least a major by vote power of the equiti secur of 1 the surviv or result parti or 2 if the surviv or result parti is a wholli own subsidiari of anoth parti immedi follow such combin the parent of such surviv or result parti provid that for the purpos of thi section 2.3.1 all share of common stock issuabl upon exercis of option a defin in section 5 below outstand immedi prior to such combin or upon convers of convert secur a defin in section 5 below outstand immedi prior to such combin shall be deem to be outstand immedi prior to such combin and if applic deem to be convert or exchang in such combin on the same term a the actual outstand share of common stock are convert or exchang or b the sale lea transfer or other disposit in a singl transact or seri of relat transact by the corpor or ani subsidiari or subsidiari of the corpor of all or substanti all the asset of the corpor and it subsidiari taken a a whole or if substanti all of the asset of the corpor and it subsidiari taken a a whole are held by one or more subsidiari the sale or disposit whether by consolid merger convers or otherwis o f such subsidiari of the corpor except where such sale lea transfer or other disposit is made to the corpor or one or more wholli own subsidiari of the corpor an asset disposit .2.3.2 alloc of escrow in the event of a deem liquid event and unless the holder of at least a major of the outstand share of prefer stock vote togeth a a singl class on an a convert basi elect otherwis by written notic sent to the corpor at least five day prior to the effect date of ani such event if ani portion of the 3 283 52 0001o doc 2578489.2\f",
      " consider payabl by the acquir is place into escrow the definit agreement or escrow agreement enter into in such deem liquid event shall provid that a for a combin the portion of such consider that is place in escrow shall be alloc among the holder of capit stock of the corpor pro rata base on the amount of such consider otherwis payabl to each stockhold such that each stockhold ha place in escrow the same percentag of the total consider payabl to such stockhold a everi other stockhold and b for an asset disposit the portion of such consider that is receiv from escrow for distribut to the corpor stockhold shall be distribut among the holder of capit stock o f the corpor pro rata base on the amount of such consider otherwis payabl to each stockhold such that each stockhold will receiv from the escrow distribut the same percentag of the total consider distribut to such stockhold a everi other stockhold .2.3.3 amount deem paid or distribut the fund and asset deem paid or distribut to the holder of capit stock of the corpor upon ani such combin or asset distribut shall be the cash or the valu of the properti right or secur paid or distribut to such holder by the corpor or the acquir person firm or other entiti if the amount deem paid or distribut under thi section 2.3.3 is made in properti other than in cash the valu of such distribut shall be the fair market valu of such properti a determin in good faith by the board provid howev that the follow shall appli for secur not subject to invest letter or other similar restrict on free marketability. i if trade on a secur exchang or the nasdaq stock market the valu shall be deem to be the averag o f the close price of the secur on such exchang or market over the 30 day period end three day prior to the close o f such transact ii if activ trade over the counter the valu shall be deem to be the averag of the close bid price over the 30 day period end three day prior to the close o f such transact or iii if there is no activ public market the valu shall be the fair market valu thereof a determin in good faith by the board.th method of valuat of secur subject to invest letter or other similar restrict on free market other than restrict aris sole by virtu of a stockhold statu a an affili or former affili shall take into account an appropri discount a determin in good faith by the board from the market valu a determin pursuant to claus a abov so a to reflect the approxim fair market valu thereof.3 voting.3.1 gener on ani matter present to the stockhold of the corpor for their action or consider at ani meet of stockhold of the corpor or by written consent of stockhold in lieu of meet each holder of outstand share of prefer stock shall be entitl to cast the number of vote equal to the number of whole share of common stock into which the share of prefer stock held by such holder are convert a of the record date for determin stockhold entitl to vote on such matter fraction vote shall not be permit and ani fraction vote right avail on an a convert basi after 4 .283 52 0001o doc 2578489.2\f",
      " aggreg all share into which share of prefer stock held by each holder could be convert shall be round to the nearest whole number with one half be round upward except a provid by law or by the other provis of thi restat certif holder of prefer stock shall vote togeth with the holder of common stock a a singl class on an a convert basi shall have full vote right and power equal to the vote right and power of the holder of common stock and shall be entitl notwithstand ani provis hereof to notic of ani stockhold meet in accord with the bylaw of the corporation.3.2 elect o f directors.3.2.1 elect for so long a at least six hundr seventi five thousand 675000 share of prefer stock remain outstand a such number is adjust for stock split and combin of share and for dividend paid on the prefer stock in share of such stock the holder of record of the share of seri seed prefer stock exclus and a a separ class shall be entitl to elect one 1 director of the corpor the seri seed director1 the holder of record of the share of common stock exclus and a a separ class shall be entitl to elect two 2 director o f the corpor the common directors1 the holder of record of the share of common stock and of everi other class or seri of vote stock includ the prefer stock vote togeth a a singl class on an a convert basi shall be entitl to elect the remain number of director of the corpor the remain director .3.2.2 vacanc not caus by removal.if ani vacanc in the offic o f ani seri seed director common director or remain director exist prior to the time on the date the first share of seri seed prefer stock is issu the first issuanc time such vacanc may be fill either conting or otherwis by the stockhold a specifi in thi section 3.2 or by at least a major of the member of the board then in offic although le than a quorum or by a sole remain member of the board then in offic even if such director or such sole remain director were not elect by the holder of the class class or seri that are entitl to elect a director or director to offic under the provis of section 3.2.1 the specifi stock and such elect director or director shall specifi at the time of such elect the specif vacant directorship be fill after the first issuanc time no vacanc in the offic of ani director may be fill by the board or by ani director or director elect by the holder of specifi stock but may onli be fill by the holder of the specifi stock entitl to elect such director a provid in thi section 3.2.3.2.3 vacanc caus by remov ani director elect a provid in the preced sentenc may be remov without caus by and ani vacanc in the offic of ani such remov director may be fill by and onli by the affirm vote of the holder of the share of the specifi stock entitl to elect such director or director given either at a special meet of such stockhold duli call for that purpos or pursuant to a written consent of stockholders.3.2.4 procedur at ani meet held for the purpos of elect a director the presenc in person or by proxi of the holder of a major of the outstand share of the specifi stock entitl to elect such director shall constitut a quorum for the purpos of 5 28352 00010 doc 2578489.2\f",
      " elect such director and the candid or candid to be elect by such specifi stock shall be those who receiv the highest number of affirm vote on an a convert basi of the outstand share of such specifi stock in the case of an action taken by written consent without a meet the candid or candid to be elect by such specifi stock shall be those who are elect by the written consent of the holder of a major of such specifi stock.3.3 prefer stock protect provis at ani time when at least six hundr seventi five thousand 675000 share of prefer stock remain outstand a such number is adjust for stock split and combin of share and for dividend paid on the prefer stock in share of such stock the corpor shall not either directli or indirectli by amend merger consolid or otherwis do ani o f the follow without in addit to ani other vote requir by law or the restat certif the written consent or affirm vote at a meet and evidenc in write of the holder of at least a major o f the then outstand share of prefer stock consent or vote togeth a a singl class on an a convert basi alter or chang the right power or prefer of the prefer stock set forth in the certif of incorpor of the corpor a then in effect in a way that advers affect the prefer stock a common stock or prefer stock or ani seri thereof b increas or decreas the author number of share of c author or creat by reclassif or otherwis ani new class or seri of capit stock have right power or prefer set forth in the restat certif a then in effect that are senior to or on a pariti with ani seri of prefer stock or author or creat by reclassif or otherwis ani secur convert into or exercis for ani such new class or seri of capit stock d redeem or repurchas ani share of common stock or prefer stock other than i pursuant to an agreement with an employe consult director or other servic provid to the corpor or ani of it wholli own subsidiari collect servic provid give the corpor the right to repurchas share at the origin cost thereof upon the termin o f servic ii an exercis of a right of first refus in favor of the corpor pursuant to an agreement with ani servic provid which exercis ha been approv by the board and by the seri seed director iii a approv by the board and by the seri seed director declar or pay ani dividend or otherwis make a distribut to holder of prefer stock or common stock other than a dividend on the common stock payabl in share of common stock e f liquid dissolv or wind up the busi and affair of the corpor effect ani deem liquid event or consent agre or commit to ani of the forego without condit such consent agreement or commit upon obtain the approv requir by thi section 3.3 6 28352 0001 o doc 2578489.2\f",
      " constitut the board g increas or decreas the author number of director h exclus licens ani technolog or intellectu propertyright of the corpor or ani of it subsidiari that constitut the effect disposit of a materi portion of the technolog or intellectu properti o f the corpor and it subsidiari taken a a whole other than ani such licens that expir or can be termin by the corpor within two 2 year and that are limit in scope to particular countri or other geograph region and or to particular field of use alter the compens or benefit of thefound of the corpor except a approv by the board and by the seri seed director ormodifi or i otherwis amend alter restat or repeal ani provis of the restat certif or the bylaw of the corpor in a manner that advers affect the prefer stock. j 4 convers right the holder of the prefer stock shall have conversionright a follow the convers right .4.1 right to convert.4.1.1 convers ratio each share of a seri of prefer stock shall be convert at the option of the holder thereof at ani time and without the payment of addit consider by the holder thereof into such number of fulli paid and nonassess share of common stock a is determin by divid the origin issu price for such seri of prefer stock by the convers price a defin below for such seri of prefer stock in effect at the time of convers the convers price for each seri of prefer stock shall initi mean the origin issu price for such seri of prefer stock such initi convers price and the rate at which share of prefer stock may be convert into share of common stock shall be subject to adjust a provid in section 5.4.1.2 notic o f convers in order for a holder of prefer stock to voluntarili convert share of prefer stock into share of common stock such holder shall surrend the certif or certif for such share o f prefer stock or if such regist holder alleg that ani such certif ha been lost stolen or destroy a lost certif affidavit and agreement reason accept to the corpor to indemnifi the corpor against ani claim that may be made against the corpor on account of the alleg loss theft or destruct of such certif at the offic o f the transfer agent for the prefer stock or at the princip offic of the corpor if the corpor serv a it own transfer agent togeth with written notic that such holder elect to convert all or ani number of the share of the prefer stock repres by such certif or certif and if applic ani event on which such convers is conting a conting event such notic shall state such holder name or the name of the nomine in which such holder wish the certif or certif for share of common stock to be issu if requir by the corpor certif surrend for convers shall be endors or accompani by a written instrument or 7 28352 0001 o doc 2578489.2\f",
      " instrument of transfer in form reason satisfactori to the corpor duli execut by the regist holder or such holder attorney duli author in write the close of busi on the date of receipt by the transfer agent or by the corpor if the corpor serv a it own transfer agent of such certif or lost certif affidavit and agreement and notic or if later the date on which all conting event have occur shall be the time of convers the convers time and the share of common stock issuabl upon convers o f the share repres by such certif shall be deem to be outstand of record a of such time the corpor shall a soon a practic after the convers time a issu and deliv to such holder of prefer stock or to such holder nomine s a certif or certif for the number of full share of common stock issuabl upon such convers in accord with the provis hereof and a certif for the number if ani of the share of prefer stock repres by the surrend certif that were not convert into common stock b pay in cash such amount a provid in section 5.7.3 in lieu of ani fraction of a share o f common stock otherwis issuabl upon such convers and c pay all declar but unpaid dividend on the share of prefer stock converted.4.1.3 effect of voluntari convers all share of prefer stock that shall have been surrend for convers a herein provid shall no longer be deem to be outstand and all right with respect to such share shall immedi ceas and termin at the convers time except onli the right of the holder thereof to receiv share of common stock in exchang therefor to receiv payment in lieu of ani fraction of a share otherwis issuabl upon such convers a provid in section 5.7.3 and to receiv payment of ani dividend declar but unpaid thereon ani share of prefer stock so convert shall be retir and cancel and may not be reissued.4.2 mandatori conversion.4.2.1 automat convers upon either a the close of the sale of share of common stock to the public in a firm commit underwritten public offer pursuant to an effect registr statement under the secur act result in at least $20000000 of gross proce to the corpor or b the date and time or the occurr of an event specifi by vote or written consent of the holder of at least a major of the outstand share of prefer stock at the time of such vote or consent vote togeth a a singl class on an a convert basi the time of such close or the date and time specifi or the time of the event specifi in such vote or written consent is refer to herein a the mandatori convers time i all outstand share of prefer stock shall automat be convert into share of common stock at the applic ratio describ in section 4.1.1 a the same may be adjust from time to time in accord with thi section 4 and ii such share may not be reissu by the corporation.4.2.2 mandatori convers procedur requirements. a all holder of record of share of prefer stock shall be sent written notic of the mandatori convers time and the place design for mandatori convers of all such share of prefer stock pursuant to section 4.2.1 and 10 unless otherwis provid in thi restat certif such notic need not be sent in advanc of the occurr of the mandatori convers time upon receipt of such notic each holder of share of prefer stock shall surrend such holder certif or certif for all such 8 28352 00010 doc 2578489.2\f",
      " share or if such holder alleg that such certif ha been lost stolen or destroy a lost certif affidavit and agreement reason accept to the corpor to indemnifi the corpor against ani claim that may be made against the corpor on account of the alleg loss theft or destruct of such certif to the corpor at the place design in such notic and shall thereaft receiv certif for the number of share of common stock to which such holder is entitl pursuant to thi section 4.2. b if so requir by the corpor certif surrend for convers shall be endors or accompani by written instrument or instrument of transfer in form reason satisfactori to the corpor duli execut by the regist holder or by such holder attorney duli author in write all right with respect to the prefer stock convert pursuant to thi section 4.2 includ the right if ani to receiv notic and vote other than a a holder of common stock will termin at the mandatori convers time notwithstand the failur of the holder or holder thereof to surrend the certif at or prior to such time except onli the right of the holder thereof upon surrend of their certif or certif or lost certif affidavit and agreement therefor to receiv the item provid for in the next sentenc of thi section 4.2.2 b a soon a practic after the mandatori convers time and the surrend of the certif or certif or lost certif affidavit and agreement for prefer stock the corpor shall issu and deliv to such holder or to such holder nomine s a certif or certif for the number o f full share of common stock issuabl on such convers in accord with the provis hereof togeth with cash a provid in section 5.7.3 in lieu of ani fraction o f a share of common stock otherwis issuabl upon such convers and the payment of ani declar but unpaid dividend on the share of prefer stock convert such convert prefer stock shall be retir and cancel and may not be reissu a share of such seri and the corpor may thereaft take such appropri action without the need for stockhold action a may be necessari to reduc the author number o f share of prefer stock and the applic seri thereof accordingly.4.3 termin of convers right subject to section 4.1.2 in the case of a conting event in the event of a liquid dissolut or wind up of the corpor or a deem liquid event the convers right shall termin at the close of busi on the third 3rd day preced the date fix for the first payment of ani fund and asset distribut on such event to the holder of prefer stock.5 adjust to convers price.5.1 adjust for dilut issuances.definit shall appli 5.1.1 special definit for purpos of thi articl iv the follow option shall mean ani right option or warrant to subscrib for purchas or otherwis acquir common stock or convert secur from the corporation. a mean the date on which the first share o f such seri of prefer stock wa issued. b origin issu date for a seri of prefer stock shall 9 28352 000 1 o doc 2578489.2\f",
      " convert secur shall mean ani evid of indebted share or other secur issu by the corpor that are directli or indirectli convert into or exchang for common stock but exclud options. c d addit share o f common stock with respect to a seri of prefer stock shall mean all share of common stock issu or pursuant to section 5.1.2 below deem to be issu by the corpor after the applic origin issu date for such seri of prefer stock other than the follow share of common stock and share of common stock deem issu pursuant to the follow option and convert secur collect a to all such share and share deem issu exempt secur secur issu a a dividend or distribut on such seri of prefer stock i share of common stock option or convert share o f common stock option or convert secur issu by reason of a dividend stock split split up or other distribut on or subdivis of share of common stock that is cover by section 5.2 5.3 5.4 5.5 or 5.6 ii iii share of common stock or option to acquir share of common stock includ but not limit to stock appreci right payabl in share of common stock or in option or convert secur issu to servic provid pursuant to a plan agreement or arrang approv by the board iv share of common stock or convert secur actual issu upon the exercis of option or share of common stock actual issu upon the convers or exchang of convert secur in each case provid that such issuanc is pursuant to the term of such option or convert secur share of common stock option or convert secur issu to bank equip lessor or other financi institut pursuant to a debt financ or equip lea transact approv by the board and by the seri seed director v vi share of common stock option or convert secur issu pursuant to a bona fide acquisit of anoth entiti by the corpor by merger or consolid with purchas of substanti all of the asset of or purchas of more than fifti percent of the outstand equiti secur of the other entiti or issu pursuant to a bona fide joint ventur agreement provid that such issuanc are approv by the board and by the seri seed director vii share of common stock option or convert secur issu in connect with sponsor research collabor technolog licens develop oem market or other similar agreement or strateg partnership approv by the board and by the seri seed director 10 28352 000 lo doc 25 78489.2\f",
      " viii share of common stock option or convert secur issu a a result of a decreas in the convers price of ani seri of prefer stock result from the oper of section 5.1.3 ix share of common stock issu in an offer to the public pursuant to a registr statement file under the secur act of 1933 a amend the secur a c t with and declar effect by the secur and exchang commiss or x a to ani particular seri of prefer stock the issuanc or deem issuanc of common stock if the corpor receiv written notic from the holder of at least a major o f the then outstand share of such seri of prefer stock on an a convert basi agre that no adjust shall be made to the convers price o f such seri a a result of the issuanc or deem issuance.5.1.2 deem issu of addit share of common stock. a if the corpor at ani time or from time to time after the applic origin issu date for a seri of prefer stock shall issu ani option or convert secur exclud option or convert secur which are themselv exempt secur or shall fix a record date for the determin of holder of ani class of secur entitl to receiv ani such option or convert secur then the maximum number of share of common stock a set forth in the instrument relat thereto assum the satisfact of ani condit to exercis convert or exchang includ the passag of time but without regard to ani provis contain therein for a subsequ adjust of such number includ by way of anti dilut adjust issuabl upon the exercis of such option or in the case of convert secur and option therefor the convers or exchang of such convert secur shall be deem to be addit share of common stock issu a of the time of such issu or in case such a record date shall have been fix a of the close of busi on such record date. b if the term of ani option or convert secur the issuanc of which result in an adjust to the convers price of a seri of prefer stock pursuant to the term of section 5.1.3 are revis a a result of an amend to such term or ani other adjust pursuant to the provis of such option or convert secur but exclud automat adjust to such term pursuant to anti dilut or similar provis of such option or convert secur to provid for either i ani increas or decreas in the number of share of common stock issuabl upon the exercis convers and or exchang of ani such option or convert secur or ii ani increas or decreas in the consider payabl to the corpor upon such exercis convers and or exchang then effect upon such increas or decreas becom effect the convers price of such seri of prefer stock comput upon the origin issu of such option or convert secur or upon the occurr of a record date with respect thereto shall be readjust to such convers price of such seri of prefer stock a would have obtain had such revis term been in effect upon the origin date of issuanc of such option or convert secur notwithstand the forego no readjust pursuant to thi section 5.1.2 b shall have the effect of increas the convers price of a seri of prefer stock to an amount which exce the lower of 1 the convers price for such seri of prefer stock in effect immedi prior to the origin 11 28352 000 lo doc 2578489.2\f",
      " adjust made a a result of the issuanc of such option or convert secur or 2 the convers price for such seri of prefer stock that would have result from ani issuanc of addit share of common stock other than deem issuanc of addit share of common stock a a result of the issuanc of such option or convert secur between the origin adjust date and such readjust date. c if the term of ani option or convert secur exclud option or convert secur that are themselv exempt secur the issuanc of which did not result in an adjust to the convers price of a seri of prefer stock pursuant to the term of section 5.1.3 either becaus the consider per share determin pursuant to section 5.1.4 of the addit share of common stock subject thereto wa equal to or greater than the convers price of such seri of prefer stock then in effect or becaus such option or convert secur wa issu befor the origin issu date of such seri of prefer stock are revis after the origin issu date of such seri of prefer stock a a result of an amend to such term or ani other adjust pursuant to the provis of such option or convert secur but exclud automat adjust to such term pursuant to anti dilut or similar provis of such option or convert secur to provid for either i ani increas in the number of share of common stock issuabl upon the exercis convers or exchang of ani such option or convert secur or ii ani decreas in the consider payabl to the corpor upon such exercis convers or exchang then such option or convert secur a so amend or adjust and the addit share of common stock subject thereto determin in the manner provid in section 5.1.2 a shall be deem to have been issu effect upon such increas or decreas becom effective. d upon the expir or termin of ani unexercis option or unconvert or unexchang convert secur or portion thereof that result either upon it origin issuanc or upon a revis of it term in an adjust to the convers price of a seri of prefer stock pursuant to the term of section 5.1.3 the convers price of such seri of prefer stock shall be readjust to such convers price of such seri of prefer stock a would have obtain had such option or convert secur or portion thereof never been issued. e if the number of share of common stock issuabl upon the exercis convers and or exchang of ani option or convert secur or the consider payabl to the corpor upon such exercis convers and or exchang is calcul at the time such option or convert secur is issu or amend but is subject to adjust base upon subsequ event ani adjust to the convers price of a seri of prefer stock provid for in thi section 5.1.2 shall be effect at the time of such issuanc or amend base on such number of share or amount of consider without regard to ani provis for subsequ adjust and ani subsequ adjust shall be treat a provid in section 5.1.2 b and 5.1.2 c if the number of share of common stock issuabl upon the exercis convers and or exchang of ani option or convert secur or the consider payabl to the corpor upon such exercis convers and or exchang cannot be calcul at all at the time such option or convert secur is issu or amend ani adjust to such convers price that would result under the term of thi section 5.1.2 at the time of such issuanc or amend shall instead be effect at the time such number of share and or amount of consider is first calcul even if subject to subsequ 12 28352 0001 o doc 2578489.2\f",
      " adjust assum for purpos of calcul such adjust to such convers price that such issuanc or amend took place at the time such calcul can first be made.5.1.3 issuanc of addit share of common stock in the event the corpor shall at ani time after the applic origin issu date of a seri of prefer stock issu addit share of common stock includ addit share of common stock deem to be issu pursuant to section 5.1.2 without consider or for a consider per share le than the convers price for such seri of prefer stock in effect immedi prior to such issu then such convers price shall be reduc concurr with such issu to a price calcul to the nearest one thousandth of a cent determin in accord with the follow formula cp2 cpi a b a c .for purpos of the forego formula the follow definit shall appli cp2 shall mean the applic convers price in effect immedi after such issu or deem issu o f addit share of common stockcpi shall mean the applic convers price in effect immedi prior to such issu or deem issu of addit share of common stock a shall mean the number of share of common stock outstand immedi prior to such issu or deem issu of addit share of common stock treat for thi purpos a outstand all share of common stock issuabl upon exercis of option outstand immedi prior to such issu or upon convers or exchang of convert secur includ the prefer stock outstand assum exercis of ani outstand option therefor immedi prior to such issu b shall mean the number of share of common stock that would have been issu or deem issu if such addit share o f common stock had been issu at a price per share equal to cpi determin by divid the aggreg consider receiv by the corpor in respect o f such issu by cpi andc shall mean the number of such addit share of common stock actual issu or deem issu in such transaction.5.1.4 determin of consider for purpos of thi section 5.1 the consider receiv by the corpor for the issu or deem issu of ani addit share of common stock shall be comput a follow a cash and properti such consider shall aggreg amount of cash receiv by the corpor exclud amount paid or payabl for accru interest i insofar a it consist of cash be comput at the 13 28352 0001 o doc 2578489.2\f",
      " insofar a it consist of properti other than cash becomput at the fair market valu thereof at the time of such issu a determin ingood faith by the board and ii iii in the event addit share of common stock areissu togeth with other share or secur or other asset of the corpor forconsider which cover both be the proport of such consider so receiv comput a provid in claus i and ii abov a determin in good faith by the board. b option and convert secur the consider per share receiv by the corpor for addit share of common stock deem to have been issu pursuant to section 5.1.2 relat to option and convert secur shall be determin by divid i the total amount if ani receiv or receiv by the corpor a consider for the issu of such option or convert secur plu the minimum aggreg amount of addit consider a set forth in the instrument relat thereto without regard to ani provis contain therein for a subsequ adjust o f such consider payabl to the corpor upon the exercis of such option or the convers or exchang of such convert secur or in the case of option for convert secur the exercis of such option for convert secur and the convers or exchang of such convert secur by ii the maximum number of share of common stock a set forth in the instrument relat thereto without regard to ani provis contain therein for a subsequ adjust of such number issuabl upon the exercis o f such option or the convers or exchang of such convert secur or in the case of option for convert secur the exercis of such option for convert secur and the convers or exchang of such convert securities.5.1.5 multipl close date in the event the corpor shall issu on more than one date addit share of common stock that are a part of one transact or a seri of relat transact and that would result in an adjust to the convers price of a seri of prefer stock pursuant to the term o f section 5.1.2 and such issuanc date occur within a period of no more than 120 day after the first such issuanc to the final such issuanc then upon the final such issuanc the convers price of such seri of prefer stock shall be readjust to give effect to all such issuanc a if they occur on the date of the first such issuanc and without give effect to ani addit adjust a a result of ani such subsequ issuanc within such period that are a part of such transact or seri of relat transact .5.2 adjust for stock split and combin if the corpor shall at ani time or from time to time after the origin issu date for a seri of prefer stock effect a subdivis of the outstand common stock the convers price for such seri of prefer stock in effect immedi befor that subdivis shall be proportion decreas so that the number of share of common stock issuabl on convers of each share of such seri shall be increas in proport to such increas in the aggreg number of share of common stock 1 4 28352 00010 doc 25 78489.2\f",
      " outstand if the corpor shall at ani time or from time to time after the origin issu date for a seri of prefer stock combin the outstand share o f common stock the convers price for such seri of prefer stock in effect immedi befor the combin shall be proportion increas so that the number of share of common stock issuabl on convers of each share of such seri shall be decreas in proport to such decreas in the aggreg number of share of common stock outstand ani adjust under thi section shall becom effect at the close of busi on the date the subdivis or combin becom effective.5.3 adjust for certain dividend and distribut in the event the corpor at ani time or from time to time after the origin issu date for a seri of prefer stock shall make or issu or fix a record date for the determin of holder of common stock entitl to receiv a dividend or other distribut payabl on the common stock in addit share of common stock then and in each such event the convers price for such seri of prefer stock in effect immedi befor such event shall be decreas a of the time of such issuanc or in the event such a record date shall have been fix a of the close of busi on such record date by multipli such convers price then in effect by a fraction a the numer of which shall be the total number of share of common stock issu and outstand immedi prior to the time of such issuanc or the close of busi on such record date and b the denomin of which shall be the total number of share of common stock issu and outstand immedi prior to the time of such issuanc or the close of busi on such record date plu the number of share of common stock issuabl in payment of such dividend or distribution.notwithstand the forego i if such record date shall have been fix and such dividend is not fulli paid or if such distribut is not fulli made on the date fix therefor such convers price shall be recomput accordingli a of the close of busi on such record date and thereaft such convers price shall be adjust pursuant to thi section a of the time of actual payment of such dividend or distribut and ii no such adjust shall be made if the holder of such seri of prefer stock simultan receiv a dividend or other distribut o f share of common stock in a number equal to the number of share of common stock a they would have receiv if all outstand share of such seri of prefer stock had been convert into common stock on the date of such event.5.4 adjust for other dividend and distribut in the event the corpor at ani time or from time to time after the origin issu date for a seri of prefer stock shall make or issu or fix a record date for the determin of holder of common stock entitl to receiv a dividend or other distribut payabl in secur of the corpor other than a distribut of share of common stock in respect of outstand share o f common stock then and in each such event the holder of such seri of prefer stock shall receiv simultan with the distribut to the holder of common stock a dividend or other distribut of such secur in an amount equal to the amount of such secur a they would have receiv if all outstand share of such seri of prefer stock had been convert into common stock on the date of such event. 15 28352 000 lo doc 2578489.2\f",
      " 5.5 adjust for reclassif exchang and substitut if at ani time or from time to time after the origin issu date for a seri o f prefer stock the common stock issuabl upon the convers of such seri of prefer stock is chang into the same or a differ number of share of ani class or class of stock of the corpor whether by recapit reclassif or otherwis other than by a stock split or combin dividend distribut merger or consolid cover by section 5.2 5.3 5.4 or5.6 or by section 2.3 regard a deem liquid event then in ani such event each holder of such seri of prefer stock shall have the right thereaft to convert such stock into the kind and amount of stock and other secur and properti receiv upon such recapit reclassif or other chang by holder of the number of share of common stock into which such share of prefer stock could have been convert immedi prior to such recapit reclassif or change.5.6 adjust for merger or consolid subject to the provis of section 2.3 if there shall occur ani consolid or merger involv the corpor in which the common stock but not a seri of prefer stock is convert into or exchang for secur cash or other properti other than a transact cover by section 5.1 5.3 5.4 or5.5 then follow ani such consolid or merger provis shall be made that each share of such seri of prefer stock shall thereaft be convert in lieu of the common stock into which it wa convert prior to such event into the kind and amount of secur cash or other properti which a holder of the number of share of common stock of the corpor issuabl upon convers of one share of such seri of prefer stock immedi prior to such consolid or merger would have been entitl to receiv pursuant to such transact and in such case appropri adjust a determin in good faith by the board shall be made in the applic of the provis in section 4 and thi section 5 with respect to the right and interest thereaft of the holder of such seri of prefer stock to the end that the provis set forth in section 4 and thi section 5 shall thereaft be applic a nearli a reason may be in relat to ani secur or other properti thereaft deliver upon the convers of such seri of prefer stock.5.7 gener convers provisions.5.7.1 certif a to adjust upon the occurr o f each adjust or readjust of the convers price of a seri of prefer stock pursuant to thi section 5 the corpor at it expens shall a promptli a reason practic but in ani event not later than 15 day thereaft comput such adjust or readjust in accord with the term hereof and furnish to each holder of such seri of prefer stock a certif set forth such adjust or readjust includ the kind and amount of secur cash or other properti into which such seri of prefer stock is convert and show in detail the fact upon which such adjust or readjust is base the corpor shall a promptli a reason practic after the written request at ani time of ani holder of ani seri of prefer stock but in ani event not later than 10 day thereaft furnish or caus to be furnish to such holder a certif set forth a the convers price of such seri of prefer stock then in effect and b the number of share of common stock and the amount if ani of other secur cash or properti which then would be receiv upon the convers of such seri of prefer stock. 16 28352 000 lo doc 2578489.2\f",
      " 5.7.2 reserv of share the corpor shall at all time while ani share of prefer stock shall be outstand reserv and keep avail out of it author but unissu capit stock for the purpos of effect the convers of the prefer stock such number o f it duli author share of common stock a shall from time to time be suffici to effect the convers of all outstand prefer stock and if at ani time the number of author but unissu share of common stock shall not be suffici to effect the convers of all then outstand share of the prefer stock the corpor shall take such corpor action a may be necessari to increas it author but unissu share of common stock to such number of share a shall be suffici for such purpos includ without limit engag in best effort to obtain the requisit stockhold approv of ani necessari amend to thi restat certif befor take ani action that would caus an adjust reduc the convers price of a seri of prefer stock below the then par valu of the share of common stock issuabl upon convers of such seri o f prefer stock the corpor will take ani corpor action which may in the opinion of it counsel be necessari in order that the corpor may validli and legal issu fulli paid and nonassess share of common stock at such adjust convers price.5.7.3 fraction share no fraction share of common stock shall be issu upon convers of the prefer stock in lieu of ani fraction share to which the holder would otherwis be entitl the corpor shall pay cash equal to such fraction multipli by the fair valu of a share of common stock a determin in good faith by the board whether or not fraction share would be issuabl upon such convers shall be determin on the basi of the total number of share of prefer stock the holder is at the time convert into common stock and the aggreg number of share of common stock issuabl upon such conversion.5.7.4 no further adjust after convers upon ani convers of share of prefer stock into common stock no adjust to the convers price of the applic seri of prefer stock shall be made with respect to the convert share for ani declar but unpaid dividend on such seri of prefer stock or on the common stock deliv upon conversion.6 redemption.6.1 redeem by the corporation.pref stock is not redeem the prefer stock is not 7 no reissuanc of redeem or otherwis acquir prefer stock anyshar of prefer stock that are redeem or otherwis acquir by the corpor or ani of it subsidiari shall be automat and immedi retir and shall not be reissu sold or transfer neither the corpor nor ani of it subsidiari may exercis ani vote or other right power and prefer grant to the holder of prefer stock follow the close of busi on the third 3rd day preced the redempt date for such shares.8 waiver ani of the right power prefer and other term of a seri of the prefer stock or the prefer stock a a class that are set forth herein may be waiv on behalf of all holder of such seri of prefer stock or the prefer stock a a class by the affirm written consent or vote of the holder of at least a major of the share o f such 1 7 283 52 00010 doc 2 578489.2\f",
      " seri of prefer stock or such prefer stock a a class that are then outstand treat ani convert prefer stock a if convert to common stock.9 notic of record date in the event a the corpor shall set a record of the holder of it common stock or other capit stock or secur at the time issuabl upon convers of the prefer stock for the purpos of entitl or enabl them to receiv ani dividend or other distribut or to receiv ani right to subscrib for or purchas ani share o f capit stock of ani class or ani other secur or to receiv ani other secur or b of ani capit reorgan of the corpor ani reclassif of the common stock of the corpor or ani deem liquid event or c of the voluntari or involuntari dissolut liquid or wind up of the corporationthen and in each such case the corpor will send or caus to be sent to the holder of the prefer stock a notic specifi a the case may be i the record date for such dividend distribut or subscript right and the amount and charact of such dividend distribut or subscript right or ii the effect date on which such reorgan reclassif consolid merger transfer dissolut liquid or wind up is propos to take place and the time if ani is to be fix a of which the holder of record of common stock or such other capit stock or secur at the time issuabl upon the convers of the prefer stock shall be entitl to exchang their share of common stock or such other capit stock or secur for secur or other properti deliver upon such reorgan reclassif consolid merger transfer dissolut liquid or wind up and the amount per share and charact of such exchang applic to the prefer stock and the common stock such notic shall be sent a at least twenti 20 day prior to the earlier of the record date or effect date for the event specifi in such notic or b such fewer number of day a may be approv the holder of a major of the outstand share of prefer stock act a a singl class on an a convert basis.10 notic except a otherwis provid herein ani notic requir or permit by the provis of thi articl iv to be given to a holder of share of prefer stock shall be mail postag prepaid to the post offic address last shown on the record o f the corpor for such holder given by the holder to the corpor for the purpos of notic or given by electron commun in complianc with the provis of the gener corpor law and shall be deem sent upon such mail or electron transmiss if no such address appear or is given notic shall be deem given at the place where the princip execut offic of the corpor is located.articl v preemptiv rights.no stockhold o f the corpor shall have a right to purchas share of capit stock of the corpor sold or issu by the corpor except to the extent that such a right may from time to time be set forth in a written agreement between the corpor and ani stockholder. 18 28352 000i o doc 2578489.2\f",
      " articl vi stock repurchases.in connect with repurchas by the corpor of it common stock from servic provid pursuant to agreement under which the corpor ha the option to repurchas such share at cost upon the occurr of certain event such a the termin of employ section 502 and 503 of the corpor code of the state of california shall not appli in all or in part with respect to such repurchases.articl v ii bylaw provisions.a amend of bylaw subject to ani addit vote requir by the restat certif or bylaw in further and not in limit of the power confer by statut the board is expressli author to make repeal alter amend and rescind ani or all of the bylaw of the corporation.b number of director subject to ani addit vote requir by the restat certif the number of director of the corpor shall be determin in the manner set forth in the bylaw of the corporation.ballot elect of director need not be by written ballot unless the bylaw of the c corpor shall so provide.d meet and book meet of stockhold may be held within or without the state of delawar a the bylaw of the corpor may provid the book of the corpor may be kept outsid the state of delawar at such place or place a may be design from time to time by the board or in the bylaw of the corporation.articl v iii director liability.limit to the fullest extent permit by law a director of the corpor shall a not be person liabl to the corpor or it stockhold for monetari damag for breach of fiduciari duti a a director if the gener corpor law or ani other law of the state of delawar is amend after approv by the stockhold of thi articl viii to author corpor action further elimin or limit the person liabil of director then the liabil of a director o f the corpor shall be elimin or limit to the fullest extent permit by the gener corpor law a so amend ani repeal or modif of the forego provis of thi articl viii by the stockhold of the corpor shall not advers affect ani right or protect o f a director of the corpor exist at the time of or increas the liabil of ani director of the corpor with respect to ani act or omiss of such director occur prior to such repeal or modification.b indemnif to the fullest extent permit by applic law the corpor is author to provid indemnif o f and advanc of expens to director offic and agent of the corpor and ani other person to which gener corpor law permit the corpor to provid indemnif through bylaw provis agreement with such agent or other person vote of stockhold or disinterest director or otherwis in excess of the indemnif and advanc otherwis permit by section 145 of the gener corpor law. 1 9 283 52 0001 o doc 2578489.2\f",
      " c modif ani amend repeal or modif of the forego provis of thi articl viii shall not advers affect ani right or protect o f ani director offic or other agent of the corpor exist at the time of such amend repeal or modification.articl ix corpor opportunities.in the event that a director of the corpor who is also a partner or employe of an entiti that is a holder of prefer stock or ani of it affili and that is in the busi of invest and reinvest in other entiti each a fund acquir knowledg of a potenti transact or matter in such person capac a a partner or employe of the fund and that may be a corpor opportun for both the corpor and such fund such director shall to the fullest extent permit by law have fulli satisfi and fulfil such director fiduciari duti to the corpor and it stockhold with respect to such corpor opportun and the corpor to the fullest extent permit by law waiv ani claim that such busi opportun constitut a corpor opportun that should have been present to the corpor or ani of it affili if such director act in good faith in a manner consist with the follow polici a corpor opportun offer to ani person who is a director o f the corpor and who is also a partner or employe of a fund shall belong to such fund unless such opportun wa expressli offer to such person sole in hi or her capac a a director of the corporation.articl x creditor and stockhold compromiseswhenev a compromis or arrang is propos between the corpor and it creditor or ani class of them and or between the corpor and it stockhold or ani class of them ani court of equit jurisdict within the state of delawar may on the applic in a summari way of the corpor or of ani creditor or stockhold thereof or on the applic of ani receiv or receiv appoint for the corpor under the provis of 291 of titl 8 of the gener corpor law or on the applic o f truste in dissolut or o f ani receiv or receiv appoint for thi corpor under 279 of titl 8 of the gener corpor law order a meet of the creditor or class of creditor and or o f the stockhold or class of stockhold of the corpor a the case may be to be summon in such manner a the said court direct if a major in number repres three fourth 3 4thi in valu of the creditor or class of creditor and or of the stockhold or class of stockhold of the corpor a the case may be agre to ani compromis or arrang and to ani reorgan of the corpor a a consequ of such compromis or arrang the said compromis or arrang and the said reorgan shall if sanction by the court to which the said applic ha been made be bind on all the creditor or class of creditor and or on all the stockhold or class of stockhold o f the corpor a the case may be and also on the corporation. 20 28352 000 0 doc 2578489.2\f",
      "\n"
     ]
    },
    {
     "ename": "AssertionError",
     "evalue": "Article fourth Sequence not found",
     "output_type": "error",
     "traceback": [
      "\u001b[0;31m---------------------------------------------------------------------------\u001b[0m",
      "\u001b[0;31mAssertionError\u001b[0m                            Traceback (most recent call last)",
      "\u001b[0;32m<ipython-input-54-6545491a1226>\u001b[0m in \u001b[0;36m<module>\u001b[0;34m\u001b[0m\n\u001b[0;32m----> 1\u001b[0;31m \u001b[0mtest_methods\u001b[0m\u001b[0;34m(\u001b[0m\u001b[0mfilename\u001b[0m\u001b[0;34m,\u001b[0m \u001b[0mn\u001b[0m\u001b[0;34m=\u001b[0m\u001b[0;36m10\u001b[0m\u001b[0;34m)\u001b[0m\u001b[0;34m\u001b[0m\u001b[0m\n\u001b[0m",
      "\u001b[0;32m<ipython-input-44-235382bf88b3>\u001b[0m in \u001b[0;36mtest_methods\u001b[0;34m(filename, n)\u001b[0m\n\u001b[1;32m      7\u001b[0m             \u001b[0;32mbreak\u001b[0m\u001b[0;34m\u001b[0m\u001b[0m\n\u001b[1;32m      8\u001b[0m         \u001b[0mprint\u001b[0m\u001b[0;34m(\u001b[0m\u001b[0mfilename\u001b[0m\u001b[0;34m)\u001b[0m\u001b[0;34m\u001b[0m\u001b[0m\n\u001b[0;32m----> 9\u001b[0;31m         \u001b[0mIntro_IV_text\u001b[0m \u001b[0;34m=\u001b[0m \u001b[0mget_IV_intro_text\u001b[0m\u001b[0;34m(\u001b[0m\u001b[0;34m\"./contracts/\"\u001b[0m \u001b[0;34m+\u001b[0m \u001b[0mfilename\u001b[0m\u001b[0;34m)\u001b[0m\u001b[0;34m\u001b[0m\u001b[0m\n\u001b[0m\u001b[1;32m     10\u001b[0m \u001b[0;34m\u001b[0m\u001b[0m\n\u001b[1;32m     11\u001b[0m \u001b[0;31m#     text = get_IV_intro_text(filename)\u001b[0m\u001b[0;34m\u001b[0m\u001b[0;34m\u001b[0m\u001b[0m\n",
      "\u001b[0;32m<ipython-input-53-ed2a72219df9>\u001b[0m in \u001b[0;36mget_IV_intro_text\u001b[0;34m(filename)\u001b[0m\n\u001b[1;32m      8\u001b[0m     \u001b[0mend_of_IV_intro\u001b[0m \u001b[0;34m=\u001b[0m \u001b[0mend_of_IV_intro\u001b[0m\u001b[0;34m[\u001b[0m\u001b[0;36m0\u001b[0m\u001b[0;34m]\u001b[0m\u001b[0;34m\u001b[0m\u001b[0m\n\u001b[1;32m      9\u001b[0m     \u001b[0marticl_forth_occur\u001b[0m \u001b[0;34m=\u001b[0m \u001b[0mfind_target\u001b[0m\u001b[0;34m(\u001b[0m\u001b[0mtext\u001b[0m\u001b[0;34m,\u001b[0m \u001b[0;34m[\u001b[0m\u001b[0;34m\"articl\"\u001b[0m\u001b[0;34m,\u001b[0m \u001b[0;34m\"fourth\"\u001b[0m\u001b[0;34m]\u001b[0m\u001b[0;34m)\u001b[0m\u001b[0;34m\u001b[0m\u001b[0m\n\u001b[0;32m---> 10\u001b[0;31m     \u001b[0;32massert\u001b[0m\u001b[0;34m(\u001b[0m\u001b[0marticl_forth_occur\u001b[0m\u001b[0;34m)\u001b[0m\u001b[0;34m,\u001b[0m \u001b[0;34m\"Article fourth Sequence not found\"\u001b[0m\u001b[0;34m\u001b[0m\u001b[0m\n\u001b[0m\u001b[1;32m     11\u001b[0m     \u001b[0mbegining_of_IV\u001b[0m \u001b[0;34m=\u001b[0m \u001b[0mget_closest_string\u001b[0m\u001b[0;34m(\u001b[0m\u001b[0mvalues\u001b[0m \u001b[0;34m=\u001b[0m \u001b[0marticl_forth_occur\u001b[0m\u001b[0;34m,\u001b[0m \u001b[0mtarget\u001b[0m\u001b[0;34m=\u001b[0m\u001b[0mend_of_IV_intro\u001b[0m\u001b[0;34m,\u001b[0m \u001b[0mless\u001b[0m\u001b[0;34m=\u001b[0m\u001b[0;32mTrue\u001b[0m\u001b[0;34m)\u001b[0m\u001b[0;34m\u001b[0m\u001b[0m\n\u001b[1;32m     12\u001b[0m     \u001b[0mIV_intro_text\u001b[0m \u001b[0;34m=\u001b[0m \u001b[0mtext\u001b[0m\u001b[0;34m[\u001b[0m\u001b[0mbegining_of_IV\u001b[0m\u001b[0;34m:\u001b[0m\u001b[0mend_of_IV_intro\u001b[0m\u001b[0;34m]\u001b[0m\u001b[0;34m\u001b[0m\u001b[0m\n",
      "\u001b[0;31mAssertionError\u001b[0m: Article fourth Sequence not found"
     ]
    }
   ],
   "source": [
    "test_methods(filename, n=10)"
   ]
  },
  {
   "cell_type": "code",
   "execution_count": null,
   "metadata": {
    "collapsed": true
   },
   "outputs": [],
   "source": []
  }
 ],
 "metadata": {
  "kernelspec": {
   "display_name": "contracts",
   "language": "python",
   "name": "contracts"
  },
  "language_info": {
   "codemirror_mode": {
    "name": "ipython",
    "version": 3
   },
   "file_extension": ".py",
   "mimetype": "text/x-python",
   "name": "python",
   "nbconvert_exporter": "python",
   "pygments_lexer": "ipython3",
   "version": "3.6.0"
  }
 },
 "nbformat": 4,
 "nbformat_minor": 2
}
