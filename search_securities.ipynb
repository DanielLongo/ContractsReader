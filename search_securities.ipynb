{
 "cells": [
  {
   "cell_type": "code",
   "execution_count": 3,
   "metadata": {
    "collapsed": true
   },
   "outputs": [],
   "source": [
    "import numpy as np\n",
    "import warnings\n",
    "import pandas as pd\n",
    "import os"
   ]
  },
  {
   "cell_type": "code",
   "execution_count": 4,
   "metadata": {
    "collapsed": true,
    "scrolled": true
   },
   "outputs": [],
   "source": [
    "from load_contracts import read_contract, preprocess_text\n",
    "from load_info import get_security_names, load_info_xlsx\n",
    "from manage_triggers import get_proccessed_triggers"
   ]
  },
  {
   "cell_type": "code",
   "execution_count": 5,
   "metadata": {
    "collapsed": true
   },
   "outputs": [],
   "source": [
    "filename = \"contracts/135_ActelisNetworks_COI_01072005.pdf\""
   ]
  },
  {
   "cell_type": "code",
   "execution_count": 6,
   "metadata": {},
   "outputs": [],
   "source": [
    "BEGINING_OF_IV_INTRO_TEXT = get_proccessed_triggers(\"Begining_IV\")\n",
    "END_OF_IV_INTRO_TEXT = get_proccessed_triggers(\"End_IV_intro\")"
   ]
  },
  {
   "cell_type": "markdown",
   "metadata": {},
   "source": [
    "### Utils"
   ]
  },
  {
   "cell_type": "code",
   "execution_count": 115,
   "metadata": {
    "collapsed": true
   },
   "outputs": [],
   "source": [
    "def find_loc(text, triggers, allow_contains=True):\n",
    "    for trigger in triggers:\n",
    "        curIndex = find_target(text, trigger, allow_contains=allow_contains)\n",
    "        if curIndex != []:\n",
    "            if len(curIndex) > 1:\n",
    "                pass\n",
    "#                 print(\"target occurs at multiple indicies\")\n",
    "            return curIndex\n",
    "#     print(\"No trigger found in text\")\n",
    "    return None"
   ]
  },
  {
   "cell_type": "code",
   "execution_count": 92,
   "metadata": {
    "collapsed": true
   },
   "outputs": [],
   "source": [
    "def get_filepath(target_filename):\n",
    "    dropbox_path = \"/Users/DanielLongo/Dropbox/VC RA Avinika Narayan/Contracts project/coi/Done OCR'd/\"\n",
    "    for root, dirs, files in os.walk(dropbox_path):\n",
    "        for dir in dirs:\n",
    "            for filename in os.listdir(dropbox_path + dir):\n",
    "                if filename == target_filename:\n",
    "                    return dropbox_path + dir + \"/\" + filename\n",
    "#     print(target_filename, \"not found\")"
   ]
  },
  {
   "cell_type": "code",
   "execution_count": 6,
   "metadata": {},
   "outputs": [
    {
     "data": {
      "text/plain": [
       "\"/Users/DanielLongo/Dropbox/VC RA Avinika Narayan/Contracts project/coi/Done OCR'd/955 Dreams/17445_955Dreams_COI_10112013.pdf\""
      ]
     },
     "execution_count": 6,
     "metadata": {},
     "output_type": "execute_result"
    }
   ],
   "source": [
    "get_filepath(\"17445_955Dreams_COI_10112013.pdf\")"
   ]
  },
  {
   "cell_type": "code",
   "execution_count": 7,
   "metadata": {
    "collapsed": true
   },
   "outputs": [],
   "source": [
    "def remove_periods(text): #doesn't remove decimal places\n",
    "    out = []\n",
    "    for word in text:\n",
    "        if is_num(word):\n",
    "            out += [word]\n",
    "            continue\n",
    "        out += word.split('.')\n",
    "    return out"
   ]
  },
  {
   "cell_type": "code",
   "execution_count": null,
   "metadata": {
    "collapsed": true
   },
   "outputs": [],
   "source": [
    "# def get_closest "
   ]
  },
  {
   "cell_type": "code",
   "execution_count": 8,
   "metadata": {
    "collapsed": true
   },
   "outputs": [],
   "source": [
    "def is_num(x):\n",
    "    x = x.strip('$')\n",
    "    try:\n",
    "        float(x)\n",
    "    except ValueError:\n",
    "        return False\n",
    "    return True"
   ]
  },
  {
   "cell_type": "code",
   "execution_count": 9,
   "metadata": {
    "collapsed": true
   },
   "outputs": [],
   "source": [
    "def revert_secuirty_names(df):\n",
    "    df.loc[df[\"Security Name\"] == \"common stock\", \"Security Name\"] = \"common\"\n",
    "    return df"
   ]
  },
  {
   "cell_type": "code",
   "execution_count": 155,
   "metadata": {
    "collapsed": true
   },
   "outputs": [],
   "source": [
    "def get_closest_string(values, target, less, any=False):\n",
    "    if not any:\n",
    "        if less:\n",
    "            values = [x for x in values if x < target]\n",
    "        else:\n",
    "            values = [x for x in values if x > target]\n",
    "    try:\n",
    "        val = min(values, key=lambda x: abs(target - x))\n",
    "    except ValueError:\n",
    "        return -1\n",
    "    return val"
   ]
  },
  {
   "cell_type": "code",
   "execution_count": 75,
   "metadata": {
    "collapsed": true
   },
   "outputs": [],
   "source": [
    "def find_target(text, target, allow_contains=True):\n",
    "    target_loc = 0\n",
    "    indicies = []\n",
    "    start_index = 0\n",
    "    for i in range(len(text)):\n",
    "        word = text[i]\n",
    "#         print(\"target_loc\", target_loc)\n",
    "        if word == target[target_loc] or (allow_contains and word in target[target_loc]):\n",
    "            if target_loc == 0: #marks start of sequence\n",
    "                start_index = i\n",
    "            target_loc += 1\n",
    "            if target_loc == len(target):\n",
    "                indicies += [start_index]\n",
    "                target_loc = 0\n",
    "        elif word == target[0] or (allow_contains and word in target[0]):\n",
    "            target_loc = 1\n",
    "        else:\n",
    "            if target_loc > 0:\n",
    "                #reset just incase ababcd \n",
    "                i -= (target_loc - 1) \n",
    "            target_loc = 0\n",
    "    return indicies"
   ]
  },
  {
   "cell_type": "markdown",
   "metadata": {},
   "source": [
    "### Search Functions"
   ]
  },
  {
   "cell_type": "code",
   "execution_count": 76,
   "metadata": {
    "collapsed": true
   },
   "outputs": [],
   "source": [
    "def get_closest_num(values, target, less, min=-1, max=1e10000, any=False):\n",
    "    try:\n",
    "        index = int(target)\n",
    "    except ValueError:\n",
    "        indicies = find_target(values, target.split(\" \"))\n",
    "        if len(indicies) > 1:\n",
    "            warnings.warn(\"Indicies length greath than one\", RuntimeWarning)\n",
    "            for i in range(len(indicies)):\n",
    "                if less:\n",
    "                    cur_target = indicies[i]\n",
    "                else:\n",
    "                    cur_target = indicies[len(indicies) - 1 -i] #starts at end of doc\n",
    "                cur_val = get_closest_num(values, cur_target, less, min=min, max=max, any=any)\n",
    "                if (cur_val != None):\n",
    "                    return cur_val\n",
    "            warnings.warn(\"No number found\", RuntimeWarning)\n",
    "            print(\"No num found target:\", target, \"indicies:\", indicies)\n",
    "            return None\n",
    "        assert(len(indicies) > 1), \"Invalid target\"\n",
    "        index = indicies[-1]\n",
    "    if any: #doesn't get closest\n",
    "        iters = range(0, len(values))\n",
    "    elif less:\n",
    "        iters = range(index -1, -1, -1) #0 is last\n",
    "    else:#less = false\n",
    "        iters = range(index, len(values))\n",
    "    for i in iters:\n",
    "        if (is_num(values[i])):\n",
    "            return int(values[i])\n",
    "    print(\"No num\", target, \"index\", index)\n",
    "    return None\n",
    "    "
   ]
  },
  {
   "cell_type": "code",
   "execution_count": 77,
   "metadata": {
    "collapsed": true
   },
   "outputs": [],
   "source": [
    "def get_names(text):\n",
    "    unsplit_names = get_security_names()\n",
    "    names = [name.split(\" \") for name in unsplit_names]\n",
    "    indicies = []\n",
    "    types = []\n",
    "    for name in names:\n",
    "        if (len(name) == 1):\n",
    "            name += [\"stock\"]\n",
    "        cur_indicies = find_target(text, name)\n",
    "        if len(cur_indicies) > 0:\n",
    "            types += [\" \".join(name)]\n",
    "            indicies += [cur_indicies]\n",
    "    #remove extra \"prefered stock\"\n",
    "    has_extra_prefered = True\n",
    "    if \"prefer stock\" in types:\n",
    "        for type in types:\n",
    "            if type[-6:] == 'prefer':\n",
    "                has_extra_prefered = True\n",
    "                break\n",
    "        if (has_extra_prefered):\n",
    "            indicies.pop(types.index('prefer stock'))\n",
    "            types.remove('prefer stock')\n",
    "    return indicies, types"
   ]
  },
  {
   "cell_type": "code",
   "execution_count": 78,
   "metadata": {
    "collapsed": true
   },
   "outputs": [],
   "source": [
    "def get_num_of_shares(text, names):\n",
    "    out = []\n",
    "    for name in names:\n",
    "        out += [get_closest_num(text, name, less=True)]\n",
    "    return out\n",
    "        "
   ]
  },
  {
   "cell_type": "code",
   "execution_count": 79,
   "metadata": {
    "collapsed": true
   },
   "outputs": [],
   "source": [
    "def get_types(names):\n",
    "    types = []\n",
    "    for name in names:\n",
    "        if \"common\" in name:\n",
    "            types += [\"common\"]\n",
    "        elif \"prefer\" in name:\n",
    "            types += [\"prefered\"]\n",
    "        else:\n",
    "            print(\"name doesn't contain common or prefer:\", \"\".join(name))\n",
    "            types += [\"No type found\"]\n",
    "    return types"
   ]
  },
  {
   "cell_type": "code",
   "execution_count": 80,
   "metadata": {
    "collapsed": true
   },
   "outputs": [],
   "source": [
    "def generate_stats(IV_intro_text):\n",
    "    _, names = get_names(IV_intro_text)\n",
    "    types = get_types(names)\n",
    "    nums = get_num_of_shares(IV_intro_text, names)\n",
    "    d = {\"Security Name\":names, \"Security Type\":types, \"Number\":nums}\n",
    "    df = pd.DataFrame(d)\n",
    "    df = revert_secuirty_names(df)\n",
    "    return df"
   ]
  },
  {
   "cell_type": "code",
   "execution_count": 81,
   "metadata": {
    "collapsed": true
   },
   "outputs": [],
   "source": [
    "unsplit_names = get_security_names()"
   ]
  },
  {
   "cell_type": "code",
   "execution_count": 82,
   "metadata": {
    "collapsed": true
   },
   "outputs": [],
   "source": [
    "all_names = [name.split(\" \") for name in unsplit_names]"
   ]
  },
  {
   "cell_type": "code",
   "execution_count": 83,
   "metadata": {},
   "outputs": [
    {
     "ename": "NameError",
     "evalue": "name 'text' is not defined",
     "output_type": "error",
     "traceback": [
      "\u001b[0;31m---------------------------------------------------------------------------\u001b[0m",
      "\u001b[0;31mNameError\u001b[0m                                 Traceback (most recent call last)",
      "\u001b[0;32m<ipython-input-83-721fbcd3357b>\u001b[0m in \u001b[0;36m<module>\u001b[0;34m\u001b[0m\n\u001b[1;32m      1\u001b[0m \u001b[0mindicies\u001b[0m \u001b[0;34m=\u001b[0m \u001b[0;34m[\u001b[0m\u001b[0;34m]\u001b[0m\u001b[0;34m\u001b[0m\u001b[0m\n\u001b[1;32m      2\u001b[0m \u001b[0;32mfor\u001b[0m \u001b[0mname\u001b[0m \u001b[0;32min\u001b[0m \u001b[0mall_names\u001b[0m\u001b[0;34m:\u001b[0m\u001b[0;34m\u001b[0m\u001b[0m\n\u001b[0;32m----> 3\u001b[0;31m     \u001b[0mindicies\u001b[0m \u001b[0;34m+=\u001b[0m \u001b[0;34m[\u001b[0m\u001b[0mfind_target\u001b[0m\u001b[0;34m(\u001b[0m\u001b[0mtext\u001b[0m\u001b[0;34m,\u001b[0m \u001b[0mname\u001b[0m\u001b[0;34m)\u001b[0m\u001b[0;34m]\u001b[0m\u001b[0;34m\u001b[0m\u001b[0m\n\u001b[0m",
      "\u001b[0;31mNameError\u001b[0m: name 'text' is not defined"
     ]
    }
   ],
   "source": [
    "indicies = []\n",
    "for name in all_names:\n",
    "    indicies += [find_target(text, name)]\n"
   ]
  },
  {
   "cell_type": "code",
   "execution_count": 25,
   "metadata": {
    "collapsed": true
   },
   "outputs": [],
   "source": [
    "index_of_article_IV = find_target(text, [\"articl\", \"fourth\"])"
   ]
  },
  {
   "cell_type": "code",
   "execution_count": 26,
   "metadata": {},
   "outputs": [
    {
     "ename": "IndexError",
     "evalue": "list index out of range",
     "output_type": "error",
     "traceback": [
      "\u001b[0;31m---------------------------------------------------------------------------\u001b[0m",
      "\u001b[0;31mIndexError\u001b[0m                                Traceback (most recent call last)",
      "\u001b[0;32m<ipython-input-26-615190fa0c4e>\u001b[0m in \u001b[0;36m<module>\u001b[0;34m\u001b[0m\n\u001b[0;32m----> 1\u001b[0;31m \u001b[0mtext\u001b[0m\u001b[0;34m[\u001b[0m\u001b[0mindex_of_article_IV\u001b[0m\u001b[0;34m[\u001b[0m\u001b[0;36m0\u001b[0m\u001b[0;34m]\u001b[0m\u001b[0;34m:\u001b[0m \u001b[0mindex_of_article_IV\u001b[0m\u001b[0;34m[\u001b[0m\u001b[0;36m0\u001b[0m\u001b[0;34m]\u001b[0m \u001b[0;34m+\u001b[0m \u001b[0;36m2\u001b[0m\u001b[0;34m]\u001b[0m\u001b[0;34m\u001b[0m\u001b[0m\n\u001b[0m",
      "\u001b[0;31mIndexError\u001b[0m: list index out of range"
     ]
    }
   ],
   "source": [
    "text[index_of_article_IV[0]: index_of_article_IV[0] + 2]"
   ]
  },
  {
   "cell_type": "markdown",
   "metadata": {},
   "source": [
    "### Search Through IV Intro"
   ]
  },
  {
   "cell_type": "code",
   "execution_count": 27,
   "metadata": {
    "collapsed": true
   },
   "outputs": [],
   "source": [
    "end_of_IV_intro = find_target(text, END_OF_IV_INTRO_TEXT)"
   ]
  },
  {
   "cell_type": "code",
   "execution_count": 28,
   "metadata": {},
   "outputs": [
    {
     "ename": "AssertionError",
     "evalue": "",
     "output_type": "error",
     "traceback": [
      "\u001b[0;31m---------------------------------------------------------------------------\u001b[0m",
      "\u001b[0;31mAssertionError\u001b[0m                            Traceback (most recent call last)",
      "\u001b[0;32m<ipython-input-28-218f13f71ceb>\u001b[0m in \u001b[0;36m<module>\u001b[0;34m\u001b[0m\n\u001b[0;32m----> 1\u001b[0;31m \u001b[0;32massert\u001b[0m\u001b[0;34m(\u001b[0m\u001b[0mlen\u001b[0m\u001b[0;34m(\u001b[0m\u001b[0mend_of_IV_intro\u001b[0m\u001b[0;34m)\u001b[0m \u001b[0;34m==\u001b[0m \u001b[0;36m1\u001b[0m\u001b[0;34m)\u001b[0m\u001b[0;34m\u001b[0m\u001b[0m\n\u001b[0m",
      "\u001b[0;31mAssertionError\u001b[0m: "
     ]
    }
   ],
   "source": [
    "assert(len(end_of_IV_intro) == 1)"
   ]
  },
  {
   "cell_type": "code",
   "execution_count": 29,
   "metadata": {},
   "outputs": [
    {
     "ename": "IndexError",
     "evalue": "list index out of range",
     "output_type": "error",
     "traceback": [
      "\u001b[0;31m---------------------------------------------------------------------------\u001b[0m",
      "\u001b[0;31mIndexError\u001b[0m                                Traceback (most recent call last)",
      "\u001b[0;32m<ipython-input-29-822e0dc24b72>\u001b[0m in \u001b[0;36m<module>\u001b[0;34m\u001b[0m\n\u001b[0;32m----> 1\u001b[0;31m \u001b[0mend_of_IV_intro\u001b[0m \u001b[0;34m=\u001b[0m \u001b[0mend_of_IV_intro\u001b[0m\u001b[0;34m[\u001b[0m\u001b[0;36m0\u001b[0m\u001b[0;34m]\u001b[0m\u001b[0;34m\u001b[0m\u001b[0m\n\u001b[0m",
      "\u001b[0;31mIndexError\u001b[0m: list index out of range"
     ]
    }
   ],
   "source": [
    "end_of_IV_intro = end_of_IV_intro[0]"
   ]
  },
  {
   "cell_type": "code",
   "execution_count": 22,
   "metadata": {
    "collapsed": true
   },
   "outputs": [],
   "source": [
    "articl_forth_occur = find_target(text, [\"articl\", \"fourth\"])"
   ]
  },
  {
   "cell_type": "code",
   "execution_count": 23,
   "metadata": {
    "collapsed": true
   },
   "outputs": [],
   "source": [
    "begining_of_IV = get_closest_string(values = articl_forth_occur, target=end_of_IV_intro, less=True)"
   ]
  },
  {
   "cell_type": "code",
   "execution_count": 24,
   "metadata": {},
   "outputs": [
    {
     "name": "stdout",
     "output_type": "stream",
     "text": [
      "IV Intro starts 203 IV Intro ends 363\n"
     ]
    }
   ],
   "source": [
    "print(\"IV Intro starts\", begining_of_IV, \"IV Intro ends\", end_of_IV_intro)"
   ]
  },
  {
   "cell_type": "code",
   "execution_count": 25,
   "metadata": {},
   "outputs": [
    {
     "data": {
      "text/plain": [
       "'articl fourth compani is author to issu two class of share design respect common stock and prefer stock the compani is author to issu 43000000 share of common stock with a par valu of $0.01 per share the compani is author to issu 26007500 share of prefer stock 800000 of which are design seri a prefer stock with a par valu of $0.01 per share seri a prefer 700000 of which are design seri b prefer stock with a par valu of $0.01 per share seri b prefer 1507500 of which are design seri c prefer stock with a par valu of $0.01 per share seri c prefer and 23000000 of which are design seri d prefer stock with a par valu of $0.01 per share seri d prefer for the purpos of thi amend and restat certif of incorpor the term prefer stock shall mean seri a prefer seri b prefer seri c prefer and seri d prefer collectively.th'"
      ]
     },
     "execution_count": 25,
     "metadata": {},
     "output_type": "execute_result"
    }
   ],
   "source": [
    "\" \".join(text[begining_of_IV:end_of_IV_intro])"
   ]
  },
  {
   "cell_type": "code",
   "execution_count": 26,
   "metadata": {
    "collapsed": true
   },
   "outputs": [],
   "source": [
    "IV_intro_text = text[begining_of_IV:end_of_IV_intro]"
   ]
  },
  {
   "cell_type": "code",
   "execution_count": 27,
   "metadata": {
    "collapsed": true
   },
   "outputs": [],
   "source": [
    "indicies, names = get_names(IV_intro_text)"
   ]
  },
  {
   "cell_type": "code",
   "execution_count": 28,
   "metadata": {
    "collapsed": true
   },
   "outputs": [],
   "source": [
    "types = get_types(names)"
   ]
  },
  {
   "cell_type": "code",
   "execution_count": 29,
   "metadata": {},
   "outputs": [
    {
     "name": "stderr",
     "output_type": "stream",
     "text": [
      "RuntimeWarning: Indicies length greath than one [ipykernel_launcher.py:7]\n"
     ]
    },
    {
     "data": {
      "text/plain": [
       "26007500"
      ]
     },
     "execution_count": 29,
     "metadata": {},
     "output_type": "execute_result"
    }
   ],
   "source": [
    "get_closest_num(IV_intro_text, names[0], False)"
   ]
  },
  {
   "cell_type": "code",
   "execution_count": 30,
   "metadata": {},
   "outputs": [
    {
     "name": "stderr",
     "output_type": "stream",
     "text": [
      "RuntimeWarning: Indicies length greath than one [ipykernel_launcher.py:7]\n"
     ]
    },
    {
     "data": {
      "text/plain": [
       "26007500"
      ]
     },
     "execution_count": 30,
     "metadata": {},
     "output_type": "execute_result"
    }
   ],
   "source": [
    "get_closest_num(IV_intro_text, names[0], False)"
   ]
  },
  {
   "cell_type": "code",
   "execution_count": 31,
   "metadata": {
    "scrolled": true
   },
   "outputs": [
    {
     "name": "stdout",
     "output_type": "stream",
     "text": [
      "No num 13 index 13\n"
     ]
    },
    {
     "name": "stderr",
     "output_type": "stream",
     "text": [
      "RuntimeWarning: Indicies length greath than one [ipykernel_launcher.py:7]\n"
     ]
    }
   ],
   "source": [
    "nums = get_num_of_shares(IV_intro_text, names)"
   ]
  },
  {
   "cell_type": "code",
   "execution_count": 32,
   "metadata": {},
   "outputs": [
    {
     "name": "stdout",
     "output_type": "stream",
     "text": [
      "['common stock', 'seri a prefer', 'seri b prefer', 'seri c prefer', 'seri d prefer']\n",
      "['common', 'prefered', 'prefered', 'prefered', 'prefered']\n",
      "[43000000, 800000, 700000, 1507500, 23000000]\n"
     ]
    }
   ],
   "source": [
    "print(names)\n",
    "print(types)\n",
    "print(nums)"
   ]
  },
  {
   "cell_type": "code",
   "execution_count": 33,
   "metadata": {},
   "outputs": [
    {
     "name": "stdout",
     "output_type": "stream",
     "text": [
      "No num 13 index 13\n"
     ]
    },
    {
     "name": "stderr",
     "output_type": "stream",
     "text": [
      "RuntimeWarning: Indicies length greath than one [ipykernel_launcher.py:7]\n"
     ]
    },
    {
     "data": {
      "text/html": [
       "<div>\n",
       "<style scoped>\n",
       "    .dataframe tbody tr th:only-of-type {\n",
       "        vertical-align: middle;\n",
       "    }\n",
       "\n",
       "    .dataframe tbody tr th {\n",
       "        vertical-align: top;\n",
       "    }\n",
       "\n",
       "    .dataframe thead th {\n",
       "        text-align: right;\n",
       "    }\n",
       "</style>\n",
       "<table border=\"1\" class=\"dataframe\">\n",
       "  <thead>\n",
       "    <tr style=\"text-align: right;\">\n",
       "      <th></th>\n",
       "      <th>Security Name</th>\n",
       "      <th>Security Type</th>\n",
       "      <th>Number</th>\n",
       "    </tr>\n",
       "  </thead>\n",
       "  <tbody>\n",
       "    <tr>\n",
       "      <th>0</th>\n",
       "      <td>common</td>\n",
       "      <td>common</td>\n",
       "      <td>43000000</td>\n",
       "    </tr>\n",
       "    <tr>\n",
       "      <th>1</th>\n",
       "      <td>seri a prefer</td>\n",
       "      <td>prefered</td>\n",
       "      <td>800000</td>\n",
       "    </tr>\n",
       "    <tr>\n",
       "      <th>2</th>\n",
       "      <td>seri b prefer</td>\n",
       "      <td>prefered</td>\n",
       "      <td>700000</td>\n",
       "    </tr>\n",
       "    <tr>\n",
       "      <th>3</th>\n",
       "      <td>seri c prefer</td>\n",
       "      <td>prefered</td>\n",
       "      <td>1507500</td>\n",
       "    </tr>\n",
       "    <tr>\n",
       "      <th>4</th>\n",
       "      <td>seri d prefer</td>\n",
       "      <td>prefered</td>\n",
       "      <td>23000000</td>\n",
       "    </tr>\n",
       "  </tbody>\n",
       "</table>\n",
       "</div>"
      ],
      "text/plain": [
       "   Security Name Security Type    Number\n",
       "0         common        common  43000000\n",
       "1  seri a prefer      prefered    800000\n",
       "2  seri b prefer      prefered    700000\n",
       "3  seri c prefer      prefered   1507500\n",
       "4  seri d prefer      prefered  23000000"
      ]
     },
     "execution_count": 33,
     "metadata": {},
     "output_type": "execute_result"
    }
   ],
   "source": [
    "generate_stats(IV_intro_text)"
   ]
  },
  {
   "cell_type": "markdown",
   "metadata": {},
   "source": [
    "### Evalutate Search Methods"
   ]
  },
  {
   "cell_type": "code",
   "execution_count": 171,
   "metadata": {
    "collapsed": true
   },
   "outputs": [],
   "source": [
    "def get_IV_intro_text(filename, begining_intro_triggers, end_intro_triggers):\n",
    "    text = read_contract(filename)\n",
    "    text = text.split(\" \")\n",
    "#     print(\"text\", text)\n",
    "#     text = text.split(\" \")\n",
    "#     text = remove_periods(text)\n",
    "        \n",
    "    if filename in Failures:\n",
    "        return \"Failure expected\"\n",
    "    try:\n",
    "        begining_of_IV_intro = find_loc(text, begining_intro_triggers, allow_contains=False)\n",
    "        end_of_IV_intro = find_loc(text, end_intro_triggers)[0]\n",
    "#         print(\"end IV sample\", \" \".join(text[end_of_IV_intro: end_of_IV_intro + 50])\n",
    "#         end_of_IV_intro = end_of_IV_intro[0]\n",
    "#         end_of_IV_intro = \n",
    "    except TypeError:\n",
    "        print(\"failed\", filename)\n",
    "        print(text)\n",
    "        return None\n",
    "    assert(begining_of_IV_intro != None), \"Invalid info file \" + \" \".join(text) + filename\n",
    "        \n",
    "#     assert(end_of_IV_intro != None), \"END Sequence not found\"\n",
    "#     articl_forth_occur = find_target(text, [\"articl\", \"fourth\"])\n",
    "#     assert(articl_forth_occur != None), \"Article fourth Sequence not found\"\n",
    "    begining_of_IV = get_closest_string(values = begining_of_IV_intro, target=end_of_IV_intro, less=True)\n",
    "    if begining_of_IV == -1:\n",
    "        print(\"no begining found\")\n",
    "        begining_of_IV = end_of_IV_intro - 100\n",
    "    print(\"begining\", begining_of_IV, \"end\", end_of_IV_intro)\n",
    "    IV_intro_text = text[begining_of_IV:end_of_IV_intro]\n",
    "    return IV_intro_text"
   ]
  },
  {
   "cell_type": "code",
   "execution_count": 176,
   "metadata": {
    "collapsed": true
   },
   "outputs": [],
   "source": [
    "def test_methods(filename, n=-1, start_index=0):\n",
    "    iters = 0\n",
    "    y = load_info_xlsx(\"rs1 database AN.xlsx\", np_array=False)\n",
    "    prev_filename = \"\"\n",
    "    s, f = 0, 0\n",
    "    for filename in y[\"File Name\"]:\n",
    "        if (start_index > 0):\n",
    "            start_index -= 1\n",
    "            continue\n",
    "        if filename == prev_filename:\n",
    "            continue\n",
    "        prev_filename = filename\n",
    "        iters += 1\n",
    "        if iters == n:\n",
    "            break\n",
    "#         print(filename)\n",
    "        filepath = get_filepath(filename)\n",
    "        if filepath == None:\n",
    "            continue\n",
    "            \n",
    "        #Test load intro text   \n",
    "        Intro_IV_text = get_IV_intro_text(filepath, BEGINING_OF_IV_INTRO_TEXT, END_OF_IV_INTRO_TEXT)\n",
    "        if (Intro_IV_text != None):\n",
    "            s += 1\n",
    "        else:\n",
    "            return\n",
    "            f += 1\n",
    "        print(\" \".join(Intro_IV_text))\n",
    "        #Test load stats\n",
    "#         stats = generate_stats(Intro_IV_text)\n",
    "#         print(stats)\n",
    "            \n",
    "    print(\"SUCCESS\", s)\n",
    "    print(\"FAILURE\", f)\n",
    "        \n",
    "#     text = get_IV_intro_text(filename)\n",
    "#     stats = generate_stats(text)\n",
    "    \n",
    "    "
   ]
  },
  {
   "cell_type": "code",
   "execution_count": 177,
   "metadata": {
    "scrolled": true
   },
   "outputs": [
    {
     "name": "stdout",
     "output_type": "stream",
     "text": [
      "no begining found\n",
      "begining 489 end 589\n",
      "gener corpor law articl iv author shares th total number of share of all class o f stock which the corpor shall have author to issu is a twelv million 12000000 share of common stock $0.0001 par valu per share common stock and b two million eight hundr thousand 2800000 share o f prefer stock $0.0001 par valu per share prefer stock a of the effect date of thi restat certif of incorpor thi restat certif all two million eight hundr thousand 2800000 share o f the author prefer stock of the corpor are herebi design seri seed prefer stock\n",
      "no begining found\n",
      "begining 519 end 619\n",
      "author to issu is a 15000000 share of common stock $0.0001 par valu per share common stock and b 7021906 share of prefer stock $0.0001 par valu per share prefer stock a of the effect date of thi third restat certif of incorpor thi restat certif 2717681 share of the author prefer stock of the corpor are herebi design seri seed prefer stock 1 414225 share of the author prefer stock of the corpor are herebi design seri seed 1 prefer stock and 3890000 share of the author prefer stock of the corpor are herebi design seri a prefer stock\n",
      "begining 212 end 372\n",
      "fourth compani is author to issu two class of share design respect common stock and prefer stock the compani is author to issu 43000000 share of common stock with a par valu of $0.01 per share the compani is author to issu 26007500 share of prefer stock 800000 of which are design seri a prefer stock with a par valu of $0.01 per share seri a prefer 700000 of which are design seri b prefer stock with a par valu of $0.01 per share seri b prefer 1507500 of which are design seri c prefer stock with a par valu of $0.01 per share seri c prefer and 23000000 of which are design seri d prefer stock with a par valu of $0.01 per share seri d prefer for the purpos of thi amend and restat certif of incorpor the term prefer stock shall mean seri a prefer seri b prefer seri c prefer and seri d prefer collectively th\n",
      "begining 300 end 489\n",
      "fourth compani is author to issu two class of share design respect common stock and prefer stock the compani is author to issu 63000000 share o f common stock with a par valu of $0.01 per share the compani is author to issu 42048836 share of prefer stock 800000 o f which are design seri a prefer stock with a par valu of $0.01 per share seri a prefer 700000 of which are design seri b prefer stock with a par valu of $0.01 per share seri b prefer 1507500 o f which are design seri c prefer stock with a par valu of $0.01 per share seri c prefer 23665000 of which are design seri d prefer stock with a par valu of $0.01 per share seri d prefer and 15376336 o f which are design seri e prefer stock with a par valu o f $0.01 per share seri e prefer for the purpos of thi amend and restat certif o f incorpor the term prefer stock shall mean seri a prefer seri b prefer seri c prefer seri d prefer and seri e prefer collectively th\n",
      "begining 350 end 534\n",
      "fourth compani is author to issu two class of share design respect common stock and prefer stock the compani is author to issu 66000000 share of common stock with a par valu o f $0.01 per share the compani is author to issu 43586470 share of prefer stock 800000 of which are design seri a prefer stock with a par valu of $0.01 per share seri a prefer 700000 of which are design seri b prefer stock with a par valu of $0.01 per share seri b prefer 1507500 of which are design seri c prefer stock with a par valu of $0.01 per share seri c prefer 23665000 of which are design seri d prefer stock with a par valu of $0.01 per share seri d prefer and 16913970 of which are design seri e prefer stock with a par valu of $0.01 per share seri e prefer for the purpos of thi amend and restat certif of incorpor the term prefer stock shall mean seri a prefer seri b prefer seri c prefer seri d prefer and seri e prefer collectively th\n",
      "begining 22 end 665\n",
      "iv is io n o r c o rp o ra tio n s d e liv e r e d 0 1 3 6 pm 0 4 3 0 2 0 0 8 file 01 24 pm 0 4 3 0 2 0 0 8 srv 080487611 2965392 filea m en d ed and r e st a t e d c e r t if ic a t e o f in c o r p o r a t io n o f a c t e l is n e t w o r k s in c a d elaw are c o rp o ratio ntuvia bariev herebi certifi that 1 2 2 3 he is the duli elect presid and c hief execut offic o f a cteli networksinc  a delawar corporation th com pani wa origin incorpor on novem ber 12 1998 a a c telnetwork inc th follow ing am end and restat certif o f incorpor ha been dulyapprov by the requir vote o f the stockhold in accord with the am end and restat certif o f incorpor and the provis o f section 242 and 245 o f the d elawar gener corpor law th am end and restat certif o f incorpor o f thi corpor file withth secretari o f state o f the state o f delawar on decemb 28 2006 is herebi amend and restat to read a follow a r t ic l e on eth name o f the corpor is act network inc the c om pani  a r t ic l e t w oth purpos o f the com pani is to engag in ani law act or activ for which a corpor m ay be organ under the gener corpor law o f delaware a r t ic l e t h r e eth address o f the c om pani regist offic in the state o f delawar is corpor trust center 1209 orang street in the citi o f w ilmington counti o f new castl the nam e o f it regist agent at such address is the corpor trust company a r t ic l e fo u ract seri f certif o f lncorporalion palib2 4218724 4  doc\f",
      " the com pani is author to issu two class o f share design respect com m on stock and prefer stock the compani is author to issu 80000000 share o f com m on stock w ith a par valu o f so 01 per share the compani is author to issu 54086470 share o f prefer stock 800000 o f which are design seri a prefer stock with a par valu o f $0.01 per share seri a p re fe rre d 700000 o f which are design seri b prefer stock with a par valu o f $0.01 per share seri b p refer 1507500 o f which are design seri c prefer stock with a par valu o f $0.01 per share seri c p re fe rre d 23665000 o f w hich are design seri d prefer stock with a par valu o f $0.01 per share seri d p re fe rre d 16913970 o f which are design seri e prefer stock with a par valu o f $0.01 per share seri e p re fe rre d and 10500000 o f which are design seri f prefer stock w ith a par valu o f $0.01 per share seri f p refer for the purpos o f thi am end and restat c ertif o f incorpor the term p refer stock shall mean seri a prefer seri b prefer seri c prefer seri d prefer seri e prefer and seri f prefer collectively th\n",
      "no begining found\n",
      "begining -81 end 19\n",
      "\n",
      "no begining found\n",
      "begining 163 end 263\n",
      "practic of a profess permit to be incorpor by the california corpor code a r t ic l e iiia the corpor is author to issu two class of stock to be design respect common stock and prefer stock  the total number of share which the corpor is author to issu is 2318413 share 10000 share shall be common stock 2308413 share shall be prefer stock 1689189 of which are design a seri a prefer stock 450685 of which are design a seri b prefer stock and 168539 of which are design a seri c prefer stock b the\n",
      "F a i l u r e   e x p e c t e d\n",
      "no begining found\n",
      "begining 4639 end 4739\n",
      "date of such dividend distribut split or subdivis if no record date is fix the convers price of the prefer stock shall be appropri decreas so that the number of share of common stock issuabl on convers of each share of such seri shall be increas in proport to such increas of the aggreg of share of common stock outstand and thosegdsvf h 9\f",
      " issuabl with respect to such common stock equival with the number of share issuabl with respect to common stock equival determin from time to time in the manner provid for deem issuanc in subsect 4 d\n",
      "no begining found\n",
      "begining 5536 end 5636\n",
      "or the date of such dividend distribut split or subdivis if no record date is fix the convers price of the prefer stock shall be appropri decreas so that the number of share of common stock issuabl on convers of each share of such seri shall be increas in proport to such increas of the aggreg of share of common stock outstand and those issuabl with respect to such common stock equival with the number of share issuabl with respect to common stock equival determin from time to time in the manner provid for deem issuanc in subsect 4 d\n"
     ]
    },
    {
     "name": "stdout",
     "output_type": "stream",
     "text": [
      "begining 621 end 3072\n",
      "iv shall not advers affect ani contract or other right to indemnif of ani agent of the corpor that exist at or prior to the time of such amend repeal or modification articl v1 author of share thi corpor is author to issu two 2 class of share design common stock and prefer stock respect both of which shall have no par valu the total number of share of common stock author to be issu is170000000 share the total number of share of prefer stock author to be issu is 116655843 share 35892856 of which are design seri a prefer stock 43262987 of which are design seri b prefer stock and 37500000 of which are design seri c prefer stock 1\f",
      " varticl vith follow is a statement of the right prefer privileg and restrict grant to and impos on each class of capit stock of the corpor unless otherwis indic refer to section or subsect in thi articl refer to section and subsect of thi articl vi a common stock1 gener the vote dividend and liquid right of the holder o f common stock are subject to and qualifi by the right power and prefer of the holder of prefer stock set forth herein and a may be design by resolut of the board o f director of the corpor with respect to ani seri of prefer stock a author herein 2 vote the holder of the common stock are entitl to one 1 vote for each share of common stock held at all meet of sharehold and written action in lieu of meet pursuant to section 708 of the california corpor code everi sharehold entitl to vote at an elect for director may cumul such sharehold vote and give one 1 candid a number of vote equal to the number of director to be elect multipli by the number of vote to which such sharehold share are otherwis entitl or distribut the sharehold vote on the same principl among a mani candid a such sharehold desir no sharehold howev shall be entitl to so cumul such sharehold vote unless i the name of such candid or candid have been place in nomin prior to the vote and ii the sharehold ha given notic at the meet prior to the vote of such sharehold intent to cumul such sharehold vote if ani sharehold ha given proper notic to cumul vote all sharehold may cumul their vote for ani candid who have been properli place in nomin under cumul vote the candid receiv the highest number of vote up to the number of director to be elect are elected b prefer stockpref stock may be issu from time to time in one 1 or more seri each of such seri to consist of such number of share and to have such term right power and prefer and the qualif and limit with respect thereto a state or express herein 1 dividends  a seri c prefer stock the corpor shall not declar pay or set asid ani dividend on share of ani other class or seri of capit stock of the corpor other than dividend on share of common stock payabl in share of common stock in ani year unless the holder of seri c prefer stock then outstand shall first receiv in such year a dividend on each outstand share of seri c prefer stock in an amount at least equal to $0056 per share in each instanc subject to appropri adjust in the event o f ani stock dividend stock split combin or other similar recapit affect such share the board of director of the corpor is under no oblig to declar dividend no right shall accru to the holder of seri c prefer stock if dividend are not declar and ani dividend declar shall not be cumulative 2\f",
      " b seri b prefer stock subject to the prior dividend right o f the seri c prefer stock set forth herein in ani year the holder of seri b prefer stock then outstand shall be entitl to receiv a dividend when a and if declar by the board of director of the corpor on each outstand share of seri b prefer stock in an amount at least equal to $0.02957 per share in each instanc subject to appropri adjust in the event of ani stock dividend stock split combin or other similar recapit affect such share the board of director of the corpor is under no oblig to declar dividend no right shall accru to the holder of seri b prefer stock if dividend are not declar and ani dividend declar shall not be cumulative  c seri a prefer stock subject to the prior dividend right o f the seri c prefer stock and the seri b prefer stock set forth herein in ani year the holder of seri a prefer stock then outstand shall be entitl to receiv a dividend when a and if declar by the board of director of the corpor on each outstand share o f seri a prefer stock in an amount at least equal to $0.02688 per share in each instanc subject to appropri adjust in the event of ani stock dividend stock split combin or other similar recapit affect such share the board of director of the corpor is under no oblig to declar dividend no right shall accru to the holder o f seri a prefer stock if dividend are not declar and ani dividend declar shall not be cumulative  d particip right the corpor shall not declar pay or set asid ani dividend on share of ani class or seri of capit stock of the corpor other than dividend on share of common stock payabl in share of common stock and other than dividend specifi in the preced sentenc unless the holder of prefer stock then outstand shall first receiv or simultan receiv in addit to ani dividend payabl pursuant to the forego provis of thi section b l a dividend on each outstand share of prefer stock in an amount at least equal to that dividend per share of prefer stock a would equal the product of a the dividend payabl on each share of such class or seri determin if applic a if all such share of such class or seri had been convert into common stock and b the number of share of common stock issuabl upon convers of a share of prefer stock in each case calcul on the record date for determin of holder entitl to receiv such dividend provid howev that no such adjust shall be made for the purpos of section b 4 below regard the calcul of the convers rate of the prefer stock 2 liquid dissolut or wind up certain merger consolid andasset sales  a preferenti payment to holder of seri c prefer stock in the event of ani voluntari or involuntari liquid dissolut or wind up or deem liquid event a defin herein of the corpor the holder of share of seri c prefer stock then outstand shall be entitl to be paid out of the asset avail for distribut to it sharehold befor ani payment shall be made to the holder of seri b prefer stock seri a prefer stock or common stock by reason of their ownership thereof an amount equal to $0.70 per share such amount a adjust from time to time in the event o f ani stock dividend stock split combin or other similar recapit affect such share being3\f",
      " hereinaft refer to a the seri c origin issu price plu ani dividend declar but unpaid thereon if upon ani such liquid dissolut or wind up of the corpor the remain asset avail for distribut to it sharehold shall be insuffici to pay the holder of share of seri c prefer stock the full amount to which they shall be entitl the holder of share of seri c prefer stock shall share ratabl in ani distribut of the remain asset avail for distribut in proport to the respect amount which would otherwis be payabl in respect of the share held by them upon such distribut if all amount payabl on or with respect to such share were paid in full  b preferenti payment to holder of seri b prefer stock in the event of ani voluntari or involuntari liquid dissolut or wind up or deem liquid event a defin herein of the corpor after payment of all preferenti amount requir to be paid to the holder of seri c prefer stock a provid abov the holder o f share of seri b prefer stock then outstand shall be entitl to be paid out of the asset avail for distribut to it sharehold befor ani payment shall be made to the holder o f seri a prefer stock or common stock by reason of their ownership thereof an amount equal to $0.3696 per share such amount a adjust from time to time in the event of ani stock dividend stock split combin or other similar recapit affect such share be hereinaft refer to a the seri b origin issu price plu ani dividend declar but unpaid thereon if upon ani such liquid dissolut or wind up of the corpor the remain asset avail for distribut to it sharehold shall be insuffici to pay the holder of share of seri b prefer stock the full amount to which they shall be entitl the holder of share of seri b prefer stock shall share ratabl in ani distribut of the remain asset avail for distribut in proport to the respect amount which would otherwis be payabl in respect of the share held by them upon such distribut if all amount payabl on or with respect to such share were paid in full  c preferenti payment to holder of seri a prefer stock in the event of ani voluntari or involuntari liquid dissolut or wind up or deem liquid event of the corpor after payment of all preferenti amount requir to be paid to the holder of seri c prefer stock and seri b prefer stock a provid abov the holder of share of seri a prefer stock then outstand shall be entitl to be paid out of the asset avail for distribut to it sharehold befor ani payment shall be made to the holder of common stock by reason of their ownership thereof an amount equal to $0.3360 per share such amount a adjust from time to time in the event of ani stock dividend stock split combin or other similar recapit affect such share be hereinaft refer to a the seri a origin issu price plu ani dividend declar but unpaid thereon if upon ani such liquid dissolut or wind up of the corpor the remain asset avail for distribut to it sharehold shall be insuffici to pay the holder o f share of seri a prefer stock the full amount to which they shall be entitl the holder o f share of seri a prefer stock shall share ratabl in ani distribut of the remain asset avail for distribut in proport to the respect amount which would otherwis be payabl in respect of the share held by them upon such distribut if all amount payabl on or with respect to such share were paid in full distribut of remain asset after the payment of all preferenti amount requir to be paid to the holder of share of prefer stock a provid abov the d 4\f",
      " remain asset avail for distribut to the corpor sharehold shall be distribut among the holder of the share of prefer stock and common stock pro rata base on the number of share of common stock held by each such holder treat for thi purpos all such secur a if they had been convert to common stock pursuant to the term of the articl of incorpor in effect immedi prior to such dissolut liquid or wind up of the corpor provid howev i that if the aggreg amount which the holder of seri c prefer stock are entitl to receiv under subsect b 2 a and thi subsect b 2 d shall exceed $2.10 per share subject to appropri adjust in the event of a stock split stock dividend combin reclassif or similar event affect the seri c prefer stock the seri c maximum particip amount each holder of seri c prefer stock shall be entitl to receiv upon such dissolut liquid or wind up of the corpor the greater of i the seri c maximum particip amount and ii the amount such holder would have receiv if such holder had convert hi her or it share of seri c prefer stock into common stock immedi prior to such dissolut liquid or wind up of the corpor the greater of which is hereinaft refer to a the seri c liquid amount ii that if the aggreg amount which the holder of seri b prefer stock are entitl to receiv under subsect b 2 b and thi subsect b 2 d shall exceed $1.1088 per share subject to appropri adjust in the event of a stock split stock dividend combin reclassif or similar event affect the seri b prefer stock the seri b maximum particip amount each holder of seri b prefer stock shall be entitl to receiv upon such dissolut liquid or wind up of the corpor the greater of i the seri b maximum particip amount and ii the amount such holder would have receiv if such holder had convert hi her or it share of seri b prefer stock into common stock immedi prior to such dissolut liquid or wind up of the corpor the greater of which is hereinaft refer to a the seri b liquid amount and iii that if the aggreg amount which the holder of seri a prefer stock are entitl to receiv under subsect b 2 c and thi subsect b 2 d shall exceed $1008 per share subject to appropri adjust in the event of a stock split stock dividend combin reclassif or similar event affect the seri a prefer stock the seri a maximum particip amount each holder of seri a prefer stock shall be entitl to receiv upon such dissolut liquid or wind up of the corpor the greater of i the seri a maximum particip amount and ii the amount such holder would have receiv if such holder had convert hi her or it share of seri a prefer stock into common stock immedi prior to such dissolut liquid or wind up of the corpor the greater of which is hereinaft refer to a the seri a liquid amount\n"
     ]
    },
    {
     "name": "stdout",
     "output_type": "stream",
     "text": [
      "begining 14648 end 15687\n",
      "fourth the seri a prefer stock until all share of seri a prefer stock subject to redempt have been redeem and shall redeem the remain share to have been redeem a soon a practic after the corpor ha fund legal avail therefor thi corpor shall not redeem ani other share of capit stock of the corpor other than secur repurchas from former employe offic director consult or other person who perform servic for the corpor or ani subsidiari in connect with the cessat of such employ or servic at the lower of fair market vaiue or the origin purchas price thereof prior to the redempt of all share of prefer stock pursuant to thi subsect b 6 v except for exclud share a defin below unless otherwis determin by the prior vote or written consent of the holder o f at least a major of the prefer slock on an a convert to common stock basi the redempt price for seri d prefer stock shall mean the greater of a the seri d origin issu price plu all declar but unpaid dividend on a share of seri d prefer stock on the redempt date and b the fair market valu of one share of seri d prefer stock on the redempt date a determin in good faith by the board of director of the corpor calcul by take into account the corpor discount cash flow and the valu of corpor compar to the corpor and a approv by the vote or written consent of the holder of at least a major of the then outstand share o f seri d prefer stock the redempt pricc for seri c prefer stock shall mean the greater of a the seri c origin issu price plu all declar but unpaid dividend on a share of seri c prefer stock on the redempt date and b the fair market valu o f one share o f seri c prefer stock on the redempt date a determin in good faith by the board of director of the corpor calcul by take into account the corpor discount cash flow and the valu o f corpor compar to the corpor and a approv by the vote or written consent of the holder of at least a major of the then outstand share of seri c prefer stock the redempt price for seri b prefer stock shall mean the greater of a the seri b origin issu price plu all25\f",
      " declar but unpaid dividend on a share of seri b prefer stock on the redempt date and b the fair market valu of one share of seri b prefer stock on the redempt date a determin in good faith by the board of director of the corpor and a approv by the vote or written consent of the holder o f at least a major o f the then outstand share of seri b prefer stock the redempt price for seri a prefer stock shall mean the greater of a the seri a origin issu price plu all declar but unpaid dividend on a share o f seri a prefer stock on the redempt date and b the fair market valu o f one share of seri a prefer stock on the redempt date a determin in good faith by the board of director of the corpor and a approv by the vote or written consent o f the holder of at least a major o f the then outstand share of seri a prefer stock  b redempt notic written notic of the mandatori redempt the redempt notic shall be mail postag prepaid to each holder of record o f prefer stock at it post offic address last shown on the record o f the corpor or given by electron commun in complianc with the provis of the california corpor code not le than twenti 20 but no more than sixti 60 day prior to the redempt date the redempt notic shall state holder that the corpor shall redeem on the redempt date i the number of share of each seri of prefer stock held by the ii the redempt date and the expect redempt price termin a determin in accord with subsect b 4fav and iii the date upon which the holder right to convert such share that the holder is to surrend to the corpor in the manner and at the place design hi her or it certif or certif repres the share of prefer stock to be redeemed  iv c surrend of certif payment on or befor the redempt date each holder o f share of prefer stock to be redeem on the redempt date unless such holder ha exercis hi her or it right to convert such share a provid in section b 4 hereof shall surrend the certif or certif repres such share to the corpor in the manner and at the place design in the redempt notic and thereupon the applic redempt price for such share shall be payabl to the order o f the person whose name appear on such certif or certif a the owner thereof and each surrend certif shall be cancel and retir in the event le than all of the share of prefer stock repres by a certif are redeem a new certif repres the unredeem share of prefer stock shall promptli be issu to such holder  d right subsequ to redempt if the redempt notic shall have been duli given and if on the redempt date the redempt price payabl upon redempt of the share of prefer stock to be redeem on such redempt date is paid or tender for payment or deposit with an independ payment agent so a to be avail therefor then notwithstand that the certif evidenc ani of the share of prefer stock so call for redempt shall not have been surrend dividend with respect to such share o f preferred26\f",
      " stock shall ceas to accru after such redempt date and all right with respect to such share shall forthwith after the redempt date termin except onli the right of the holder to receiv the applic redempt price without interest upon surrend of their certif or certif therefor\n",
      "begining 316 end 7754\n",
      "fourth the total number of share of all class of stock which the corpor shall have author to issu is i 610000000 share of common stock $.001 par valu per share common stock and ii 394919462 share of prefer stock s 001 par valu per share prefer stock of which 57967003 shall be design a seri a convert prefer stock seri a prefer stock and 336952459 shall be design seri b convert prefer stock seri b prefer stock  the follow is a statement of the design and the power privileg and right and the qualif limit or restrict thereof in respect of each class of capit stock of the corporation u 1 doc 5639303v4\f",
      " a common stock 1 gener the vote dividend and liquid right of the holder of the common stock are subject to and qualifi by the right of the holder of the prefer stock of ani seri a may be design by the board of director upon ani issuanc of the prefer stock of ani series 2 vote the holder of the common stock are entitl to one vote for each share held at all meet of stockhold and written action in lieu of meet there shall be no cumul voting except a otherwis provid in the corpor certif of incorpor the number of author share of common stock may be increas or decreas but not below the number of share thereof then outstand by the affirm vote of the holder of a major of the stock of the corpor entitl to vote irrespect of the provis of section 242 b 2 of the gener corpor law of the state of delaware 3 dividend dividend may be declar and paid on the common stock from fund law avail therefor a and when determin by the board of director and subject to ani preferenti dividend right of ani then outstand prefer stock 4 liquid upon the dissolut or liquid of the corpor whether voluntari or involuntari holder of common stock will be entitl to receiv all asset of the corpor avail for distribut to it stockhold subject to ani preferenti right of ani then outstand prefer stock b prefer stock pref stock may be issu from time to time in one or more seri each of such seri to consist of such number of share and to have such term right power and prefer and the qualif and limit with respect thereto a state or express herein c seri a convert prefer stock and seri b convert prefer stock i dividends  a the corpor shall not declar pay or set asid ani dividend other than dividend payabl in share of common stock on share of common stock unless the holder of the seri a prefer stock and seri b prefer stock then outstand shall first receiv or simultan receiv a dividend on each outstand share of seri a prefer stock and seri b prefer stock equal to the product of i the per share dividend to be declar paid or set asid for the common stock multipli by ii the number of share of common stock into which such share of seri a prefer stock or seri b prefer stock a the case may be is then convertible us1doc 5639303v4 2 \f",
      " b in addit to the dividend requir to be paid to the holder of seri a prefer stock and seri b prefer stock pursuant to subsect 1 a the holder of share of seri a prefer stock and seri b prefer stock shall be entitl to receiv out of fund legal avail therefor dividend at the rate of eight percent 8 per annum of the seri a origin purchas price a defin in section 2 b below or seri b origin purchas price a defin in section 2 a below respect payabl when and a declar by the oard of director of the corpor such dividend shall accru daili and shall be cumul from i with respect to scri b prefer stock the date of issuanc of each share of seri b prefer stock and ii with respect to seri a prefer stock the seri b origin issu date a defin below in each case whether or not declar all dividend accru with respect to share of seri a prefer a of the date hereof are herebi cancelled 2 liquid dissolut or wind up certain merger consolid and asset sales  a payment to holder of seri b prefer stock in the event of ani voluntari or involuntari liquid dissolut or wind up of the corpor the holder of share of seri b prefer stock  shall be paid out of the asset of the corpor avail for distribut to it stockhold befor ny payment shall be made to the holder of seri a prefer stock or common stocktsrani other class or seri of stock rank on liquidation janfon the seri b prefer stock by reason of their ownership thereof an amount equal to s 08013 per share subject to appropri adjust in the event of ani stock dividend stock splitjjcelnbin or other similar recapit affect such share the seri b origin purchas price of seri b prefer stock plu ani dividend accru or declar but unpaid thereon if upon ani such liquid dissolut or wind up of the corpor the remain asset of the corpor avail for distribut to it stockhold shall be insuffici to pay the holder of share of seri b prefer stock the full amount to which they shall be entitl the holder of share of seri b prefer stock shall share ratabl in ani distribut of the remain asset and fund of the corpor in proport to the respect amount which would otherwis be payabl in respect of such share held by them upon such distribut if all amount payabl on or with respect to such share were paid in full  b payment to holder of seri a prefer stock in the event of ani voluntari or involuntari liquid dissolut or wind up of the corpor after payment of the preferenti amount requir to be paid to the holder of seri b prefer stock pursuant to section 2 a abov the holder of share of seri a prefer stock then outstand shall be entitl to be paid out of the asset of the corpor avail for distribut to it stockhold befor ani payment shall be made to the holder of common stock or ani other class or seri of stock rank on liquid junior to the seri a prefer stock such common stock and other stock be collect refer to a junior stock by reason of their ownership thereofj an amount equal to the greater of i $ 5clpershar subject to appropri adjust in the event of ani stock dividend stock split combin or other similar recapit affect such share the seri a origin purchas price plu ani dividend accru or declar but unpaid thereon or ii such amount per share a would have been payabl had each share of seri a prefer stock been convert into common stock pursuant to section 4 immedi prior to such liquid dissolut or wind up theus1doc 5639303 4 3 \f",
      " amount payabl pursuant to thi sentenc is hereinaft refer to a the seri a liquid amount if upon ani such liquid dissolut or wind up of the corpor the remain asset of the corpor avail for distribut to it stockhold shall be insuffici to pay the holder of share of seri a prefer stock and ani class or seri of stock rank on liquid on a pariti with the seri a prefer stock the full amount to which they shall be entitl under thi subsect 2 b the holder of share of seri a prefer stock and ani class or seri of stock rank on liquid on a pariti with the seri a prefer stock shall share ratabl in ani distribut of the remain asset and fund of the corpor in proport to the respect amount which would otherwis be payabl in respect of the share held by them upon such distribut if all amount payabl on or with respect to such share were paid in full  c distribut of remain asset in the event of ani voluntari or involuntari liquid dissolut or wind up of the corpor after the payment of all preferenti amount requir to be paid to the holder of share of seri b prefer stock and seri a prefer stock the remain asset of the corpor avail for distribut to it stockhold shall be distribut among the holder of the share of seri b prefer stock and common stock pro rata base on the number of share held by each such holder treat for thi purpos all such secur a if they had been convert to common stock pursuant to the term of thi restat certif of incorpor immedi prior to such dissolut liquid or wind up of the corpor provid howev that if the aggreg amount which the holder oserikb prefer stock are entitl to receiv under subsect 2 a and 2 c shall exce f$0 40065 per share subject to appropri adjust in the event of a stock split stock dividend combin reclassif or similar event affect the seri b prefer stock the maximum particip amount each holder of seri b prefer stock shall be entitl to receiv upon such dissolut liquid or wind up of the corpor the greater of i the maximum particip amount and ii the amount such holder would have receiv if such holder had convert hi her or it share of seri b prefer stock into common stock immedi prior to such dissolut liquid or wind up of the corpor the aggreg amount which a holder of a share of seri b prefer stock is entitl to receiv under subsect 2 a and 2 c is hereinaft refer to a the seri b liquid amount  d deem liquid events corpor for purpos of thi section 2 a deem liquid event i the follow event shall be deem to be a liquid of the a a merger or consolid in which i ii the corpor is a constitu parti os subsidiari of the corpor is a constitu parti and the corpor issu share of it capit stock pursuant to such merger or consolidationus1doc 56j9j0jv4 4 \f",
      " except ani such merger or consolid involv the corpor or a subsidiari in which the holder of capit stock of the corpor immedi prior to such merger or consolid continu to hold immedi follow such merger or consolid in substanti the same proport at least 51 by vote power and econom interest of the capit stock of 1 the surviv or result corpor or 2 if the surviv or result corpor is a wholli own subsidiari of anoth corpor immedi follow such merger or consolid the parent corpor of such surviv or result corpor orof relat transact by the corpor of all or substanti all the asset of the corpor except where such sale is to a wholli own subsidiari of the corpor   b the sale or the disposit in a singl transact or seri ii the corpor shall not effect ani transact constitut a deem liquid event pursuant to subsect 2 d i a abov unless a the agreement or plan of merger or consolid provid that the consider payabl to the stockhold of the corpor shall be alloc among the holder of capit stock of the corpor in accord with subsect 2 a through 2 c abov or b the holder of i a major of the then outstand share of seri a prefer stock and ii at least the applic b prefer percentag a defin herein of the then outstand share of seri b prefer stock specif consent in write to the alloc of such consider in a manner differ from that provid in subsect 2 a through 2 c abov applic b prefer percentag shall mean 66 2 3 except if not all of the holder of seri b prefer stock that are parti to that certain seri b convert prefer stock purchas agreement date a of may 10 2006 stock purchas agreement by and among the corpor and the purchas name therein purchas particip in a subsequ close a defin in the stock purchas agreement then 75 provid howev that if all purchas particip in a subsequ close then 66 2 3   iii in the event of a deem liquid event pursuant to subsect 2 d ixb abov if the corpor doe not effect a dissolut of the corpor under the delawar gener corpor law within 60 day after such deem liquid event then a the corpor shall deliv a written notic to each holder of prefer stock no later than the 60th day after the deem liquid event advis such holder of their right and the requir to be met to secur such right pursuant to the term of the follow claus b to requir the redempt of such share of seri a prefer stock and seri b prefer stock and b if the holder of i at least a major of the then outstand share of seri a prefer stock or ii at least one i minu the applic b prefer percentag of the then outstand share of seri b prefer stock so request in a written instrument deliv to the corpor not later than 75 day after such deem liquid event the corpor shall use the consider receiv by the corpor for such deem liquid event net of ani liabil associ with the asset sold a determin in good faith by the board of director of the corpor to the extent legal avail therefor the net proce to redeem on the 90th day after such deem liquid event the liquid redempt date all outstand share of seri a prefer stock at a price per share equal to the seri a liquid amount and all outstand share of seri b prefer stock at a price per share equal to the seri b liquid amount in the event of a redempt pursuant to theus1doc 5539303v4 5 \f",
      " preced sentenc if the net proce are not suffici to redeem all outstand share of seri a prefer stock and seri b prefer stock pursuant to thi section 2 d iii the corpor shall first redeem each holder share of seri b prefer stock and second each holder share of seri a prefer stock the provis of subsect 6 b through 6 e below shall appli with such necessari chang in the detail thereof a are necessit by the context to the redempt of the seri a prefer stock and seri b prefer stock pursuant to thi subsect 2 d iii prior to the distribut or redempt provid for in thi subscction 2 d iii the corpor shall not expend or dissip the consider receiv for such deem liquid event except to discharg expens incur in the ordinari cours of business  iv the amount deem paid or distribut to the holder of capit stock of the corpor upon ani such merger consolid sale or redempt shall be the cash or the valu of the properti right or secur paid or distribut to such holder by the corpor or the acquir person firm or other entiti the valu of such properti right or secur shall be determin in good faith by the board of director of the corporation 3 voting  a on ani matter present to the stockhold of the corpor for their action or consider at ani meet of stockhold of the corpor or by written action of stockhold in lieu of meet each holder of outstand share of seri a prefer stock and seri b prefer stock shall be entitl to the number of vote equal to the number of whole share of common stock into which the share of seri a prefer stock and seri b prefer stock held by such holder are convert a of the record date for determin stockhold entitl to vote on such matter except a provid by law or by the provis of thi restat certif of incorpor holder of seri a prefer stock and seri b prefer stock shall vote togeth with the holder of common stock and with the holder of ani other seri of prefer stock the term of which so provid a a singl class  b the holder of record of the share of seri a prefer stock exclus and a a separ class shall be entitl to elect three member of the board of director of the corpor at ani meet held for the purpos of elect director the presenc in person or by proxi of the holder of a major of the share of seri a prefer stock then outstand shall constitut a quorum of the seri a prefer stock for the purpos of elect director by holder of the seri a prefer stock a vacanc in ani directorship fill by the holder of seri a prefer stock shall be fill onli by vote or written consent in lieu of a meet of the holder of the seri a prefer stock pursuant to thi subsect 3 b the right of the holder of the seri a prefer stock under thi subsect 3 b shall termin on the first date on which there are issu and outstand le than 2000000 share of seri a prefer stock subject to appropri adjust in the event of ani dividend stock split combin or other similar recapit affect such share the holder of record of the share of seri b prefer stock exclus and a a separ class shall be entitl to elect one member of the board of director of the corpor at ani meet held for the purpos of elect director the presenc in person or by proxi of the holder of a major of the share of seri b prefer stock then outstand shall constitut a quorum of the seri bu docs5m93q3v4 6 \f",
      " 1 iv liquid dissolv or effect a recapit or reorgan includ without limit ani reorgan into a limit liabil compani a partnership or ani other non corpor entiti v appli or set asid ani of it asset to the redempt retir purchas or acquisit directli or indirectli includ through a subsidiari or otherwis of ani share of it capit stock other than i redempt of prefer stock in accord with the term of thi restat certif of incorpor ii repurchas of common stock at no more than cost upon termin of employ or servic if made pursuant to a contractu right held by the corpor or iii pursuant to a certain amend and restat right of first refus and co sale agreement a amend from time to time by and among the corpor and certain holder of capit stock of the corpor vi creat issu or author the creation or issuanc of ani addit class or seri of share of stock or author the increas of ani exist class or seri of stock or creat issu or author ani oblig or secur convert into share of ani class or seri of stock in each case where the same would rank in ani way on a pariti with or senior to the seri b prefer stock a to liquid redempt or the right to receiv distribut or dividend whether ani such creation issuanc author or increas shall be by mean of amend to the restat certif of incorpor or by merger consolid or otherwis the restat certif or the by law of the corpor vii alter amend modifi repeal waiv or termin ani provis of prefer stock or seri b prefer stock viii alter or chang the right prefer or privileg of the seri a o f the board of director of the corpor or ix increas or decreas from seven director the number of member x stock or prefer stock increas or decreas the author number of share of common 4 option conversion th holder of prefer stock shall have convers right a follow the convers right a right to convert  i each share of seri a prefer stock shall be convert at the option of the holder thereof at ani time and from time to time and without the payment of addit consider by the holder thereof into such number of fulli paid and nonassess share of common stock a is determin by divid $0.50 subject to appropri adjust for stock split stock dividend combin and other similar recapit affect such share by the seri a convers price a defin below in effect at the time of convers the seri a convers price is current so 172856 such seri a convers price andusldocs39303v4 8 \f",
      " the rate at which share of seri a prefer stock may be convert into share of common stock shall be subject to adjust a provid below  ii each share of seri b prefer stock shall be convert at the option of the holder thereof at ani time and from time to time and without the payment of addit consider by the holder thereof into such number of fulli paid and nonassess share of common stock a is determin by divid the seri b origin purchas price by the seri b convers price a defin below in effect at the time of convers the seri b convers price shall initi be equal to the seri b origin purchas price such initi seri b convers price and the rate at which share of seri b prefer stock may be convert into share of common stock shall be subject to adjust a provid below  iii in the event of a notic of redempt of ani share of seri a prefeit stock or seri b prefer stock pursuant to section 6 hereof the convers right of the share design for redempt shall termin at the close of busi on the last full day preced the date fix for redempt unless the redempt price is not paid on such redempt date in which case the convers right for such share shall continu until such price is paid in full in the event of a liquid dissolut or wind up of the corpor the convers right shall termin at the close of busi on the last full day preced the date fix for the payment of ani such amount distribut on such event to the holder of seri a prefer stock or seri b prefer stock a the case may be in the event of such a redempt or liquid dissolut or wind up the corpor shall provid to each holder of share of seri a prefer stock or seri b prefer stock a the case may be notic of such redempt or liquid dissolut or wind up which notic shall i be sent at least 15 day prior to the termin of the convers right and ii state the amount per share of seri a prefer stock or seri b prefer stock a the case mayb that will be paid or distribut on such redempt or liquid dissolut or wind up a the case may be  b fraction share no fraction share of common stock shall be issu upon convers of the seri a prefer stock or seri b prefer stock in lieu of ani fraction share to which the holder would otherwis be entitl the corpor shall pay cash equal to such fraction multipli by the then effect seri a convers price or seri b convers price a the case may be  b mechan of conversion  i in order for a holder of prefer stock to convert share of prefer stock into share of common stock such holder shall surrend the certif or certif for such share of prefer stock at the offic of the transfer agent for the prefer stock or at the princip offic of the corpor if the corpor serv a it own transfer agent togeth with written notic that such holder elect to convert all or ani number of the share of the prefer stock repres by such certif or certif such notic shall state such holder name or the name of the nomine in which such holder wish the certif or certif for share of common stock to be issu if requir by the corpor certif surrend for convers shall be endors or accompani by ausl doc 5639303v4 9 \f",
      " written instrument or instrument of transfer in form satisfactori to the corpor duli execut by the regist holder or hi or it attorney duli author in write the date of receipt of such certif and notic by the transfer agent or by the corpor if the corpor serv a it own transfer agent shall be the convers date convers date and the share of common stock issuabl upon convers of the share repres by such certif shall be deem to be outstand of record a of such date the corpor shall a soon a practic after the convers date issu and deliv at such offic to such holder of prefer stock or to hi or it nomine a certif or certif for the number of share of common stock to which such holder shall be entitl togeth with cash in lieu of ani fraction of a share  ii the corpor shall at all time when the prefer stock shall be outstand reserv and keep avail out of it author but unissu stock for the purpos of effect the convers of the prefer stock such number of it duli author share of common stock a shall from time to time be suffici to effect the convers of all outstand prefer stock befor take ani action which would caus an adjust reduc the seri a convers price or seri b convers price below the then par valu of the share of common stock issuabl upon convers of the applic seri of prefer stock the corpor will take ani corpor action which may in the opinion of it counsel be necessari in order that the corpor may validli and legal issu fulli paid and nonassess share of common stock at such adjust seri a convers price or seri b convers price a the case may be  iii upon ani such convers no adjust to the seri a convers price or seri b convers price a the case may be shall be made for ani accru but unpaid or declar but unpaid dividend on the seri a prefer stock or seri b prefer stock a the case may be surrend for convers or on the common stock deliv upon conversion  iv all share of prefer stock which shall have been surrend for convers a herein provid shall no longer be deem to be outstand and all right with respect to such share includ the right if ani to receiv notic and to vote shall immedi ceas and termin on the convers date except onli the right of the holder thereof to receiv share of common stock in exchang therefor and payment of ani dividend declar but unpaid thereon ani share of prefer stock so convert shall be retir and cancel and shall not be reissu and the corpor without the need for stockhold action may from time to time take such appropri action a may be necessari to reduc the author number of share of such seri of prefer stock accordingly  v the corpor shall pay ani and all issu and other similar tax that may be payabl in respect of ani issuanc or deliveri of share of common stock upon convers of share of prefer stock pursuant to thi section 4 the corpor shall not howev be requir to pay ani tax which may be payabl in respect of ani transfer involv in the issuanc and deliveri of share of common stock in a name other than that in which the share of prefer stock so convert were regist and no such issuanc or deliveri shall be made unless and until the person or entiti request such issuanc ha paid to the corporationus1doc 5639303v4 1 0 \f",
      " the amount of ani such tax or ha establish to the satisfact of the corpor that such tax ha been paid  c adjust to convers price for dilut issues definit shall appli i special definit for purpos of thi section 4 the follow option shall mean right option or warrant to subscrib for purchas or otherwis acquir common stock or convert securities  a which the first share of seri b prefer stock wa issued  b seri b origin issu date shall mean the date on indebted share or other secur directli or indirectli convert into or exchang for common stock but exclud options  c convert secur shall mean ani evid of share of common stock issu or pursuant to subsect 4 dxiii below deem to be issu by the corpor after the seri b origin issu date other than d addit share of common stock shall mean all i ii iii iv share of common stock issu or issuabl upon convers or exchang of ani convert secur or exercis of ani option outstand on the seri b origin issu date share of common stock issu or issuabl a a dividend or distribut on seri a or seri b prefer stock share of common stock issu or issuabl by reason of a dividend stock split split up or other distribut on share of common stock that is cover by subsect 4 e or 4 f below 9841785 or such higher number a may be approv by the board of director of the corpor includ a major of the prefer director a defin below share of common stock or option with respect thereto subject to appropri adjust for stock split stock dividend combin and other similar recapit affect such share issu or issuabl to employe or director of or consult to the corpor or ani of it subsidiari pursuant to a plan agreement or arrangementusi doc 5639303v4 1 1 \f",
      " v approv by the board of director of the corpor and by a major of the prefer director share of common stock or option with respect thereto issu or issuabl in connect with present or futur strateg partnership technolog licens or borrow line of credit lea or similar financ arrang approv by the board of director of the corpor and by a major of the prefer director provid that such transact is not substanti for equiti financ purpos vi vii share of common stock issu sole in consider for the acquisit whether by merger or otherwis by the corpor or ani of it subsidiari of all or substanti all of the stock or asset of ani other entiti by the board of director of the corpor and by a major of the prefer director share of seri b prefer stock issuabl upon convers of certain convert promissori note outstand on the seri b origin issu date repres an aggreg of $7900000 in princip at a per share price equal to the seri b origin purchas price and viii up to 336952452 share of seri b prefer stock subject to appropri adjust for stock split stock dividend combin and other similar recapit affect such share issuabl pursuant to the stock purchas agreement  e prefer director shall mean the four 4 director design a such pursuant to a certain amend and restat stockhold vote agreement among the corpor a amend from time to time and certain holder of capit stock of the corporation  ii no adjust of convers price no adjust in the seri a convers price shall be made a the result of the issuanc of addit share of common stock if a the consider per share determin pursuant to subsect 4 c v for such addit share of common stock issu or deem to be issu by the corpor is equal to or greater than the seri b convers price in effect immedi prior to the issuanc or deem issuanc of such addit share of common stock or b prior to such issuanc orus1doc 5639 03v4 1 2 \f",
      " deem issuanc the corpor receiv written notic from the holder of a major of the then outstand share of seri a prefer stock agre that no such adjust shall be made a the result of the issuanc or deem issuanc of addit share of common stock no adjust in the seri b convers price shall be made a the result of the issuanc of addit share of common stock if a the consider per share determin pursuant to subsect 4 c v for such addit share of common stock issu or deem to be issu by the corpor is equal to or greater than the applic seri b convers price in effect immedi prior to the issuanc or deem issuanc of such addit share of common stock or b prior to such issuanc or deem issuanc the corpor receiv written notic from the holder of at least the applic b prefer percentag of the then outstand share of seri b prefer stock agre that no such adjust shall be made a the result of the issuanc or deem issuanc of addit share of common stock stock  iii issu of secur deem issu of addit share of common a if the corpor at ani time or from time to time after the seri b origin issu date shall issu ani option or convert secur exclud option or convert secur which upon exercis convers or exchang thereof would entitl the holder thereof to receiv share of common stock which are specif except from the definit of addit share of common stock by subsect 4 c i d abov or shall fix a record date for the determin of holder of ani class of secur entitl to receiv ani such option or convert secur then the maximum number of share of common stock a set forth in the instrument relat thereto without regard to ani provis contain therein for a subsequ adjust of such number issuabl upon the exercis of such option or in the case of convert secur and option therefor the convers or exchang of such convert secur shall be deem to be addit share of common stock issu a of the time of such issu or in case such a record date shall have been fix a of the close of busi on such record date  b if the term of ani option or convert secur the issuanc of which result in an adjust to the seri a convers price or seri b convers price pursuant to the term of subsect 4 c iv below are revis either automat pursuant to the provis contain therein or a a result of an amend to such term to provid for either 1 ani increas or decreas in the number of share of common stock issuabl upon the exercis convers or exchang of ani such option or convert secur or 2 ani increas or decreas in the consider payabl to the corpor upon such exercis convers or exchang then effect upon such increas or decreas becom effect the seri a convers price or the seri b convers price a the case may be comput upon the origin issu of such option or convert secur or upon the occurr of a record date with respect thereto shall be readjust to such seri a convers price or seri b convers price a would have obtain had such revis term been in effect upon the origin date of issuanc of such option or convert secur notwithstand the forego no adjust pursuant to thi claus b shall have the effect of increas the seri a convers price or seri b convers price to an amount which exce the lower of i such convers price on the origin adjust date or ii such convers price that would haveusl doc 56j9303v4 1 3 \f",
      " result from ani issuanc of addit share of common stock between the origin adjust date and such readjust date  c if the term of ani option or convert secur exclud option or convert secur which upon exercis convers or exchang thereof would entitl the holder thereof to receiv share of common stock which are specif except from the definit of addit share of common stock by subsect 4 c i d abov the issuanc of which did not result in an adjust to the seri a convers price or did not result in an adjust to the seri b convers price pursuant to the term of subsect 4 c iv below either becaus the consider per share determin pursuant to subsect 4 c v hereof of the addit share of common stock subject thereto wa equal to or greater than the seri b convers price then in effect or becaus such option or convert secur wa issu befor the seri b origin issu date are revis after the seri b origin issu date either automat pursuant to the provis contain therein or a a result of an amend to such term to provid for either 1 ani increas or decreas in the number of share of common stock issuabl upon the exercis convers or exchang of ani such option or convert secur or 2 ani increas or decreas in the consider payabl to the corpor upon such exercis convers or exchang then such option or convert secur a so amend and the addit share of common stock subject thereto determin in the manner provid in subsect 4 c iii a abov shall be deem to have been issu effect upon such increas or decreas becom effective  d upon the expir or termin of ani unexercis option or unconvert or unexchang convert secur which result either upon it origin issuanc or upon a revis of it term in an adjust to the seri a convers price or seri b convers price pursuant to the term of subsect 4 c iv below the seri a convers price and or seri b convers price a the case may be shall be readjust to such seri a convers price or seri b convers price a the case may be a would have obtain had such option or convert secur never been issued  e no adjust in the seri a convers price or seri b convers price shall be made upon the issu of share of common stock or convert secur upon the exercis of option or the issu of share of common stock upon the convers or exchang of convert securities  iv share of common stock adjust of convers price upon issuanc of addit a in the event the corpor shall at ani time after the seri b origin issu date issu addit share of common stock includ addit share of common stock deem to be issu pursuant to subsect 4 c iii but exclud addit share of common stock issuedin a qualifi public offer a defin in section 5 a without consider or for a consider per share le than the seri b conversionpric in effect immedi prior to such issu then the seri b convers price shall be reduc concurr with such issu to a price calcul to the nearest cent determin by multipli such seri b convers price by a fraction a the numer ofu i doc 5639303v4 1 4 \f",
      " which shall be 1 the number of share of common stock outstand immedi prior to such issu plu 2 the number of share of common stock which the aggreg consider receiv or to be receiv by the corpor for the total number of addit share of common stock so issu would purchas at such seri b convers price and b the denomin of which shall be the number of share of common stock outstand immedi prior to such issu plu the number of such addit share of common stock so issu provid that i for the purpos of thi subsect 4 c iv all share of common stock issuabl upon convers or exchang of convert secur and exercis of option outstand immedi prior to such issu shall be deem to be outstand and ii the number of share of common stock deem issuabl upon convers or exchang of such outstand convert secur shall be determin without give effect to ani adjust to the convers or exchang price or convers or exchang rate of such convert secur result from the issuanc of addit share of common stock that is the subject of thi calculation  b in the event the corpor shall at ani time on or after the seri b origin issu date issu addit share of common stock includ addit share of common stock deem to be issu pursuant to subsect 4 c iii but exclud addit share of common stock issu in a qualifi public offer a defin in section 5 a without consider or for a consider per share le than the applic seri b convers price in effect immedi prior to such issu then forthwith upon such issu or sale the seri a convers price in effect immedi prior to such issu or sale shall be reduc concurr with such issu to the price determin by divid a the seri b convers price in effect immedi follow such issu or sale by b the scri b convers price that wa in effect immedi prior to such issu or sale and multipli the quotient by the seri a convers price immedi prior to such issu or sale  v determin of consider for purpos of thissubsect 4 c the consider receiv by the corpor for the issu of ani addit share of common stock shall be comput a follow a cash and properti such consider shall i ii insofar a it consist of cash be comput at the aggreg amount of cash receiv by the corpor exclud amount paid or payabl for accru interest insofar a it consist of properti other than cash be comput at the fair market valu thereof at the time of such issu a determin in good faith by the board of director of the corpor and iii in the event addit share of common stock are issu togeth with other share or secur or other asset of the corpor for considerationus1doc 5639303v 1 5 \f",
      " which cover both be the proport of such consider so receiv comput a provid in claus i and ii abov a determin in good faith by the board of director of the corporation  b option and convert secur the consider per share receiv by the corpor for addit share of common stock deem to have been issu pursuant to subsect 4 cxiii relat to option and convert secur shall be determin by divid i the total amount if ani receiv or receiv by the corpor a consider for the issu of such option or convert secur plu the minimum aggreg amount of addit consider a set forth in the instrument relat thereto without regard to ani provis contain therein for a subsequ adjust of such consider payabl to the corpor upon the exercis of such option or the convers or exchang of such convert secur or in the case of option for convert secur the exercis of such option for convert secur and the convers or exchang of such convert secur by ii the maximum number of share of common stock a set forth in the instrument relat thereto without regard to ani provis contain therein for a subsequ adjust of such number issuabl upon the exercis of such option or the convers or exchang of such convert securities  vi multipl close date in the event the corpor shall issu on more than one date addit share of common stock that are compris of share of the same seri or class of prefer stock and that would result in an adjust to the seri a convers price or seri b convers price pursuant to the term of subsect 4 c iv abov and such issuanc date occur within a period of no more than 120 day then upon the final such issuanc the seri a convers price or seri b convers price a the case may be shall be readjust to give effect to all such issuanc a if they occur on the date of the first such issuanc and without give effect to ani adjust a a result of such prior issuanc within such period\n"
     ]
    },
    {
     "ename": "KeyboardInterrupt",
     "evalue": "",
     "output_type": "error",
     "traceback": [
      "\u001b[0;31m---------------------------------------------------------------------------\u001b[0m",
      "\u001b[0;31mKeyboardInterrupt\u001b[0m                         Traceback (most recent call last)",
      "\u001b[0;32m<ipython-input-177-078f19949b93>\u001b[0m in \u001b[0;36m<module>\u001b[0;34m\u001b[0m\n\u001b[0;32m----> 1\u001b[0;31m \u001b[0mtest_methods\u001b[0m\u001b[0;34m(\u001b[0m\u001b[0mfilename\u001b[0m\u001b[0;34m,\u001b[0m \u001b[0mn\u001b[0m\u001b[0;34m=\u001b[0m\u001b[0;34m-\u001b[0m\u001b[0;36m1\u001b[0m\u001b[0;34m,\u001b[0m \u001b[0mstart_index\u001b[0m\u001b[0;34m=\u001b[0m\u001b[0;36m0\u001b[0m\u001b[0;34m)\u001b[0m\u001b[0;34m\u001b[0m\u001b[0m\n\u001b[0m",
      "\u001b[0;32m<ipython-input-176-6fa884a43a5a>\u001b[0m in \u001b[0;36mtest_methods\u001b[0;34m(filename, n, start_index)\u001b[0m\n\u001b[1;32m     20\u001b[0m \u001b[0;34m\u001b[0m\u001b[0m\n\u001b[1;32m     21\u001b[0m         \u001b[0;31m#Test load intro text\u001b[0m\u001b[0;34m\u001b[0m\u001b[0;34m\u001b[0m\u001b[0m\n\u001b[0;32m---> 22\u001b[0;31m         \u001b[0mIntro_IV_text\u001b[0m \u001b[0;34m=\u001b[0m \u001b[0mget_IV_intro_text\u001b[0m\u001b[0;34m(\u001b[0m\u001b[0mfilepath\u001b[0m\u001b[0;34m,\u001b[0m \u001b[0mBEGINING_OF_IV_INTRO_TEXT\u001b[0m\u001b[0;34m,\u001b[0m \u001b[0mEND_OF_IV_INTRO_TEXT\u001b[0m\u001b[0;34m)\u001b[0m\u001b[0;34m\u001b[0m\u001b[0m\n\u001b[0m\u001b[1;32m     23\u001b[0m         \u001b[0;32mif\u001b[0m \u001b[0;34m(\u001b[0m\u001b[0mIntro_IV_text\u001b[0m \u001b[0;34m!=\u001b[0m \u001b[0;32mNone\u001b[0m\u001b[0;34m)\u001b[0m\u001b[0;34m:\u001b[0m\u001b[0;34m\u001b[0m\u001b[0m\n\u001b[1;32m     24\u001b[0m             \u001b[0ms\u001b[0m \u001b[0;34m+=\u001b[0m \u001b[0;36m1\u001b[0m\u001b[0;34m\u001b[0m\u001b[0m\n",
      "\u001b[0;32m<ipython-input-171-596078a69a88>\u001b[0m in \u001b[0;36mget_IV_intro_text\u001b[0;34m(filename, begining_intro_triggers, end_intro_triggers)\u001b[0m\n\u001b[1;32m      1\u001b[0m \u001b[0;32mdef\u001b[0m \u001b[0mget_IV_intro_text\u001b[0m\u001b[0;34m(\u001b[0m\u001b[0mfilename\u001b[0m\u001b[0;34m,\u001b[0m \u001b[0mbegining_intro_triggers\u001b[0m\u001b[0;34m,\u001b[0m \u001b[0mend_intro_triggers\u001b[0m\u001b[0;34m)\u001b[0m\u001b[0;34m:\u001b[0m\u001b[0;34m\u001b[0m\u001b[0m\n\u001b[0;32m----> 2\u001b[0;31m     \u001b[0mtext\u001b[0m \u001b[0;34m=\u001b[0m \u001b[0mread_contract\u001b[0m\u001b[0;34m(\u001b[0m\u001b[0mfilename\u001b[0m\u001b[0;34m)\u001b[0m\u001b[0;34m\u001b[0m\u001b[0m\n\u001b[0m\u001b[1;32m      3\u001b[0m     \u001b[0mtext\u001b[0m \u001b[0;34m=\u001b[0m \u001b[0mtext\u001b[0m\u001b[0;34m.\u001b[0m\u001b[0msplit\u001b[0m\u001b[0;34m(\u001b[0m\u001b[0;34m\" \"\u001b[0m\u001b[0;34m)\u001b[0m\u001b[0;34m\u001b[0m\u001b[0m\n\u001b[1;32m      4\u001b[0m \u001b[0;31m#     print(\"text\", text)\u001b[0m\u001b[0;34m\u001b[0m\u001b[0;34m\u001b[0m\u001b[0m\n\u001b[1;32m      5\u001b[0m \u001b[0;31m#     text = text.split(\" \")\u001b[0m\u001b[0;34m\u001b[0m\u001b[0;34m\u001b[0m\u001b[0m\n",
      "\u001b[0;32m~/Desktop/ContractsProject/load_contracts.py\u001b[0m in \u001b[0;36mread_contract\u001b[0;34m(filename)\u001b[0m\n\u001b[1;32m     58\u001b[0m     \u001b[0mfinal_string\u001b[0m \u001b[0;34m=\u001b[0m \u001b[0;34m\"\"\u001b[0m\u001b[0;34m\u001b[0m\u001b[0m\n\u001b[1;32m     59\u001b[0m     \u001b[0;32mfor\u001b[0m \u001b[0mi\u001b[0m \u001b[0;32min\u001b[0m \u001b[0mrange\u001b[0m\u001b[0;34m(\u001b[0m\u001b[0mnum_pages\u001b[0m\u001b[0;34m)\u001b[0m\u001b[0;34m:\u001b[0m\u001b[0;34m\u001b[0m\u001b[0m\n\u001b[0;32m---> 60\u001b[0;31m         \u001b[0mtext\u001b[0m \u001b[0;34m=\u001b[0m \u001b[0mconvert\u001b[0m\u001b[0;34m(\u001b[0m\u001b[0mfilename\u001b[0m\u001b[0;34m,\u001b[0m \u001b[0mpages\u001b[0m\u001b[0;34m=\u001b[0m\u001b[0;34m[\u001b[0m\u001b[0mi\u001b[0m\u001b[0;34m]\u001b[0m\u001b[0;34m)\u001b[0m\u001b[0;34m\u001b[0m\u001b[0m\n\u001b[0m\u001b[1;32m     61\u001b[0m         \u001b[0mstring\u001b[0m \u001b[0;34m=\u001b[0m \u001b[0mpreprocess_text\u001b[0m\u001b[0;34m(\u001b[0m\u001b[0mtext\u001b[0m\u001b[0;34m)\u001b[0m\u001b[0;34m\u001b[0m\u001b[0m\n\u001b[1;32m     62\u001b[0m         \u001b[0mfinal_string\u001b[0m \u001b[0;34m+=\u001b[0m \u001b[0mstring\u001b[0m \u001b[0;34m+\u001b[0m \u001b[0;34m\" \"\u001b[0m\u001b[0;34m\u001b[0m\u001b[0m\n",
      "\u001b[0;32m~/Desktop/ContractsProject/utils.py\u001b[0m in \u001b[0;36mconvert\u001b[0;34m(fname, pages)\u001b[0m\n\u001b[1;32m     35\u001b[0m     \u001b[0minfile\u001b[0m \u001b[0;34m=\u001b[0m \u001b[0mopen\u001b[0m\u001b[0;34m(\u001b[0m\u001b[0mfname\u001b[0m\u001b[0;34m,\u001b[0m \u001b[0;34m'rb'\u001b[0m\u001b[0;34m)\u001b[0m\u001b[0;34m\u001b[0m\u001b[0m\n\u001b[1;32m     36\u001b[0m     \u001b[0;32mfor\u001b[0m \u001b[0mpage\u001b[0m \u001b[0;32min\u001b[0m \u001b[0mPDFPage\u001b[0m\u001b[0;34m.\u001b[0m\u001b[0mget_pages\u001b[0m\u001b[0;34m(\u001b[0m\u001b[0minfile\u001b[0m\u001b[0;34m,\u001b[0m \u001b[0mpagenums\u001b[0m\u001b[0;34m)\u001b[0m\u001b[0;34m:\u001b[0m\u001b[0;34m\u001b[0m\u001b[0m\n\u001b[0;32m---> 37\u001b[0;31m         \u001b[0minterpreter\u001b[0m\u001b[0;34m.\u001b[0m\u001b[0mprocess_page\u001b[0m\u001b[0;34m(\u001b[0m\u001b[0mpage\u001b[0m\u001b[0;34m)\u001b[0m\u001b[0;34m\u001b[0m\u001b[0m\n\u001b[0m\u001b[1;32m     38\u001b[0m     \u001b[0minfile\u001b[0m\u001b[0;34m.\u001b[0m\u001b[0mclose\u001b[0m\u001b[0;34m(\u001b[0m\u001b[0;34m)\u001b[0m\u001b[0;34m\u001b[0m\u001b[0m\n\u001b[1;32m     39\u001b[0m     \u001b[0mconverter\u001b[0m\u001b[0;34m.\u001b[0m\u001b[0mclose\u001b[0m\u001b[0;34m(\u001b[0m\u001b[0;34m)\u001b[0m\u001b[0;34m\u001b[0m\u001b[0m\n",
      "\u001b[0;32m~/anaconda3/envs/contracts/lib/python3.6/site-packages/pdfminer/pdfinterp.py\u001b[0m in \u001b[0;36mprocess_page\u001b[0;34m(self, page)\u001b[0m\n\u001b[1;32m    850\u001b[0m             \u001b[0mctm\u001b[0m \u001b[0;34m=\u001b[0m \u001b[0;34m(\u001b[0m\u001b[0;36m1\u001b[0m\u001b[0;34m,\u001b[0m \u001b[0;36m0\u001b[0m\u001b[0;34m,\u001b[0m \u001b[0;36m0\u001b[0m\u001b[0;34m,\u001b[0m \u001b[0;36m1\u001b[0m\u001b[0;34m,\u001b[0m \u001b[0;34m-\u001b[0m\u001b[0mx0\u001b[0m\u001b[0;34m,\u001b[0m \u001b[0;34m-\u001b[0m\u001b[0my0\u001b[0m\u001b[0;34m)\u001b[0m\u001b[0;34m\u001b[0m\u001b[0m\n\u001b[1;32m    851\u001b[0m         \u001b[0mself\u001b[0m\u001b[0;34m.\u001b[0m\u001b[0mdevice\u001b[0m\u001b[0;34m.\u001b[0m\u001b[0mbegin_page\u001b[0m\u001b[0;34m(\u001b[0m\u001b[0mpage\u001b[0m\u001b[0;34m,\u001b[0m \u001b[0mctm\u001b[0m\u001b[0;34m)\u001b[0m\u001b[0;34m\u001b[0m\u001b[0m\n\u001b[0;32m--> 852\u001b[0;31m         \u001b[0mself\u001b[0m\u001b[0;34m.\u001b[0m\u001b[0mrender_contents\u001b[0m\u001b[0;34m(\u001b[0m\u001b[0mpage\u001b[0m\u001b[0;34m.\u001b[0m\u001b[0mresources\u001b[0m\u001b[0;34m,\u001b[0m \u001b[0mpage\u001b[0m\u001b[0;34m.\u001b[0m\u001b[0mcontents\u001b[0m\u001b[0;34m,\u001b[0m \u001b[0mctm\u001b[0m\u001b[0;34m=\u001b[0m\u001b[0mctm\u001b[0m\u001b[0;34m)\u001b[0m\u001b[0;34m\u001b[0m\u001b[0m\n\u001b[0m\u001b[1;32m    853\u001b[0m         \u001b[0mself\u001b[0m\u001b[0;34m.\u001b[0m\u001b[0mdevice\u001b[0m\u001b[0;34m.\u001b[0m\u001b[0mend_page\u001b[0m\u001b[0;34m(\u001b[0m\u001b[0mpage\u001b[0m\u001b[0;34m)\u001b[0m\u001b[0;34m\u001b[0m\u001b[0m\n\u001b[1;32m    854\u001b[0m         \u001b[0;32mreturn\u001b[0m\u001b[0;34m\u001b[0m\u001b[0m\n",
      "\u001b[0;32m~/anaconda3/envs/contracts/lib/python3.6/site-packages/pdfminer/pdfinterp.py\u001b[0m in \u001b[0;36mrender_contents\u001b[0;34m(self, resources, streams, ctm)\u001b[0m\n\u001b[1;32m    862\u001b[0m         \u001b[0mself\u001b[0m\u001b[0;34m.\u001b[0m\u001b[0minit_resources\u001b[0m\u001b[0;34m(\u001b[0m\u001b[0mresources\u001b[0m\u001b[0;34m)\u001b[0m\u001b[0;34m\u001b[0m\u001b[0m\n\u001b[1;32m    863\u001b[0m         \u001b[0mself\u001b[0m\u001b[0;34m.\u001b[0m\u001b[0minit_state\u001b[0m\u001b[0;34m(\u001b[0m\u001b[0mctm\u001b[0m\u001b[0;34m)\u001b[0m\u001b[0;34m\u001b[0m\u001b[0m\n\u001b[0;32m--> 864\u001b[0;31m         \u001b[0mself\u001b[0m\u001b[0;34m.\u001b[0m\u001b[0mexecute\u001b[0m\u001b[0;34m(\u001b[0m\u001b[0mlist_value\u001b[0m\u001b[0;34m(\u001b[0m\u001b[0mstreams\u001b[0m\u001b[0;34m)\u001b[0m\u001b[0;34m)\u001b[0m\u001b[0;34m\u001b[0m\u001b[0m\n\u001b[0m\u001b[1;32m    865\u001b[0m         \u001b[0;32mreturn\u001b[0m\u001b[0;34m\u001b[0m\u001b[0m\n\u001b[1;32m    866\u001b[0m \u001b[0;34m\u001b[0m\u001b[0m\n",
      "\u001b[0;32m~/anaconda3/envs/contracts/lib/python3.6/site-packages/pdfminer/pdfinterp.py\u001b[0m in \u001b[0;36mexecute\u001b[0;34m(self, streams)\u001b[0m\n\u001b[1;32m    886\u001b[0m                         \u001b[0mlog\u001b[0m\u001b[0;34m.\u001b[0m\u001b[0mdebug\u001b[0m\u001b[0;34m(\u001b[0m\u001b[0;34m'exec: %s %r'\u001b[0m\u001b[0;34m,\u001b[0m \u001b[0mname\u001b[0m\u001b[0;34m,\u001b[0m \u001b[0margs\u001b[0m\u001b[0;34m)\u001b[0m\u001b[0;34m\u001b[0m\u001b[0m\n\u001b[1;32m    887\u001b[0m                         \u001b[0;32mif\u001b[0m \u001b[0mlen\u001b[0m\u001b[0;34m(\u001b[0m\u001b[0margs\u001b[0m\u001b[0;34m)\u001b[0m \u001b[0;34m==\u001b[0m \u001b[0mnargs\u001b[0m\u001b[0;34m:\u001b[0m\u001b[0;34m\u001b[0m\u001b[0m\n\u001b[0;32m--> 888\u001b[0;31m                             \u001b[0mfunc\u001b[0m\u001b[0;34m(\u001b[0m\u001b[0;34m*\u001b[0m\u001b[0margs\u001b[0m\u001b[0;34m)\u001b[0m\u001b[0;34m\u001b[0m\u001b[0m\n\u001b[0m\u001b[1;32m    889\u001b[0m                     \u001b[0;32melse\u001b[0m\u001b[0;34m:\u001b[0m\u001b[0;34m\u001b[0m\u001b[0m\n\u001b[1;32m    890\u001b[0m                         \u001b[0mlog\u001b[0m\u001b[0;34m.\u001b[0m\u001b[0mdebug\u001b[0m\u001b[0;34m(\u001b[0m\u001b[0;34m'exec: %s'\u001b[0m\u001b[0;34m,\u001b[0m \u001b[0mname\u001b[0m\u001b[0;34m)\u001b[0m\u001b[0;34m\u001b[0m\u001b[0m\n",
      "\u001b[0;32m~/anaconda3/envs/contracts/lib/python3.6/site-packages/pdfminer/pdfinterp.py\u001b[0m in \u001b[0;36mdo_TJ\u001b[0;34m(self, seq)\u001b[0m\n\u001b[1;32m    770\u001b[0m                 \u001b[0;32mraise\u001b[0m \u001b[0mPDFInterpreterError\u001b[0m\u001b[0;34m(\u001b[0m\u001b[0;34m'No font specified!'\u001b[0m\u001b[0;34m)\u001b[0m\u001b[0;34m\u001b[0m\u001b[0m\n\u001b[1;32m    771\u001b[0m             \u001b[0;32mreturn\u001b[0m\u001b[0;34m\u001b[0m\u001b[0m\n\u001b[0;32m--> 772\u001b[0;31m         \u001b[0mself\u001b[0m\u001b[0;34m.\u001b[0m\u001b[0mdevice\u001b[0m\u001b[0;34m.\u001b[0m\u001b[0mrender_string\u001b[0m\u001b[0;34m(\u001b[0m\u001b[0mself\u001b[0m\u001b[0;34m.\u001b[0m\u001b[0mtextstate\u001b[0m\u001b[0;34m,\u001b[0m \u001b[0mseq\u001b[0m\u001b[0;34m,\u001b[0m \u001b[0mself\u001b[0m\u001b[0;34m.\u001b[0m\u001b[0mncs\u001b[0m\u001b[0;34m,\u001b[0m \u001b[0mself\u001b[0m\u001b[0;34m.\u001b[0m\u001b[0mgraphicstate\u001b[0m\u001b[0;34m.\u001b[0m\u001b[0mcopy\u001b[0m\u001b[0;34m(\u001b[0m\u001b[0;34m)\u001b[0m\u001b[0;34m)\u001b[0m\u001b[0;34m\u001b[0m\u001b[0m\n\u001b[0m\u001b[1;32m    773\u001b[0m         \u001b[0;32mreturn\u001b[0m\u001b[0;34m\u001b[0m\u001b[0m\n\u001b[1;32m    774\u001b[0m \u001b[0;34m\u001b[0m\u001b[0m\n",
      "\u001b[0;32m~/anaconda3/envs/contracts/lib/python3.6/site-packages/pdfminer/pdfdevice.py\u001b[0m in \u001b[0;36mrender_string\u001b[0;34m(self, textstate, seq, ncs, graphicstate)\u001b[0m\n\u001b[1;32m     85\u001b[0m             textstate.linematrix = self.render_string_horizontal(\n\u001b[1;32m     86\u001b[0m                 \u001b[0mseq\u001b[0m\u001b[0;34m,\u001b[0m \u001b[0mmatrix\u001b[0m\u001b[0;34m,\u001b[0m \u001b[0mtextstate\u001b[0m\u001b[0;34m.\u001b[0m\u001b[0mlinematrix\u001b[0m\u001b[0;34m,\u001b[0m \u001b[0mfont\u001b[0m\u001b[0;34m,\u001b[0m \u001b[0mfontsize\u001b[0m\u001b[0;34m,\u001b[0m\u001b[0;34m\u001b[0m\u001b[0m\n\u001b[0;32m---> 87\u001b[0;31m                 scaling, charspace, wordspace, rise, dxscale, ncs, graphicstate)\n\u001b[0m\u001b[1;32m     88\u001b[0m         \u001b[0;32mreturn\u001b[0m\u001b[0;34m\u001b[0m\u001b[0m\n\u001b[1;32m     89\u001b[0m \u001b[0;34m\u001b[0m\u001b[0m\n",
      "\u001b[0;32m~/anaconda3/envs/contracts/lib/python3.6/site-packages/pdfminer/pdfdevice.py\u001b[0m in \u001b[0;36mrender_string_horizontal\u001b[0;34m(self, seq, matrix, pos, font, fontsize, scaling, charspace, wordspace, rise, dxscale, ncs, graphicstate)\u001b[0m\n\u001b[1;32m    101\u001b[0m                     \u001b[0;32mif\u001b[0m \u001b[0mneedcharspace\u001b[0m\u001b[0;34m:\u001b[0m\u001b[0;34m\u001b[0m\u001b[0m\n\u001b[1;32m    102\u001b[0m                         \u001b[0mx\u001b[0m \u001b[0;34m+=\u001b[0m \u001b[0mcharspace\u001b[0m\u001b[0;34m\u001b[0m\u001b[0m\n\u001b[0;32m--> 103\u001b[0;31m                     x += self.render_char(utils.translate_matrix(matrix, (x, y)),\n\u001b[0m\u001b[1;32m    104\u001b[0m                                           \u001b[0mfont\u001b[0m\u001b[0;34m,\u001b[0m \u001b[0mfontsize\u001b[0m\u001b[0;34m,\u001b[0m \u001b[0mscaling\u001b[0m\u001b[0;34m,\u001b[0m \u001b[0mrise\u001b[0m\u001b[0;34m,\u001b[0m \u001b[0mcid\u001b[0m\u001b[0;34m,\u001b[0m\u001b[0;34m\u001b[0m\u001b[0m\n\u001b[1;32m    105\u001b[0m                                           ncs, graphicstate)\n",
      "\u001b[0;32m~/anaconda3/envs/contracts/lib/python3.6/site-packages/pdfminer/utils.py\u001b[0m in \u001b[0;36mtranslate_matrix\u001b[0;34m(m, v)\u001b[0m\n\u001b[1;32m    110\u001b[0m     \u001b[0;34m(\u001b[0m\u001b[0ma\u001b[0m\u001b[0;34m,\u001b[0m \u001b[0mb\u001b[0m\u001b[0;34m,\u001b[0m \u001b[0mc\u001b[0m\u001b[0;34m,\u001b[0m \u001b[0md\u001b[0m\u001b[0;34m,\u001b[0m \u001b[0me\u001b[0m\u001b[0;34m,\u001b[0m \u001b[0mf\u001b[0m\u001b[0;34m)\u001b[0m \u001b[0;34m=\u001b[0m \u001b[0mm\u001b[0m\u001b[0;34m\u001b[0m\u001b[0m\n\u001b[1;32m    111\u001b[0m     \u001b[0;34m(\u001b[0m\u001b[0mx\u001b[0m\u001b[0;34m,\u001b[0m \u001b[0my\u001b[0m\u001b[0;34m)\u001b[0m \u001b[0;34m=\u001b[0m \u001b[0mv\u001b[0m\u001b[0;34m\u001b[0m\u001b[0m\n\u001b[0;32m--> 112\u001b[0;31m     \u001b[0;32mreturn\u001b[0m \u001b[0;34m(\u001b[0m\u001b[0ma\u001b[0m\u001b[0;34m,\u001b[0m \u001b[0mb\u001b[0m\u001b[0;34m,\u001b[0m \u001b[0mc\u001b[0m\u001b[0;34m,\u001b[0m \u001b[0md\u001b[0m\u001b[0;34m,\u001b[0m \u001b[0mx\u001b[0m\u001b[0;34m*\u001b[0m\u001b[0ma\u001b[0m\u001b[0;34m+\u001b[0m\u001b[0my\u001b[0m\u001b[0;34m*\u001b[0m\u001b[0mc\u001b[0m\u001b[0;34m+\u001b[0m\u001b[0me\u001b[0m\u001b[0;34m,\u001b[0m \u001b[0mx\u001b[0m\u001b[0;34m*\u001b[0m\u001b[0mb\u001b[0m\u001b[0;34m+\u001b[0m\u001b[0my\u001b[0m\u001b[0;34m*\u001b[0m\u001b[0md\u001b[0m\u001b[0;34m+\u001b[0m\u001b[0mf\u001b[0m\u001b[0;34m)\u001b[0m\u001b[0;34m\u001b[0m\u001b[0m\n\u001b[0m\u001b[1;32m    113\u001b[0m \u001b[0;34m\u001b[0m\u001b[0m\n\u001b[1;32m    114\u001b[0m \u001b[0;34m\u001b[0m\u001b[0m\n",
      "\u001b[0;31mKeyboardInterrupt\u001b[0m: "
     ]
    }
   ],
   "source": [
    "test_methods(filename, n=-1, start_index=0)"
   ]
  },
  {
   "cell_type": "code",
   "execution_count": 84,
   "metadata": {},
   "outputs": [
    {
     "name": "stdout",
     "output_type": "stream",
     "text": [
      "[['fourth'], ['iv'], ['corpor', 'is', 'author', 'to', 'issu'], ['the', 'total', 'number', 'of', 'share', 'of', 'all', 'class', 'of', 'stock']]\n",
      "[['the', 'follow', 'is', 'a', 'statement', 'of', 'the', 'design', 'and', 'the', 'right', 'power', 'and', 'prefer'], ['follow', 'is', 'a', 'statement', 'of', 'the', 'design', 'and', 'the', 'right', 'power', 'and', 'prefer'], ['rel', 'right', 'prefer', 'privileg', 'and', 'restrict', 'grant'], ['section', '1', 'dividen'], ['the', 'undersign', 'incorpor'], ['power', 'prefer', 'right', 'restrict', 'and', 'other', 'matter'], ['dividend'], ['amend', 'to', 'restat', 'certif', 'of', 'incorpor', 'ha', 'been', 'duli', 'adopt'], ['fith'], ['the', 'name', 'and', 'mail', 'address', 'of', 'the', 'sole']]\n"
     ]
    }
   ],
   "source": [
    "BEGINING_OF_IV_INTRO_TEXT = get_proccessed_triggers(\"Begining_IV\")\n",
    "END_OF_IV_INTRO_TEXT = get_proccessed_triggers(\"End_IV_intro\")\n",
    "print(BEGINING_OF_IV_INTRO_TEXT)\n",
    "print(END_OF_IV_INTRO_TEXT)"
   ]
  },
  {
   "cell_type": "code",
   "execution_count": 1,
   "metadata": {
    "collapsed": true
   },
   "outputs": [],
   "source": [
    "Failures = [\n",
    "    \"/Users/DanielLongo/Dropbox/VC RA Avinika Narayan/Contracts project/coi/Done OCR'd/ActiveSemi International/148_ActiveSemi_COI_11082010.pdf\",\n",
    "]\n"
   ]
  },
  {
   "cell_type": "code",
   "execution_count": null,
   "metadata": {
    "collapsed": true
   },
   "outputs": [],
   "source": []
  }
 ],
 "metadata": {
  "kernelspec": {
   "display_name": "contracts",
   "language": "python",
   "name": "contracts"
  },
  "language_info": {
   "codemirror_mode": {
    "name": "ipython",
    "version": 3
   },
   "file_extension": ".py",
   "mimetype": "text/x-python",
   "name": "python",
   "nbconvert_exporter": "python",
   "pygments_lexer": "ipython3",
   "version": "3.6.0"
  }
 },
 "nbformat": 4,
 "nbformat_minor": 2
}
