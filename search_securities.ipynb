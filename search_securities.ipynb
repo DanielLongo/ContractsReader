{
 "cells": [
  {
   "cell_type": "code",
   "execution_count": 175,
   "metadata": {},
   "outputs": [],
   "source": [
    "import numpy as np\n",
    "import warnings\n",
    "import pandas as pd\n",
    "import os"
   ]
  },
  {
   "cell_type": "code",
   "execution_count": 99,
   "metadata": {
    "scrolled": true
   },
   "outputs": [],
   "source": [
    "from load_contracts import read_contract, preprocess_text\n",
    "from load_info import get_security_names, load_info_xlsx"
   ]
  },
  {
   "cell_type": "code",
   "execution_count": 100,
   "metadata": {},
   "outputs": [],
   "source": [
    "filename = \"contracts/135_ActelisNetworks_COI_01072005.pdf\""
   ]
  },
  {
   "cell_type": "code",
   "execution_count": 211,
   "metadata": {},
   "outputs": [],
   "source": [
    "BEGINING_OF_IV_INTRO_TEXT = [\n",
    "    ['article', 'fourth'],\n",
    "    ['iv'],\n",
    "    ['articl', 'iv']\n",
    "]\n",
    "END_OF_IV_INTRO_TEXT = [\n",
    "    ['rel','right','prefer','privileg','and','restrict'],\n",
    "    ['follow', 'is', 'a', 'statement', 'of', 'the', 'design', 'and', 'the', 'right', 'power']\n",
    "]"
   ]
  },
  {
   "cell_type": "code",
   "execution_count": 102,
   "metadata": {},
   "outputs": [],
   "source": [
    "text = read_contract(filename)\n",
    "text = text.split(\" \")\n",
    "text = list(filter(lambda a: a != '', text))"
   ]
  },
  {
   "cell_type": "markdown",
   "metadata": {},
   "source": [
    "### Utils"
   ]
  },
  {
   "cell_type": "code",
   "execution_count": 173,
   "metadata": {},
   "outputs": [],
   "source": [
    "def find_loc(text, triggers):\n",
    "    for trigger in triggers:\n",
    "        curIndex = find_target(text, trigger)\n",
    "        if curIndex != []:\n",
    "            if len(curIndex) > 1:\n",
    "                print(\"target occurs at multiple indicies\")\n",
    "            return curIndex\n",
    "    print(\"No trigger found in text\")\n",
    "    return None"
   ]
  },
  {
   "cell_type": "code",
   "execution_count": 193,
   "metadata": {},
   "outputs": [],
   "source": [
    "def get_filepath(target_filename):\n",
    "    dropbox_path = \"/Users/DanielLongo/Dropbox/VC RA Avinika Narayan/Contracts project/coi/Done OCR'd/\"\n",
    "    for root, dirs, files in os.walk(dropbox_path):\n",
    "        for dir in dirs:\n",
    "            for filename in os.listdir(dropbox_path + dir):\n",
    "                if filename == target_filename:\n",
    "                    return dropbox_path + dir + \"/\" + filename"
   ]
  },
  {
   "cell_type": "code",
   "execution_count": 194,
   "metadata": {},
   "outputs": [
    {
     "data": {
      "text/plain": [
       "\"/Users/DanielLongo/Dropbox/VC RA Avinika Narayan/Contracts project/coi/Done OCR'd/955 Dreams/17445_955Dreams_COI_10112013.pdf\""
      ]
     },
     "execution_count": 194,
     "metadata": {},
     "output_type": "execute_result"
    }
   ],
   "source": [
    "get_filepath(\"17445_955Dreams_COI_10112013.pdf\")"
   ]
  },
  {
   "cell_type": "code",
   "execution_count": 221,
   "metadata": {},
   "outputs": [],
   "source": [
    "def remove_periods(text): #doesn't remove decimal places\n",
    "    out = []\n",
    "    for word in text:\n",
    "        if is_num(word):\n",
    "            out += [word]\n",
    "            continue\n",
    "        out += word.split('.')\n",
    "    return out"
   ]
  },
  {
   "cell_type": "code",
   "execution_count": 161,
   "metadata": {},
   "outputs": [],
   "source": [
    "def is_num(x):\n",
    "    x = x.strip('$')\n",
    "    try:\n",
    "        float(x)\n",
    "    except ValueError:\n",
    "        return False\n",
    "    return True"
   ]
  },
  {
   "cell_type": "code",
   "execution_count": 105,
   "metadata": {},
   "outputs": [],
   "source": [
    "def revert_secuirty_names(df):\n",
    "    df.loc[df[\"Security Name\"] == \"common stock\", \"Security Name\"] = \"common\"\n",
    "    return df"
   ]
  },
  {
   "cell_type": "code",
   "execution_count": 106,
   "metadata": {},
   "outputs": [],
   "source": [
    "def get_closest_string(values, target, less, any=False):\n",
    "    if (any):\n",
    "        val = min(values, key=lambda x: abs(target - x))\n",
    "    elif (less):\n",
    "        val = min(values, key=lambda x: target - x)\n",
    "    else:\n",
    "        val = min(values, key=lambda x: x - target)\n",
    "    return val"
   ]
  },
  {
   "cell_type": "code",
   "execution_count": 157,
   "metadata": {},
   "outputs": [],
   "source": [
    "def find_target(text, target):\n",
    "    target_loc = 0\n",
    "    indicies = []\n",
    "    start_index = 0\n",
    "    for i in range(len(text)):\n",
    "        word = text[i]\n",
    "#         print(\"target_loc\", target_loc)\n",
    "        if word == target[target_loc]:\n",
    "            if target_loc == 0: #marks start of sequence\n",
    "                start_index = i\n",
    "            target_loc += 1\n",
    "            if target_loc == len(target):\n",
    "                indicies += [start_index]\n",
    "                target_loc = 0\n",
    "        elif word == target[0]:\n",
    "            target_loc = 1\n",
    "        else:\n",
    "            if target_loc > 0:\n",
    "                #reset just incase ababcd \n",
    "                i -= (target_loc - 1) \n",
    "            target_loc = 0\n",
    "    return indicies"
   ]
  },
  {
   "cell_type": "markdown",
   "metadata": {},
   "source": [
    "### Search Functions"
   ]
  },
  {
   "cell_type": "code",
   "execution_count": 108,
   "metadata": {},
   "outputs": [],
   "source": [
    "def get_closest_num(values, target, less, min=-1, max=1e10000, any=False):\n",
    "    try:\n",
    "        index = int(target)\n",
    "    except ValueError:\n",
    "        indicies = find_target(values, target.split(\" \"))\n",
    "        if len(indicies) > 1:\n",
    "            warnings.warn(\"Indicies length greath than one\", RuntimeWarning)\n",
    "            for i in range(len(indicies)):\n",
    "                if less:\n",
    "                    cur_target = indicies[i]\n",
    "                else:\n",
    "                    cur_target = indicies[len(indicies) - 1 -i] #starts at end of doc\n",
    "                cur_val = get_closest_num(values, cur_target, less, min=min, max=max, any=any)\n",
    "                if (cur_val != None):\n",
    "                    return cur_val\n",
    "            warnings.warn(\"No number found\", RuntimeWarning)\n",
    "            print(\"No num found target:\", target, \"indicies:\", indicies)\n",
    "            return None\n",
    "        assert(len(indicies) > 1), \"Invalid target\"\n",
    "        index = indicies[-1]\n",
    "    if any: #doesn't get closest\n",
    "        iters = range(0, len(values))\n",
    "    elif less:\n",
    "        iters = range(index -1, -1, -1) #0 is last\n",
    "    else:#less = false\n",
    "        iters = range(index, len(values))\n",
    "    for i in iters:\n",
    "        if (is_num(values[i])):\n",
    "            return int(values[i])\n",
    "    print(\"No num\", target, \"index\", index)\n",
    "    return None\n",
    "    "
   ]
  },
  {
   "cell_type": "code",
   "execution_count": 109,
   "metadata": {},
   "outputs": [],
   "source": [
    "def get_names(text):\n",
    "    unsplit_names = get_security_names()\n",
    "    names = [name.split(\" \") for name in unsplit_names]\n",
    "    indicies = []\n",
    "    types = []\n",
    "    for name in names:\n",
    "        if (len(name) == 1):\n",
    "            name += [\"stock\"]\n",
    "        cur_indicies = find_target(text, name)\n",
    "        if len(cur_indicies) > 0:\n",
    "            types += [\" \".join(name)]\n",
    "            indicies += [cur_indicies]\n",
    "    #remove extra \"prefered stock\"\n",
    "    has_extra_prefered = True\n",
    "    if \"prefer stock\" in types:\n",
    "        for type in types:\n",
    "            if type[-6:] == 'prefer':\n",
    "                has_extra_prefered = True\n",
    "                break\n",
    "        if (has_extra_prefered):\n",
    "            indicies.pop(types.index('prefer stock'))\n",
    "            types.remove('prefer stock')\n",
    "    return indicies, types"
   ]
  },
  {
   "cell_type": "code",
   "execution_count": 110,
   "metadata": {},
   "outputs": [],
   "source": [
    "def get_num_of_shares(text, names):\n",
    "    out = []\n",
    "    for name in names:\n",
    "        out += [get_closest_num(text, name, less=True)]\n",
    "    return out\n",
    "        "
   ]
  },
  {
   "cell_type": "code",
   "execution_count": 111,
   "metadata": {},
   "outputs": [],
   "source": [
    "def get_types(names):\n",
    "    types = []\n",
    "    for name in names:\n",
    "        if \"common\" in name:\n",
    "            types += [\"common\"]\n",
    "        elif \"prefer\" in name:\n",
    "            types += [\"prefered\"]\n",
    "        else:\n",
    "            print(\"name doesn't contain common or prefer:\", \"\".join(name))\n",
    "            types += [\"No type found\"]\n",
    "    return types"
   ]
  },
  {
   "cell_type": "code",
   "execution_count": 112,
   "metadata": {},
   "outputs": [],
   "source": [
    "def generate_stats(IV_intro_text):\n",
    "    _, names = get_names(IV_intro_text)\n",
    "    types = get_types(names)\n",
    "    nums = get_num_of_shares(IV_intro_text, names)\n",
    "    d = {\"Security Name\":names, \"Security Type\":types, \"Number\":nums}\n",
    "    df = pd.DataFrame(d)\n",
    "    df = revert_secuirty_names(df)\n",
    "    return df"
   ]
  },
  {
   "cell_type": "code",
   "execution_count": 113,
   "metadata": {},
   "outputs": [],
   "source": [
    "unsplit_names = get_security_names()"
   ]
  },
  {
   "cell_type": "code",
   "execution_count": 114,
   "metadata": {},
   "outputs": [],
   "source": [
    "all_names = [name.split(\" \") for name in unsplit_names]"
   ]
  },
  {
   "cell_type": "code",
   "execution_count": 115,
   "metadata": {},
   "outputs": [],
   "source": [
    "indicies = []\n",
    "for name in all_names:\n",
    "    indicies += [find_target(text, name)]\n"
   ]
  },
  {
   "cell_type": "code",
   "execution_count": 116,
   "metadata": {},
   "outputs": [],
   "source": [
    "index_of_article_IV = find_target(text, [\"articl\", \"fourth\"])"
   ]
  },
  {
   "cell_type": "code",
   "execution_count": 117,
   "metadata": {},
   "outputs": [
    {
     "data": {
      "text/plain": [
       "['articl', 'fourth']"
      ]
     },
     "execution_count": 117,
     "metadata": {},
     "output_type": "execute_result"
    }
   ],
   "source": [
    "text[index_of_article_IV[0]: index_of_article_IV[0] + 2]"
   ]
  },
  {
   "cell_type": "markdown",
   "metadata": {},
   "source": [
    "### Search Through IV Intro"
   ]
  },
  {
   "cell_type": "code",
   "execution_count": 118,
   "metadata": {},
   "outputs": [],
   "source": [
    "end_of_IV_intro = find_target(text, END_OF_IV_INTRO_TEXT)"
   ]
  },
  {
   "cell_type": "code",
   "execution_count": 119,
   "metadata": {},
   "outputs": [
    {
     "ename": "AssertionError",
     "evalue": "",
     "output_type": "error",
     "traceback": [
      "\u001b[0;31m---------------------------------------------------------------------------\u001b[0m",
      "\u001b[0;31mAssertionError\u001b[0m                            Traceback (most recent call last)",
      "\u001b[0;32m<ipython-input-119-218f13f71ceb>\u001b[0m in \u001b[0;36m<module>\u001b[0;34m\u001b[0m\n\u001b[0;32m----> 1\u001b[0;31m \u001b[0;32massert\u001b[0m\u001b[0;34m(\u001b[0m\u001b[0mlen\u001b[0m\u001b[0;34m(\u001b[0m\u001b[0mend_of_IV_intro\u001b[0m\u001b[0;34m)\u001b[0m \u001b[0;34m==\u001b[0m \u001b[0;36m1\u001b[0m\u001b[0;34m)\u001b[0m\u001b[0;34m\u001b[0m\u001b[0m\n\u001b[0m",
      "\u001b[0;31mAssertionError\u001b[0m: "
     ]
    }
   ],
   "source": [
    "assert(len(end_of_IV_intro) == 1)"
   ]
  },
  {
   "cell_type": "code",
   "execution_count": 21,
   "metadata": {
    "collapsed": true
   },
   "outputs": [],
   "source": [
    "end_of_IV_intro = end_of_IV_intro[0]"
   ]
  },
  {
   "cell_type": "code",
   "execution_count": 22,
   "metadata": {
    "collapsed": true
   },
   "outputs": [],
   "source": [
    "articl_forth_occur = find_target(text, [\"articl\", \"fourth\"])"
   ]
  },
  {
   "cell_type": "code",
   "execution_count": 23,
   "metadata": {
    "collapsed": true
   },
   "outputs": [],
   "source": [
    "begining_of_IV = get_closest_string(values = articl_forth_occur, target=end_of_IV_intro, less=True)"
   ]
  },
  {
   "cell_type": "code",
   "execution_count": 24,
   "metadata": {},
   "outputs": [
    {
     "name": "stdout",
     "output_type": "stream",
     "text": [
      "IV Intro starts 203 IV Intro ends 363\n"
     ]
    }
   ],
   "source": [
    "print(\"IV Intro starts\", begining_of_IV, \"IV Intro ends\", end_of_IV_intro)"
   ]
  },
  {
   "cell_type": "code",
   "execution_count": 25,
   "metadata": {},
   "outputs": [
    {
     "data": {
      "text/plain": [
       "'articl fourth compani is author to issu two class of share design respect common stock and prefer stock the compani is author to issu 43000000 share of common stock with a par valu of $0.01 per share the compani is author to issu 26007500 share of prefer stock 800000 of which are design seri a prefer stock with a par valu of $0.01 per share seri a prefer 700000 of which are design seri b prefer stock with a par valu of $0.01 per share seri b prefer 1507500 of which are design seri c prefer stock with a par valu of $0.01 per share seri c prefer and 23000000 of which are design seri d prefer stock with a par valu of $0.01 per share seri d prefer for the purpos of thi amend and restat certif of incorpor the term prefer stock shall mean seri a prefer seri b prefer seri c prefer and seri d prefer collectively.th'"
      ]
     },
     "execution_count": 25,
     "metadata": {},
     "output_type": "execute_result"
    }
   ],
   "source": [
    "\" \".join(text[begining_of_IV:end_of_IV_intro])"
   ]
  },
  {
   "cell_type": "code",
   "execution_count": 26,
   "metadata": {
    "collapsed": true
   },
   "outputs": [],
   "source": [
    "IV_intro_text = text[begining_of_IV:end_of_IV_intro]"
   ]
  },
  {
   "cell_type": "code",
   "execution_count": 27,
   "metadata": {
    "collapsed": true
   },
   "outputs": [],
   "source": [
    "indicies, names = get_names(IV_intro_text)"
   ]
  },
  {
   "cell_type": "code",
   "execution_count": 28,
   "metadata": {
    "collapsed": true
   },
   "outputs": [],
   "source": [
    "types = get_types(names)"
   ]
  },
  {
   "cell_type": "code",
   "execution_count": 29,
   "metadata": {},
   "outputs": [
    {
     "name": "stderr",
     "output_type": "stream",
     "text": [
      "RuntimeWarning: Indicies length greath than one [ipykernel_launcher.py:7]\n"
     ]
    },
    {
     "data": {
      "text/plain": [
       "26007500"
      ]
     },
     "execution_count": 29,
     "metadata": {},
     "output_type": "execute_result"
    }
   ],
   "source": [
    "get_closest_num(IV_intro_text, names[0], False)"
   ]
  },
  {
   "cell_type": "code",
   "execution_count": 30,
   "metadata": {},
   "outputs": [
    {
     "name": "stderr",
     "output_type": "stream",
     "text": [
      "RuntimeWarning: Indicies length greath than one [ipykernel_launcher.py:7]\n"
     ]
    },
    {
     "data": {
      "text/plain": [
       "26007500"
      ]
     },
     "execution_count": 30,
     "metadata": {},
     "output_type": "execute_result"
    }
   ],
   "source": [
    "get_closest_num(IV_intro_text, names[0], False)"
   ]
  },
  {
   "cell_type": "code",
   "execution_count": 31,
   "metadata": {
    "scrolled": true
   },
   "outputs": [
    {
     "name": "stdout",
     "output_type": "stream",
     "text": [
      "No num 13 index 13\n"
     ]
    },
    {
     "name": "stderr",
     "output_type": "stream",
     "text": [
      "RuntimeWarning: Indicies length greath than one [ipykernel_launcher.py:7]\n"
     ]
    }
   ],
   "source": [
    "nums = get_num_of_shares(IV_intro_text, names)"
   ]
  },
  {
   "cell_type": "code",
   "execution_count": 32,
   "metadata": {},
   "outputs": [
    {
     "name": "stdout",
     "output_type": "stream",
     "text": [
      "['common stock', 'seri a prefer', 'seri b prefer', 'seri c prefer', 'seri d prefer']\n",
      "['common', 'prefered', 'prefered', 'prefered', 'prefered']\n",
      "[43000000, 800000, 700000, 1507500, 23000000]\n"
     ]
    }
   ],
   "source": [
    "print(names)\n",
    "print(types)\n",
    "print(nums)"
   ]
  },
  {
   "cell_type": "code",
   "execution_count": 33,
   "metadata": {},
   "outputs": [
    {
     "name": "stdout",
     "output_type": "stream",
     "text": [
      "No num 13 index 13\n"
     ]
    },
    {
     "name": "stderr",
     "output_type": "stream",
     "text": [
      "RuntimeWarning: Indicies length greath than one [ipykernel_launcher.py:7]\n"
     ]
    },
    {
     "data": {
      "text/html": [
       "<div>\n",
       "<style scoped>\n",
       "    .dataframe tbody tr th:only-of-type {\n",
       "        vertical-align: middle;\n",
       "    }\n",
       "\n",
       "    .dataframe tbody tr th {\n",
       "        vertical-align: top;\n",
       "    }\n",
       "\n",
       "    .dataframe thead th {\n",
       "        text-align: right;\n",
       "    }\n",
       "</style>\n",
       "<table border=\"1\" class=\"dataframe\">\n",
       "  <thead>\n",
       "    <tr style=\"text-align: right;\">\n",
       "      <th></th>\n",
       "      <th>Security Name</th>\n",
       "      <th>Security Type</th>\n",
       "      <th>Number</th>\n",
       "    </tr>\n",
       "  </thead>\n",
       "  <tbody>\n",
       "    <tr>\n",
       "      <th>0</th>\n",
       "      <td>common</td>\n",
       "      <td>common</td>\n",
       "      <td>43000000</td>\n",
       "    </tr>\n",
       "    <tr>\n",
       "      <th>1</th>\n",
       "      <td>seri a prefer</td>\n",
       "      <td>prefered</td>\n",
       "      <td>800000</td>\n",
       "    </tr>\n",
       "    <tr>\n",
       "      <th>2</th>\n",
       "      <td>seri b prefer</td>\n",
       "      <td>prefered</td>\n",
       "      <td>700000</td>\n",
       "    </tr>\n",
       "    <tr>\n",
       "      <th>3</th>\n",
       "      <td>seri c prefer</td>\n",
       "      <td>prefered</td>\n",
       "      <td>1507500</td>\n",
       "    </tr>\n",
       "    <tr>\n",
       "      <th>4</th>\n",
       "      <td>seri d prefer</td>\n",
       "      <td>prefered</td>\n",
       "      <td>23000000</td>\n",
       "    </tr>\n",
       "  </tbody>\n",
       "</table>\n",
       "</div>"
      ],
      "text/plain": [
       "   Security Name Security Type    Number\n",
       "0         common        common  43000000\n",
       "1  seri a prefer      prefered    800000\n",
       "2  seri b prefer      prefered    700000\n",
       "3  seri c prefer      prefered   1507500\n",
       "4  seri d prefer      prefered  23000000"
      ]
     },
     "execution_count": 33,
     "metadata": {},
     "output_type": "execute_result"
    }
   ],
   "source": [
    "generate_stats(IV_intro_text)"
   ]
  },
  {
   "cell_type": "markdown",
   "metadata": {},
   "source": [
    "### Evalutate Search Methods"
   ]
  },
  {
   "cell_type": "code",
   "execution_count": 223,
   "metadata": {},
   "outputs": [],
   "source": [
    "def get_IV_intro_text(filename, begining_intro_triggers, end_intro_triggers):\n",
    "    text = read_contract(filename)\n",
    "#     print(\"text\", text)\n",
    "    text = text.split(\" \")\n",
    "    text = list(filter(lambda a: a != '', text))\n",
    "    text = remove_periods(text)\n",
    "        \n",
    "    print(\"len of text\", len(text))\n",
    "    \n",
    "#     print(text)\n",
    "    end_of_IV_intro = find_loc(text, end_intro_triggers)[0]\n",
    "    begining_of_IV_intro = find_loc(text, begining_intro_triggers)\n",
    "#     assert(end_of_IV_intro != None), \"END Sequence not found\"\n",
    "#     articl_forth_occur = find_target(text, [\"articl\", \"fourth\"])\n",
    "#     assert(articl_forth_occur != None), \"Article fourth Sequence not found\"\n",
    "    begining_of_IV = get_closest_string(values = begining_of_IV_intro, target=end_of_IV_intro, less=True)\n",
    "    IV_intro_text = text[begining_of_IV:end_of_IV_intro]\n",
    "    return IV_intro_text"
   ]
  },
  {
   "cell_type": "code",
   "execution_count": 226,
   "metadata": {},
   "outputs": [],
   "source": [
    "def test_methods(filename, n=-1):\n",
    "    iters = 0\n",
    "    y = load_info_xlsx(\"rs1 database AN.xlsx\", np_array=False)\n",
    "    prev_filename = \"\"\n",
    "    for filename in y[\"File Name\"]:\n",
    "        if filename == prev_filename:\n",
    "            continue\n",
    "        prev_filename = filename\n",
    "        iters += 1\n",
    "        if iters == n:\n",
    "            break\n",
    "        print(filename)\n",
    "        filepath = get_filepath(filename)\n",
    "        print(filepath)\n",
    "        Intro_IV_text = get_IV_intro_text(filepath, BEGINING_OF_IV_INTRO_TEXT, END_OF_IV_INTRO_TEXT)\n",
    "        \n",
    "#     text = get_IV_intro_text(filename)\n",
    "#     stats = generate_stats(text)\n",
    "    \n",
    "    "
   ]
  },
  {
   "cell_type": "code",
   "execution_count": 227,
   "metadata": {
    "scrolled": true
   },
   "outputs": [
    {
     "name": "stdout",
     "output_type": "stream",
     "text": [
      "17445_955DREAMS_COI_01232012.pdf\n",
      "/Users/DanielLongo/Dropbox/VC RA Avinika Narayan/Contracts project/coi/Done OCR'd/955 Dreams/17445_955DREAMS_COI_01232012.pdf\n",
      "len of text 11506\n",
      "target occurs at multiple indicies\n",
      "17445_955Dreams_COI_10112013.pdf\n",
      "/Users/DanielLongo/Dropbox/VC RA Avinika Narayan/Contracts project/coi/Done OCR'd/955 Dreams/17445_955Dreams_COI_10112013.pdf\n",
      "len of text 12859\n",
      "target occurs at multiple indicies\n",
      "acquia121407.pdf\n",
      "None\n"
     ]
    },
    {
     "ename": "TypeError",
     "evalue": "expected str, bytes or os.PathLike object, not NoneType",
     "output_type": "error",
     "traceback": [
      "\u001b[0;31m---------------------------------------------------------------------------\u001b[0m",
      "\u001b[0;31mTypeError\u001b[0m                                 Traceback (most recent call last)",
      "\u001b[0;32m<ipython-input-227-6545491a1226>\u001b[0m in \u001b[0;36m<module>\u001b[0;34m\u001b[0m\n\u001b[0;32m----> 1\u001b[0;31m \u001b[0mtest_methods\u001b[0m\u001b[0;34m(\u001b[0m\u001b[0mfilename\u001b[0m\u001b[0;34m,\u001b[0m \u001b[0mn\u001b[0m\u001b[0;34m=\u001b[0m\u001b[0;36m10\u001b[0m\u001b[0;34m)\u001b[0m\u001b[0;34m\u001b[0m\u001b[0m\n\u001b[0m",
      "\u001b[0;32m<ipython-input-226-3796987b82c1>\u001b[0m in \u001b[0;36mtest_methods\u001b[0;34m(filename, n)\u001b[0m\n\u001b[1;32m     13\u001b[0m         \u001b[0mfilepath\u001b[0m \u001b[0;34m=\u001b[0m \u001b[0mget_filepath\u001b[0m\u001b[0;34m(\u001b[0m\u001b[0mfilename\u001b[0m\u001b[0;34m)\u001b[0m\u001b[0;34m\u001b[0m\u001b[0m\n\u001b[1;32m     14\u001b[0m         \u001b[0mprint\u001b[0m\u001b[0;34m(\u001b[0m\u001b[0mfilepath\u001b[0m\u001b[0;34m)\u001b[0m\u001b[0;34m\u001b[0m\u001b[0m\n\u001b[0;32m---> 15\u001b[0;31m         \u001b[0mIntro_IV_text\u001b[0m \u001b[0;34m=\u001b[0m \u001b[0mget_IV_intro_text\u001b[0m\u001b[0;34m(\u001b[0m\u001b[0mfilepath\u001b[0m\u001b[0;34m,\u001b[0m \u001b[0mBEGINING_OF_IV_INTRO_TEXT\u001b[0m\u001b[0;34m,\u001b[0m \u001b[0mEND_OF_IV_INTRO_TEXT\u001b[0m\u001b[0;34m)\u001b[0m\u001b[0;34m\u001b[0m\u001b[0m\n\u001b[0m\u001b[1;32m     16\u001b[0m \u001b[0;34m\u001b[0m\u001b[0m\n\u001b[1;32m     17\u001b[0m \u001b[0;31m#     text = get_IV_intro_text(filename)\u001b[0m\u001b[0;34m\u001b[0m\u001b[0;34m\u001b[0m\u001b[0m\n",
      "\u001b[0;32m<ipython-input-223-8d69dbdb1750>\u001b[0m in \u001b[0;36mget_IV_intro_text\u001b[0;34m(filename, begining_intro_triggers, end_intro_triggers)\u001b[0m\n\u001b[1;32m      1\u001b[0m \u001b[0;32mdef\u001b[0m \u001b[0mget_IV_intro_text\u001b[0m\u001b[0;34m(\u001b[0m\u001b[0mfilename\u001b[0m\u001b[0;34m,\u001b[0m \u001b[0mbegining_intro_triggers\u001b[0m\u001b[0;34m,\u001b[0m \u001b[0mend_intro_triggers\u001b[0m\u001b[0;34m)\u001b[0m\u001b[0;34m:\u001b[0m\u001b[0;34m\u001b[0m\u001b[0m\n\u001b[0;32m----> 2\u001b[0;31m     \u001b[0mtext\u001b[0m \u001b[0;34m=\u001b[0m \u001b[0mread_contract\u001b[0m\u001b[0;34m(\u001b[0m\u001b[0mfilename\u001b[0m\u001b[0;34m)\u001b[0m\u001b[0;34m\u001b[0m\u001b[0m\n\u001b[0m\u001b[1;32m      3\u001b[0m \u001b[0;31m#     print(\"text\", text)\u001b[0m\u001b[0;34m\u001b[0m\u001b[0;34m\u001b[0m\u001b[0m\n\u001b[1;32m      4\u001b[0m     \u001b[0mtext\u001b[0m \u001b[0;34m=\u001b[0m \u001b[0mtext\u001b[0m\u001b[0;34m.\u001b[0m\u001b[0msplit\u001b[0m\u001b[0;34m(\u001b[0m\u001b[0;34m\" \"\u001b[0m\u001b[0;34m)\u001b[0m\u001b[0;34m\u001b[0m\u001b[0m\n\u001b[1;32m      5\u001b[0m     \u001b[0mtext\u001b[0m \u001b[0;34m=\u001b[0m \u001b[0mlist\u001b[0m\u001b[0;34m(\u001b[0m\u001b[0mfilter\u001b[0m\u001b[0;34m(\u001b[0m\u001b[0;32mlambda\u001b[0m \u001b[0ma\u001b[0m\u001b[0;34m:\u001b[0m \u001b[0ma\u001b[0m \u001b[0;34m!=\u001b[0m \u001b[0;34m''\u001b[0m\u001b[0;34m,\u001b[0m \u001b[0mtext\u001b[0m\u001b[0;34m)\u001b[0m\u001b[0;34m)\u001b[0m\u001b[0;34m\u001b[0m\u001b[0m\n",
      "\u001b[0;32m~/Desktop/ContractsProject/load_contracts.py\u001b[0m in \u001b[0;36mread_contract\u001b[0;34m(filename)\u001b[0m\n\u001b[1;32m     39\u001b[0m \u001b[0;34m\u001b[0m\u001b[0m\n\u001b[1;32m     40\u001b[0m \u001b[0;34m\u001b[0m\u001b[0m\n\u001b[0;32m---> 41\u001b[0;31m \u001b[0;32mdef\u001b[0m \u001b[0mread_contract\u001b[0m\u001b[0;34m(\u001b[0m\u001b[0mfilename\u001b[0m\u001b[0;34m)\u001b[0m\u001b[0;34m:\u001b[0m\u001b[0;34m\u001b[0m\u001b[0m\n\u001b[0m\u001b[1;32m     42\u001b[0m     \u001b[0mfile\u001b[0m \u001b[0;34m=\u001b[0m \u001b[0mopen\u001b[0m\u001b[0;34m(\u001b[0m\u001b[0mfilename\u001b[0m\u001b[0;34m,\u001b[0m \u001b[0;34m\"rb\"\u001b[0m\u001b[0;34m)\u001b[0m\u001b[0;34m\u001b[0m\u001b[0m\n\u001b[1;32m     43\u001b[0m     \u001b[0mread_file\u001b[0m \u001b[0;34m=\u001b[0m \u001b[0mPyPDF2\u001b[0m\u001b[0;34m.\u001b[0m\u001b[0mPdfFileReader\u001b[0m\u001b[0;34m(\u001b[0m\u001b[0mfile\u001b[0m\u001b[0;34m)\u001b[0m\u001b[0;34m\u001b[0m\u001b[0m\n",
      "\u001b[0;31mTypeError\u001b[0m: expected str, bytes or os.PathLike object, not NoneType"
     ]
    }
   ],
   "source": [
    "test_methods(filename, n=10)"
   ]
  },
  {
   "cell_type": "code",
   "execution_count": null,
   "metadata": {
    "collapsed": true
   },
   "outputs": [],
   "source": []
  }
 ],
 "metadata": {
  "kernelspec": {
   "display_name": "contracts",
   "language": "python",
   "name": "contracts"
  },
  "language_info": {
   "codemirror_mode": {
    "name": "ipython",
    "version": 3
   },
   "file_extension": ".py",
   "mimetype": "text/x-python",
   "name": "python",
   "nbconvert_exporter": "python",
   "pygments_lexer": "ipython3",
   "version": "3.6.0"
  }
 },
 "nbformat": 4,
 "nbformat_minor": 2
}
