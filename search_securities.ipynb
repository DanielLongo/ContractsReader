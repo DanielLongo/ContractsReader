{
 "cells": [
  {
   "cell_type": "code",
   "execution_count": 1,
   "metadata": {
    "collapsed": true
   },
   "outputs": [],
   "source": [
    "import numpy as np"
   ]
  },
  {
   "cell_type": "code",
   "execution_count": 2,
   "metadata": {
    "collapsed": true,
    "scrolled": true
   },
   "outputs": [],
   "source": [
    "from load_contracts import read_contract, preprocess_text\n",
    "from load_info import get_security_names"
   ]
  },
  {
   "cell_type": "code",
   "execution_count": 48,
   "metadata": {
    "collapsed": true
   },
   "outputs": [],
   "source": [
    "filename = \"contracts/135_ActelisNetworks_COI_01072005.pdf\""
   ]
  },
  {
   "cell_type": "code",
   "execution_count": 67,
   "metadata": {
    "collapsed": true
   },
   "outputs": [],
   "source": [
    "END_OF_IV_INTRO_TEXT = ['rel','right','prefer','privileg','and','restrict','grant','to','or','impos','upon','the','common','stock','and','the','prefer','stock','and','the','holder']"
   ]
  },
  {
   "cell_type": "code",
   "execution_count": 53,
   "metadata": {},
   "outputs": [],
   "source": [
    "text = read_contract(filename)\n",
    "text = text.split(\" \")\n",
    "text = list(filter(lambda a: a != '', text))"
   ]
  },
  {
   "cell_type": "code",
   "execution_count": 81,
   "metadata": {},
   "outputs": [],
   "source": [
    "def get_closest(values, target, less, any=False):\n",
    "    if (any):\n",
    "        val = min(values, key=lambda x: abs(target - x))\n",
    "    elif (less):\n",
    "        val = min(values, key=lambda x: target - x)\n",
    "    else:\n",
    "        val = min(values, key=lambda x: x - target)\n",
    "    return val"
   ]
  },
  {
   "cell_type": "code",
   "execution_count": 35,
   "metadata": {
    "collapsed": true
   },
   "outputs": [],
   "source": [
    "def find_target(text, target):\n",
    "    target_loc = 0\n",
    "    indicies = []\n",
    "    start_index = 0\n",
    "    for i in range(len(text)):\n",
    "        word = text[i]\n",
    "#         print(\"target_loc\", target_loc)\n",
    "        if word == target[target_loc]:\n",
    "            if target_loc == 0: #marks start of sequence\n",
    "                start_index = i\n",
    "            target_loc += 1\n",
    "            if target_loc == len(target):\n",
    "                indicies += [start_index]\n",
    "                target_loc = 0\n",
    "        elif word == target[0]:\n",
    "            target_loc = 1\n",
    "        else:\n",
    "            if target_loc > 0:\n",
    "                #reset just incase ababcd \n",
    "                i -= (target_loc - 1) \n",
    "            target_loc = 0\n",
    "    return indicies"
   ]
  },
  {
   "cell_type": "code",
   "execution_count": 36,
   "metadata": {
    "collapsed": true,
    "scrolled": false
   },
   "outputs": [],
   "source": [
    "x = find_target(text, [\"common\"])"
   ]
  },
  {
   "cell_type": "code",
   "execution_count": 133,
   "metadata": {},
   "outputs": [],
   "source": [
    "def get_security_types(text):\n",
    "    unsplit_names = get_security_names()\n",
    "    names = [name.split(\" \") for name in unsplit_names]\n",
    "    indicies = []\n",
    "    types = []\n",
    "    for name in names:\n",
    "        if (len(name) == 1):\n",
    "            name += [\"stock\"]\n",
    "        cur_indicies = find_target(text, name)\n",
    "        if len(cur_indicies) > 0:\n",
    "            types += [\" \".join(name)]\n",
    "            indicies += [cur_indicies]\n",
    "    #remove extra \"prefered stock\"\n",
    "    has_extra_prefered = True\n",
    "    if \"prefer stock\" in types:\n",
    "        for type in types:\n",
    "            if type[-6:] == 'prefer':\n",
    "                has_extra_prefered = True\n",
    "                break\n",
    "        if (has_extra_prefered):\n",
    "            indicies.pop(types.index('prefer stock'))\n",
    "            types.remove('prefer stock')\n",
    "    return indicies, types"
   ]
  },
  {
   "cell_type": "code",
   "execution_count": 37,
   "metadata": {
    "collapsed": true
   },
   "outputs": [],
   "source": [
    "unsplit_names = get_security_names()"
   ]
  },
  {
   "cell_type": "code",
   "execution_count": 38,
   "metadata": {
    "collapsed": true
   },
   "outputs": [],
   "source": [
    "names = [name.split(\" \") for name in unsplit_names]"
   ]
  },
  {
   "cell_type": "code",
   "execution_count": 39,
   "metadata": {
    "collapsed": true
   },
   "outputs": [],
   "source": [
    "indicies = []\n",
    "for name in names:\n",
    "    indicies += [find_target(text, name)]\n"
   ]
  },
  {
   "cell_type": "code",
   "execution_count": 59,
   "metadata": {
    "collapsed": true
   },
   "outputs": [],
   "source": [
    "index_of_article_IV = find_target(text, [\"articl\", \"fourth\"])"
   ]
  },
  {
   "cell_type": "code",
   "execution_count": 60,
   "metadata": {},
   "outputs": [
    {
     "data": {
      "text/plain": [
       "['articl', 'fourth']"
      ]
     },
     "execution_count": 60,
     "metadata": {},
     "output_type": "execute_result"
    }
   ],
   "source": [
    "text[index_of_article_IV[0]: index_of_article_IV[0] + 2]"
   ]
  },
  {
   "cell_type": "markdown",
   "metadata": {},
   "source": [
    "### Search Through IV Intro"
   ]
  },
  {
   "cell_type": "code",
   "execution_count": 82,
   "metadata": {
    "collapsed": true
   },
   "outputs": [],
   "source": [
    "end_of_IV_intro = find_target(text, END_OF_IV_INTRO_TEXT)"
   ]
  },
  {
   "cell_type": "code",
   "execution_count": 83,
   "metadata": {},
   "outputs": [],
   "source": [
    "assert(len(end_of_IV_intro) == 1)"
   ]
  },
  {
   "cell_type": "code",
   "execution_count": 86,
   "metadata": {
    "collapsed": true
   },
   "outputs": [],
   "source": [
    "end_of_IV_intro = end_of_IV_intro[0]"
   ]
  },
  {
   "cell_type": "code",
   "execution_count": 92,
   "metadata": {},
   "outputs": [],
   "source": [
    "articl_forth_occur = find_target(text, [\"articl\", \"fourth\"])"
   ]
  },
  {
   "cell_type": "code",
   "execution_count": 93,
   "metadata": {},
   "outputs": [],
   "source": [
    "begining_of_IV = get_closest(values = articl_forth_occur, target=end_of_IV_intro, less=True)"
   ]
  },
  {
   "cell_type": "code",
   "execution_count": 94,
   "metadata": {},
   "outputs": [
    {
     "name": "stdout",
     "output_type": "stream",
     "text": [
      "IV Intro starts 203 IV Intro ends 363\n"
     ]
    }
   ],
   "source": [
    "print(\"IV Intro starts\", begining_of_IV, \"IV Intro ends\", end_of_IV_intro)"
   ]
  },
  {
   "cell_type": "code",
   "execution_count": 98,
   "metadata": {},
   "outputs": [
    {
     "data": {
      "text/plain": [
       "'articl fourth compani is author to issu two class of share design respect common stock and prefer stock the compani is author to issu 43000000 share of common stock with a par valu of $0.01 per share the compani is author to issu 26007500 share of prefer stock 800000 of which are design seri a prefer stock with a par valu of $0.01 per share seri a prefer 700000 of which are design seri b prefer stock with a par valu of $0.01 per share seri b prefer 1507500 of which are design seri c prefer stock with a par valu of $0.01 per share seri c prefer and 23000000 of which are design seri d prefer stock with a par valu of $0.01 per share seri d prefer for the purpos of thi amend and restat certif of incorpor the term prefer stock shall mean seri a prefer seri b prefer seri c prefer and seri d prefer collectively.th'"
      ]
     },
     "execution_count": 98,
     "metadata": {},
     "output_type": "execute_result"
    }
   ],
   "source": [
    "\" \".join(text[begining_of_IV:end_of_IV_intro])"
   ]
  },
  {
   "cell_type": "code",
   "execution_count": 131,
   "metadata": {
    "collapsed": true
   },
   "outputs": [],
   "source": [
    "IV_into_text = text[begining_of_IV:end_of_IV_intro]"
   ]
  },
  {
   "cell_type": "code",
   "execution_count": 134,
   "metadata": {},
   "outputs": [],
   "source": [
    "indicies, types = get_security_types(IV_into_text)"
   ]
  },
  {
   "cell_type": "code",
   "execution_count": 135,
   "metadata": {},
   "outputs": [
    {
     "data": {
      "text/plain": [
       "['common stock',\n",
       " 'seri a prefer',\n",
       " 'seri b prefer',\n",
       " 'seri c prefer',\n",
       " 'seri d prefer']"
      ]
     },
     "execution_count": 135,
     "metadata": {},
     "output_type": "execute_result"
    }
   ],
   "source": [
    "types"
   ]
  }
 ],
 "metadata": {
  "kernelspec": {
   "display_name": "contracts",
   "language": "python",
   "name": "contracts"
  },
  "language_info": {
   "codemirror_mode": {
    "name": "ipython",
    "version": 3
   },
   "file_extension": ".py",
   "mimetype": "text/x-python",
   "name": "python",
   "nbconvert_exporter": "python",
   "pygments_lexer": "ipython3",
   "version": "3.6.0"
  }
 },
 "nbformat": 4,
 "nbformat_minor": 2
}
