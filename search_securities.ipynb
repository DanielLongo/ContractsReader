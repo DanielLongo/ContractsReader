{
 "cells": [
  {
   "cell_type": "code",
   "execution_count": 1,
   "metadata": {
    "collapsed": true
   },
   "outputs": [],
   "source": [
    "import numpy as np"
   ]
  },
  {
   "cell_type": "code",
   "execution_count": 2,
   "metadata": {
    "collapsed": true,
    "scrolled": true
   },
   "outputs": [],
   "source": [
    "from load_contracts import read_contract, preprocess_text\n",
    "from load_info import get_security_names"
   ]
  },
  {
   "cell_type": "code",
   "execution_count": 3,
   "metadata": {
    "collapsed": true
   },
   "outputs": [],
   "source": [
    "filename = \"contracts/135_ActelisNetworks_COI_01072005.pdf\""
   ]
  },
  {
   "cell_type": "code",
   "execution_count": 4,
   "metadata": {
    "collapsed": true
   },
   "outputs": [],
   "source": [
    "text = read_contract(filename)"
   ]
  },
  {
   "cell_type": "code",
   "execution_count": 5,
   "metadata": {
    "collapsed": true
   },
   "outputs": [],
   "source": [
    "text = text.split(\" \")"
   ]
  },
  {
   "cell_type": "code",
   "execution_count": 20,
   "metadata": {},
   "outputs": [],
   "source": [
    "def find_target(text, target):\n",
    "    indicies = []\n",
    "    removed = 0\n",
    "    while True:\n",
    "        try:\n",
    "            for i, word in list(enumerate(target)):\n",
    "                curr_index = text.index(word)\n",
    "                if i == 0: #marks first index\n",
    "                    print(\"i == 0\")\n",
    "                    start_index = curr_index\n",
    "                    if len(target) == 1:\n",
    "                        print(\"length 1\")\n",
    "                        indicies += [start_index + removed]\n",
    "                    removed += start_index\n",
    "                    text = text[start_index + 1:]\n",
    "                    break\n",
    "                if curr_index != (start_index + i): #skips words between \n",
    "                    print(\"invalid sequence\", start_index)\n",
    "                    removed += start_index\n",
    "                    text = text[start_index + 1:]\n",
    "                    break\n",
    "                if i == len(target) - 1: #final element\n",
    "                    if curr_index == (len(target) + start_index - 1):\n",
    "                        print(\"valid sequence\", start_index + removed)\n",
    "                        indicies += [start_index + removed]\n",
    "                    removed += start_index\n",
    "                    text = text[start_index + 1:]\n",
    "        except ValueError:\n",
    "            return indicies\n",
    "        \n",
    "            \n",
    "        \n",
    "#             start_index \n",
    "#             try:\n",
    "#                 cur_index = text.index(word)\n",
    "#             except ValueError:\n",
    "#                 return index"
   ]
  },
  {
   "cell_type": "code",
   "execution_count": 48,
   "metadata": {
    "collapsed": true
   },
   "outputs": [],
   "source": [
    "def find_target(text, target):\n",
    "    target_loc = 0\n",
    "    indicies = []\n",
    "    start_index = 0\n",
    "    for i in range(len(text)):\n",
    "        word = text[i]\n",
    "#         print(\"target_loc\", target_loc)\n",
    "        if word == target[target_loc]:\n",
    "            if target_loc == 0: #marks start of sequence\n",
    "                start_index = i\n",
    "            target_loc += 1\n",
    "            if target_loc == len(target):\n",
    "                indicies += [start_index]\n",
    "                target_loc = 0\n",
    "        elif word == target[0]:\n",
    "            target_loc = 1\n",
    "        else:\n",
    "            if target_loc > 0:\n",
    "                i -= (target_loc - 1)\n",
    "            target_loc = 0\n",
    "    return indicies"
   ]
  },
  {
   "cell_type": "code",
   "execution_count": 49,
   "metadata": {
    "scrolled": false
   },
   "outputs": [],
   "source": [
    "x = find_target(text, [\"common\"])"
   ]
  },
  {
   "cell_type": "code",
   "execution_count": 50,
   "metadata": {},
   "outputs": [
    {
     "data": {
      "text/plain": [
       "[254,\n",
       " 273,\n",
       " 458,\n",
       " 479,\n",
       " 483,\n",
       " 971,\n",
       " 1002,\n",
       " 1019,\n",
       " 1207,\n",
       " 1251,\n",
       " 1305,\n",
       " 1893,\n",
       " 1922,\n",
       " 2082,\n",
       " 2102,\n",
       " 2363,\n",
       " 2385,\n",
       " 2704,\n",
       " 2740,\n",
       " 2864,\n",
       " 2986,\n",
       " 3114,\n",
       " 3375,\n",
       " 3457,\n",
       " 3515,\n",
       " 3727,\n",
       " 3800,\n",
       " 3844,\n",
       " 3937,\n",
       " 4054,\n",
       " 4128,\n",
       " 4154,\n",
       " 4353,\n",
       " 4363,\n",
       " 4463,\n",
       " 4473,\n",
       " 4536,\n",
       " 4875,\n",
       " 4886,\n",
       " 4915,\n",
       " 4979,\n",
       " 4994,\n",
       " 5096,\n",
       " 5116,\n",
       " 5372,\n",
       " 5521,\n",
       " 5699,\n",
       " 5779,\n",
       " 5827,\n",
       " 5846,\n",
       " 5942,\n",
       " 6125,\n",
       " 6139,\n",
       " 6185,\n",
       " 6197,\n",
       " 6287,\n",
       " 6315,\n",
       " 6339,\n",
       " 6370,\n",
       " 6382,\n",
       " 6413,\n",
       " 6421,\n",
       " 6431,\n",
       " 6516,\n",
       " 6567,\n",
       " 6588,\n",
       " 6629,\n",
       " 6784,\n",
       " 6812,\n",
       " 6852,\n",
       " 6988,\n",
       " 7146,\n",
       " 7400,\n",
       " 7619,\n",
       " 7642,\n",
       " 7692,\n",
       " 7759,\n",
       " 8117,\n",
       " 8125,\n",
       " 8147,\n",
       " 8184,\n",
       " 8204,\n",
       " 8254,\n",
       " 8376,\n",
       " 8427,\n",
       " 8440,\n",
       " 8478,\n",
       " 8789,\n",
       " 8852,\n",
       " 8886,\n",
       " 9146,\n",
       " 9177,\n",
       " 9207,\n",
       " 9233,\n",
       " 9873,\n",
       " 10209,\n",
       " 10254,\n",
       " 10336,\n",
       " 10350,\n",
       " 10550,\n",
       " 10694,\n",
       " 10707]"
      ]
     },
     "execution_count": 50,
     "metadata": {},
     "output_type": "execute_result"
    }
   ],
   "source": [
    "x"
   ]
  },
  {
   "cell_type": "code",
   "execution_count": 9,
   "metadata": {
    "collapsed": true
   },
   "outputs": [],
   "source": [
    "unsplit_names = get_security_names()"
   ]
  },
  {
   "cell_type": "code",
   "execution_count": 10,
   "metadata": {
    "collapsed": true
   },
   "outputs": [],
   "source": [
    "names = [name.split(\" \") for name in unsplit_names]"
   ]
  },
  {
   "cell_type": "code",
   "execution_count": 11,
   "metadata": {
    "collapsed": true
   },
   "outputs": [],
   "source": [
    "indicies = []\n",
    "for name in names:\n",
    "    indicies += [find_target(text, name)]\n"
   ]
  },
  {
   "cell_type": "code",
   "execution_count": 12,
   "metadata": {},
   "outputs": [],
   "source": [
    "#text"
   ]
  },
  {
   "cell_type": "code",
   "execution_count": 51,
   "metadata": {},
   "outputs": [],
   "source": [
    "index_of_article_IV = find_target(text, [\"articl\", \"fourth\"])"
   ]
  },
  {
   "cell_type": "code",
   "execution_count": 58,
   "metadata": {},
   "outputs": [
    {
     "data": {
      "text/plain": [
       "['articl', 'fourth']"
      ]
     },
     "execution_count": 58,
     "metadata": {},
     "output_type": "execute_result"
    }
   ],
   "source": [
    "text[index_of_article_IV[0]: index_of_article_IV[0] + 2]"
   ]
  },
  {
   "cell_type": "code",
   "execution_count": 61,
   "metadata": {},
   "outputs": [
    {
     "ename": "TypeError",
     "evalue": "slice indices must be integers or None or have an __index__ method",
     "output_type": "error",
     "traceback": [
      "\u001b[0;31m----------------------------------------------------------------------\u001b[0m",
      "\u001b[0;31mTypeError\u001b[0m                            Traceback (most recent call last)",
      "\u001b[0;32m<ipython-input-61-64e96820f0af>\u001b[0m in \u001b[0;36m<module>\u001b[0;34m()\u001b[0m\n\u001b[0;32m----> 1\u001b[0;31m \u001b[0mtext\u001b[0m\u001b[0;34m[\u001b[0m\u001b[0mindex_of_article_IV\u001b[0m\u001b[0;34m:\u001b[0m \u001b[0;36m100\u001b[0m\u001b[0;34m]\u001b[0m\u001b[0;34m\u001b[0m\u001b[0m\n\u001b[0m",
      "\u001b[0;31mTypeError\u001b[0m: slice indices must be integers or None or have an __index__ method"
     ]
    }
   ],
   "source": [
    "text[index_of_article_IV: 100]"
   ]
  },
  {
   "cell_type": "code",
   "execution_count": null,
   "metadata": {
    "collapsed": true
   },
   "outputs": [],
   "source": [
    "index_end_intro_IV = find_target(text, [\"\"])"
   ]
  }
 ],
 "metadata": {
  "kernelspec": {
   "display_name": "Python 3",
   "language": "python",
   "name": "python3"
  },
  "language_info": {
   "codemirror_mode": {
    "name": "ipython",
    "version": 3
   },
   "file_extension": ".py",
   "mimetype": "text/x-python",
   "name": "python",
   "nbconvert_exporter": "python",
   "pygments_lexer": "ipython3",
   "version": "3.6.3"
  }
 },
 "nbformat": 4,
 "nbformat_minor": 2
}
